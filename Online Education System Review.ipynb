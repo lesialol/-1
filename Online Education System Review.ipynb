{
 "cells": [
  {
   "cell_type": "markdown",
   "id": "63d53f3d",
   "metadata": {},
   "source": [
    "# <font color = purple> ONLINE EDUCATION SYSTEM REVIEW \n",
    "#### *Данный датасет был выбран в соответствии с темой ВКР, посвященной изучению EdTech-индустрии.\n",
    "## This data collection aims to analyze the impact of online education as the pandemic has forced us into online education."
   ]
  },
  {
   "cell_type": "markdown",
   "id": "73529aa2",
   "metadata": {},
   "source": [
    "### Data Dictionary\n",
    "\n",
    "Gender – Male, Female  \n",
    "Home Location – Rural, Urban  \n",
    "Level of Education – Post Graduate, School, Under Graduate  \n",
    "Age – Years  \n",
    "Number of Subjects – 1-20   \n",
    "Device type used to attend classes – Desktop, Laptop, Mobile  \n",
    "Economic status – Middle Class, Poor, Rich  \n",
    "Family size – 1-10  \n",
    "Internet facility in your locality – Number scale (Very Bad to Very Good)  \n",
    "Are you involved in any sports? – Yes, No  \n",
    "Do elderly people monitor you? – Yes, No  \n",
    "Study time – Hours  \n",
    "Sleep time – Hours  \n",
    "Time spent on social media – Hours  \n",
    "Interested in Gaming? – Yes, No  \n",
    "Have separate room for studying? – Yes, No  \n",
    "Engaged in group studies? – Yes, No  \n",
    "Average marks scored before pandemic in traditional classroom – range  \n",
    "Your interaction in online mode - Number scale (Very Bad to Very Good)  \n",
    "Clearing doubts with faculties in online mode - Number scale (Very Bad to Very Good)  \n",
    "Interested in? – Practical, Theory, Both  \n",
    "Performance in online - Number scale (Very Bad to Very Good)  \n",
    "Your level of satisfaction in Online Education – Average, Bad, Good  "
   ]
  },
  {
   "cell_type": "code",
   "execution_count": 712,
   "id": "4a1571da",
   "metadata": {},
   "outputs": [
    {
     "data": {
      "text/html": [
       "<div>\n",
       "<style scoped>\n",
       "    .dataframe tbody tr th:only-of-type {\n",
       "        vertical-align: middle;\n",
       "    }\n",
       "\n",
       "    .dataframe tbody tr th {\n",
       "        vertical-align: top;\n",
       "    }\n",
       "\n",
       "    .dataframe thead th {\n",
       "        text-align: right;\n",
       "    }\n",
       "</style>\n",
       "<table border=\"1\" class=\"dataframe\">\n",
       "  <thead>\n",
       "    <tr style=\"text-align: right;\">\n",
       "      <th></th>\n",
       "      <th>Gender</th>\n",
       "      <th>Home Location</th>\n",
       "      <th>Level of Education</th>\n",
       "      <th>Age(Years)</th>\n",
       "      <th>Number of Subjects</th>\n",
       "      <th>Device type used to attend classes</th>\n",
       "      <th>Economic status</th>\n",
       "      <th>Family size</th>\n",
       "      <th>Internet facility in your locality</th>\n",
       "      <th>Are you involved in any sports?</th>\n",
       "      <th>...</th>\n",
       "      <th>Time spent on social media (Hours)</th>\n",
       "      <th>Interested in Gaming?</th>\n",
       "      <th>Have separate room for studying?</th>\n",
       "      <th>Engaged in group studies?</th>\n",
       "      <th>Average marks scored before pandemic in traditional classroom</th>\n",
       "      <th>Your interaction in online mode</th>\n",
       "      <th>Clearing doubts with faculties in online mode</th>\n",
       "      <th>Interested in?</th>\n",
       "      <th>Performance in online</th>\n",
       "      <th>Your level of satisfaction in Online Education</th>\n",
       "    </tr>\n",
       "  </thead>\n",
       "  <tbody>\n",
       "    <tr>\n",
       "      <th>0</th>\n",
       "      <td>Male</td>\n",
       "      <td>Urban</td>\n",
       "      <td>Under Graduate</td>\n",
       "      <td>18</td>\n",
       "      <td>11</td>\n",
       "      <td>Laptop</td>\n",
       "      <td>Middle Class</td>\n",
       "      <td>4</td>\n",
       "      <td>5</td>\n",
       "      <td>No</td>\n",
       "      <td>...</td>\n",
       "      <td>1</td>\n",
       "      <td>No</td>\n",
       "      <td>No</td>\n",
       "      <td>No</td>\n",
       "      <td>91-100</td>\n",
       "      <td>1</td>\n",
       "      <td>1</td>\n",
       "      <td>Practical</td>\n",
       "      <td>6</td>\n",
       "      <td>Average</td>\n",
       "    </tr>\n",
       "    <tr>\n",
       "      <th>1</th>\n",
       "      <td>Male</td>\n",
       "      <td>Urban</td>\n",
       "      <td>Under Graduate</td>\n",
       "      <td>19</td>\n",
       "      <td>7</td>\n",
       "      <td>Laptop</td>\n",
       "      <td>Middle Class</td>\n",
       "      <td>4</td>\n",
       "      <td>1</td>\n",
       "      <td>Yes</td>\n",
       "      <td>...</td>\n",
       "      <td>1</td>\n",
       "      <td>Yes</td>\n",
       "      <td>Yes</td>\n",
       "      <td>No</td>\n",
       "      <td>91-100</td>\n",
       "      <td>1</td>\n",
       "      <td>1</td>\n",
       "      <td>Theory</td>\n",
       "      <td>3</td>\n",
       "      <td>Bad</td>\n",
       "    </tr>\n",
       "    <tr>\n",
       "      <th>2</th>\n",
       "      <td>Male</td>\n",
       "      <td>Rural</td>\n",
       "      <td>Under Graduate</td>\n",
       "      <td>18</td>\n",
       "      <td>5</td>\n",
       "      <td>Laptop</td>\n",
       "      <td>Middle Class</td>\n",
       "      <td>5</td>\n",
       "      <td>2</td>\n",
       "      <td>No</td>\n",
       "      <td>...</td>\n",
       "      <td>1</td>\n",
       "      <td>No</td>\n",
       "      <td>Yes</td>\n",
       "      <td>No</td>\n",
       "      <td>71-80</td>\n",
       "      <td>1</td>\n",
       "      <td>1</td>\n",
       "      <td>Both</td>\n",
       "      <td>6</td>\n",
       "      <td>Bad</td>\n",
       "    </tr>\n",
       "    <tr>\n",
       "      <th>3</th>\n",
       "      <td>Male</td>\n",
       "      <td>Urban</td>\n",
       "      <td>Under Graduate</td>\n",
       "      <td>18</td>\n",
       "      <td>5</td>\n",
       "      <td>Laptop</td>\n",
       "      <td>Middle Class</td>\n",
       "      <td>4</td>\n",
       "      <td>4</td>\n",
       "      <td>Yes</td>\n",
       "      <td>...</td>\n",
       "      <td>2</td>\n",
       "      <td>No</td>\n",
       "      <td>No</td>\n",
       "      <td>yes</td>\n",
       "      <td>91-100</td>\n",
       "      <td>1</td>\n",
       "      <td>2</td>\n",
       "      <td>Theory</td>\n",
       "      <td>4</td>\n",
       "      <td>Bad</td>\n",
       "    </tr>\n",
       "    <tr>\n",
       "      <th>4</th>\n",
       "      <td>Male</td>\n",
       "      <td>Rural</td>\n",
       "      <td>Under Graduate</td>\n",
       "      <td>18</td>\n",
       "      <td>5</td>\n",
       "      <td>Laptop</td>\n",
       "      <td>Middle Class</td>\n",
       "      <td>4</td>\n",
       "      <td>3</td>\n",
       "      <td>No</td>\n",
       "      <td>...</td>\n",
       "      <td>2</td>\n",
       "      <td>Yes</td>\n",
       "      <td>Yes</td>\n",
       "      <td>yes</td>\n",
       "      <td>81-90</td>\n",
       "      <td>3</td>\n",
       "      <td>3</td>\n",
       "      <td>Both</td>\n",
       "      <td>6</td>\n",
       "      <td>Average</td>\n",
       "    </tr>\n",
       "    <tr>\n",
       "      <th>...</th>\n",
       "      <td>...</td>\n",
       "      <td>...</td>\n",
       "      <td>...</td>\n",
       "      <td>...</td>\n",
       "      <td>...</td>\n",
       "      <td>...</td>\n",
       "      <td>...</td>\n",
       "      <td>...</td>\n",
       "      <td>...</td>\n",
       "      <td>...</td>\n",
       "      <td>...</td>\n",
       "      <td>...</td>\n",
       "      <td>...</td>\n",
       "      <td>...</td>\n",
       "      <td>...</td>\n",
       "      <td>...</td>\n",
       "      <td>...</td>\n",
       "      <td>...</td>\n",
       "      <td>...</td>\n",
       "      <td>...</td>\n",
       "      <td>...</td>\n",
       "    </tr>\n",
       "    <tr>\n",
       "      <th>1028</th>\n",
       "      <td>Female</td>\n",
       "      <td>Rural</td>\n",
       "      <td>Under Graduate</td>\n",
       "      <td>19</td>\n",
       "      <td>3</td>\n",
       "      <td>Mobile</td>\n",
       "      <td>Middle Class</td>\n",
       "      <td>6</td>\n",
       "      <td>5</td>\n",
       "      <td>Yes</td>\n",
       "      <td>...</td>\n",
       "      <td>4</td>\n",
       "      <td>Yes</td>\n",
       "      <td>Yes</td>\n",
       "      <td>yes</td>\n",
       "      <td>91-100</td>\n",
       "      <td>4</td>\n",
       "      <td>4</td>\n",
       "      <td>Theory</td>\n",
       "      <td>8</td>\n",
       "      <td>Average</td>\n",
       "    </tr>\n",
       "    <tr>\n",
       "      <th>1029</th>\n",
       "      <td>Female</td>\n",
       "      <td>Rural</td>\n",
       "      <td>Under Graduate</td>\n",
       "      <td>20</td>\n",
       "      <td>6</td>\n",
       "      <td>Desktop</td>\n",
       "      <td>Middle Class</td>\n",
       "      <td>3</td>\n",
       "      <td>1</td>\n",
       "      <td>No</td>\n",
       "      <td>...</td>\n",
       "      <td>2</td>\n",
       "      <td>Yes</td>\n",
       "      <td>Yes</td>\n",
       "      <td>No</td>\n",
       "      <td>71-80</td>\n",
       "      <td>5</td>\n",
       "      <td>5</td>\n",
       "      <td>Theory</td>\n",
       "      <td>10</td>\n",
       "      <td>Average</td>\n",
       "    </tr>\n",
       "    <tr>\n",
       "      <th>1030</th>\n",
       "      <td>Female</td>\n",
       "      <td>Rural</td>\n",
       "      <td>Under Graduate</td>\n",
       "      <td>20</td>\n",
       "      <td>3</td>\n",
       "      <td>Mobile</td>\n",
       "      <td>Middle Class</td>\n",
       "      <td>3</td>\n",
       "      <td>2</td>\n",
       "      <td>No</td>\n",
       "      <td>...</td>\n",
       "      <td>3</td>\n",
       "      <td>No</td>\n",
       "      <td>Yes</td>\n",
       "      <td>yes</td>\n",
       "      <td>71-80</td>\n",
       "      <td>2</td>\n",
       "      <td>2</td>\n",
       "      <td>Theory</td>\n",
       "      <td>6</td>\n",
       "      <td>Average</td>\n",
       "    </tr>\n",
       "    <tr>\n",
       "      <th>1031</th>\n",
       "      <td>Female</td>\n",
       "      <td>Rural</td>\n",
       "      <td>Under Graduate</td>\n",
       "      <td>19</td>\n",
       "      <td>6</td>\n",
       "      <td>Mobile</td>\n",
       "      <td>Middle Class</td>\n",
       "      <td>2</td>\n",
       "      <td>3</td>\n",
       "      <td>Yes</td>\n",
       "      <td>...</td>\n",
       "      <td>2</td>\n",
       "      <td>Yes</td>\n",
       "      <td>No</td>\n",
       "      <td>No</td>\n",
       "      <td>61-70</td>\n",
       "      <td>3</td>\n",
       "      <td>3</td>\n",
       "      <td>Both</td>\n",
       "      <td>6</td>\n",
       "      <td>Good</td>\n",
       "    </tr>\n",
       "    <tr>\n",
       "      <th>1032</th>\n",
       "      <td>Female</td>\n",
       "      <td>Urban</td>\n",
       "      <td>Under Graduate</td>\n",
       "      <td>20</td>\n",
       "      <td>6</td>\n",
       "      <td>Laptop</td>\n",
       "      <td>Middle Class</td>\n",
       "      <td>4</td>\n",
       "      <td>3</td>\n",
       "      <td>No</td>\n",
       "      <td>...</td>\n",
       "      <td>1</td>\n",
       "      <td>Yes</td>\n",
       "      <td>Yes</td>\n",
       "      <td>yes</td>\n",
       "      <td>81-90</td>\n",
       "      <td>5</td>\n",
       "      <td>4</td>\n",
       "      <td>Practical</td>\n",
       "      <td>10</td>\n",
       "      <td>Average</td>\n",
       "    </tr>\n",
       "  </tbody>\n",
       "</table>\n",
       "<p>1033 rows × 23 columns</p>\n",
       "</div>"
      ],
      "text/plain": [
       "      Gender Home Location Level of Education  Age(Years)  Number of Subjects  \\\n",
       "0       Male         Urban     Under Graduate          18                  11   \n",
       "1       Male         Urban     Under Graduate          19                   7   \n",
       "2       Male         Rural     Under Graduate          18                   5   \n",
       "3       Male         Urban     Under Graduate          18                   5   \n",
       "4       Male         Rural     Under Graduate          18                   5   \n",
       "...      ...           ...                ...         ...                 ...   \n",
       "1028  Female         Rural     Under Graduate          19                   3   \n",
       "1029  Female         Rural     Under Graduate          20                   6   \n",
       "1030  Female         Rural     Under Graduate          20                   3   \n",
       "1031  Female         Rural     Under Graduate          19                   6   \n",
       "1032  Female         Urban     Under Graduate          20                   6   \n",
       "\n",
       "     Device type used to attend classes Economic status  Family size  \\\n",
       "0                                Laptop    Middle Class            4   \n",
       "1                                Laptop    Middle Class            4   \n",
       "2                                Laptop    Middle Class            5   \n",
       "3                                Laptop    Middle Class            4   \n",
       "4                                Laptop    Middle Class            4   \n",
       "...                                 ...             ...          ...   \n",
       "1028                             Mobile    Middle Class            6   \n",
       "1029                            Desktop    Middle Class            3   \n",
       "1030                             Mobile    Middle Class            3   \n",
       "1031                             Mobile    Middle Class            2   \n",
       "1032                             Laptop    Middle Class            4   \n",
       "\n",
       "      Internet facility in your locality Are you involved in any sports?  ...  \\\n",
       "0                                      5                              No  ...   \n",
       "1                                      1                             Yes  ...   \n",
       "2                                      2                              No  ...   \n",
       "3                                      4                             Yes  ...   \n",
       "4                                      3                              No  ...   \n",
       "...                                  ...                             ...  ...   \n",
       "1028                                   5                             Yes  ...   \n",
       "1029                                   1                              No  ...   \n",
       "1030                                   2                              No  ...   \n",
       "1031                                   3                             Yes  ...   \n",
       "1032                                   3                              No  ...   \n",
       "\n",
       "     Time spent on social media (Hours)  Interested in Gaming?  \\\n",
       "0                                     1                     No   \n",
       "1                                     1                    Yes   \n",
       "2                                     1                     No   \n",
       "3                                     2                     No   \n",
       "4                                     2                    Yes   \n",
       "...                                 ...                    ...   \n",
       "1028                                  4                    Yes   \n",
       "1029                                  2                    Yes   \n",
       "1030                                  3                     No   \n",
       "1031                                  2                    Yes   \n",
       "1032                                  1                    Yes   \n",
       "\n",
       "      Have separate room for studying?  Engaged in group studies?  \\\n",
       "0                                   No                         No   \n",
       "1                                  Yes                         No   \n",
       "2                                  Yes                         No   \n",
       "3                                   No                        yes   \n",
       "4                                  Yes                        yes   \n",
       "...                                ...                        ...   \n",
       "1028                               Yes                        yes   \n",
       "1029                               Yes                         No   \n",
       "1030                               Yes                        yes   \n",
       "1031                                No                         No   \n",
       "1032                               Yes                        yes   \n",
       "\n",
       "     Average marks scored before pandemic in traditional classroom  \\\n",
       "0                                                91-100              \n",
       "1                                                91-100              \n",
       "2                                                 71-80              \n",
       "3                                                91-100              \n",
       "4                                                 81-90              \n",
       "...                                                 ...              \n",
       "1028                                             91-100              \n",
       "1029                                              71-80              \n",
       "1030                                              71-80              \n",
       "1031                                              61-70              \n",
       "1032                                              81-90              \n",
       "\n",
       "     Your interaction in online mode  \\\n",
       "0                                  1   \n",
       "1                                  1   \n",
       "2                                  1   \n",
       "3                                  1   \n",
       "4                                  3   \n",
       "...                              ...   \n",
       "1028                               4   \n",
       "1029                               5   \n",
       "1030                               2   \n",
       "1031                               3   \n",
       "1032                               5   \n",
       "\n",
       "     Clearing doubts with faculties in online mode Interested in?  \\\n",
       "0                                                1      Practical   \n",
       "1                                                1         Theory   \n",
       "2                                                1           Both   \n",
       "3                                                2         Theory   \n",
       "4                                                3           Both   \n",
       "...                                            ...            ...   \n",
       "1028                                             4         Theory   \n",
       "1029                                             5         Theory   \n",
       "1030                                             2         Theory   \n",
       "1031                                             3           Both   \n",
       "1032                                             4      Practical   \n",
       "\n",
       "      Performance in online  Your level of satisfaction in Online Education  \n",
       "0                         6                                         Average  \n",
       "1                         3                                             Bad  \n",
       "2                         6                                             Bad  \n",
       "3                         4                                             Bad  \n",
       "4                         6                                         Average  \n",
       "...                     ...                                             ...  \n",
       "1028                      8                                         Average  \n",
       "1029                     10                                         Average  \n",
       "1030                      6                                         Average  \n",
       "1031                      6                                            Good  \n",
       "1032                     10                                         Average  \n",
       "\n",
       "[1033 rows x 23 columns]"
      ]
     },
     "execution_count": 712,
     "metadata": {},
     "output_type": "execute_result"
    }
   ],
   "source": [
    "import pandas as pd\n",
    "import numpy as np\n",
    "import matplotlib.pyplot as plt\n",
    "\n",
    "ed = pd.read_csv('/Users/olesya/Desktop/ONLINE EDUCATION SYSTEM REVIEW.csv', sep = ',')\n",
    "ed"
   ]
  },
  {
   "cell_type": "markdown",
   "id": "c6af6e86",
   "metadata": {},
   "source": [
    "### 0. Подготовка датасета\n",
    "#### Работа с типами данных, пропущенными данными, заголовками и др."
   ]
  },
  {
   "cell_type": "code",
   "execution_count": 713,
   "id": "1b7171cb",
   "metadata": {},
   "outputs": [
    {
     "name": "stdout",
     "output_type": "stream",
     "text": [
      "<class 'pandas.core.frame.DataFrame'>\n",
      "RangeIndex: 1033 entries, 0 to 1032\n",
      "Data columns (total 23 columns):\n",
      " #   Column                                                         Non-Null Count  Dtype \n",
      "---  ------                                                         --------------  ----- \n",
      " 0   Gender                                                         1033 non-null   object\n",
      " 1   Home Location                                                  1033 non-null   object\n",
      " 2   Level of Education                                             1033 non-null   object\n",
      " 3   Age(Years)                                                     1033 non-null   int64 \n",
      " 4   Number of Subjects                                             1033 non-null   int64 \n",
      " 5   Device type used to attend classes                             1033 non-null   object\n",
      " 6   Economic status                                                1033 non-null   object\n",
      " 7   Family size                                                    1033 non-null   int64 \n",
      " 8   Internet facility in your locality                             1033 non-null   int64 \n",
      " 9   Are you involved in any sports?                                1033 non-null   object\n",
      " 10  Do elderly people monitor you?                                 1033 non-null   object\n",
      " 11  Study time (Hours)                                             1033 non-null   int64 \n",
      " 12  Sleep time (Hours)                                             1033 non-null   int64 \n",
      " 13  Time spent on social media (Hours)                             1033 non-null   int64 \n",
      " 14  Interested in Gaming?                                          1033 non-null   object\n",
      " 15  Have separate room for studying?                               1033 non-null   object\n",
      " 16  Engaged in group studies?                                      1033 non-null   object\n",
      " 17  Average marks scored before pandemic in traditional classroom  1033 non-null   object\n",
      " 18  Your interaction in online mode                                1033 non-null   int64 \n",
      " 19  Clearing doubts with faculties in online mode                  1033 non-null   int64 \n",
      " 20  Interested in?                                                 1033 non-null   object\n",
      " 21  Performance in online                                          1033 non-null   int64 \n",
      " 22  Your level of satisfaction in Online Education                 1033 non-null   object\n",
      "dtypes: int64(10), object(13)\n",
      "memory usage: 185.7+ KB\n"
     ]
    }
   ],
   "source": [
    "ed.info()"
   ]
  },
  {
   "cell_type": "markdown",
   "id": "cba43ac4",
   "metadata": {},
   "source": [
    "<font color = blue> Обратим внимание на типы данных. Многим колонкам, которые по сути и содержанию относятся скорее к категориальным или бинарным (буллиевым), присвоен тип object. Перекодируем такие колонки в соответствующий их данным тип – 7 в категориальный и 5 в буллиевый."
   ]
  },
  {
   "cell_type": "code",
   "execution_count": 714,
   "id": "fff7e174",
   "metadata": {},
   "outputs": [],
   "source": [
    "ed['Home Location'] = pd.Categorical(ed['Home Location'])\n",
    "ed['Level of Education'] = pd.Categorical(ed['Level of Education'])\n",
    "ed['Device type used to attend classes'] = pd.Categorical(ed['Device type used to attend classes'])\n",
    "ed['Economic status'] = pd.Categorical(ed['Economic status'])\n",
    "ed['Interested in?'] = pd.Categorical(ed['Interested in?'])\n",
    "ed['Your level of satisfaction in Online Education'] = pd.Categorical(ed['Your level of satisfaction in Online Education'])\n",
    "ed['Gender'] = pd.Categorical(ed['Gender'])\n",
    "ed['Average marks scored before pandemic in traditional classroom'] = pd.Categorical(ed['Average marks scored before pandemic in traditional classroom'])"
   ]
  },
  {
   "cell_type": "code",
   "execution_count": 715,
   "id": "fe69d536",
   "metadata": {},
   "outputs": [],
   "source": [
    "ed['Are you involved in any sports?'] = ed['Are you involved in any sports?'] == 'Yes'\n",
    "ed['Do elderly people monitor you?'] = ed['Do elderly people monitor you?'] == 'Yes'\n",
    "ed['Interested in Gaming?'] = ed['Interested in Gaming?'] == 'Yes'\n",
    "ed['Have separate room for studying?'] = ed['Have separate room for studying?'] == 'Yes'\n",
    "ed['Engaged in group studies?'] = ed['Engaged in group studies?'] == 'Yes'"
   ]
  },
  {
   "cell_type": "markdown",
   "id": "2efa0424",
   "metadata": {},
   "source": [
    "<font color = blue> Проверим, что колонкам действительно присвоился необходимый тип данных – в датафрейме не осталось строковых данных object, далее мы будем работать с данными типа category, int и bool."
   ]
  },
  {
   "cell_type": "code",
   "execution_count": 716,
   "id": "d3047e3c",
   "metadata": {},
   "outputs": [
    {
     "name": "stdout",
     "output_type": "stream",
     "text": [
      "<class 'pandas.core.frame.DataFrame'>\n",
      "RangeIndex: 1033 entries, 0 to 1032\n",
      "Data columns (total 23 columns):\n",
      " #   Column                                                         Non-Null Count  Dtype   \n",
      "---  ------                                                         --------------  -----   \n",
      " 0   Gender                                                         1033 non-null   category\n",
      " 1   Home Location                                                  1033 non-null   category\n",
      " 2   Level of Education                                             1033 non-null   category\n",
      " 3   Age(Years)                                                     1033 non-null   int64   \n",
      " 4   Number of Subjects                                             1033 non-null   int64   \n",
      " 5   Device type used to attend classes                             1033 non-null   category\n",
      " 6   Economic status                                                1033 non-null   category\n",
      " 7   Family size                                                    1033 non-null   int64   \n",
      " 8   Internet facility in your locality                             1033 non-null   int64   \n",
      " 9   Are you involved in any sports?                                1033 non-null   bool    \n",
      " 10  Do elderly people monitor you?                                 1033 non-null   bool    \n",
      " 11  Study time (Hours)                                             1033 non-null   int64   \n",
      " 12  Sleep time (Hours)                                             1033 non-null   int64   \n",
      " 13  Time spent on social media (Hours)                             1033 non-null   int64   \n",
      " 14  Interested in Gaming?                                          1033 non-null   bool    \n",
      " 15  Have separate room for studying?                               1033 non-null   bool    \n",
      " 16  Engaged in group studies?                                      1033 non-null   bool    \n",
      " 17  Average marks scored before pandemic in traditional classroom  1033 non-null   category\n",
      " 18  Your interaction in online mode                                1033 non-null   int64   \n",
      " 19  Clearing doubts with faculties in online mode                  1033 non-null   int64   \n",
      " 20  Interested in?                                                 1033 non-null   category\n",
      " 21  Performance in online                                          1033 non-null   int64   \n",
      " 22  Your level of satisfaction in Online Education                 1033 non-null   category\n",
      "dtypes: bool(5), category(8), int64(10)\n",
      "memory usage: 95.2 KB\n"
     ]
    }
   ],
   "source": [
    "ed.info()"
   ]
  },
  {
   "cell_type": "markdown",
   "id": "4e4a3947",
   "metadata": {},
   "source": [
    "<font color = blue> Видим, что согласно df.info в датасете отсутствуют пропущенные значения – в каждой колонке зафиксировано 1033 наблюдения. Соответственно, при выполнении данной работы нам не потребуется заполнять ячейки NA какими-либо данными. На всякий случай дополнительно применим функцию isna, чтобы убедиться в этом."
   ]
  },
  {
   "cell_type": "code",
   "execution_count": 717,
   "id": "b4df7684",
   "metadata": {},
   "outputs": [
    {
     "data": {
      "text/plain": [
       "Gender                                                           0\n",
       "Home Location                                                    0\n",
       "Level of Education                                               0\n",
       "Age(Years)                                                       0\n",
       "Number of Subjects                                               0\n",
       "Device type used to attend classes                               0\n",
       "Economic status                                                  0\n",
       "Family size                                                      0\n",
       "Internet facility in your locality                               0\n",
       "Are you involved in any sports?                                  0\n",
       "Do elderly people monitor you?                                   0\n",
       "Study time (Hours)                                               0\n",
       "Sleep time (Hours)                                               0\n",
       "Time spent on social media (Hours)                               0\n",
       "Interested in Gaming?                                            0\n",
       "Have separate room for studying?                                 0\n",
       "Engaged in group studies?                                        0\n",
       "Average marks scored before pandemic in traditional classroom    0\n",
       "Your interaction in online mode                                  0\n",
       "Clearing doubts with faculties in online mode                    0\n",
       "Interested in?                                                   0\n",
       "Performance in online                                            0\n",
       "Your level of satisfaction in Online Education                   0\n",
       "dtype: int64"
      ]
     },
     "execution_count": 717,
     "metadata": {},
     "output_type": "execute_result"
    }
   ],
   "source": [
    "ed.isna().sum()"
   ]
  },
  {
   "cell_type": "markdown",
   "id": "2b3a7ac2",
   "metadata": {},
   "source": [
    "<font color = blue>  В качестве последнего этапа переименуем некоторые колонки, присвоив им более сжатые названия для оперативности работы над датасетом (для удобства и единообразия датасета оставим английский язык)."
   ]
  },
  {
   "cell_type": "code",
   "execution_count": 718,
   "id": "75095ebf",
   "metadata": {},
   "outputs": [],
   "source": [
    "ed.rename(columns = {'Gender':'Sex', 'Home Location': 'Home Loc', 'Age(Years)':'Age', \n",
    "                       'Number of Subjects':'Number of Subjects', 'Device type used to attend classes':'Device Type', \n",
    "                       'Economic status':'Economic Status','Family size':'Family Size',\n",
    "                       'Internet facility in your locality':'Internet Facility',\n",
    "                       'Are you involved in any sports?':'Sports Involved',\n",
    "                       'Do elderly people monitor you?':'Monitored by Adults','Study time (Hours)':'Study Time',\n",
    "                       'Sleep time (Hours)': 'Sleep Time', 'Time spent on social media (Hours)':'Social Media Time',\n",
    "                       'Interested in Gaming?': 'Gaming Interested', 'Have separate room for studying?':'Separate Room',\n",
    "                       'Engaged in group studies?': 'Group Studies Engaged',\n",
    "                       'Average marks scored before pandemic in traditional classroom':'Av. Mark Before Pandemic',\n",
    "                       'Your interaction in online mode': 'Online Interaction',\n",
    "                       'Clearing doubts with faculties in online mode': 'Doubts',\n",
    "                       'Interested in?': 'Interested in?', 'Performance in online':'Online Performance',\n",
    "                       'Your level of satisfaction in Online Education':'Satisfaction Level'},\n",
    "            inplace = True)"
   ]
  },
  {
   "cell_type": "code",
   "execution_count": 719,
   "id": "79dddb9b",
   "metadata": {},
   "outputs": [
    {
     "data": {
      "text/html": [
       "<div>\n",
       "<style scoped>\n",
       "    .dataframe tbody tr th:only-of-type {\n",
       "        vertical-align: middle;\n",
       "    }\n",
       "\n",
       "    .dataframe tbody tr th {\n",
       "        vertical-align: top;\n",
       "    }\n",
       "\n",
       "    .dataframe thead th {\n",
       "        text-align: right;\n",
       "    }\n",
       "</style>\n",
       "<table border=\"1\" class=\"dataframe\">\n",
       "  <thead>\n",
       "    <tr style=\"text-align: right;\">\n",
       "      <th></th>\n",
       "      <th>Sex</th>\n",
       "      <th>Home Loc</th>\n",
       "      <th>Level of Education</th>\n",
       "      <th>Age</th>\n",
       "      <th>Number of Subjects</th>\n",
       "      <th>Device Type</th>\n",
       "      <th>Economic Status</th>\n",
       "      <th>Family Size</th>\n",
       "      <th>Internet Facility</th>\n",
       "      <th>Sports Involved</th>\n",
       "      <th>...</th>\n",
       "      <th>Social Media Time</th>\n",
       "      <th>Gaming Interested</th>\n",
       "      <th>Separate Room</th>\n",
       "      <th>Group Studies Engaged</th>\n",
       "      <th>Av. Mark Before Pandemic</th>\n",
       "      <th>Online Interaction</th>\n",
       "      <th>Doubts</th>\n",
       "      <th>Interested in?</th>\n",
       "      <th>Online Performance</th>\n",
       "      <th>Satisfaction Level</th>\n",
       "    </tr>\n",
       "  </thead>\n",
       "  <tbody>\n",
       "    <tr>\n",
       "      <th>0</th>\n",
       "      <td>Male</td>\n",
       "      <td>Urban</td>\n",
       "      <td>Under Graduate</td>\n",
       "      <td>18</td>\n",
       "      <td>11</td>\n",
       "      <td>Laptop</td>\n",
       "      <td>Middle Class</td>\n",
       "      <td>4</td>\n",
       "      <td>5</td>\n",
       "      <td>False</td>\n",
       "      <td>...</td>\n",
       "      <td>1</td>\n",
       "      <td>False</td>\n",
       "      <td>False</td>\n",
       "      <td>False</td>\n",
       "      <td>91-100</td>\n",
       "      <td>1</td>\n",
       "      <td>1</td>\n",
       "      <td>Practical</td>\n",
       "      <td>6</td>\n",
       "      <td>Average</td>\n",
       "    </tr>\n",
       "    <tr>\n",
       "      <th>1</th>\n",
       "      <td>Male</td>\n",
       "      <td>Urban</td>\n",
       "      <td>Under Graduate</td>\n",
       "      <td>19</td>\n",
       "      <td>7</td>\n",
       "      <td>Laptop</td>\n",
       "      <td>Middle Class</td>\n",
       "      <td>4</td>\n",
       "      <td>1</td>\n",
       "      <td>True</td>\n",
       "      <td>...</td>\n",
       "      <td>1</td>\n",
       "      <td>True</td>\n",
       "      <td>True</td>\n",
       "      <td>False</td>\n",
       "      <td>91-100</td>\n",
       "      <td>1</td>\n",
       "      <td>1</td>\n",
       "      <td>Theory</td>\n",
       "      <td>3</td>\n",
       "      <td>Bad</td>\n",
       "    </tr>\n",
       "    <tr>\n",
       "      <th>2</th>\n",
       "      <td>Male</td>\n",
       "      <td>Rural</td>\n",
       "      <td>Under Graduate</td>\n",
       "      <td>18</td>\n",
       "      <td>5</td>\n",
       "      <td>Laptop</td>\n",
       "      <td>Middle Class</td>\n",
       "      <td>5</td>\n",
       "      <td>2</td>\n",
       "      <td>False</td>\n",
       "      <td>...</td>\n",
       "      <td>1</td>\n",
       "      <td>False</td>\n",
       "      <td>True</td>\n",
       "      <td>False</td>\n",
       "      <td>71-80</td>\n",
       "      <td>1</td>\n",
       "      <td>1</td>\n",
       "      <td>Both</td>\n",
       "      <td>6</td>\n",
       "      <td>Bad</td>\n",
       "    </tr>\n",
       "    <tr>\n",
       "      <th>3</th>\n",
       "      <td>Male</td>\n",
       "      <td>Urban</td>\n",
       "      <td>Under Graduate</td>\n",
       "      <td>18</td>\n",
       "      <td>5</td>\n",
       "      <td>Laptop</td>\n",
       "      <td>Middle Class</td>\n",
       "      <td>4</td>\n",
       "      <td>4</td>\n",
       "      <td>True</td>\n",
       "      <td>...</td>\n",
       "      <td>2</td>\n",
       "      <td>False</td>\n",
       "      <td>False</td>\n",
       "      <td>False</td>\n",
       "      <td>91-100</td>\n",
       "      <td>1</td>\n",
       "      <td>2</td>\n",
       "      <td>Theory</td>\n",
       "      <td>4</td>\n",
       "      <td>Bad</td>\n",
       "    </tr>\n",
       "    <tr>\n",
       "      <th>4</th>\n",
       "      <td>Male</td>\n",
       "      <td>Rural</td>\n",
       "      <td>Under Graduate</td>\n",
       "      <td>18</td>\n",
       "      <td>5</td>\n",
       "      <td>Laptop</td>\n",
       "      <td>Middle Class</td>\n",
       "      <td>4</td>\n",
       "      <td>3</td>\n",
       "      <td>False</td>\n",
       "      <td>...</td>\n",
       "      <td>2</td>\n",
       "      <td>True</td>\n",
       "      <td>True</td>\n",
       "      <td>False</td>\n",
       "      <td>81-90</td>\n",
       "      <td>3</td>\n",
       "      <td>3</td>\n",
       "      <td>Both</td>\n",
       "      <td>6</td>\n",
       "      <td>Average</td>\n",
       "    </tr>\n",
       "  </tbody>\n",
       "</table>\n",
       "<p>5 rows × 23 columns</p>\n",
       "</div>"
      ],
      "text/plain": [
       "    Sex Home Loc Level of Education  Age  Number of Subjects Device Type  \\\n",
       "0  Male    Urban     Under Graduate   18                  11      Laptop   \n",
       "1  Male    Urban     Under Graduate   19                   7      Laptop   \n",
       "2  Male    Rural     Under Graduate   18                   5      Laptop   \n",
       "3  Male    Urban     Under Graduate   18                   5      Laptop   \n",
       "4  Male    Rural     Under Graduate   18                   5      Laptop   \n",
       "\n",
       "  Economic Status  Family Size  Internet Facility  Sports Involved  ...  \\\n",
       "0    Middle Class            4                  5            False  ...   \n",
       "1    Middle Class            4                  1             True  ...   \n",
       "2    Middle Class            5                  2            False  ...   \n",
       "3    Middle Class            4                  4             True  ...   \n",
       "4    Middle Class            4                  3            False  ...   \n",
       "\n",
       "   Social Media Time  Gaming Interested  Separate Room  Group Studies Engaged  \\\n",
       "0                  1              False          False                  False   \n",
       "1                  1               True           True                  False   \n",
       "2                  1              False           True                  False   \n",
       "3                  2              False          False                  False   \n",
       "4                  2               True           True                  False   \n",
       "\n",
       "   Av. Mark Before Pandemic  Online Interaction  Doubts Interested in?  \\\n",
       "0                    91-100                   1       1      Practical   \n",
       "1                    91-100                   1       1         Theory   \n",
       "2                     71-80                   1       1           Both   \n",
       "3                    91-100                   1       2         Theory   \n",
       "4                     81-90                   3       3           Both   \n",
       "\n",
       "   Online Performance  Satisfaction Level  \n",
       "0                   6             Average  \n",
       "1                   3                 Bad  \n",
       "2                   6                 Bad  \n",
       "3                   4                 Bad  \n",
       "4                   6             Average  \n",
       "\n",
       "[5 rows x 23 columns]"
      ]
     },
     "execution_count": 719,
     "metadata": {},
     "output_type": "execute_result"
    }
   ],
   "source": [
    "ed.head()"
   ]
  },
  {
   "cell_type": "markdown",
   "id": "d5f0879d",
   "metadata": {},
   "source": [
    "### 1. Создание новых переменных\n",
    "#### Создадим некоторые новые переменные на основе уже имеющихся в датасете данных"
   ]
  },
  {
   "cell_type": "markdown",
   "id": "bc667525",
   "metadata": {},
   "source": [
    "<font color = blue> Например, создадим новую категориальную переменную, которую назовем \"Pre-pandemic Academic Perfomance\", в которой на основе столбца со средними оценками до пандемии (\"Av. Mark Before Pandemic\") разделим наблюдения по категориям. Прежде всего, посмотрим, какие наблюдения вообще есть в этой колонке, а затем решим, на какие категории их разбить."
   ]
  },
  {
   "cell_type": "code",
   "execution_count": 720,
   "id": "96506aa9",
   "metadata": {},
   "outputs": [
    {
     "data": {
      "text/plain": [
       "81-90     343\n",
       "71-80     313\n",
       "91-100    158\n",
       "61-70     118\n",
       "51-60      52\n",
       "41-50      24\n",
       "31-40      11\n",
       "21-30       7\n",
       "11-20       6\n",
       "0-10        1\n",
       "Name: Av. Mark Before Pandemic, dtype: int64"
      ]
     },
     "execution_count": 720,
     "metadata": {},
     "output_type": "execute_result"
    }
   ],
   "source": [
    "ed['Av. Mark Before Pandemic'].value_counts()"
   ]
  },
  {
   "cell_type": "code",
   "execution_count": 721,
   "id": "e762afcc",
   "metadata": {},
   "outputs": [
    {
     "data": {
      "text/plain": [
       "<AxesSubplot:>"
      ]
     },
     "execution_count": 721,
     "metadata": {},
     "output_type": "execute_result"
    },
    {
     "data": {
      "image/png": "[encoded data removed]",
      "text/plain": [
       "<Figure size 432x288 with 1 Axes>"
      ]
     },
     "metadata": {
      "needs_background": "light"
     },
     "output_type": "display_data"
    }
   ],
   "source": [
    "ed['Av. Mark Before Pandemic'].hist()"
   ]
  },
  {
   "cell_type": "markdown",
   "id": "179daa16",
   "metadata": {},
   "source": [
    "<font color = blue> Выделим 5 классических категорий успеваемости – A (excellent), B (good), С (average), D (below average) и E (inadequate). Воспользуемся международной системой оценивания и переведем имеющиеся баллы в оценки с помощью специальной функции. Затем применим функции к значениям колонки с оценками и запишем данные в новую колонку, в которой будет отображен уровень академической успеваемости до пандемии по пяти категориям."
   ]
  },
  {
   "cell_type": "code",
   "execution_count": 722,
   "id": "b83059a1",
   "metadata": {},
   "outputs": [],
   "source": [
    "def get_mark_cat(mark):\n",
    "    if mark == '0-10':\n",
    "        return 'E (inadequate)'\n",
    "    elif mark == '11-20':\n",
    "        return 'E (inadequate)'\n",
    "    elif mark == '21-30':\n",
    "        return 'E (inadequate)'\n",
    "    elif mark == '31-40':\n",
    "        return 'E (inadequate)'\n",
    "    elif mark == '41-50':\n",
    "        return 'D (below average)'\n",
    "    elif mark == '51-60':\n",
    "        return 'D (below average)'\n",
    "    elif mark == '61-70':\n",
    "        return 'С (average)'\n",
    "    elif mark == '71-80':\n",
    "        return 'С (average)'\n",
    "    elif mark == '81-90':\n",
    "        return 'B (good)'\n",
    "    elif mark == '91-100':\n",
    "        return 'A (excellent)'\n",
    "    else:\n",
    "        return mark"
   ]
  },
  {
   "cell_type": "code",
   "execution_count": 723,
   "id": "75a3883f",
   "metadata": {},
   "outputs": [],
   "source": [
    "ed['Pre-pandemic Academic Perfomance'] = ed['Av. Mark Before Pandemic'].apply(get_mark_cat)"
   ]
  },
  {
   "cell_type": "code",
   "execution_count": 724,
   "id": "0844d748",
   "metadata": {
    "scrolled": true
   },
   "outputs": [
    {
     "data": {
      "text/html": [
       "<div>\n",
       "<style scoped>\n",
       "    .dataframe tbody tr th:only-of-type {\n",
       "        vertical-align: middle;\n",
       "    }\n",
       "\n",
       "    .dataframe tbody tr th {\n",
       "        vertical-align: top;\n",
       "    }\n",
       "\n",
       "    .dataframe thead th {\n",
       "        text-align: right;\n",
       "    }\n",
       "</style>\n",
       "<table border=\"1\" class=\"dataframe\">\n",
       "  <thead>\n",
       "    <tr style=\"text-align: right;\">\n",
       "      <th></th>\n",
       "      <th>Sex</th>\n",
       "      <th>Home Loc</th>\n",
       "      <th>Level of Education</th>\n",
       "      <th>Age</th>\n",
       "      <th>Number of Subjects</th>\n",
       "      <th>Device Type</th>\n",
       "      <th>Economic Status</th>\n",
       "      <th>Family Size</th>\n",
       "      <th>Internet Facility</th>\n",
       "      <th>Sports Involved</th>\n",
       "      <th>...</th>\n",
       "      <th>Gaming Interested</th>\n",
       "      <th>Separate Room</th>\n",
       "      <th>Group Studies Engaged</th>\n",
       "      <th>Av. Mark Before Pandemic</th>\n",
       "      <th>Online Interaction</th>\n",
       "      <th>Doubts</th>\n",
       "      <th>Interested in?</th>\n",
       "      <th>Online Performance</th>\n",
       "      <th>Satisfaction Level</th>\n",
       "      <th>Pre-pandemic Academic Perfomance</th>\n",
       "    </tr>\n",
       "  </thead>\n",
       "  <tbody>\n",
       "    <tr>\n",
       "      <th>0</th>\n",
       "      <td>Male</td>\n",
       "      <td>Urban</td>\n",
       "      <td>Under Graduate</td>\n",
       "      <td>18</td>\n",
       "      <td>11</td>\n",
       "      <td>Laptop</td>\n",
       "      <td>Middle Class</td>\n",
       "      <td>4</td>\n",
       "      <td>5</td>\n",
       "      <td>False</td>\n",
       "      <td>...</td>\n",
       "      <td>False</td>\n",
       "      <td>False</td>\n",
       "      <td>False</td>\n",
       "      <td>91-100</td>\n",
       "      <td>1</td>\n",
       "      <td>1</td>\n",
       "      <td>Practical</td>\n",
       "      <td>6</td>\n",
       "      <td>Average</td>\n",
       "      <td>A (excellent)</td>\n",
       "    </tr>\n",
       "    <tr>\n",
       "      <th>1</th>\n",
       "      <td>Male</td>\n",
       "      <td>Urban</td>\n",
       "      <td>Under Graduate</td>\n",
       "      <td>19</td>\n",
       "      <td>7</td>\n",
       "      <td>Laptop</td>\n",
       "      <td>Middle Class</td>\n",
       "      <td>4</td>\n",
       "      <td>1</td>\n",
       "      <td>True</td>\n",
       "      <td>...</td>\n",
       "      <td>True</td>\n",
       "      <td>True</td>\n",
       "      <td>False</td>\n",
       "      <td>91-100</td>\n",
       "      <td>1</td>\n",
       "      <td>1</td>\n",
       "      <td>Theory</td>\n",
       "      <td>3</td>\n",
       "      <td>Bad</td>\n",
       "      <td>A (excellent)</td>\n",
       "    </tr>\n",
       "    <tr>\n",
       "      <th>2</th>\n",
       "      <td>Male</td>\n",
       "      <td>Rural</td>\n",
       "      <td>Under Graduate</td>\n",
       "      <td>18</td>\n",
       "      <td>5</td>\n",
       "      <td>Laptop</td>\n",
       "      <td>Middle Class</td>\n",
       "      <td>5</td>\n",
       "      <td>2</td>\n",
       "      <td>False</td>\n",
       "      <td>...</td>\n",
       "      <td>False</td>\n",
       "      <td>True</td>\n",
       "      <td>False</td>\n",
       "      <td>71-80</td>\n",
       "      <td>1</td>\n",
       "      <td>1</td>\n",
       "      <td>Both</td>\n",
       "      <td>6</td>\n",
       "      <td>Bad</td>\n",
       "      <td>С (average)</td>\n",
       "    </tr>\n",
       "    <tr>\n",
       "      <th>3</th>\n",
       "      <td>Male</td>\n",
       "      <td>Urban</td>\n",
       "      <td>Under Graduate</td>\n",
       "      <td>18</td>\n",
       "      <td>5</td>\n",
       "      <td>Laptop</td>\n",
       "      <td>Middle Class</td>\n",
       "      <td>4</td>\n",
       "      <td>4</td>\n",
       "      <td>True</td>\n",
       "      <td>...</td>\n",
       "      <td>False</td>\n",
       "      <td>False</td>\n",
       "      <td>False</td>\n",
       "      <td>91-100</td>\n",
       "      <td>1</td>\n",
       "      <td>2</td>\n",
       "      <td>Theory</td>\n",
       "      <td>4</td>\n",
       "      <td>Bad</td>\n",
       "      <td>A (excellent)</td>\n",
       "    </tr>\n",
       "    <tr>\n",
       "      <th>4</th>\n",
       "      <td>Male</td>\n",
       "      <td>Rural</td>\n",
       "      <td>Under Graduate</td>\n",
       "      <td>18</td>\n",
       "      <td>5</td>\n",
       "      <td>Laptop</td>\n",
       "      <td>Middle Class</td>\n",
       "      <td>4</td>\n",
       "      <td>3</td>\n",
       "      <td>False</td>\n",
       "      <td>...</td>\n",
       "      <td>True</td>\n",
       "      <td>True</td>\n",
       "      <td>False</td>\n",
       "      <td>81-90</td>\n",
       "      <td>3</td>\n",
       "      <td>3</td>\n",
       "      <td>Both</td>\n",
       "      <td>6</td>\n",
       "      <td>Average</td>\n",
       "      <td>B (good)</td>\n",
       "    </tr>\n",
       "  </tbody>\n",
       "</table>\n",
       "<p>5 rows × 24 columns</p>\n",
       "</div>"
      ],
      "text/plain": [
       "    Sex Home Loc Level of Education  Age  Number of Subjects Device Type  \\\n",
       "0  Male    Urban     Under Graduate   18                  11      Laptop   \n",
       "1  Male    Urban     Under Graduate   19                   7      Laptop   \n",
       "2  Male    Rural     Under Graduate   18                   5      Laptop   \n",
       "3  Male    Urban     Under Graduate   18                   5      Laptop   \n",
       "4  Male    Rural     Under Graduate   18                   5      Laptop   \n",
       "\n",
       "  Economic Status  Family Size  Internet Facility  Sports Involved  ...  \\\n",
       "0    Middle Class            4                  5            False  ...   \n",
       "1    Middle Class            4                  1             True  ...   \n",
       "2    Middle Class            5                  2            False  ...   \n",
       "3    Middle Class            4                  4             True  ...   \n",
       "4    Middle Class            4                  3            False  ...   \n",
       "\n",
       "   Gaming Interested  Separate Room  Group Studies Engaged  \\\n",
       "0              False          False                  False   \n",
       "1               True           True                  False   \n",
       "2              False           True                  False   \n",
       "3              False          False                  False   \n",
       "4               True           True                  False   \n",
       "\n",
       "   Av. Mark Before Pandemic  Online Interaction  Doubts  Interested in?  \\\n",
       "0                    91-100                   1       1       Practical   \n",
       "1                    91-100                   1       1          Theory   \n",
       "2                     71-80                   1       1            Both   \n",
       "3                    91-100                   1       2          Theory   \n",
       "4                     81-90                   3       3            Both   \n",
       "\n",
       "  Online Performance  Satisfaction Level  Pre-pandemic Academic Perfomance  \n",
       "0                  6             Average                     A (excellent)  \n",
       "1                  3                 Bad                     A (excellent)  \n",
       "2                  6                 Bad                       С (average)  \n",
       "3                  4                 Bad                     A (excellent)  \n",
       "4                  6             Average                          B (good)  \n",
       "\n",
       "[5 rows x 24 columns]"
      ]
     },
     "execution_count": 724,
     "metadata": {},
     "output_type": "execute_result"
    }
   ],
   "source": [
    "ed.head()"
   ]
  },
  {
   "cell_type": "markdown",
   "id": "99d08588",
   "metadata": {},
   "source": [
    "<font color = blue> Перекодируем новую переменную как категориальную. Затем проверим, какие категории записались в новый столбец и визуализируем данные по распределению оценок на простом графике."
   ]
  },
  {
   "cell_type": "code",
   "execution_count": 725,
   "id": "d1d285da",
   "metadata": {},
   "outputs": [],
   "source": [
    "ed['Pre-pandemic Academic Perfomance'] = pd.Categorical(ed['Pre-pandemic Academic Perfomance'])"
   ]
  },
  {
   "cell_type": "code",
   "execution_count": 726,
   "id": "933dc732",
   "metadata": {},
   "outputs": [
    {
     "data": {
      "text/plain": [
       "Index(['A (excellent)', 'B (good)', 'D (below average)', 'E (inadequate)',\n",
       "       'С (average)'],\n",
       "      dtype='object')"
      ]
     },
     "execution_count": 726,
     "metadata": {},
     "output_type": "execute_result"
    }
   ],
   "source": [
    "ed['Pre-pandemic Academic Perfomance'].cat.categories"
   ]
  },
  {
   "cell_type": "code",
   "execution_count": 727,
   "id": "6c718b36",
   "metadata": {
    "scrolled": true
   },
   "outputs": [
    {
     "data": {
      "text/plain": [
       "<AxesSubplot:>"
      ]
     },
     "execution_count": 727,
     "metadata": {},
     "output_type": "execute_result"
    },
    {
     "data": {
      "image/png": "[encoded data removed]",
      "text/plain": [
       "<Figure size 432x288 with 1 Axes>"
      ]
     },
     "metadata": {
      "needs_background": "light"
     },
     "output_type": "display_data"
    }
   ],
   "source": [
    "ed['Pre-pandemic Academic Perfomance'].hist(color = 'purple')"
   ]
  },
  {
   "cell_type": "markdown",
   "id": "93373414",
   "metadata": {},
   "source": [
    "<font color = blue> Получаем наглядное представление о том, какие оценки имели учащиеся до пандемии – большинство из них получали C и B, то есть средние и хорошие оценки (от 61 до 90 баллов согласно заданной выше функции)."
   ]
  },
  {
   "cell_type": "markdown",
   "id": "ddebb657",
   "metadata": {},
   "source": [
    "<font color = blue> Теперь обратим внимание на то, что оценки до пандемии и уровень успеваемости онлайн представлены в разном формате – по 100-балльной и 10-балльной шкалам. Приведем оценки до пандемии к 10-балльной шкале (округляем в большую сторону), чтобы в будущем мы могли сравнивать эти наблюдения. Применим функцию к оригинальной колонке и перезапишем ее, изменив тип данных на int."
   ]
  },
  {
   "cell_type": "code",
   "execution_count": 728,
   "id": "244432dc",
   "metadata": {},
   "outputs": [],
   "source": [
    "def get_mark(mark):\n",
    "    if mark == '0-10':\n",
    "        return '1'\n",
    "    elif mark == '11-20':\n",
    "        return '2'\n",
    "    elif mark == '21-30':\n",
    "        return '3'\n",
    "    elif mark == '31-40':\n",
    "        return '4'\n",
    "    elif mark == '41-50':\n",
    "        return '5'\n",
    "    elif mark == '51-60':\n",
    "        return '6'\n",
    "    elif mark == '61-70':\n",
    "        return '7'\n",
    "    elif mark == '71-80':\n",
    "        return '8'\n",
    "    elif mark == '81-90':\n",
    "        return '9'\n",
    "    elif mark == '91-100':\n",
    "        return '10'\n",
    "    else:\n",
    "        return mark"
   ]
  },
  {
   "cell_type": "code",
   "execution_count": 729,
   "id": "0e55fa6c",
   "metadata": {},
   "outputs": [],
   "source": [
    "ed['Av. Mark Before Pandemic'] = ed['Av. Mark Before Pandemic'].apply(get_mark)\n",
    "ed = ed.astype({'Av. Mark Before Pandemic': 'int64'})"
   ]
  },
  {
   "cell_type": "code",
   "execution_count": 730,
   "id": "287085e1",
   "metadata": {},
   "outputs": [
    {
     "data": {
      "text/html": [
       "<div>\n",
       "<style scoped>\n",
       "    .dataframe tbody tr th:only-of-type {\n",
       "        vertical-align: middle;\n",
       "    }\n",
       "\n",
       "    .dataframe tbody tr th {\n",
       "        vertical-align: top;\n",
       "    }\n",
       "\n",
       "    .dataframe thead th {\n",
       "        text-align: right;\n",
       "    }\n",
       "</style>\n",
       "<table border=\"1\" class=\"dataframe\">\n",
       "  <thead>\n",
       "    <tr style=\"text-align: right;\">\n",
       "      <th></th>\n",
       "      <th>Av. Mark Before Pandemic</th>\n",
       "      <th>Online Performance</th>\n",
       "    </tr>\n",
       "  </thead>\n",
       "  <tbody>\n",
       "    <tr>\n",
       "      <th>0</th>\n",
       "      <td>10</td>\n",
       "      <td>6</td>\n",
       "    </tr>\n",
       "    <tr>\n",
       "      <th>1</th>\n",
       "      <td>10</td>\n",
       "      <td>3</td>\n",
       "    </tr>\n",
       "    <tr>\n",
       "      <th>2</th>\n",
       "      <td>8</td>\n",
       "      <td>6</td>\n",
       "    </tr>\n",
       "    <tr>\n",
       "      <th>3</th>\n",
       "      <td>10</td>\n",
       "      <td>4</td>\n",
       "    </tr>\n",
       "    <tr>\n",
       "      <th>4</th>\n",
       "      <td>9</td>\n",
       "      <td>6</td>\n",
       "    </tr>\n",
       "    <tr>\n",
       "      <th>...</th>\n",
       "      <td>...</td>\n",
       "      <td>...</td>\n",
       "    </tr>\n",
       "    <tr>\n",
       "      <th>1028</th>\n",
       "      <td>10</td>\n",
       "      <td>8</td>\n",
       "    </tr>\n",
       "    <tr>\n",
       "      <th>1029</th>\n",
       "      <td>8</td>\n",
       "      <td>10</td>\n",
       "    </tr>\n",
       "    <tr>\n",
       "      <th>1030</th>\n",
       "      <td>8</td>\n",
       "      <td>6</td>\n",
       "    </tr>\n",
       "    <tr>\n",
       "      <th>1031</th>\n",
       "      <td>7</td>\n",
       "      <td>6</td>\n",
       "    </tr>\n",
       "    <tr>\n",
       "      <th>1032</th>\n",
       "      <td>9</td>\n",
       "      <td>10</td>\n",
       "    </tr>\n",
       "  </tbody>\n",
       "</table>\n",
       "<p>1033 rows × 2 columns</p>\n",
       "</div>"
      ],
      "text/plain": [
       "      Av. Mark Before Pandemic  Online Performance\n",
       "0                           10                   6\n",
       "1                           10                   3\n",
       "2                            8                   6\n",
       "3                           10                   4\n",
       "4                            9                   6\n",
       "...                        ...                 ...\n",
       "1028                        10                   8\n",
       "1029                         8                  10\n",
       "1030                         8                   6\n",
       "1031                         7                   6\n",
       "1032                         9                  10\n",
       "\n",
       "[1033 rows x 2 columns]"
      ]
     },
     "execution_count": 730,
     "metadata": {},
     "output_type": "execute_result"
    }
   ],
   "source": [
    "ed[['Av. Mark Before Pandemic', 'Online Performance']]\n",
    "#теперь мы можем сравнивать данные наблюдения, так как они содержат оценки одного порядка и типа"
   ]
  },
  {
   "cell_type": "markdown",
   "id": "e23db4a9",
   "metadata": {},
   "source": [
    "### 2. Группировка данных и базовая визуализация\n",
    "#### Работа с частотными таблицами, распределениями и группировкой данных "
   ]
  },
  {
   "cell_type": "markdown",
   "id": "cc1b6958",
   "metadata": {},
   "source": [
    "<font color = blue> Построим частотные таблицы для нескольких переменных, проанализируем и сделаем первые выводы о датафрейме."
   ]
  },
  {
   "cell_type": "code",
   "execution_count": 731,
   "id": "722a4225",
   "metadata": {},
   "outputs": [
    {
     "data": {
      "text/plain": [
       "Male      614\n",
       "Female    419\n",
       "Name: Sex, dtype: int64"
      ]
     },
     "execution_count": 731,
     "metadata": {},
     "output_type": "execute_result"
    }
   ],
   "source": [
    "ed['Sex'].value_counts() #соотношение мужчин и женщин примерно 60% и 40%"
   ]
  },
  {
   "cell_type": "code",
   "execution_count": 732,
   "id": "06588a2d",
   "metadata": {},
   "outputs": [
    {
     "data": {
      "text/plain": [
       "Urban    679\n",
       "Rural    354\n",
       "Name: Home Loc, dtype: int64"
      ]
     },
     "execution_count": 732,
     "metadata": {},
     "output_type": "execute_result"
    }
   ],
   "source": [
    "ed['Home Loc'].value_counts() #большинство участников проживают в городе, почти треть – за городом"
   ]
  },
  {
   "cell_type": "code",
   "execution_count": 733,
   "id": "72319a21",
   "metadata": {
    "scrolled": true
   },
   "outputs": [
    {
     "data": {
      "text/plain": [
       "Under Graduate    817\n",
       "Post Graduate     129\n",
       "School             87\n",
       "Name: Level of Education, dtype: int64"
      ]
     },
     "execution_count": 733,
     "metadata": {},
     "output_type": "execute_result"
    }
   ],
   "source": [
    "ed['Level of Education'].value_counts() \n",
    "#абсолютное большинство имеет степень бакалавра, 87 человек закончили только школу, 129 – получили магистерскую степень"
   ]
  },
  {
   "cell_type": "code",
   "execution_count": 734,
   "id": "ffdefd8f",
   "metadata": {},
   "outputs": [
    {
     "data": {
      "text/plain": [
       "20    249\n",
       "19    226\n",
       "18    220\n",
       "21    127\n",
       "17     99\n",
       "22     39\n",
       "23     19\n",
       "24     14\n",
       "40      9\n",
       "25      7\n",
       "34      3\n",
       "37      3\n",
       "26      3\n",
       "12      2\n",
       "9       2\n",
       "39      2\n",
       "36      2\n",
       "38      1\n",
       "27      1\n",
       "28      1\n",
       "30      1\n",
       "32      1\n",
       "35      1\n",
       "29      1\n",
       "Name: Age, dtype: int64"
      ]
     },
     "execution_count": 734,
     "metadata": {},
     "output_type": "execute_result"
    }
   ],
   "source": [
    "ed['Age'].value_counts() #получаем частотную таблицу по возрастам, представим эти же данные на графике"
   ]
  },
  {
   "cell_type": "code",
   "execution_count": 735,
   "id": "4d032a2c",
   "metadata": {},
   "outputs": [
    {
     "data": {
      "text/plain": [
       "<AxesSubplot:>"
      ]
     },
     "execution_count": 735,
     "metadata": {},
     "output_type": "execute_result"
    },
    {
     "data": {
      "image/png": "[encoded data removed]",
      "text/plain": [
       "<Figure size 432x288 with 1 Axes>"
      ]
     },
     "metadata": {
      "needs_background": "light"
     },
     "output_type": "display_data"
    }
   ],
   "source": [
    "ed['Age'].hist() #видим, что возраст большинства опрошенных варьируется в диапазоне от 15 до 21 года"
   ]
  },
  {
   "cell_type": "code",
   "execution_count": 736,
   "id": "61eb90a4",
   "metadata": {},
   "outputs": [
    {
     "data": {
      "text/plain": [
       "Laptop     672\n",
       "Mobile     334\n",
       "Desktop     27\n",
       "Name: Device Type, dtype: int64"
      ]
     },
     "execution_count": 736,
     "metadata": {},
     "output_type": "execute_result"
    }
   ],
   "source": [
    "ed['Device Type'].value_counts() \n",
    "#большинство учащихся пользуется ноутбуками, около 33% – телефонами, незначительная часть – стационарными компьютерами"
   ]
  },
  {
   "cell_type": "code",
   "execution_count": 737,
   "id": "62a4cebd",
   "metadata": {},
   "outputs": [
    {
     "data": {
      "text/plain": [
       "Middle Class    954\n",
       "Poor             49\n",
       "Rich             30\n",
       "Name: Economic Status, dtype: int64"
      ]
     },
     "execution_count": 737,
     "metadata": {},
     "output_type": "execute_result"
    }
   ],
   "source": [
    "ed['Economic Status'].value_counts() \n",
    "#абсолютное большинство принадлежат к среднему классу, около 5% и 3% к бедному и богатому слоям соответственно\n",
    "#идея для проверки гипотезы в будущем – \"чем богаче семья, тем лучше успеваемость\""
   ]
  },
  {
   "cell_type": "code",
   "execution_count": 738,
   "id": "d4c35b1b",
   "metadata": {
    "scrolled": true
   },
   "outputs": [
    {
     "data": {
      "text/plain": [
       "4     569\n",
       "5     192\n",
       "3     128\n",
       "6      87\n",
       "10     18\n",
       "7      14\n",
       "2      11\n",
       "8       9\n",
       "9       5\n",
       "Name: Family Size, dtype: int64"
      ]
     },
     "execution_count": 738,
     "metadata": {},
     "output_type": "execute_result"
    }
   ],
   "source": [
    "ed['Family Size'].value_counts() \n",
    "#получаем частотную таблицу по кол-ву детей в семье, представим эти же данные на графике"
   ]
  },
  {
   "cell_type": "code",
   "execution_count": 739,
   "id": "a48d569d",
   "metadata": {
    "scrolled": true
   },
   "outputs": [
    {
     "data": {
      "text/plain": [
       "<AxesSubplot:>"
      ]
     },
     "execution_count": 739,
     "metadata": {},
     "output_type": "execute_result"
    },
    {
     "data": {
      "image/png": "[encoded data removed]",
      "text/plain": [
       "<Figure size 432x288 with 1 Axes>"
      ]
     },
     "metadata": {
      "needs_background": "light"
     },
     "output_type": "display_data"
    }
   ],
   "source": [
    "ed['Family Size'].hist(color='orange')\n",
    "#большинство семей – многодетные, т.е. имеют 3 и более детей, минимальное кол-во детей – 2 на семью"
   ]
  },
  {
   "cell_type": "code",
   "execution_count": 740,
   "id": "2c4c2f44",
   "metadata": {},
   "outputs": [
    {
     "data": {
      "text/plain": [
       "True     608\n",
       "False    425\n",
       "Name: Separate Room, dtype: int64"
      ]
     },
     "execution_count": 740,
     "metadata": {},
     "output_type": "execute_result"
    }
   ],
   "source": [
    "ed['Separate Room'].value_counts()\n",
    "#около 60% учащихся имеют собственную отдельную комнату\n",
    "#идея для проверки гипотезы в будущем – \"успеваемость у тех, кто имеет отдельную комнату, выше, чем у тех, кто не имеет\""
   ]
  },
  {
   "cell_type": "code",
   "execution_count": 741,
   "id": "89e62498",
   "metadata": {},
   "outputs": [
    {
     "data": {
      "text/plain": [
       "True     560\n",
       "False    473\n",
       "Name: Gaming Interested, dtype: int64"
      ]
     },
     "execution_count": 741,
     "metadata": {},
     "output_type": "execute_result"
    }
   ],
   "source": [
    "ed['Gaming Interested'].value_counts()\n",
    "#заинтересованных и не заинтересованных в компьютерных играх сопоставимое кол-во"
   ]
  },
  {
   "cell_type": "code",
   "execution_count": 742,
   "id": "bcde9b26",
   "metadata": {},
   "outputs": [
    {
     "data": {
      "text/plain": [
       "7     316\n",
       "8     296\n",
       "6     235\n",
       "5      78\n",
       "9      42\n",
       "10     30\n",
       "4      23\n",
       "3       5\n",
       "2       4\n",
       "1       4\n",
       "Name: Sleep Time, dtype: int64"
      ]
     },
     "execution_count": 742,
     "metadata": {},
     "output_type": "execute_result"
    }
   ],
   "source": [
    "ed['Sleep Time'].value_counts()\n",
    "#получаем частотную таблицу по кол-ву часов сна, представим эти же данные на графике"
   ]
  },
  {
   "cell_type": "code",
   "execution_count": 743,
   "id": "57cdc0de",
   "metadata": {
    "scrolled": true
   },
   "outputs": [
    {
     "data": {
      "text/plain": [
       "<AxesSubplot:>"
      ]
     },
     "execution_count": 743,
     "metadata": {},
     "output_type": "execute_result"
    },
    {
     "data": {
      "image/png": "[encoded data removed]",
      "text/plain": [
       "<Figure size 432x288 with 1 Axes>"
      ]
     },
     "metadata": {
      "needs_background": "light"
     },
     "output_type": "display_data"
    }
   ],
   "source": [
    "ed['Sleep Time'].hist(color='purple')\n",
    "#распределение по кол-ву часов сна стремится к нормальному в виде колокольчика – большинство спит от 7 до 8 часов\n",
    "#идея для проверки гипотезы в будущем – \"кол-во сна положительно влияет на успеваемость\""
   ]
  },
  {
   "cell_type": "code",
   "execution_count": 744,
   "id": "7c03e9fd",
   "metadata": {},
   "outputs": [
    {
     "data": {
      "text/plain": [
       "2     340\n",
       "1     294\n",
       "3     181\n",
       "4      92\n",
       "5      49\n",
       "6      26\n",
       "10     19\n",
       "8      16\n",
       "7      12\n",
       "9       4\n",
       "Name: Social Media Time, dtype: int64"
      ]
     },
     "execution_count": 744,
     "metadata": {},
     "output_type": "execute_result"
    }
   ],
   "source": [
    "ed['Social Media Time'].value_counts()\n",
    "#получаем частотную таблицу по кол-ву часов в соцсетях, представим эти же данные на графике"
   ]
  },
  {
   "cell_type": "code",
   "execution_count": 745,
   "id": "a692bb8a",
   "metadata": {},
   "outputs": [
    {
     "data": {
      "text/plain": [
       "<AxesSubplot:>"
      ]
     },
     "execution_count": 745,
     "metadata": {},
     "output_type": "execute_result"
    },
    {
     "data": {
      "image/png": "[encoded data removed]",
      "text/plain": [
       "<Figure size 432x288 with 1 Axes>"
      ]
     },
     "metadata": {
      "needs_background": "light"
     },
     "output_type": "display_data"
    }
   ],
   "source": [
    "ed['Social Media Time'].hist(color='pink')\n",
    "#распределение смещено влево – большинство проводит в соцсетях от получаса до 2,5 часов в день\n",
    "#идея для проверки гипотезы в будущем – \"кол-во времени в соцсетях отрицательно влияет на успеваемость\""
   ]
  },
  {
   "cell_type": "code",
   "execution_count": 746,
   "id": "321bcecf",
   "metadata": {},
   "outputs": [
    {
     "data": {
      "text/plain": [
       "9     343\n",
       "8     313\n",
       "10    158\n",
       "7     118\n",
       "6      52\n",
       "5      24\n",
       "4      11\n",
       "3       7\n",
       "2       6\n",
       "1       1\n",
       "Name: Av. Mark Before Pandemic, dtype: int64"
      ]
     },
     "execution_count": 746,
     "metadata": {},
     "output_type": "execute_result"
    }
   ],
   "source": [
    "ed['Av. Mark Before Pandemic'].value_counts()\n",
    "#получаем частотную таблицу по успеваемости до пандемии, представим эти же данные на графике"
   ]
  },
  {
   "cell_type": "code",
   "execution_count": 747,
   "id": "21fa4784",
   "metadata": {},
   "outputs": [
    {
     "data": {
      "text/plain": [
       "<AxesSubplot:>"
      ]
     },
     "execution_count": 747,
     "metadata": {},
     "output_type": "execute_result"
    },
    {
     "data": {
      "image/png": "[encoded data removed]",
      "text/plain": [
       "<Figure size 432x288 with 1 Axes>"
      ]
     },
     "metadata": {
      "needs_background": "light"
     },
     "output_type": "display_data"
    }
   ],
   "source": [
    "ed['Av. Mark Before Pandemic'].hist()\n",
    "#большинство учеников имели среднюю успеваемость от 8 до 9 во время занятий офлайн до пандемии"
   ]
  },
  {
   "cell_type": "code",
   "execution_count": 748,
   "id": "7d2aa67d",
   "metadata": {
    "scrolled": true
   },
   "outputs": [
    {
     "data": {
      "text/plain": [
       "6     244\n",
       "8     218\n",
       "7     181\n",
       "5      92\n",
       "10     87\n",
       "4      78\n",
       "9      73\n",
       "2      37\n",
       "3      23\n",
       "Name: Online Performance, dtype: int64"
      ]
     },
     "execution_count": 748,
     "metadata": {},
     "output_type": "execute_result"
    }
   ],
   "source": [
    "ed['Online Performance'].value_counts()\n",
    "#получаем частотную таблицу по успеваемости в онлайне, представим эти же данные на графике"
   ]
  },
  {
   "cell_type": "code",
   "execution_count": 749,
   "id": "48a59567",
   "metadata": {
    "scrolled": false
   },
   "outputs": [
    {
     "data": {
      "text/plain": [
       "<AxesSubplot:>"
      ]
     },
     "execution_count": 749,
     "metadata": {},
     "output_type": "execute_result"
    },
    {
     "data": {
      "image/png": "[encoded data removed]",
      "text/plain": [
       "<Figure size 432x288 with 1 Axes>"
      ]
     },
     "metadata": {
      "needs_background": "light"
     },
     "output_type": "display_data"
    }
   ],
   "source": [
    "ed['Online Performance'].hist(color='green')\n",
    "#большинство учеников имеют среднюю успеваемость от 6 до 8 во время занятий онлайн"
   ]
  },
  {
   "cell_type": "markdown",
   "id": "a5dc107d",
   "metadata": {},
   "source": [
    "<font color = blue> Далее попробуем сгруппировать некоторые колонки и проанализировать результаты.   \n",
    "    Например, посмотрим, как распределяются оценки до и после пандемии среди мужчин и женщин. С помощью функции группировки мы получили частотную таблицу, где оценки отображаются по полу. В целом, данные по оценкам соответствуют процентному соотношению мужчин и женщин в датасете – 60% и 40% соответственно."
   ]
  },
  {
   "cell_type": "code",
   "execution_count": 750,
   "id": "91a58321",
   "metadata": {},
   "outputs": [
    {
     "data": {
      "text/html": [
       "<div>\n",
       "<style scoped>\n",
       "    .dataframe tbody tr th:only-of-type {\n",
       "        vertical-align: middle;\n",
       "    }\n",
       "\n",
       "    .dataframe tbody tr th {\n",
       "        vertical-align: top;\n",
       "    }\n",
       "\n",
       "    .dataframe thead th {\n",
       "        text-align: right;\n",
       "    }\n",
       "</style>\n",
       "<table border=\"1\" class=\"dataframe\">\n",
       "  <thead>\n",
       "    <tr style=\"text-align: right;\">\n",
       "      <th>Av. Mark Before Pandemic</th>\n",
       "      <th>1</th>\n",
       "      <th>2</th>\n",
       "      <th>3</th>\n",
       "      <th>4</th>\n",
       "      <th>5</th>\n",
       "      <th>6</th>\n",
       "      <th>7</th>\n",
       "      <th>8</th>\n",
       "      <th>9</th>\n",
       "      <th>10</th>\n",
       "    </tr>\n",
       "    <tr>\n",
       "      <th>Sex</th>\n",
       "      <th></th>\n",
       "      <th></th>\n",
       "      <th></th>\n",
       "      <th></th>\n",
       "      <th></th>\n",
       "      <th></th>\n",
       "      <th></th>\n",
       "      <th></th>\n",
       "      <th></th>\n",
       "      <th></th>\n",
       "    </tr>\n",
       "  </thead>\n",
       "  <tbody>\n",
       "    <tr>\n",
       "      <th>Female</th>\n",
       "      <td>1.0</td>\n",
       "      <td>3.0</td>\n",
       "      <td>3.0</td>\n",
       "      <td>4.0</td>\n",
       "      <td>13.0</td>\n",
       "      <td>21.0</td>\n",
       "      <td>40.0</td>\n",
       "      <td>124.0</td>\n",
       "      <td>137.0</td>\n",
       "      <td>73.0</td>\n",
       "    </tr>\n",
       "    <tr>\n",
       "      <th>Male</th>\n",
       "      <td>NaN</td>\n",
       "      <td>3.0</td>\n",
       "      <td>4.0</td>\n",
       "      <td>7.0</td>\n",
       "      <td>11.0</td>\n",
       "      <td>31.0</td>\n",
       "      <td>78.0</td>\n",
       "      <td>189.0</td>\n",
       "      <td>206.0</td>\n",
       "      <td>85.0</td>\n",
       "    </tr>\n",
       "  </tbody>\n",
       "</table>\n",
       "</div>"
      ],
      "text/plain": [
       "Av. Mark Before Pandemic   1    2    3    4     5     6     7      8      9   \\\n",
       "Sex                                                                            \n",
       "Female                    1.0  3.0  3.0  4.0  13.0  21.0  40.0  124.0  137.0   \n",
       "Male                      NaN  3.0  4.0  7.0  11.0  31.0  78.0  189.0  206.0   \n",
       "\n",
       "Av. Mark Before Pandemic    10  \n",
       "Sex                             \n",
       "Female                    73.0  \n",
       "Male                      85.0  "
      ]
     },
     "execution_count": 750,
     "metadata": {},
     "output_type": "execute_result"
    }
   ],
   "source": [
    "ed.groupby('Sex')['Av. Mark Before Pandemic'].value_counts().unstack()"
   ]
  },
  {
   "cell_type": "code",
   "execution_count": 751,
   "id": "0cb2ee2e",
   "metadata": {
    "scrolled": true
   },
   "outputs": [
    {
     "data": {
      "text/html": [
       "<div>\n",
       "<style scoped>\n",
       "    .dataframe tbody tr th:only-of-type {\n",
       "        vertical-align: middle;\n",
       "    }\n",
       "\n",
       "    .dataframe tbody tr th {\n",
       "        vertical-align: top;\n",
       "    }\n",
       "\n",
       "    .dataframe thead th {\n",
       "        text-align: right;\n",
       "    }\n",
       "</style>\n",
       "<table border=\"1\" class=\"dataframe\">\n",
       "  <thead>\n",
       "    <tr style=\"text-align: right;\">\n",
       "      <th>Online Performance</th>\n",
       "      <th>2</th>\n",
       "      <th>3</th>\n",
       "      <th>4</th>\n",
       "      <th>5</th>\n",
       "      <th>6</th>\n",
       "      <th>7</th>\n",
       "      <th>8</th>\n",
       "      <th>9</th>\n",
       "      <th>10</th>\n",
       "    </tr>\n",
       "    <tr>\n",
       "      <th>Sex</th>\n",
       "      <th></th>\n",
       "      <th></th>\n",
       "      <th></th>\n",
       "      <th></th>\n",
       "      <th></th>\n",
       "      <th></th>\n",
       "      <th></th>\n",
       "      <th></th>\n",
       "      <th></th>\n",
       "    </tr>\n",
       "  </thead>\n",
       "  <tbody>\n",
       "    <tr>\n",
       "      <th>Female</th>\n",
       "      <td>5</td>\n",
       "      <td>8</td>\n",
       "      <td>29</td>\n",
       "      <td>43</td>\n",
       "      <td>95</td>\n",
       "      <td>74</td>\n",
       "      <td>78</td>\n",
       "      <td>33</td>\n",
       "      <td>54</td>\n",
       "    </tr>\n",
       "    <tr>\n",
       "      <th>Male</th>\n",
       "      <td>32</td>\n",
       "      <td>15</td>\n",
       "      <td>49</td>\n",
       "      <td>49</td>\n",
       "      <td>149</td>\n",
       "      <td>107</td>\n",
       "      <td>140</td>\n",
       "      <td>40</td>\n",
       "      <td>33</td>\n",
       "    </tr>\n",
       "  </tbody>\n",
       "</table>\n",
       "</div>"
      ],
      "text/plain": [
       "Online Performance  2   3   4   5    6    7    8   9   10\n",
       "Sex                                                      \n",
       "Female               5   8  29  43   95   74   78  33  54\n",
       "Male                32  15  49  49  149  107  140  40  33"
      ]
     },
     "execution_count": 751,
     "metadata": {},
     "output_type": "execute_result"
    }
   ],
   "source": [
    "ed.groupby('Sex')['Online Performance'].value_counts().unstack()"
   ]
  },
  {
   "cell_type": "markdown",
   "id": "057b6b1f",
   "metadata": {},
   "source": [
    "<font color = blue> Посмотрим также, как сгруппированы оценки до пандемии по материальному положению людей. Видим, что богатые слои населения получают оценки от 6 до 10, а худшая оценка 1 получена человеком из бедной семьи. При этом высших оценок (10) среди самых бедных и самых богатых почти одинаковое количество."
   ]
  },
  {
   "cell_type": "code",
   "execution_count": 752,
   "id": "b2117556",
   "metadata": {
    "scrolled": true
   },
   "outputs": [
    {
     "data": {
      "text/html": [
       "<div>\n",
       "<style scoped>\n",
       "    .dataframe tbody tr th:only-of-type {\n",
       "        vertical-align: middle;\n",
       "    }\n",
       "\n",
       "    .dataframe tbody tr th {\n",
       "        vertical-align: top;\n",
       "    }\n",
       "\n",
       "    .dataframe thead th {\n",
       "        text-align: right;\n",
       "    }\n",
       "</style>\n",
       "<table border=\"1\" class=\"dataframe\">\n",
       "  <thead>\n",
       "    <tr style=\"text-align: right;\">\n",
       "      <th>Av. Mark Before Pandemic</th>\n",
       "      <th>1</th>\n",
       "      <th>2</th>\n",
       "      <th>3</th>\n",
       "      <th>4</th>\n",
       "      <th>5</th>\n",
       "      <th>6</th>\n",
       "      <th>7</th>\n",
       "      <th>8</th>\n",
       "      <th>9</th>\n",
       "      <th>10</th>\n",
       "    </tr>\n",
       "    <tr>\n",
       "      <th>Economic Status</th>\n",
       "      <th></th>\n",
       "      <th></th>\n",
       "      <th></th>\n",
       "      <th></th>\n",
       "      <th></th>\n",
       "      <th></th>\n",
       "      <th></th>\n",
       "      <th></th>\n",
       "      <th></th>\n",
       "      <th></th>\n",
       "    </tr>\n",
       "  </thead>\n",
       "  <tbody>\n",
       "    <tr>\n",
       "      <th>Middle Class</th>\n",
       "      <td>NaN</td>\n",
       "      <td>6.0</td>\n",
       "      <td>7.0</td>\n",
       "      <td>10.0</td>\n",
       "      <td>22.0</td>\n",
       "      <td>48.0</td>\n",
       "      <td>111.0</td>\n",
       "      <td>292.0</td>\n",
       "      <td>321.0</td>\n",
       "      <td>137.0</td>\n",
       "    </tr>\n",
       "    <tr>\n",
       "      <th>Poor</th>\n",
       "      <td>1.0</td>\n",
       "      <td>NaN</td>\n",
       "      <td>NaN</td>\n",
       "      <td>1.0</td>\n",
       "      <td>2.0</td>\n",
       "      <td>3.0</td>\n",
       "      <td>6.0</td>\n",
       "      <td>11.0</td>\n",
       "      <td>15.0</td>\n",
       "      <td>10.0</td>\n",
       "    </tr>\n",
       "    <tr>\n",
       "      <th>Rich</th>\n",
       "      <td>NaN</td>\n",
       "      <td>NaN</td>\n",
       "      <td>NaN</td>\n",
       "      <td>NaN</td>\n",
       "      <td>NaN</td>\n",
       "      <td>1.0</td>\n",
       "      <td>1.0</td>\n",
       "      <td>10.0</td>\n",
       "      <td>7.0</td>\n",
       "      <td>11.0</td>\n",
       "    </tr>\n",
       "  </tbody>\n",
       "</table>\n",
       "</div>"
      ],
      "text/plain": [
       "Av. Mark Before Pandemic   1    2    3     4     5     6      7      8   \\\n",
       "Economic Status                                                           \n",
       "Middle Class              NaN  6.0  7.0  10.0  22.0  48.0  111.0  292.0   \n",
       "Poor                      1.0  NaN  NaN   1.0   2.0   3.0    6.0   11.0   \n",
       "Rich                      NaN  NaN  NaN   NaN   NaN   1.0    1.0   10.0   \n",
       "\n",
       "Av. Mark Before Pandemic     9      10  \n",
       "Economic Status                         \n",
       "Middle Class              321.0  137.0  \n",
       "Poor                       15.0   10.0  \n",
       "Rich                        7.0   11.0  "
      ]
     },
     "execution_count": 752,
     "metadata": {},
     "output_type": "execute_result"
    }
   ],
   "source": [
    "ed.groupby('Economic Status')['Av. Mark Before Pandemic'].value_counts().unstack()"
   ]
  },
  {
   "cell_type": "markdown",
   "id": "cfd9bafd",
   "metadata": {},
   "source": [
    "<font color = blue> Можем попробовать рассмотреть группировку по материальному положению и месту жительства – видим достаточно предсказуемые данные о том, что бедное население в основном живет вне города, богатый же слой, наоборот, практически полностью состоит из городских жителей."
   ]
  },
  {
   "cell_type": "code",
   "execution_count": 753,
   "id": "2bc92505",
   "metadata": {
    "scrolled": true
   },
   "outputs": [
    {
     "data": {
      "text/html": [
       "<div>\n",
       "<style scoped>\n",
       "    .dataframe tbody tr th:only-of-type {\n",
       "        vertical-align: middle;\n",
       "    }\n",
       "\n",
       "    .dataframe tbody tr th {\n",
       "        vertical-align: top;\n",
       "    }\n",
       "\n",
       "    .dataframe thead th {\n",
       "        text-align: right;\n",
       "    }\n",
       "</style>\n",
       "<table border=\"1\" class=\"dataframe\">\n",
       "  <thead>\n",
       "    <tr style=\"text-align: right;\">\n",
       "      <th></th>\n",
       "      <th>Rural</th>\n",
       "      <th>Urban</th>\n",
       "    </tr>\n",
       "    <tr>\n",
       "      <th>Economic Status</th>\n",
       "      <th></th>\n",
       "      <th></th>\n",
       "    </tr>\n",
       "  </thead>\n",
       "  <tbody>\n",
       "    <tr>\n",
       "      <th>Middle Class</th>\n",
       "      <td>316</td>\n",
       "      <td>638</td>\n",
       "    </tr>\n",
       "    <tr>\n",
       "      <th>Poor</th>\n",
       "      <td>35</td>\n",
       "      <td>14</td>\n",
       "    </tr>\n",
       "    <tr>\n",
       "      <th>Rich</th>\n",
       "      <td>3</td>\n",
       "      <td>27</td>\n",
       "    </tr>\n",
       "  </tbody>\n",
       "</table>\n",
       "</div>"
      ],
      "text/plain": [
       "                 Rural  Urban\n",
       "Economic Status              \n",
       "Middle Class       316    638\n",
       "Poor                35     14\n",
       "Rich                 3     27"
      ]
     },
     "execution_count": 753,
     "metadata": {},
     "output_type": "execute_result"
    }
   ],
   "source": [
    "ed.groupby('Economic Status')['Home Loc'].value_counts().unstack()"
   ]
  },
  {
   "cell_type": "markdown",
   "id": "68ae60a8",
   "metadata": {},
   "source": [
    "<font color = blue> Проверим распределение оценок после начала пандемии во время онлайн-обучения, сгруппированное по типу гаджета учащегося и по тому, имеет ли человек собственную отдельную комнату для занятий. Оценки распределены достаточно равномерно, закономерности при разведочном анализе не просматриваются. От наличия собственной комнаты оценки, кажется, также не зависят."
   ]
  },
  {
   "cell_type": "code",
   "execution_count": 754,
   "id": "1c9cb1d0",
   "metadata": {
    "scrolled": true
   },
   "outputs": [
    {
     "data": {
      "text/html": [
       "<div>\n",
       "<style scoped>\n",
       "    .dataframe tbody tr th:only-of-type {\n",
       "        vertical-align: middle;\n",
       "    }\n",
       "\n",
       "    .dataframe tbody tr th {\n",
       "        vertical-align: top;\n",
       "    }\n",
       "\n",
       "    .dataframe thead th {\n",
       "        text-align: right;\n",
       "    }\n",
       "</style>\n",
       "<table border=\"1\" class=\"dataframe\">\n",
       "  <thead>\n",
       "    <tr style=\"text-align: right;\">\n",
       "      <th>Online Performance</th>\n",
       "      <th>2</th>\n",
       "      <th>3</th>\n",
       "      <th>4</th>\n",
       "      <th>5</th>\n",
       "      <th>6</th>\n",
       "      <th>7</th>\n",
       "      <th>8</th>\n",
       "      <th>9</th>\n",
       "      <th>10</th>\n",
       "    </tr>\n",
       "    <tr>\n",
       "      <th>Device Type</th>\n",
       "      <th></th>\n",
       "      <th></th>\n",
       "      <th></th>\n",
       "      <th></th>\n",
       "      <th></th>\n",
       "      <th></th>\n",
       "      <th></th>\n",
       "      <th></th>\n",
       "      <th></th>\n",
       "    </tr>\n",
       "  </thead>\n",
       "  <tbody>\n",
       "    <tr>\n",
       "      <th>Desktop</th>\n",
       "      <td>1.0</td>\n",
       "      <td>NaN</td>\n",
       "      <td>1.0</td>\n",
       "      <td>3.0</td>\n",
       "      <td>8.0</td>\n",
       "      <td>1.0</td>\n",
       "      <td>9.0</td>\n",
       "      <td>1.0</td>\n",
       "      <td>3.0</td>\n",
       "    </tr>\n",
       "    <tr>\n",
       "      <th>Laptop</th>\n",
       "      <td>26.0</td>\n",
       "      <td>15.0</td>\n",
       "      <td>47.0</td>\n",
       "      <td>59.0</td>\n",
       "      <td>172.0</td>\n",
       "      <td>116.0</td>\n",
       "      <td>149.0</td>\n",
       "      <td>49.0</td>\n",
       "      <td>39.0</td>\n",
       "    </tr>\n",
       "    <tr>\n",
       "      <th>Mobile</th>\n",
       "      <td>10.0</td>\n",
       "      <td>8.0</td>\n",
       "      <td>30.0</td>\n",
       "      <td>30.0</td>\n",
       "      <td>64.0</td>\n",
       "      <td>64.0</td>\n",
       "      <td>60.0</td>\n",
       "      <td>23.0</td>\n",
       "      <td>45.0</td>\n",
       "    </tr>\n",
       "  </tbody>\n",
       "</table>\n",
       "</div>"
      ],
      "text/plain": [
       "Online Performance    2     3     4     5      6      7      8     9     10\n",
       "Device Type                                                                \n",
       "Desktop              1.0   NaN   1.0   3.0    8.0    1.0    9.0   1.0   3.0\n",
       "Laptop              26.0  15.0  47.0  59.0  172.0  116.0  149.0  49.0  39.0\n",
       "Mobile              10.0   8.0  30.0  30.0   64.0   64.0   60.0  23.0  45.0"
      ]
     },
     "execution_count": 754,
     "metadata": {},
     "output_type": "execute_result"
    }
   ],
   "source": [
    "ed.groupby('Device Type')['Online Performance'].value_counts().unstack()"
   ]
  },
  {
   "cell_type": "code",
   "execution_count": 755,
   "id": "e01f4d01",
   "metadata": {},
   "outputs": [
    {
     "data": {
      "text/html": [
       "<div>\n",
       "<style scoped>\n",
       "    .dataframe tbody tr th:only-of-type {\n",
       "        vertical-align: middle;\n",
       "    }\n",
       "\n",
       "    .dataframe tbody tr th {\n",
       "        vertical-align: top;\n",
       "    }\n",
       "\n",
       "    .dataframe thead th {\n",
       "        text-align: right;\n",
       "    }\n",
       "</style>\n",
       "<table border=\"1\" class=\"dataframe\">\n",
       "  <thead>\n",
       "    <tr style=\"text-align: right;\">\n",
       "      <th>Online Performance</th>\n",
       "      <th>2</th>\n",
       "      <th>3</th>\n",
       "      <th>4</th>\n",
       "      <th>5</th>\n",
       "      <th>6</th>\n",
       "      <th>7</th>\n",
       "      <th>8</th>\n",
       "      <th>9</th>\n",
       "      <th>10</th>\n",
       "    </tr>\n",
       "    <tr>\n",
       "      <th>Separate Room</th>\n",
       "      <th></th>\n",
       "      <th></th>\n",
       "      <th></th>\n",
       "      <th></th>\n",
       "      <th></th>\n",
       "      <th></th>\n",
       "      <th></th>\n",
       "      <th></th>\n",
       "      <th></th>\n",
       "    </tr>\n",
       "  </thead>\n",
       "  <tbody>\n",
       "    <tr>\n",
       "      <th>False</th>\n",
       "      <td>17</td>\n",
       "      <td>12</td>\n",
       "      <td>39</td>\n",
       "      <td>47</td>\n",
       "      <td>98</td>\n",
       "      <td>71</td>\n",
       "      <td>80</td>\n",
       "      <td>24</td>\n",
       "      <td>37</td>\n",
       "    </tr>\n",
       "    <tr>\n",
       "      <th>True</th>\n",
       "      <td>20</td>\n",
       "      <td>11</td>\n",
       "      <td>39</td>\n",
       "      <td>45</td>\n",
       "      <td>146</td>\n",
       "      <td>110</td>\n",
       "      <td>138</td>\n",
       "      <td>49</td>\n",
       "      <td>50</td>\n",
       "    </tr>\n",
       "  </tbody>\n",
       "</table>\n",
       "</div>"
      ],
      "text/plain": [
       "Online Performance  2   3   4   5    6    7    8   9   10\n",
       "Separate Room                                            \n",
       "False               17  12  39  47   98   71   80  24  37\n",
       "True                20  11  39  45  146  110  138  49  50"
      ]
     },
     "execution_count": 755,
     "metadata": {},
     "output_type": "execute_result"
    }
   ],
   "source": [
    "ed.groupby('Separate Room')['Online Performance'].value_counts().unstack()"
   ]
  },
  {
   "cell_type": "markdown",
   "id": "b6aa3f8a",
   "metadata": {},
   "source": [
    "### 3. Описательные статистики\n",
    "#### Меры центральной тенденции"
   ]
  },
  {
   "cell_type": "markdown",
   "id": "7ee954fb",
   "metadata": {},
   "source": [
    "<font color = blue> Рассчитаем меры центральной тенденции и разброса по количественным данным из нашего датасета с помощью метода describe. Мы можем применить метод describe на весь датасет, чтобы получить агрегированную таблицу по всем столбцам с расчетом мер центральной тенденции."
   ]
  },
  {
   "cell_type": "code",
   "execution_count": 756,
   "id": "81209b10",
   "metadata": {
    "scrolled": true
   },
   "outputs": [
    {
     "data": {
      "text/html": [
       "<div>\n",
       "<style scoped>\n",
       "    .dataframe tbody tr th:only-of-type {\n",
       "        vertical-align: middle;\n",
       "    }\n",
       "\n",
       "    .dataframe tbody tr th {\n",
       "        vertical-align: top;\n",
       "    }\n",
       "\n",
       "    .dataframe thead th {\n",
       "        text-align: right;\n",
       "    }\n",
       "</style>\n",
       "<table border=\"1\" class=\"dataframe\">\n",
       "  <thead>\n",
       "    <tr style=\"text-align: right;\">\n",
       "      <th></th>\n",
       "      <th>Age</th>\n",
       "      <th>Number of Subjects</th>\n",
       "      <th>Family Size</th>\n",
       "      <th>Internet Facility</th>\n",
       "      <th>Study Time</th>\n",
       "      <th>Sleep Time</th>\n",
       "      <th>Social Media Time</th>\n",
       "      <th>Av. Mark Before Pandemic</th>\n",
       "      <th>Online Interaction</th>\n",
       "      <th>Doubts</th>\n",
       "      <th>Online Performance</th>\n",
       "    </tr>\n",
       "  </thead>\n",
       "  <tbody>\n",
       "    <tr>\n",
       "      <th>count</th>\n",
       "      <td>1033.000000</td>\n",
       "      <td>1033.00000</td>\n",
       "      <td>1033.000000</td>\n",
       "      <td>1033.000000</td>\n",
       "      <td>1033.000000</td>\n",
       "      <td>1033.000000</td>\n",
       "      <td>1033.000000</td>\n",
       "      <td>1033.000000</td>\n",
       "      <td>1033.000000</td>\n",
       "      <td>1033.000000</td>\n",
       "      <td>1033.000000</td>\n",
       "    </tr>\n",
       "    <tr>\n",
       "      <th>mean</th>\n",
       "      <td>19.798645</td>\n",
       "      <td>7.03485</td>\n",
       "      <td>4.413359</td>\n",
       "      <td>3.586641</td>\n",
       "      <td>4.325266</td>\n",
       "      <td>6.947725</td>\n",
       "      <td>2.636980</td>\n",
       "      <td>8.235237</td>\n",
       "      <td>2.930300</td>\n",
       "      <td>2.833495</td>\n",
       "      <td>6.696031</td>\n",
       "    </tr>\n",
       "    <tr>\n",
       "      <th>std</th>\n",
       "      <td>3.199158</td>\n",
       "      <td>2.81034</td>\n",
       "      <td>1.236750</td>\n",
       "      <td>1.026063</td>\n",
       "      <td>2.134233</td>\n",
       "      <td>1.324039</td>\n",
       "      <td>1.859625</td>\n",
       "      <td>1.418263</td>\n",
       "      <td>1.105387</td>\n",
       "      <td>1.163629</td>\n",
       "      <td>1.920048</td>\n",
       "    </tr>\n",
       "    <tr>\n",
       "      <th>min</th>\n",
       "      <td>9.000000</td>\n",
       "      <td>1.00000</td>\n",
       "      <td>2.000000</td>\n",
       "      <td>1.000000</td>\n",
       "      <td>1.000000</td>\n",
       "      <td>1.000000</td>\n",
       "      <td>1.000000</td>\n",
       "      <td>1.000000</td>\n",
       "      <td>1.000000</td>\n",
       "      <td>1.000000</td>\n",
       "      <td>2.000000</td>\n",
       "    </tr>\n",
       "    <tr>\n",
       "      <th>25%</th>\n",
       "      <td>18.000000</td>\n",
       "      <td>6.00000</td>\n",
       "      <td>4.000000</td>\n",
       "      <td>3.000000</td>\n",
       "      <td>3.000000</td>\n",
       "      <td>6.000000</td>\n",
       "      <td>1.000000</td>\n",
       "      <td>8.000000</td>\n",
       "      <td>2.000000</td>\n",
       "      <td>2.000000</td>\n",
       "      <td>6.000000</td>\n",
       "    </tr>\n",
       "    <tr>\n",
       "      <th>50%</th>\n",
       "      <td>19.000000</td>\n",
       "      <td>7.00000</td>\n",
       "      <td>4.000000</td>\n",
       "      <td>4.000000</td>\n",
       "      <td>4.000000</td>\n",
       "      <td>7.000000</td>\n",
       "      <td>2.000000</td>\n",
       "      <td>8.000000</td>\n",
       "      <td>3.000000</td>\n",
       "      <td>3.000000</td>\n",
       "      <td>7.000000</td>\n",
       "    </tr>\n",
       "    <tr>\n",
       "      <th>75%</th>\n",
       "      <td>20.000000</td>\n",
       "      <td>8.00000</td>\n",
       "      <td>5.000000</td>\n",
       "      <td>4.000000</td>\n",
       "      <td>6.000000</td>\n",
       "      <td>8.000000</td>\n",
       "      <td>3.000000</td>\n",
       "      <td>9.000000</td>\n",
       "      <td>4.000000</td>\n",
       "      <td>4.000000</td>\n",
       "      <td>8.000000</td>\n",
       "    </tr>\n",
       "    <tr>\n",
       "      <th>max</th>\n",
       "      <td>40.000000</td>\n",
       "      <td>20.00000</td>\n",
       "      <td>10.000000</td>\n",
       "      <td>5.000000</td>\n",
       "      <td>10.000000</td>\n",
       "      <td>10.000000</td>\n",
       "      <td>10.000000</td>\n",
       "      <td>10.000000</td>\n",
       "      <td>5.000000</td>\n",
       "      <td>5.000000</td>\n",
       "      <td>10.000000</td>\n",
       "    </tr>\n",
       "  </tbody>\n",
       "</table>\n",
       "</div>"
      ],
      "text/plain": [
       "               Age  Number of Subjects  Family Size  Internet Facility  \\\n",
       "count  1033.000000          1033.00000  1033.000000        1033.000000   \n",
       "mean     19.798645             7.03485     4.413359           3.586641   \n",
       "std       3.199158             2.81034     1.236750           1.026063   \n",
       "min       9.000000             1.00000     2.000000           1.000000   \n",
       "25%      18.000000             6.00000     4.000000           3.000000   \n",
       "50%      19.000000             7.00000     4.000000           4.000000   \n",
       "75%      20.000000             8.00000     5.000000           4.000000   \n",
       "max      40.000000            20.00000    10.000000           5.000000   \n",
       "\n",
       "        Study Time   Sleep Time  Social Media Time  Av. Mark Before Pandemic  \\\n",
       "count  1033.000000  1033.000000        1033.000000               1033.000000   \n",
       "mean      4.325266     6.947725           2.636980                  8.235237   \n",
       "std       2.134233     1.324039           1.859625                  1.418263   \n",
       "min       1.000000     1.000000           1.000000                  1.000000   \n",
       "25%       3.000000     6.000000           1.000000                  8.000000   \n",
       "50%       4.000000     7.000000           2.000000                  8.000000   \n",
       "75%       6.000000     8.000000           3.000000                  9.000000   \n",
       "max      10.000000    10.000000          10.000000                 10.000000   \n",
       "\n",
       "       Online Interaction       Doubts  Online Performance  \n",
       "count         1033.000000  1033.000000         1033.000000  \n",
       "mean             2.930300     2.833495            6.696031  \n",
       "std              1.105387     1.163629            1.920048  \n",
       "min              1.000000     1.000000            2.000000  \n",
       "25%              2.000000     2.000000            6.000000  \n",
       "50%              3.000000     3.000000            7.000000  \n",
       "75%              4.000000     4.000000            8.000000  \n",
       "max              5.000000     5.000000           10.000000  "
      ]
     },
     "execution_count": 756,
     "metadata": {},
     "output_type": "execute_result"
    }
   ],
   "source": [
    "ed.describe()"
   ]
  },
  {
   "cell_type": "markdown",
   "id": "ff39e02e",
   "metadata": {},
   "source": [
    "<font color = blue> Воспользуемся функциями по расчету мер центральной тенденции на сгруппированных данных.   \n",
    "    Например, посмотрим, какие оценки в среднем получают студенты, сгруппированные по материальному положению."
   ]
  },
  {
   "cell_type": "code",
   "execution_count": 757,
   "id": "888c1929",
   "metadata": {},
   "outputs": [
    {
     "data": {
      "text/plain": [
       "Economic Status\n",
       "Middle Class    8.221174\n",
       "Poor            8.122449\n",
       "Rich            8.866667\n",
       "Name: Av. Mark Before Pandemic, dtype: float64"
      ]
     },
     "execution_count": 757,
     "metadata": {},
     "output_type": "execute_result"
    }
   ],
   "source": [
    "ed.groupby('Economic Status')['Av. Mark Before Pandemic'].mean()\n",
    "#видим, что среди всех групп средний балл практически одинаковый; чуть выше у студентов, принадлежащих к богатому слою"
   ]
  },
  {
   "cell_type": "code",
   "execution_count": 758,
   "id": "c3f60e53",
   "metadata": {
    "scrolled": false
   },
   "outputs": [
    {
     "data": {
      "text/plain": [
       "Economic Status\n",
       "Middle Class    6.693920\n",
       "Poor            6.367347\n",
       "Rich            7.300000\n",
       "Name: Online Performance, dtype: float64"
      ]
     },
     "execution_count": 758,
     "metadata": {},
     "output_type": "execute_result"
    }
   ],
   "source": [
    "ed.groupby('Economic Status')['Online Performance'].mean()\n",
    "#оценки за обучение онлайн-формате в общем снизились\n",
    "#разрыв между ср. оценкой богатых студентов и остальных увеличился и составил около 1 балла"
   ]
  },
  {
   "cell_type": "markdown",
   "id": "5d4009ff",
   "metadata": {},
   "source": [
    "<font color = blue> Посмотрим, сколько в среднем проводят времени за учебой, спят и сколько тратят на соцсети студенты с определенными средними оценками."
   ]
  },
  {
   "cell_type": "code",
   "execution_count": 759,
   "id": "852c3561",
   "metadata": {},
   "outputs": [
    {
     "data": {
      "text/plain": [
       "Av. Mark Before Pandemic\n",
       "1     2.000000\n",
       "2     2.833333\n",
       "3     5.000000\n",
       "4     3.454545\n",
       "5     3.375000\n",
       "6     3.826923\n",
       "7     4.025424\n",
       "8     4.303514\n",
       "9     4.504373\n",
       "10    4.613924\n",
       "Name: Study Time, dtype: float64"
      ]
     },
     "execution_count": 759,
     "metadata": {},
     "output_type": "execute_result"
    }
   ],
   "source": [
    "ed.groupby('Av. Mark Before Pandemic')['Study Time'].mean()\n",
    "#больше всех времени на учебу тратят студенты со средней оценкой 3 до пандемии (5 часов)"
   ]
  },
  {
   "cell_type": "code",
   "execution_count": 760,
   "id": "d772d573",
   "metadata": {},
   "outputs": [
    {
     "data": {
      "text/plain": [
       "Online Performance\n",
       "2     3.945946\n",
       "3     3.217391\n",
       "4     3.782051\n",
       "5     3.945652\n",
       "6     4.372951\n",
       "7     4.325967\n",
       "8     4.440367\n",
       "9     5.068493\n",
       "10    4.620690\n",
       "Name: Study Time, dtype: float64"
      ]
     },
     "execution_count": 760,
     "metadata": {},
     "output_type": "execute_result"
    }
   ],
   "source": [
    "ed.groupby('Online Performance')['Study Time'].mean()\n",
    "#для оценок за обучение в формате онлайн результаты другие – больше всех времени тратят студенты со средней оценкой 9"
   ]
  },
  {
   "cell_type": "code",
   "execution_count": 761,
   "id": "1a67af10",
   "metadata": {},
   "outputs": [
    {
     "data": {
      "text/plain": [
       "Av. Mark Before Pandemic\n",
       "1     7.000000\n",
       "2     6.333333\n",
       "3     6.571429\n",
       "4     5.363636\n",
       "5     7.541667\n",
       "6     7.192308\n",
       "7     6.940678\n",
       "8     6.955272\n",
       "9     6.915452\n",
       "10    6.987342\n",
       "Name: Sleep Time, dtype: float64"
      ]
     },
     "execution_count": 761,
     "metadata": {},
     "output_type": "execute_result"
    }
   ],
   "source": [
    "ed.groupby('Av. Mark Before Pandemic')['Sleep Time'].mean()\n",
    "#те, кто в среднем получают баллы 2-3 спят столько же, сколько студенты со средним баллом 7-10"
   ]
  },
  {
   "cell_type": "code",
   "execution_count": 762,
   "id": "09d3909a",
   "metadata": {
    "scrolled": true
   },
   "outputs": [
    {
     "data": {
      "text/plain": [
       "Av. Mark Before Pandemic\n",
       "1     1.000000\n",
       "2     2.166667\n",
       "3     5.142857\n",
       "4     4.909091\n",
       "5     3.625000\n",
       "6     3.153846\n",
       "7     2.847458\n",
       "8     2.539936\n",
       "9     2.463557\n",
       "10    2.487342\n",
       "Name: Social Media Time, dtype: float64"
      ]
     },
     "execution_count": 762,
     "metadata": {},
     "output_type": "execute_result"
    }
   ],
   "source": [
    "ed.groupby('Av. Mark Before Pandemic')['Social Media Time'].mean()\n",
    "#больше всего времени в соцсетях проводят те, чья средняя оценка равна 3-4 баллам"
   ]
  },
  {
   "cell_type": "markdown",
   "id": "434cb067",
   "metadata": {},
   "source": [
    "<font color = blue> С помощью функции agg и через анонимную функцию lambda мы также можем найти значение моды для категориальных данных – посмотрим на то, какой тип деятельности больше интересует мужчина и женщин, а также на какой балл наиболее часто встречается среди: 1) мужчин и женщин, 2) жителей города и области, 3) населения разного уровня обеспеченности, 4) интересующихся играми."
   ]
  },
  {
   "cell_type": "code",
   "execution_count": 763,
   "id": "80dcf344",
   "metadata": {},
   "outputs": [
    {
     "data": {
      "text/plain": [
       "Sex\n",
       "Female    Practical\n",
       "Male      Practical\n",
       "Name: Interested in?, dtype: object"
      ]
     },
     "execution_count": 763,
     "metadata": {},
     "output_type": "execute_result"
    }
   ],
   "source": [
    "ed.groupby('Sex')['Interested in?'].agg(lambda x: x.value_counts().index[0])\n",
    "#и мужчин, и женщин больше интересуют практические занятия"
   ]
  },
  {
   "cell_type": "code",
   "execution_count": 764,
   "id": "70a74760",
   "metadata": {
    "scrolled": true
   },
   "outputs": [
    {
     "data": {
      "text/plain": [
       "Sex\n",
       "Female    9\n",
       "Male      9\n",
       "Name: Av. Mark Before Pandemic, dtype: int64"
      ]
     },
     "execution_count": 764,
     "metadata": {},
     "output_type": "execute_result"
    }
   ],
   "source": [
    "ed.groupby('Sex')['Av. Mark Before Pandemic'].agg(lambda x: x.value_counts().index[0])\n",
    "#и среди мужчин, и среди женщин наиболее часто встречается балл 9"
   ]
  },
  {
   "cell_type": "code",
   "execution_count": 765,
   "id": "1dec340d",
   "metadata": {},
   "outputs": [
    {
     "data": {
      "text/plain": [
       "Sex\n",
       "Female    6\n",
       "Male      6\n",
       "Name: Online Performance, dtype: int64"
      ]
     },
     "execution_count": 765,
     "metadata": {},
     "output_type": "execute_result"
    }
   ],
   "source": [
    "ed.groupby('Sex')['Online Performance'].agg(lambda x: x.value_counts().index[0])\n",
    "#для онлайн-обучения в обоих случаях самая популярная оценка снизилась и стала равна 6"
   ]
  },
  {
   "cell_type": "code",
   "execution_count": 766,
   "id": "1547fbbc",
   "metadata": {},
   "outputs": [
    {
     "data": {
      "text/plain": [
       "Economic Status\n",
       "Middle Class     9\n",
       "Poor             9\n",
       "Rich            10\n",
       "Name: Av. Mark Before Pandemic, dtype: int64"
      ]
     },
     "execution_count": 766,
     "metadata": {},
     "output_type": "execute_result"
    }
   ],
   "source": [
    "ed.groupby('Economic Status')['Av. Mark Before Pandemic'].agg(lambda x: x.value_counts().index[0])\n",
    "#С по-прежнему встречается чаще всего для бедного населения и среднего класса, среди богатых – наивысший балл встречается чаще всего"
   ]
  },
  {
   "cell_type": "code",
   "execution_count": 767,
   "id": "0068bcea",
   "metadata": {},
   "outputs": [
    {
     "data": {
      "text/plain": [
       "Economic Status\n",
       "Middle Class     6\n",
       "Poor             6\n",
       "Rich            10\n",
       "Name: Online Performance, dtype: int64"
      ]
     },
     "execution_count": 767,
     "metadata": {},
     "output_type": "execute_result"
    }
   ],
   "source": [
    "ed.groupby('Economic Status')['Online Performance'].agg(lambda x: x.value_counts().index[0])\n",
    "#в формате онлайн для бедного населения и среднего класса наиболее частая оценка стала ниже, среди богатых – наивысший балл по-прежнему встречается чаще всего"
   ]
  },
  {
   "cell_type": "code",
   "execution_count": 768,
   "id": "79cf74d6",
   "metadata": {
    "scrolled": true
   },
   "outputs": [
    {
     "data": {
      "text/plain": [
       "Home Loc\n",
       "Rural    8\n",
       "Urban    9\n",
       "Name: Av. Mark Before Pandemic, dtype: int64"
      ]
     },
     "execution_count": 768,
     "metadata": {},
     "output_type": "execute_result"
    }
   ],
   "source": [
    "ed.groupby('Home Loc')['Av. Mark Before Pandemic'].agg(lambda x: x.value_counts().index[0])"
   ]
  },
  {
   "cell_type": "code",
   "execution_count": 769,
   "id": "f0a4d021",
   "metadata": {
    "scrolled": false
   },
   "outputs": [
    {
     "data": {
      "text/plain": [
       "Home Loc\n",
       "Rural    6\n",
       "Urban    6\n",
       "Name: Online Performance, dtype: int64"
      ]
     },
     "execution_count": 769,
     "metadata": {},
     "output_type": "execute_result"
    }
   ],
   "source": [
    "ed.groupby('Home Loc')['Online Performance'].agg(lambda x: x.value_counts().index[0])"
   ]
  },
  {
   "cell_type": "code",
   "execution_count": 770,
   "id": "a123ca11",
   "metadata": {},
   "outputs": [
    {
     "data": {
      "text/plain": [
       "Gaming Interested\n",
       "False    9\n",
       "True     9\n",
       "Name: Av. Mark Before Pandemic, dtype: int64"
      ]
     },
     "execution_count": 770,
     "metadata": {},
     "output_type": "execute_result"
    }
   ],
   "source": [
    "ed.groupby('Gaming Interested')['Av. Mark Before Pandemic'].agg(lambda x: x.value_counts().index[0])"
   ]
  },
  {
   "cell_type": "code",
   "execution_count": 771,
   "id": "8f30186d",
   "metadata": {},
   "outputs": [
    {
     "data": {
      "text/plain": [
       "Gaming Interested\n",
       "False    6\n",
       "True     6\n",
       "Name: Online Performance, dtype: int64"
      ]
     },
     "execution_count": 771,
     "metadata": {},
     "output_type": "execute_result"
    }
   ],
   "source": [
    "ed.groupby('Gaming Interested')['Online Performance'].agg(lambda x: x.value_counts().index[0])"
   ]
  },
  {
   "cell_type": "markdown",
   "id": "8bf6d26c",
   "metadata": {},
   "source": [
    "<font color = blue> Таким образом, проведя первичный анализ данных, мы можем прийти к выводу, что в среднем оценки за онлайн-обучени хуже, чем до пандемии. Наиболее часто самые высокие оценки встречаются среди богатого населения. После перехода в онлайн одновременно с общим ухудшением средних оценок увеличился разрыв между ср. оценками богатых слоев населения и остальными студентами. В подавляющем большинстве при анализе сгруппированных данных наиболее часто встречающиеся оценки – 6 для онлайн-обучения и 9 во время обучения до пандемии."
   ]
  },
  {
   "cell_type": "markdown",
   "id": "9b5f5157",
   "metadata": {},
   "source": [
    "#### Меры разброса"
   ]
  },
  {
   "cell_type": "markdown",
   "id": "958a1954",
   "metadata": {},
   "source": [
    "<font color = blue> Сгруппируем данные по уровню удовлетворенности онлайн-образованием и академической успеваемости во время обучения онлайн с помощью groupby, а затем запишем этот мини-датафрейм в отдельную переменную."
   ]
  },
  {
   "cell_type": "code",
   "execution_count": 772,
   "id": "bb200523",
   "metadata": {},
   "outputs": [],
   "source": [
    "satisfaction_level = pd.DataFrame(ed.groupby('Satisfaction Level')['Online Performance'].mean())"
   ]
  },
  {
   "cell_type": "markdown",
   "id": "b4dd5144",
   "metadata": {},
   "source": [
    "<font color = blue> Посмотрим, как полученное распределение выглядит на графике."
   ]
  },
  {
   "cell_type": "code",
   "execution_count": 773,
   "id": "909eb99e",
   "metadata": {
    "scrolled": true
   },
   "outputs": [
    {
     "data": {
      "text/plain": [
       "<AxesSubplot:xlabel='Satisfaction Level'>"
      ]
     },
     "execution_count": 773,
     "metadata": {},
     "output_type": "execute_result"
    },
    {
     "data": {
      "image/png": "[encoded data removed]",
      "text/plain": [
       "<Figure size 432x288 with 1 Axes>"
      ]
     },
     "metadata": {
      "needs_background": "light"
     },
     "output_type": "display_data"
    }
   ],
   "source": [
    "satisfaction_level.plot(kind = 'bar', color = 'orange')\n",
    "#на графике видим, что студенты с наиболее низкими оценками наименее удовлетворены процессом обучения"
   ]
  },
  {
   "cell_type": "markdown",
   "id": "597d58d5",
   "metadata": {},
   "source": [
    "<font color = blue> Далее перейдем к расчетам мер разброса. Начнем с размаха по переменной \"Online Performance\". Чтобы найти размах, необходимо вычесть из максимального значение минимальное."
   ]
  },
  {
   "cell_type": "code",
   "execution_count": 774,
   "id": "1641def1",
   "metadata": {
    "scrolled": true
   },
   "outputs": [
    {
     "data": {
      "text/plain": [
       "2.6260600750524876"
      ]
     },
     "execution_count": 774,
     "metadata": {},
     "output_type": "execute_result"
    }
   ],
   "source": [
    "satisfaction_level['Online Performance'].max() - satisfaction_level['Online Performance'].min()"
   ]
  },
  {
   "cell_type": "markdown",
   "id": "60e9b888",
   "metadata": {},
   "source": [
    "<font color = blue> Теперь посчитаем интерквартильный размах, то есть найдем разницу между 75 и 25 перцентилем."
   ]
  },
  {
   "cell_type": "code",
   "execution_count": 775,
   "id": "3825da92",
   "metadata": {},
   "outputs": [
    {
     "data": {
      "text/plain": [
       "1.3130300375262447"
      ]
     },
     "execution_count": 775,
     "metadata": {},
     "output_type": "execute_result"
    }
   ],
   "source": [
    "np.percentile(satisfaction_level['Online Performance'], 75) - np.percentile(satisfaction_level['Online Performance'], 25)"
   ]
  },
  {
   "cell_type": "markdown",
   "id": "5d7d431d",
   "metadata": {},
   "source": [
    "<font color = blue> Перейдем к расчетам дисперсии и среднеквадратичного отклонения. При расчете этих мер разброса необходимо учитывать, считаются они для выборки (в таком случае делим на кол-во наблюдений -1) или для генеральной совокупности (тогда делим на кол-во наблюдений).   \n",
    "    Для начала найдем меры для выборки."
   ]
  },
  {
   "cell_type": "code",
   "execution_count": 776,
   "id": "63a8c934",
   "metadata": {},
   "outputs": [
    {
     "name": "stdout",
     "output_type": "stream",
     "text": [
      "1.7243437123235417 1.3131426854396067\n"
     ]
    }
   ],
   "source": [
    "performance_mean = satisfaction_level['Online Performance'].mean() #находим среднее\n",
    "deviations = satisfaction_level['Online Performance'] - performance_mean #находим отклонение от среднего\n",
    "sq_deviations = deviations ** 2 #возводим отклонение в квадрат, находим квадратное отклонение\n",
    "variance_samp = sq_deviations.sum() / (len(satisfaction_level) - 1) #находим дисперсию для выборки\n",
    "std_samp = np.sqrt(variance_samp) #находим среднеквадратичное отклонение\n",
    "\n",
    "print(variance_samp, std_samp)"
   ]
  },
  {
   "cell_type": "markdown",
   "id": "46e15b9c",
   "metadata": {},
   "source": [
    "<font color = blue> Затем найдем дисперсию и среднеквадратичное отклонение для генеральной совокупности."
   ]
  },
  {
   "cell_type": "code",
   "execution_count": 777,
   "id": "cc0debeb",
   "metadata": {},
   "outputs": [
    {
     "name": "stdout",
     "output_type": "stream",
     "text": [
      "1.1495624748823612 1.0721765129316914\n"
     ]
    }
   ],
   "source": [
    "variance_pop = sq_deviations.sum() / len(satisfaction_level) #находим дисперсию для ген. совокупности\n",
    "std_pop = np.sqrt(variance_pop) #находим среднеквадратичное отклонение\n",
    "\n",
    "print(variance_pop, std_pop)"
   ]
  },
  {
   "cell_type": "markdown",
   "id": "5cfe1361",
   "metadata": {},
   "source": [
    "<font color = blue> Мы также можем использовать специальный функционал библиотеки, чтобы найти дисперсию и среднеквадратичное отклонение. Проверим, как работают данные функции. Будем считать, что мы все-таки работаем с выборкой, а не с генеральной совокупностью. Для этого не требуется указывать дополнительные степени свободы."
   ]
  },
  {
   "cell_type": "code",
   "execution_count": 778,
   "id": "196d6270",
   "metadata": {
    "scrolled": true
   },
   "outputs": [
    {
     "name": "stdout",
     "output_type": "stream",
     "text": [
      "1.7243437123235417\n",
      "1.3131426854396067\n"
     ]
    }
   ],
   "source": [
    "print(satisfaction_level['Online Performance'].var()) #находим дисперсию для ген. совокупности\n",
    "print(satisfaction_level['Online Performance'].std()) #находим среднеквадратичное отклонение для ген. совокупности"
   ]
  },
  {
   "cell_type": "markdown",
   "id": "d401ad15",
   "metadata": {},
   "source": [
    "<font color = blue> Можем также найти значения среднеквадратичного отклонения и других мер разброса для агрегированных данных. Например, сгруппируем значения Av. Mark Before Pandemic и Online Performance по доходу и посмотрим на показатели среднего и std через агрегирующую функцию agg."
   ]
  },
  {
   "cell_type": "code",
   "execution_count": 779,
   "id": "abb3a2fa",
   "metadata": {},
   "outputs": [
    {
     "data": {
      "text/html": [
       "<div>\n",
       "<style scoped>\n",
       "    .dataframe tbody tr th:only-of-type {\n",
       "        vertical-align: middle;\n",
       "    }\n",
       "\n",
       "    .dataframe tbody tr th {\n",
       "        vertical-align: top;\n",
       "    }\n",
       "\n",
       "    .dataframe thead th {\n",
       "        text-align: right;\n",
       "    }\n",
       "</style>\n",
       "<table border=\"1\" class=\"dataframe\">\n",
       "  <thead>\n",
       "    <tr style=\"text-align: right;\">\n",
       "      <th></th>\n",
       "      <th>mean</th>\n",
       "      <th>std</th>\n",
       "    </tr>\n",
       "    <tr>\n",
       "      <th>Economic Status</th>\n",
       "      <th></th>\n",
       "      <th></th>\n",
       "    </tr>\n",
       "  </thead>\n",
       "  <tbody>\n",
       "    <tr>\n",
       "      <th>Middle Class</th>\n",
       "      <td>8.221174</td>\n",
       "      <td>1.402416</td>\n",
       "    </tr>\n",
       "    <tr>\n",
       "      <th>Poor</th>\n",
       "      <td>8.122449</td>\n",
       "      <td>1.798525</td>\n",
       "    </tr>\n",
       "    <tr>\n",
       "      <th>Rich</th>\n",
       "      <td>8.866667</td>\n",
       "      <td>1.074255</td>\n",
       "    </tr>\n",
       "  </tbody>\n",
       "</table>\n",
       "</div>"
      ],
      "text/plain": [
       "                     mean       std\n",
       "Economic Status                    \n",
       "Middle Class     8.221174  1.402416\n",
       "Poor             8.122449  1.798525\n",
       "Rich             8.866667  1.074255"
      ]
     },
     "execution_count": 779,
     "metadata": {},
     "output_type": "execute_result"
    }
   ],
   "source": [
    "ed.groupby('Economic Status')['Av. Mark Before Pandemic'].agg(['mean','std'])"
   ]
  },
  {
   "cell_type": "code",
   "execution_count": 780,
   "id": "72720fbe",
   "metadata": {
    "scrolled": true
   },
   "outputs": [
    {
     "data": {
      "text/html": [
       "<div>\n",
       "<style scoped>\n",
       "    .dataframe tbody tr th:only-of-type {\n",
       "        vertical-align: middle;\n",
       "    }\n",
       "\n",
       "    .dataframe tbody tr th {\n",
       "        vertical-align: top;\n",
       "    }\n",
       "\n",
       "    .dataframe thead th {\n",
       "        text-align: right;\n",
       "    }\n",
       "</style>\n",
       "<table border=\"1\" class=\"dataframe\">\n",
       "  <thead>\n",
       "    <tr style=\"text-align: right;\">\n",
       "      <th></th>\n",
       "      <th>mean</th>\n",
       "      <th>std</th>\n",
       "    </tr>\n",
       "    <tr>\n",
       "      <th>Economic Status</th>\n",
       "      <th></th>\n",
       "      <th></th>\n",
       "    </tr>\n",
       "  </thead>\n",
       "  <tbody>\n",
       "    <tr>\n",
       "      <th>Middle Class</th>\n",
       "      <td>6.693920</td>\n",
       "      <td>1.876184</td>\n",
       "    </tr>\n",
       "    <tr>\n",
       "      <th>Poor</th>\n",
       "      <td>6.367347</td>\n",
       "      <td>2.233214</td>\n",
       "    </tr>\n",
       "    <tr>\n",
       "      <th>Rich</th>\n",
       "      <td>7.300000</td>\n",
       "      <td>2.588436</td>\n",
       "    </tr>\n",
       "  </tbody>\n",
       "</table>\n",
       "</div>"
      ],
      "text/plain": [
       "                     mean       std\n",
       "Economic Status                    \n",
       "Middle Class     6.693920  1.876184\n",
       "Poor             6.367347  2.233214\n",
       "Rich             7.300000  2.588436"
      ]
     },
     "execution_count": 780,
     "metadata": {},
     "output_type": "execute_result"
    }
   ],
   "source": [
    "ed.groupby('Economic Status')['Online Performance'].agg(['mean','std'])"
   ]
  },
  {
   "cell_type": "markdown",
   "id": "303c42db",
   "metadata": {},
   "source": [
    "<font color = blue> Также можем рассчитать такие значения и для пивотальной таблицы. В этом случае сначала зададим собственную функцию, которая рассчитывает размах. И затем получим пивотальную таблицу для всех мер разброса, которые зададим через aggfunc."
   ]
  },
  {
   "cell_type": "code",
   "execution_count": 781,
   "id": "8c29544a",
   "metadata": {},
   "outputs": [
    {
     "data": {
      "text/html": [
       "<div>\n",
       "<style scoped>\n",
       "    .dataframe tbody tr th:only-of-type {\n",
       "        vertical-align: middle;\n",
       "    }\n",
       "\n",
       "    .dataframe tbody tr th {\n",
       "        vertical-align: top;\n",
       "    }\n",
       "\n",
       "    .dataframe thead tr th {\n",
       "        text-align: left;\n",
       "    }\n",
       "\n",
       "    .dataframe thead tr:last-of-type th {\n",
       "        text-align: right;\n",
       "    }\n",
       "</style>\n",
       "<table border=\"1\" class=\"dataframe\">\n",
       "  <thead>\n",
       "    <tr>\n",
       "      <th></th>\n",
       "      <th colspan=\"5\" halign=\"left\">var</th>\n",
       "      <th colspan=\"5\" halign=\"left\">std</th>\n",
       "      <th colspan=\"5\" halign=\"left\">range_values</th>\n",
       "    </tr>\n",
       "    <tr>\n",
       "      <th></th>\n",
       "      <th>Av. Mark Before Pandemic</th>\n",
       "      <th>Family Size</th>\n",
       "      <th>Internet Facility</th>\n",
       "      <th>Number of Subjects</th>\n",
       "      <th>Online Performance</th>\n",
       "      <th>Av. Mark Before Pandemic</th>\n",
       "      <th>Family Size</th>\n",
       "      <th>Internet Facility</th>\n",
       "      <th>Number of Subjects</th>\n",
       "      <th>Online Performance</th>\n",
       "      <th>Av. Mark Before Pandemic</th>\n",
       "      <th>Family Size</th>\n",
       "      <th>Internet Facility</th>\n",
       "      <th>Number of Subjects</th>\n",
       "      <th>Online Performance</th>\n",
       "    </tr>\n",
       "    <tr>\n",
       "      <th>Economic Status</th>\n",
       "      <th></th>\n",
       "      <th></th>\n",
       "      <th></th>\n",
       "      <th></th>\n",
       "      <th></th>\n",
       "      <th></th>\n",
       "      <th></th>\n",
       "      <th></th>\n",
       "      <th></th>\n",
       "      <th></th>\n",
       "      <th></th>\n",
       "      <th></th>\n",
       "      <th></th>\n",
       "      <th></th>\n",
       "      <th></th>\n",
       "    </tr>\n",
       "  </thead>\n",
       "  <tbody>\n",
       "    <tr>\n",
       "      <th>Middle Class</th>\n",
       "      <td>1.966770</td>\n",
       "      <td>1.487497</td>\n",
       "      <td>1.014983</td>\n",
       "      <td>7.949404</td>\n",
       "      <td>3.520068</td>\n",
       "      <td>1.402416</td>\n",
       "      <td>1.219630</td>\n",
       "      <td>1.007464</td>\n",
       "      <td>2.819469</td>\n",
       "      <td>1.876184</td>\n",
       "      <td>8</td>\n",
       "      <td>8</td>\n",
       "      <td>4</td>\n",
       "      <td>19</td>\n",
       "      <td>8</td>\n",
       "    </tr>\n",
       "    <tr>\n",
       "      <th>Poor</th>\n",
       "      <td>3.234694</td>\n",
       "      <td>1.552721</td>\n",
       "      <td>1.183673</td>\n",
       "      <td>9.843537</td>\n",
       "      <td>4.987245</td>\n",
       "      <td>1.798525</td>\n",
       "      <td>1.246082</td>\n",
       "      <td>1.087968</td>\n",
       "      <td>3.137441</td>\n",
       "      <td>2.233214</td>\n",
       "      <td>9</td>\n",
       "      <td>8</td>\n",
       "      <td>4</td>\n",
       "      <td>19</td>\n",
       "      <td>8</td>\n",
       "    </tr>\n",
       "    <tr>\n",
       "      <th>Rich</th>\n",
       "      <td>1.154023</td>\n",
       "      <td>2.598851</td>\n",
       "      <td>0.309195</td>\n",
       "      <td>3.224138</td>\n",
       "      <td>6.700000</td>\n",
       "      <td>1.074255</td>\n",
       "      <td>1.612095</td>\n",
       "      <td>0.556053</td>\n",
       "      <td>1.795588</td>\n",
       "      <td>2.588436</td>\n",
       "      <td>4</td>\n",
       "      <td>7</td>\n",
       "      <td>2</td>\n",
       "      <td>8</td>\n",
       "      <td>8</td>\n",
       "    </tr>\n",
       "  </tbody>\n",
       "</table>\n",
       "</div>"
      ],
      "text/plain": [
       "                                     var                                \\\n",
       "                Av. Mark Before Pandemic Family Size Internet Facility   \n",
       "Economic Status                                                          \n",
       "Middle Class                    1.966770    1.487497          1.014983   \n",
       "Poor                            3.234694    1.552721          1.183673   \n",
       "Rich                            1.154023    2.598851          0.309195   \n",
       "\n",
       "                                                       \\\n",
       "                Number of Subjects Online Performance   \n",
       "Economic Status                                         \n",
       "Middle Class              7.949404           3.520068   \n",
       "Poor                      9.843537           4.987245   \n",
       "Rich                      3.224138           6.700000   \n",
       "\n",
       "                                     std                                \\\n",
       "                Av. Mark Before Pandemic Family Size Internet Facility   \n",
       "Economic Status                                                          \n",
       "Middle Class                    1.402416    1.219630          1.007464   \n",
       "Poor                            1.798525    1.246082          1.087968   \n",
       "Rich                            1.074255    1.612095          0.556053   \n",
       "\n",
       "                                                       \\\n",
       "                Number of Subjects Online Performance   \n",
       "Economic Status                                         \n",
       "Middle Class              2.819469           1.876184   \n",
       "Poor                      3.137441           2.233214   \n",
       "Rich                      1.795588           2.588436   \n",
       "\n",
       "                            range_values                                \\\n",
       "                Av. Mark Before Pandemic Family Size Internet Facility   \n",
       "Economic Status                                                          \n",
       "Middle Class                           8           8                 4   \n",
       "Poor                                   9           8                 4   \n",
       "Rich                                   4           7                 2   \n",
       "\n",
       "                                                       \n",
       "                Number of Subjects Online Performance  \n",
       "Economic Status                                        \n",
       "Middle Class                    19                  8  \n",
       "Poor                            19                  8  \n",
       "Rich                             8                  8  "
      ]
     },
     "execution_count": 781,
     "metadata": {},
     "output_type": "execute_result"
    }
   ],
   "source": [
    "def range_values(x):\n",
    "    return x.max() - x.min()\n",
    "\n",
    "\n",
    "ed.pivot_table(index = 'Economic Status',\n",
    "                values = ['Av. Mark Before Pandemic','Online Performance','Number of Subjects',\n",
    "                         'Family Size', 'Internet Facility'],\n",
    "                aggfunc = ['var', 'std', range_values])"
   ]
  },
  {
   "cell_type": "markdown",
   "id": "7677ea3c",
   "metadata": {},
   "source": [
    "### 4. Z-оценка и выбросы\n",
    "#### Рассчитываем Z-оценку и стандартизированные значения"
   ]
  },
  {
   "cell_type": "code",
   "execution_count": 782,
   "id": "8ae0f2e6",
   "metadata": {},
   "outputs": [],
   "source": [
    "import scipy.stats\n",
    "\n",
    "import warnings \n",
    "warnings.filterwarnings('ignore')"
   ]
  },
  {
   "cell_type": "markdown",
   "id": "703d74d0",
   "metadata": {},
   "source": [
    "<font color = blue> Попробуем применить метод z-оценки на наших данных. Возьем данные по средним оценкам до и после начала пандемии, а затем рассчитаем по ним z-оценку и добавим дополнительные столбцы в датафрейм."
   ]
  },
  {
   "cell_type": "code",
   "execution_count": 783,
   "id": "7906e419",
   "metadata": {
    "scrolled": true
   },
   "outputs": [
    {
     "data": {
      "text/html": [
       "<div>\n",
       "<style scoped>\n",
       "    .dataframe tbody tr th:only-of-type {\n",
       "        vertical-align: middle;\n",
       "    }\n",
       "\n",
       "    .dataframe tbody tr th {\n",
       "        vertical-align: top;\n",
       "    }\n",
       "\n",
       "    .dataframe thead th {\n",
       "        text-align: right;\n",
       "    }\n",
       "</style>\n",
       "<table border=\"1\" class=\"dataframe\">\n",
       "  <thead>\n",
       "    <tr style=\"text-align: right;\">\n",
       "      <th></th>\n",
       "      <th>Av. Mark Before Pandemic</th>\n",
       "      <th>Online Performance</th>\n",
       "    </tr>\n",
       "  </thead>\n",
       "  <tbody>\n",
       "    <tr>\n",
       "      <th>0</th>\n",
       "      <td>10</td>\n",
       "      <td>6</td>\n",
       "    </tr>\n",
       "    <tr>\n",
       "      <th>1</th>\n",
       "      <td>10</td>\n",
       "      <td>3</td>\n",
       "    </tr>\n",
       "    <tr>\n",
       "      <th>2</th>\n",
       "      <td>8</td>\n",
       "      <td>6</td>\n",
       "    </tr>\n",
       "    <tr>\n",
       "      <th>3</th>\n",
       "      <td>10</td>\n",
       "      <td>4</td>\n",
       "    </tr>\n",
       "    <tr>\n",
       "      <th>4</th>\n",
       "      <td>9</td>\n",
       "      <td>6</td>\n",
       "    </tr>\n",
       "    <tr>\n",
       "      <th>...</th>\n",
       "      <td>...</td>\n",
       "      <td>...</td>\n",
       "    </tr>\n",
       "    <tr>\n",
       "      <th>1028</th>\n",
       "      <td>10</td>\n",
       "      <td>8</td>\n",
       "    </tr>\n",
       "    <tr>\n",
       "      <th>1029</th>\n",
       "      <td>8</td>\n",
       "      <td>10</td>\n",
       "    </tr>\n",
       "    <tr>\n",
       "      <th>1030</th>\n",
       "      <td>8</td>\n",
       "      <td>6</td>\n",
       "    </tr>\n",
       "    <tr>\n",
       "      <th>1031</th>\n",
       "      <td>7</td>\n",
       "      <td>6</td>\n",
       "    </tr>\n",
       "    <tr>\n",
       "      <th>1032</th>\n",
       "      <td>9</td>\n",
       "      <td>10</td>\n",
       "    </tr>\n",
       "  </tbody>\n",
       "</table>\n",
       "<p>1033 rows × 2 columns</p>\n",
       "</div>"
      ],
      "text/plain": [
       "      Av. Mark Before Pandemic  Online Performance\n",
       "0                           10                   6\n",
       "1                           10                   3\n",
       "2                            8                   6\n",
       "3                           10                   4\n",
       "4                            9                   6\n",
       "...                        ...                 ...\n",
       "1028                        10                   8\n",
       "1029                         8                  10\n",
       "1030                         8                   6\n",
       "1031                         7                   6\n",
       "1032                         9                  10\n",
       "\n",
       "[1033 rows x 2 columns]"
      ]
     },
     "execution_count": 783,
     "metadata": {},
     "output_type": "execute_result"
    }
   ],
   "source": [
    "mark_rate = ed[['Av. Mark Before Pandemic', 'Online Performance']]\n",
    "mark_rate"
   ]
  },
  {
   "cell_type": "code",
   "execution_count": 784,
   "id": "443697b5",
   "metadata": {
    "scrolled": true
   },
   "outputs": [],
   "source": [
    "mark_rate['z-score 1'] = scipy.stats.zscore(mark_rate['Av. Mark Before Pandemic'])\n",
    "mark_rate['z-score 2'] = scipy.stats.zscore(mark_rate['Online Performance'])"
   ]
  },
  {
   "cell_type": "code",
   "execution_count": 785,
   "id": "86dbfbf1",
   "metadata": {},
   "outputs": [
    {
     "data": {
      "text/html": [
       "<div>\n",
       "<style scoped>\n",
       "    .dataframe tbody tr th:only-of-type {\n",
       "        vertical-align: middle;\n",
       "    }\n",
       "\n",
       "    .dataframe tbody tr th {\n",
       "        vertical-align: top;\n",
       "    }\n",
       "\n",
       "    .dataframe thead th {\n",
       "        text-align: right;\n",
       "    }\n",
       "</style>\n",
       "<table border=\"1\" class=\"dataframe\">\n",
       "  <thead>\n",
       "    <tr style=\"text-align: right;\">\n",
       "      <th></th>\n",
       "      <th>Av. Mark Before Pandemic</th>\n",
       "      <th>Online Performance</th>\n",
       "      <th>z-score 1</th>\n",
       "      <th>z-score 2</th>\n",
       "    </tr>\n",
       "  </thead>\n",
       "  <tbody>\n",
       "    <tr>\n",
       "      <th>0</th>\n",
       "      <td>10</td>\n",
       "      <td>6</td>\n",
       "      <td>1.244915</td>\n",
       "      <td>-0.362683</td>\n",
       "    </tr>\n",
       "    <tr>\n",
       "      <th>1</th>\n",
       "      <td>10</td>\n",
       "      <td>3</td>\n",
       "      <td>1.244915</td>\n",
       "      <td>-1.925901</td>\n",
       "    </tr>\n",
       "    <tr>\n",
       "      <th>2</th>\n",
       "      <td>8</td>\n",
       "      <td>6</td>\n",
       "      <td>-0.165943</td>\n",
       "      <td>-0.362683</td>\n",
       "    </tr>\n",
       "    <tr>\n",
       "      <th>3</th>\n",
       "      <td>10</td>\n",
       "      <td>4</td>\n",
       "      <td>1.244915</td>\n",
       "      <td>-1.404828</td>\n",
       "    </tr>\n",
       "    <tr>\n",
       "      <th>4</th>\n",
       "      <td>9</td>\n",
       "      <td>6</td>\n",
       "      <td>0.539486</td>\n",
       "      <td>-0.362683</td>\n",
       "    </tr>\n",
       "    <tr>\n",
       "      <th>...</th>\n",
       "      <td>...</td>\n",
       "      <td>...</td>\n",
       "      <td>...</td>\n",
       "      <td>...</td>\n",
       "    </tr>\n",
       "    <tr>\n",
       "      <th>1028</th>\n",
       "      <td>10</td>\n",
       "      <td>8</td>\n",
       "      <td>1.244915</td>\n",
       "      <td>0.679463</td>\n",
       "    </tr>\n",
       "    <tr>\n",
       "      <th>1029</th>\n",
       "      <td>8</td>\n",
       "      <td>10</td>\n",
       "      <td>-0.165943</td>\n",
       "      <td>1.721608</td>\n",
       "    </tr>\n",
       "    <tr>\n",
       "      <th>1030</th>\n",
       "      <td>8</td>\n",
       "      <td>6</td>\n",
       "      <td>-0.165943</td>\n",
       "      <td>-0.362683</td>\n",
       "    </tr>\n",
       "    <tr>\n",
       "      <th>1031</th>\n",
       "      <td>7</td>\n",
       "      <td>6</td>\n",
       "      <td>-0.871373</td>\n",
       "      <td>-0.362683</td>\n",
       "    </tr>\n",
       "    <tr>\n",
       "      <th>1032</th>\n",
       "      <td>9</td>\n",
       "      <td>10</td>\n",
       "      <td>0.539486</td>\n",
       "      <td>1.721608</td>\n",
       "    </tr>\n",
       "  </tbody>\n",
       "</table>\n",
       "<p>1033 rows × 4 columns</p>\n",
       "</div>"
      ],
      "text/plain": [
       "      Av. Mark Before Pandemic  Online Performance  z-score 1  z-score 2\n",
       "0                           10                   6   1.244915  -0.362683\n",
       "1                           10                   3   1.244915  -1.925901\n",
       "2                            8                   6  -0.165943  -0.362683\n",
       "3                           10                   4   1.244915  -1.404828\n",
       "4                            9                   6   0.539486  -0.362683\n",
       "...                        ...                 ...        ...        ...\n",
       "1028                        10                   8   1.244915   0.679463\n",
       "1029                         8                  10  -0.165943   1.721608\n",
       "1030                         8                   6  -0.165943  -0.362683\n",
       "1031                         7                   6  -0.871373  -0.362683\n",
       "1032                         9                  10   0.539486   1.721608\n",
       "\n",
       "[1033 rows x 4 columns]"
      ]
     },
     "execution_count": 785,
     "metadata": {},
     "output_type": "execute_result"
    }
   ],
   "source": [
    "mark_rate"
   ]
  },
  {
   "cell_type": "markdown",
   "id": "5bc0a14c",
   "metadata": {},
   "source": [
    "<font color = blue> Таким образом, в этом датафрейме мы можем увидеть, как отличается средняя оценка до и после начала пандемии от среднего по всем данным. Посмотрим, как это распределение выглядит на графике."
   ]
  },
  {
   "cell_type": "code",
   "execution_count": 786,
   "id": "35e03812",
   "metadata": {
    "scrolled": true
   },
   "outputs": [
    {
     "data": {
      "text/plain": [
       "<AxesSubplot:>"
      ]
     },
     "execution_count": 786,
     "metadata": {},
     "output_type": "execute_result"
    },
    {
     "data": {
      "image/png": "[encoded data removed]",
      "text/plain": [
       "<Figure size 432x288 with 1 Axes>"
      ]
     },
     "metadata": {
      "needs_background": "light"
     },
     "output_type": "display_data"
    }
   ],
   "source": [
    "mark_rate['z-score 1'].hist(bins = 10, color = 'purple')"
   ]
  },
  {
   "cell_type": "code",
   "execution_count": 787,
   "id": "e8df46fb",
   "metadata": {},
   "outputs": [
    {
     "data": {
      "text/plain": [
       "<AxesSubplot:>"
      ]
     },
     "execution_count": 787,
     "metadata": {},
     "output_type": "execute_result"
    },
    {
     "data": {
      "image/png": "[encoded data removed]",
      "text/plain": [
       "<Figure size 432x288 with 1 Axes>"
      ]
     },
     "metadata": {
      "needs_background": "light"
     },
     "output_type": "display_data"
    }
   ],
   "source": [
    "mark_rate['z-score 2'].hist(bins = 10, color = 'orange')"
   ]
  },
  {
   "cell_type": "markdown",
   "id": "6765c247",
   "metadata": {},
   "source": [
    "<font color = blue> На графиках видно, что первое распределение стремится к нормальному, а второе вряд ли можно описать таким образом. z-оценки по баллу до пандемии в большинстве свое находятся с в рамках примерно от -2 до 1. Однако есть и заметные выбросы, где значение отклоняется почти на 3 и более среднеквадратичных отклонения. Ниже выведем эти выбросы в виде отдельной таблицы.    \n",
    "    Распределение оценок по баллам после начала пандемии находится в пределах примерно от -2 до 2, значимых выбросов на графике не наблюдается."
   ]
  },
  {
   "cell_type": "code",
   "execution_count": 788,
   "id": "05cbc1f9",
   "metadata": {
    "scrolled": true
   },
   "outputs": [
    {
     "data": {
      "text/html": [
       "<div>\n",
       "<style scoped>\n",
       "    .dataframe tbody tr th:only-of-type {\n",
       "        vertical-align: middle;\n",
       "    }\n",
       "\n",
       "    .dataframe tbody tr th {\n",
       "        vertical-align: top;\n",
       "    }\n",
       "\n",
       "    .dataframe thead th {\n",
       "        text-align: right;\n",
       "    }\n",
       "</style>\n",
       "<table border=\"1\" class=\"dataframe\">\n",
       "  <thead>\n",
       "    <tr style=\"text-align: right;\">\n",
       "      <th></th>\n",
       "      <th>Av. Mark Before Pandemic</th>\n",
       "      <th>Online Performance</th>\n",
       "      <th>z-score 1</th>\n",
       "      <th>z-score 2</th>\n",
       "    </tr>\n",
       "  </thead>\n",
       "  <tbody>\n",
       "    <tr>\n",
       "      <th>35</th>\n",
       "      <td>3</td>\n",
       "      <td>8</td>\n",
       "      <td>-3.693090</td>\n",
       "      <td>0.679463</td>\n",
       "    </tr>\n",
       "    <tr>\n",
       "      <th>42</th>\n",
       "      <td>2</td>\n",
       "      <td>4</td>\n",
       "      <td>-4.398519</td>\n",
       "      <td>-1.404828</td>\n",
       "    </tr>\n",
       "    <tr>\n",
       "      <th>81</th>\n",
       "      <td>3</td>\n",
       "      <td>10</td>\n",
       "      <td>-3.693090</td>\n",
       "      <td>1.721608</td>\n",
       "    </tr>\n",
       "    <tr>\n",
       "      <th>110</th>\n",
       "      <td>3</td>\n",
       "      <td>7</td>\n",
       "      <td>-3.693090</td>\n",
       "      <td>0.158390</td>\n",
       "    </tr>\n",
       "    <tr>\n",
       "      <th>302</th>\n",
       "      <td>3</td>\n",
       "      <td>2</td>\n",
       "      <td>-3.693090</td>\n",
       "      <td>-2.446973</td>\n",
       "    </tr>\n",
       "    <tr>\n",
       "      <th>363</th>\n",
       "      <td>2</td>\n",
       "      <td>5</td>\n",
       "      <td>-4.398519</td>\n",
       "      <td>-0.883755</td>\n",
       "    </tr>\n",
       "    <tr>\n",
       "      <th>401</th>\n",
       "      <td>2</td>\n",
       "      <td>9</td>\n",
       "      <td>-4.398519</td>\n",
       "      <td>1.200535</td>\n",
       "    </tr>\n",
       "    <tr>\n",
       "      <th>421</th>\n",
       "      <td>2</td>\n",
       "      <td>8</td>\n",
       "      <td>-4.398519</td>\n",
       "      <td>0.679463</td>\n",
       "    </tr>\n",
       "    <tr>\n",
       "      <th>427</th>\n",
       "      <td>3</td>\n",
       "      <td>2</td>\n",
       "      <td>-3.693090</td>\n",
       "      <td>-2.446973</td>\n",
       "    </tr>\n",
       "    <tr>\n",
       "      <th>496</th>\n",
       "      <td>2</td>\n",
       "      <td>10</td>\n",
       "      <td>-4.398519</td>\n",
       "      <td>1.721608</td>\n",
       "    </tr>\n",
       "    <tr>\n",
       "      <th>906</th>\n",
       "      <td>3</td>\n",
       "      <td>6</td>\n",
       "      <td>-3.693090</td>\n",
       "      <td>-0.362683</td>\n",
       "    </tr>\n",
       "    <tr>\n",
       "      <th>928</th>\n",
       "      <td>1</td>\n",
       "      <td>5</td>\n",
       "      <td>-5.103948</td>\n",
       "      <td>-0.883755</td>\n",
       "    </tr>\n",
       "    <tr>\n",
       "      <th>1000</th>\n",
       "      <td>2</td>\n",
       "      <td>2</td>\n",
       "      <td>-4.398519</td>\n",
       "      <td>-2.446973</td>\n",
       "    </tr>\n",
       "    <tr>\n",
       "      <th>1007</th>\n",
       "      <td>3</td>\n",
       "      <td>9</td>\n",
       "      <td>-3.693090</td>\n",
       "      <td>1.200535</td>\n",
       "    </tr>\n",
       "  </tbody>\n",
       "</table>\n",
       "</div>"
      ],
      "text/plain": [
       "      Av. Mark Before Pandemic  Online Performance  z-score 1  z-score 2\n",
       "35                           3                   8  -3.693090   0.679463\n",
       "42                           2                   4  -4.398519  -1.404828\n",
       "81                           3                  10  -3.693090   1.721608\n",
       "110                          3                   7  -3.693090   0.158390\n",
       "302                          3                   2  -3.693090  -2.446973\n",
       "363                          2                   5  -4.398519  -0.883755\n",
       "401                          2                   9  -4.398519   1.200535\n",
       "421                          2                   8  -4.398519   0.679463\n",
       "427                          3                   2  -3.693090  -2.446973\n",
       "496                          2                  10  -4.398519   1.721608\n",
       "906                          3                   6  -3.693090  -0.362683\n",
       "928                          1                   5  -5.103948  -0.883755\n",
       "1000                         2                   2  -4.398519  -2.446973\n",
       "1007                         3                   9  -3.693090   1.200535"
      ]
     },
     "execution_count": 788,
     "metadata": {},
     "output_type": "execute_result"
    }
   ],
   "source": [
    "mark_rate[mark_rate['z-score 1'] < -3]\n",
    "#вывели все наблюдения, которые по z-оценке баллов до пандемии отклоняются больше чем на 3 \n",
    "#всего 14 наблюдений – 14 учеников имели оценки значительно ниже средней до начала пандемии\n"
   ]
  },
  {
   "cell_type": "markdown",
   "id": "81a44760",
   "metadata": {},
   "source": [
    "<font color = blue> На данном этапе мы не можем дать дополнительный аналитический комментарий касательно этих выбросов. Некоторые из них превышают 5 среднеквадратичных отклонений, но так как в терминах z-распределения отклонение больше, чем на 3, считается крайне маловероятным, можно остановиться на том, что эти данные нуждаются в дополнительной проверке. "
   ]
  },
  {
   "cell_type": "markdown",
   "id": "1a457fa4",
   "metadata": {},
   "source": [
    "### 5. Корреляция и продвинутая визуализация\n",
    "#### Проверка наличия взаимосвязи и расчет значения корреляции переменных"
   ]
  },
  {
   "cell_type": "markdown",
   "id": "3d9c78d2",
   "metadata": {},
   "source": [
    "<font color = blue> Приступим к изучению корреляций для изучаемого датасета. Для начала с помощью функции corr посмотрим на значения корреляций по всем доступным для вычисления переменным и отберем наиболее релевантные для анализа."
   ]
  },
  {
   "cell_type": "code",
   "execution_count": 789,
   "id": "674d21d3",
   "metadata": {
    "scrolled": true
   },
   "outputs": [
    {
     "data": {
      "text/html": [
       "<div>\n",
       "<style scoped>\n",
       "    .dataframe tbody tr th:only-of-type {\n",
       "        vertical-align: middle;\n",
       "    }\n",
       "\n",
       "    .dataframe tbody tr th {\n",
       "        vertical-align: top;\n",
       "    }\n",
       "\n",
       "    .dataframe thead th {\n",
       "        text-align: right;\n",
       "    }\n",
       "</style>\n",
       "<table border=\"1\" class=\"dataframe\">\n",
       "  <thead>\n",
       "    <tr style=\"text-align: right;\">\n",
       "      <th></th>\n",
       "      <th>Study Time</th>\n",
       "      <th>Sleep Time</th>\n",
       "      <th>Social Media Time</th>\n",
       "      <th>Av. Mark Before Pandemic</th>\n",
       "      <th>Online Performance</th>\n",
       "    </tr>\n",
       "  </thead>\n",
       "  <tbody>\n",
       "    <tr>\n",
       "      <th>Age</th>\n",
       "      <td>0.005344</td>\n",
       "      <td>-0.072031</td>\n",
       "      <td>0.005455</td>\n",
       "      <td>-0.206318</td>\n",
       "      <td>0.114965</td>\n",
       "    </tr>\n",
       "    <tr>\n",
       "      <th>Number of Subjects</th>\n",
       "      <td>0.024280</td>\n",
       "      <td>0.051531</td>\n",
       "      <td>0.004833</td>\n",
       "      <td>-0.005219</td>\n",
       "      <td>0.012740</td>\n",
       "    </tr>\n",
       "    <tr>\n",
       "      <th>Family Size</th>\n",
       "      <td>0.060614</td>\n",
       "      <td>-0.015787</td>\n",
       "      <td>0.053512</td>\n",
       "      <td>-0.049413</td>\n",
       "      <td>0.001549</td>\n",
       "    </tr>\n",
       "    <tr>\n",
       "      <th>Internet Facility</th>\n",
       "      <td>-0.011554</td>\n",
       "      <td>0.051838</td>\n",
       "      <td>0.082772</td>\n",
       "      <td>0.112829</td>\n",
       "      <td>0.257339</td>\n",
       "    </tr>\n",
       "    <tr>\n",
       "      <th>Sports Involved</th>\n",
       "      <td>-0.050493</td>\n",
       "      <td>0.003573</td>\n",
       "      <td>0.006862</td>\n",
       "      <td>0.001371</td>\n",
       "      <td>0.009961</td>\n",
       "    </tr>\n",
       "    <tr>\n",
       "      <th>Monitored by Adults</th>\n",
       "      <td>0.087018</td>\n",
       "      <td>-0.056426</td>\n",
       "      <td>-0.043976</td>\n",
       "      <td>0.010664</td>\n",
       "      <td>0.092616</td>\n",
       "    </tr>\n",
       "    <tr>\n",
       "      <th>Study Time</th>\n",
       "      <td>1.000000</td>\n",
       "      <td>-0.044385</td>\n",
       "      <td>-0.125986</td>\n",
       "      <td>0.125797</td>\n",
       "      <td>0.134344</td>\n",
       "    </tr>\n",
       "    <tr>\n",
       "      <th>Sleep Time</th>\n",
       "      <td>-0.044385</td>\n",
       "      <td>1.000000</td>\n",
       "      <td>0.144587</td>\n",
       "      <td>0.019971</td>\n",
       "      <td>0.065020</td>\n",
       "    </tr>\n",
       "    <tr>\n",
       "      <th>Social Media Time</th>\n",
       "      <td>-0.125986</td>\n",
       "      <td>0.144587</td>\n",
       "      <td>1.000000</td>\n",
       "      <td>-0.152759</td>\n",
       "      <td>-0.086568</td>\n",
       "    </tr>\n",
       "    <tr>\n",
       "      <th>Gaming Interested</th>\n",
       "      <td>-0.037480</td>\n",
       "      <td>0.051789</td>\n",
       "      <td>0.075570</td>\n",
       "      <td>-0.102433</td>\n",
       "      <td>0.019462</td>\n",
       "    </tr>\n",
       "    <tr>\n",
       "      <th>Separate Room</th>\n",
       "      <td>0.083217</td>\n",
       "      <td>0.072516</td>\n",
       "      <td>0.004992</td>\n",
       "      <td>0.095720</td>\n",
       "      <td>0.075663</td>\n",
       "    </tr>\n",
       "    <tr>\n",
       "      <th>Av. Mark Before Pandemic</th>\n",
       "      <td>0.125797</td>\n",
       "      <td>0.019971</td>\n",
       "      <td>-0.152759</td>\n",
       "      <td>1.000000</td>\n",
       "      <td>0.012406</td>\n",
       "    </tr>\n",
       "    <tr>\n",
       "      <th>Online Interaction</th>\n",
       "      <td>0.148859</td>\n",
       "      <td>0.032598</td>\n",
       "      <td>-0.083972</td>\n",
       "      <td>-0.048250</td>\n",
       "      <td>0.557507</td>\n",
       "    </tr>\n",
       "    <tr>\n",
       "      <th>Doubts</th>\n",
       "      <td>0.175169</td>\n",
       "      <td>0.043402</td>\n",
       "      <td>-0.101847</td>\n",
       "      <td>-0.046701</td>\n",
       "      <td>0.561091</td>\n",
       "    </tr>\n",
       "    <tr>\n",
       "      <th>Online Performance</th>\n",
       "      <td>0.134344</td>\n",
       "      <td>0.065020</td>\n",
       "      <td>-0.086568</td>\n",
       "      <td>0.012406</td>\n",
       "      <td>1.000000</td>\n",
       "    </tr>\n",
       "  </tbody>\n",
       "</table>\n",
       "</div>"
      ],
      "text/plain": [
       "                          Study Time  Sleep Time  Social Media Time  \\\n",
       "Age                         0.005344   -0.072031           0.005455   \n",
       "Number of Subjects          0.024280    0.051531           0.004833   \n",
       "Family Size                 0.060614   -0.015787           0.053512   \n",
       "Internet Facility          -0.011554    0.051838           0.082772   \n",
       "Sports Involved            -0.050493    0.003573           0.006862   \n",
       "Monitored by Adults         0.087018   -0.056426          -0.043976   \n",
       "Study Time                  1.000000   -0.044385          -0.125986   \n",
       "Sleep Time                 -0.044385    1.000000           0.144587   \n",
       "Social Media Time          -0.125986    0.144587           1.000000   \n",
       "Gaming Interested          -0.037480    0.051789           0.075570   \n",
       "Separate Room               0.083217    0.072516           0.004992   \n",
       "Av. Mark Before Pandemic    0.125797    0.019971          -0.152759   \n",
       "Online Interaction          0.148859    0.032598          -0.083972   \n",
       "Doubts                      0.175169    0.043402          -0.101847   \n",
       "Online Performance          0.134344    0.065020          -0.086568   \n",
       "\n",
       "                          Av. Mark Before Pandemic  Online Performance  \n",
       "Age                                      -0.206318            0.114965  \n",
       "Number of Subjects                       -0.005219            0.012740  \n",
       "Family Size                              -0.049413            0.001549  \n",
       "Internet Facility                         0.112829            0.257339  \n",
       "Sports Involved                           0.001371            0.009961  \n",
       "Monitored by Adults                       0.010664            0.092616  \n",
       "Study Time                                0.125797            0.134344  \n",
       "Sleep Time                                0.019971            0.065020  \n",
       "Social Media Time                        -0.152759           -0.086568  \n",
       "Gaming Interested                        -0.102433            0.019462  \n",
       "Separate Room                             0.095720            0.075663  \n",
       "Av. Mark Before Pandemic                  1.000000            0.012406  \n",
       "Online Interaction                       -0.048250            0.557507  \n",
       "Doubts                                   -0.046701            0.561091  \n",
       "Online Performance                        0.012406            1.000000  "
      ]
     },
     "execution_count": 789,
     "metadata": {},
     "output_type": "execute_result"
    }
   ],
   "source": [
    "correlation = ed.corr()[['Study Time', 'Sleep Time', 'Social Media Time', 'Av. Mark Before Pandemic', 'Online Performance']]\n",
    "correlation = correlation.drop('Group Studies Engaged')\n",
    "correlation"
   ]
  },
  {
   "cell_type": "markdown",
   "id": "9fe01959",
   "metadata": {},
   "source": [
    "<font color = blue> Выведем на графики корреляцию между уровнем времени, затрачиваемым на сон и обучение, и оценками до и после начала пандемии."
   ]
  },
  {
   "cell_type": "code",
   "execution_count": 790,
   "id": "b7998117",
   "metadata": {
    "scrolled": false
   },
   "outputs": [
    {
     "data": {
      "text/plain": [
       "<AxesSubplot:xlabel='Sleep Time', ylabel='Online Performance'>"
      ]
     },
     "execution_count": 790,
     "metadata": {},
     "output_type": "execute_result"
    },
    {
     "data": {
      "image/png": "[encoded data removed]",
      "text/plain": [
       "<Figure size 432x288 with 1 Axes>"
      ]
     },
     "metadata": {
      "needs_background": "light"
     },
     "output_type": "display_data"
    },
    {
     "data": {
      "image/png": "[encoded data removed]",
      "text/plain": [
       "<Figure size 432x288 with 1 Axes>"
      ]
     },
     "metadata": {
      "needs_background": "light"
     },
     "output_type": "display_data"
    },
    {
     "data": {
      "image/png": "[encoded data removed]",
      "text/plain": [
       "<Figure size 432x288 with 1 Axes>"
      ]
     },
     "metadata": {
      "needs_background": "light"
     },
     "output_type": "display_data"
    },
    {
     "data": {
      "image/png": "[encoded data removed]",
      "text/plain": [
       "<Figure size 432x288 with 1 Axes>"
      ]
     },
     "metadata": {
      "needs_background": "light"
     },
     "output_type": "display_data"
    }
   ],
   "source": [
    "correlation.plot('Study Time', 'Av. Mark Before Pandemic', kind = 'scatter', color = 'green')\n",
    "correlation.plot('Sleep Time', 'Av. Mark Before Pandemic', kind = 'scatter', color = 'green')\n",
    "correlation.plot('Study Time', 'Online Performance', kind = 'scatter', color = 'orange')\n",
    "correlation.plot('Sleep Time', 'Online Performance', kind = 'scatter', color = 'orange')"
   ]
  },
  {
   "cell_type": "code",
   "execution_count": 791,
   "id": "78bd1d96",
   "metadata": {
    "scrolled": false
   },
   "outputs": [
    {
     "data": {
      "text/plain": [
       "Social Media Time         Doubts                      0.101847\n",
       "Av. Mark Before Pandemic  Gaming Interested           0.102433\n",
       "                          Internet Facility           0.112829\n",
       "Online Performance        Age                         0.114965\n",
       "Av. Mark Before Pandemic  Study Time                  0.125797\n",
       "Study Time                Av. Mark Before Pandemic    0.125797\n",
       "Social Media Time         Study Time                  0.125986\n",
       "Study Time                Social Media Time           0.125986\n",
       "                          Online Performance          0.134344\n",
       "Online Performance        Study Time                  0.134344\n",
       "Social Media Time         Sleep Time                  0.144587\n",
       "Sleep Time                Social Media Time           0.144587\n",
       "Study Time                Online Interaction          0.148859\n",
       "Av. Mark Before Pandemic  Social Media Time           0.152759\n",
       "Social Media Time         Av. Mark Before Pandemic    0.152759\n",
       "Study Time                Doubts                      0.175169\n",
       "Av. Mark Before Pandemic  Age                         0.206318\n",
       "Online Performance        Internet Facility           0.257339\n",
       "                          Online Interaction          0.557507\n",
       "                          Doubts                      0.561091\n",
       "Social Media Time         Social Media Time           1.000000\n",
       "Sleep Time                Sleep Time                  1.000000\n",
       "Study Time                Study Time                  1.000000\n",
       "Av. Mark Before Pandemic  Av. Mark Before Pandemic    1.000000\n",
       "Online Performance        Online Performance          1.000000\n",
       "dtype: float64"
      ]
     },
     "execution_count": 791,
     "metadata": {},
     "output_type": "execute_result"
    }
   ],
   "source": [
    "(corr.abs().unstack().sort_values()).dropna().iloc[50:]"
   ]
  },
  {
   "cell_type": "markdown",
   "id": "e43f33df",
   "metadata": {},
   "source": [
    "<font color = blue> На первый взгляд среди переменных отсутствует значимая корреляция, близкая к единице. Сгруппируем данные по корреляции с помощью тепловой карты, чтобы визуализировать значения корреляции и выявить наиболее значимые."
   ]
  },
  {
   "cell_type": "markdown",
   "id": "8cfb3850",
   "metadata": {},
   "source": [
    "#### Визуализация с помощью продвинутых инструментов Python"
   ]
  },
  {
   "cell_type": "code",
   "execution_count": 792,
   "id": "d8c286b7",
   "metadata": {},
   "outputs": [],
   "source": [
    "import seaborn as sns"
   ]
  },
  {
   "cell_type": "code",
   "execution_count": 793,
   "id": "de7f5446",
   "metadata": {},
   "outputs": [
    {
     "data": {
      "text/plain": [
       "<AxesSubplot:>"
      ]
     },
     "execution_count": 793,
     "metadata": {},
     "output_type": "execute_result"
    },
    {
     "data": {
      "image/png": "[encoded data removed]",
      "text/plain": [
       "<Figure size 1008x864 with 2 Axes>"
      ]
     },
     "metadata": {
      "needs_background": "light"
     },
     "output_type": "display_data"
    }
   ],
   "source": [
    "fig, ax = plt.subplots(figsize = (14,12))\n",
    "\n",
    "sns.heatmap(correlation, annot = True, linecolor = 'white', linewidth = 0.5,\n",
    "           annot_kws = {'size':20}, vmax = 1, vmin = -1)"
   ]
  },
  {
   "cell_type": "markdown",
   "id": "203eb147",
   "metadata": {},
   "source": [
    "<font color = blue> Далее с помощью инструментов визуализации на столбчатом графике посмотрим, как сгруппированы средние значения доступности интернет-сети по материальному положению студентов."
   ]
  },
  {
   "cell_type": "code",
   "execution_count": 794,
   "id": "8fd70fd0",
   "metadata": {
    "scrolled": true
   },
   "outputs": [
    {
     "data": {
      "text/plain": [
       "Text(0.5, 0.98, 'Average Internet Facility Level by Income')"
      ]
     },
     "execution_count": 794,
     "metadata": {},
     "output_type": "execute_result"
    },
    {
     "data": {
      "image/png": "[encoded data removed]",
      "text/plain": [
       "<Figure size 432x288 with 1 Axes>"
      ]
     },
     "metadata": {
      "needs_background": "light"
     },
     "output_type": "display_data"
    }
   ],
   "source": [
    "internet_facility = ed.groupby('Economic Status')['Internet Facility'].mean()\n",
    "\n",
    "plt.bar(internet_facility.index, internet_facility, color = ['orange','red','green'])\n",
    "fig.suptitle('Average Internet Facility Level by Income', fontsize = 15)\n",
    "#видим, что показатели интернет-обеспечения прямо пропорционально соотносятся с материальным положением"
   ]
  },
  {
   "cell_type": "markdown",
   "id": "9134ce54",
   "metadata": {},
   "source": [
    "<font color = blue> Попробуем визуализировать данные на линейном графике – посмотрим, как меняется средняя оценка до пандемии в завимости от возраста студентов. Будем использовать синтаксис построения с помощью двух объектов."
   ]
  },
  {
   "cell_type": "code",
   "execution_count": 795,
   "id": "31ab8ab2",
   "metadata": {},
   "outputs": [
    {
     "data": {
      "text/plain": [
       "Age\n",
       "9      9.500000\n",
       "12     9.500000\n",
       "17     8.343434\n",
       "18     8.568182\n",
       "19     8.455752\n",
       "20     8.168675\n",
       "21     7.897638\n",
       "22     7.538462\n",
       "23     7.684211\n",
       "24     7.857143\n",
       "25     6.714286\n",
       "26     8.333333\n",
       "27     8.000000\n",
       "28     8.000000\n",
       "29     8.000000\n",
       "30     8.000000\n",
       "32     8.000000\n",
       "34     7.666667\n",
       "35    10.000000\n",
       "36     6.000000\n",
       "37     7.666667\n",
       "38    10.000000\n",
       "39     8.000000\n",
       "40     6.000000\n",
       "Name: Av. Mark Before Pandemic, dtype: float64"
      ]
     },
     "execution_count": 795,
     "metadata": {},
     "output_type": "execute_result"
    }
   ],
   "source": [
    "age_mean_mark = ed.groupby('Age')['Av. Mark Before Pandemic'].mean()\n",
    "age_mean_mark"
   ]
  },
  {
   "cell_type": "code",
   "execution_count": 796,
   "id": "9a410413",
   "metadata": {
    "scrolled": true
   },
   "outputs": [
    {
     "data": {
      "text/plain": [
       "[<matplotlib.lines.Line2D at 0x287628040>]"
      ]
     },
     "execution_count": 796,
     "metadata": {},
     "output_type": "execute_result"
    },
    {
     "data": {
      "image/png": "[encoded data removed]",
      "text/plain": [
       "<Figure size 720x360 with 1 Axes>"
      ]
     },
     "metadata": {
      "needs_background": "light"
     },
     "output_type": "display_data"
    }
   ],
   "source": [
    "fig, ax = plt.subplots(figsize = (10, 5))\n",
    "\n",
    "ax.plot(age_mean_mark, color = 'green')"
   ]
  },
  {
   "cell_type": "markdown",
   "id": "f8642d50",
   "metadata": {},
   "source": [
    "<font color = blue> Наблюдаем значительное снижение средних оценок в возрасте 25, 36 и 40 лет – проверим, сколько наблюдений зафиксировано для этих возрастов, чтобы принять решение о показательности этих данных.  "
   ]
  },
  {
   "cell_type": "code",
   "execution_count": 797,
   "id": "db62bee4",
   "metadata": {
    "scrolled": true
   },
   "outputs": [
    {
     "data": {
      "text/plain": [
       "20    249\n",
       "19    226\n",
       "18    220\n",
       "21    127\n",
       "17     99\n",
       "22     39\n",
       "23     19\n",
       "24     14\n",
       "40      9\n",
       "25      7\n",
       "34      3\n",
       "37      3\n",
       "26      3\n",
       "12      2\n",
       "9       2\n",
       "39      2\n",
       "36      2\n",
       "38      1\n",
       "27      1\n",
       "28      1\n",
       "30      1\n",
       "32      1\n",
       "35      1\n",
       "29      1\n",
       "Name: Age, dtype: int64"
      ]
     },
     "execution_count": 797,
     "metadata": {},
     "output_type": "execute_result"
    }
   ],
   "source": [
    "ed['Age'].value_counts()"
   ]
  },
  {
   "cell_type": "markdown",
   "id": "46abd48a",
   "metadata": {},
   "source": [
    "<font color = blue> Видим, что для возраста 25 собрано только 7 наблюдений, для 36 лет – 2, а для 40 лет – 9, так что спад на графике может быть получен за счет малого количества наблюдений и отсутствия усреднения. На эти данные вряд ли можно ссылаться при анализе. Тем не менее, по графику можем сделать выводы о самых часто встречающихся возрастах 17-24 - средняя оценка имеет склонность к снижению с увеличением возраста студентов."
   ]
  },
  {
   "cell_type": "markdown",
   "id": "1a2c9587",
   "metadata": {},
   "source": [
    "<font color = blue> Далее попробуем создать дополнительный рисунок для визуализации, добавив на него несколько осей координат с собственными данными. Будем использовать группировку – найдем среднюю оценку за онлайн-обучение для всех возрастов и сгруппируем их по уровням материальной обеспеченности."
   ]
  },
  {
   "cell_type": "code",
   "execution_count": 798,
   "id": "b7601676",
   "metadata": {
    "scrolled": true
   },
   "outputs": [
    {
     "data": {
      "text/plain": [
       "Economic Status  Age\n",
       "Middle Class     9       4.500000\n",
       "                 12      6.000000\n",
       "                 17      6.322222\n",
       "                 18      6.756345\n",
       "                 19      6.604651\n",
       "                          ...    \n",
       "Rich             36           NaN\n",
       "                 37           NaN\n",
       "                 38           NaN\n",
       "                 39     10.000000\n",
       "                 40           NaN\n",
       "Name: Online Performance, Length: 72, dtype: float64"
      ]
     },
     "execution_count": 798,
     "metadata": {},
     "output_type": "execute_result"
    }
   ],
   "source": [
    "online_mark_mean = ed.groupby(['Economic Status', 'Age'])['Online Performance'].mean()\n",
    "online_mark_mean"
   ]
  },
  {
   "cell_type": "code",
   "execution_count": 799,
   "id": "9171b6da",
   "metadata": {},
   "outputs": [
    {
     "data": {
      "text/plain": [
       "6.696030977734753"
      ]
     },
     "execution_count": 799,
     "metadata": {},
     "output_type": "execute_result"
    }
   ],
   "source": [
    "ed['Online Performance'].mean()\n",
    "#еще раз узнаем среднюю оценку по всему датасету, чтобы нанести значение на график для сравнения"
   ]
  },
  {
   "cell_type": "code",
   "execution_count": 800,
   "id": "d29d7d22",
   "metadata": {},
   "outputs": [
    {
     "data": {
      "text/plain": [
       "Text(0.5, 0.98, 'Average online performance by income')"
      ]
     },
     "execution_count": 800,
     "metadata": {},
     "output_type": "execute_result"
    },
    {
     "data": {
      "image/png": "[encoded data removed]",
      "text/plain": [
       "<Figure size 1440x360 with 3 Axes>"
      ]
     },
     "metadata": {
      "needs_background": "light"
     },
     "output_type": "display_data"
    }
   ],
   "source": [
    "fig, ax = plt.subplots(1,3, figsize = (20,5))\n",
    "\n",
    "ax[0].plot(online_mark_mean.loc['Rich'], color = 'green')\n",
    "ax[1].plot(online_mark_mean.loc['Middle Class'], color = 'orange')\n",
    "ax[2].plot(online_mark_mean.loc['Poor'], color = 'red')\n",
    "\n",
    "for axis in ax.ravel():\n",
    "    axis.set_ylim(0, 10)\n",
    "    axis.set_xlabel('Age')\n",
    "    axis.set_ylabel('Mark')\n",
    "    axis.axhline(6.69, c = 'grey', lw = 0.8, ls = ':')\n",
    "    axis.spines['right'].set_visible(False)\n",
    "    axis.spines['top'].set_visible(False)\n",
    "    \n",
    "ax[0].legend(['Rich', 'Average online performance'], frameon = False)\n",
    "ax[1].legend(['Middle Class', 'Average online performance'], frameon = False)\n",
    "ax[2].legend(['Poor', 'Average online performance'], frameon = False)\n",
    "\n",
    "fig.suptitle('Average online performance by income', fontsize = 15)"
   ]
  },
  {
   "cell_type": "markdown",
   "id": "d4dbbc4e",
   "metadata": {},
   "source": [
    "<font color = blue> На данных графиках мы можем наглядно видеть, как меняется средняя оценка за онлайн-обучение в зависимости от возраста по классам материальной обеспеченности."
   ]
  },
  {
   "cell_type": "markdown",
   "id": "c9b0752d",
   "metadata": {},
   "source": [
    "### 6. Тестирование гипотез \n",
    "#### 1) Постановка и тестирование гипотез, непараметрические критерии (расчет критерия хи-квадрат)"
   ]
  },
  {
   "cell_type": "markdown",
   "id": "6923c0a4",
   "metadata": {},
   "source": [
    "<font color = blue> Для начала сформулируем гипотезы для имеющихся данных:  \n",
    "    ***H0: вовлеченность студентов в спортивные занятия не зависит от пола.***  \n",
    "      \n",
    "  <font color = blue>  Уровень значимости alpha выберем равным 1%."
   ]
  },
  {
   "cell_type": "code",
   "execution_count": 801,
   "id": "1c7e8280",
   "metadata": {},
   "outputs": [
    {
     "data": {
      "text/html": [
       "<div>\n",
       "<style scoped>\n",
       "    .dataframe tbody tr th:only-of-type {\n",
       "        vertical-align: middle;\n",
       "    }\n",
       "\n",
       "    .dataframe tbody tr th {\n",
       "        vertical-align: top;\n",
       "    }\n",
       "\n",
       "    .dataframe thead th {\n",
       "        text-align: right;\n",
       "    }\n",
       "</style>\n",
       "<table border=\"1\" class=\"dataframe\">\n",
       "  <thead>\n",
       "    <tr style=\"text-align: right;\">\n",
       "      <th>Sports Involved</th>\n",
       "      <th>False</th>\n",
       "      <th>True</th>\n",
       "    </tr>\n",
       "    <tr>\n",
       "      <th>Sex</th>\n",
       "      <th></th>\n",
       "      <th></th>\n",
       "    </tr>\n",
       "  </thead>\n",
       "  <tbody>\n",
       "    <tr>\n",
       "      <th>Female</th>\n",
       "      <td>320</td>\n",
       "      <td>99</td>\n",
       "    </tr>\n",
       "    <tr>\n",
       "      <th>Male</th>\n",
       "      <td>343</td>\n",
       "      <td>271</td>\n",
       "    </tr>\n",
       "  </tbody>\n",
       "</table>\n",
       "</div>"
      ],
      "text/plain": [
       "Sports Involved  False  True\n",
       "Sex                         \n",
       "Female             320    99\n",
       "Male               343   271"
      ]
     },
     "execution_count": 801,
     "metadata": {},
     "output_type": "execute_result"
    }
   ],
   "source": [
    "ct_o_1 = ed.groupby('Sex')['Sports Involved'].value_counts().unstack()\n",
    "ct_o_1\n",
    "#выведем таблицу сопряженности"
   ]
  },
  {
   "cell_type": "markdown",
   "id": "554b5043",
   "metadata": {},
   "source": [
    "<font color = blue> Насчем с рассчета степени свободы и базовых вычислений для расчета критерия хи-квадрат. "
   ]
  },
  {
   "cell_type": "markdown",
   "id": "b9cdddeb",
   "metadata": {},
   "source": [
    "$\n",
    "dof = (R - 1)(C - 1)\n",
    "$"
   ]
  },
  {
   "cell_type": "code",
   "execution_count": 802,
   "id": "4a875955",
   "metadata": {
    "scrolled": false
   },
   "outputs": [
    {
     "name": "stdout",
     "output_type": "stream",
     "text": [
      "1\n"
     ]
    }
   ],
   "source": [
    "alpha = 0.01\n",
    "dof = (2-1)*(2-1)\n",
    "print(dof)\n",
    "\n",
    "critical_value_1 = 6.63 #критическое значение для степени свободы = 1 и уровня значимости 0,01"
   ]
  },
  {
   "cell_type": "code",
   "execution_count": 803,
   "id": "cc603215",
   "metadata": {
    "scrolled": true
   },
   "outputs": [
    {
     "name": "stdout",
     "output_type": "stream",
     "text": [
      "1033\n"
     ]
    }
   ],
   "source": [
    "n_total = ct_o_1.sum().sum() #рассчитываем общее кол-во наблюдений\n",
    "print(n_total)"
   ]
  },
  {
   "cell_type": "code",
   "execution_count": 804,
   "id": "6cc7e1df",
   "metadata": {},
   "outputs": [
    {
     "name": "stdout",
     "output_type": "stream",
     "text": [
      "663 370\n"
     ]
    }
   ],
   "source": [
    "n_target_0 = ct_o_1[0].sum() #кол-во человек, не увлекающихся спортом\n",
    "n_target_1 = ct_o_1[1].sum() #кол-во человек, увлекающихся спортом\n",
    "\n",
    "print(n_target_0, n_target_1)"
   ]
  },
  {
   "cell_type": "code",
   "execution_count": 805,
   "id": "92072d2a",
   "metadata": {},
   "outputs": [
    {
     "name": "stdout",
     "output_type": "stream",
     "text": [
      "0.6418199419167473 0.35818005808325265\n"
     ]
    }
   ],
   "source": [
    "p_target_0 = n_target_0/n_total #вероятность того что студент не интересуется спортом\n",
    "p_target_1 = n_target_1/n_total #вероятность того что студент интересуется спортом\n",
    "\n",
    "print(p_target_0, p_target_1)"
   ]
  },
  {
   "cell_type": "code",
   "execution_count": 806,
   "id": "df55bc23",
   "metadata": {
    "scrolled": true
   },
   "outputs": [
    {
     "name": "stdout",
     "output_type": "stream",
     "text": [
      "419 614\n"
     ]
    }
   ],
   "source": [
    "n_women = ct_o_1.iloc[0].sum() #кол-во женщин\n",
    "n_men = ct_o_1.iloc[1].sum() #кол-во мужчин\n",
    "\n",
    "print(n_women, n_men)"
   ]
  },
  {
   "cell_type": "markdown",
   "id": "6b26f6a3",
   "metadata": {},
   "source": [
    "<font color = blue> Далее рассчитаем теоретические частоты для 4 групп данных:  "
   ]
  },
  {
   "cell_type": "code",
   "execution_count": 807,
   "id": "c2b7dceb",
   "metadata": {},
   "outputs": [
    {
     "name": "stdout",
     "output_type": "stream",
     "text": [
      "268.9225556631171 150.07744433688285\n"
     ]
    }
   ],
   "source": [
    "f_e_target_0_women = n_women * p_target_0 #теоретическая частота для женщин, не увлекающихся спортом\n",
    "f_e_target_1_women = n_women * p_target_1 #теоретическая частота для женщин, увлекающихся спортом\n",
    "\n",
    "print(f_e_target_0_women, f_e_target_1_women)"
   ]
  },
  {
   "cell_type": "code",
   "execution_count": 808,
   "id": "902ec9db",
   "metadata": {},
   "outputs": [
    {
     "name": "stdout",
     "output_type": "stream",
     "text": [
      "394.0774443368828 219.92255566311712\n"
     ]
    }
   ],
   "source": [
    "f_e_target_0_men = n_men * p_target_0 #теоретическая частота для мужчин, не увлекающихся спортом\n",
    "f_e_target_1_men = n_men * p_target_1 #теоретическая частота для мужчин, увлекающихся спортом\n",
    "\n",
    "print(f_e_target_0_men, f_e_target_1_men)"
   ]
  },
  {
   "cell_type": "markdown",
   "id": "e08d4648",
   "metadata": {},
   "source": [
    "<font color = blue> Чтобы рассчитать хи-квадрат, необходимо собрать матрицу теоретических (ожидаемых) частот."
   ]
  },
  {
   "cell_type": "code",
   "execution_count": 809,
   "id": "ba3e5946",
   "metadata": {},
   "outputs": [
    {
     "name": "stdout",
     "output_type": "stream",
     "text": [
      "[[268.92255566 150.07744434]\n",
      " [394.07744434 219.92255566]]\n"
     ]
    }
   ],
   "source": [
    "ct_e_1 = np.array([[f_e_target_0_women,f_e_target_1_women], #частоты для женщин\n",
    "               [f_e_target_0_men, f_e_target_1_men]]) #частоты для мужчин\n",
    "\n",
    "print(ct_e_1)"
   ]
  },
  {
   "cell_type": "code",
   "execution_count": 810,
   "id": "51147b1e",
   "metadata": {},
   "outputs": [
    {
     "data": {
      "text/plain": [
       "268.9225556631171"
      ]
     },
     "execution_count": 810,
     "metadata": {},
     "output_type": "execute_result"
    }
   ],
   "source": [
    "ct_o_1[0].sum() * ct_o_1.iloc[0].sum() / n_total \n",
    "#проверяем правильность полученных данных с помощью дополнительного способа"
   ]
  },
  {
   "cell_type": "code",
   "execution_count": 811,
   "id": "29fdbef2",
   "metadata": {},
   "outputs": [],
   "source": [
    "chi_square_1 = ((ct_o_1 - ct_e_1)**2 / ct_e_1).sum().sum() #рассчитываем значение критерия хи-квадрат"
   ]
  },
  {
   "cell_type": "code",
   "execution_count": 812,
   "id": "7d519db0",
   "metadata": {},
   "outputs": [
    {
     "name": "stdout",
     "output_type": "stream",
     "text": [
      "45.568175090053806 6.63\n",
      "True\n"
     ]
    }
   ],
   "source": [
    "print(chi_square_1, critical_value_1)\n",
    "print(chi_square_1 > critical_value_1)\n",
    "#проверяем, может ли нулевая гипотеза, поставленная в начале анализа, быть отвергнута"
   ]
  },
  {
   "cell_type": "markdown",
   "id": "1f799f32",
   "metadata": {},
   "source": [
    "<font color = blue> Получаем результат, который позволяет нам отвергнуть нулевую гипотезу о независимости наличия спортивных увлечений от пола – гипотеза H0 может быть отвергнута с уровнем значимости 99%, зависимость между двумя анализируемыми категориями, вероятно, все-таки существует.     \n",
    "    \n",
    "<font color = blue>  Ниже проверим правильность ручных расчетов с помощью функции из библиотеки scipy.stats."
   ]
  },
  {
   "cell_type": "code",
   "execution_count": 813,
   "id": "3295d0c9",
   "metadata": {
    "scrolled": true
   },
   "outputs": [
    {
     "data": {
      "text/plain": [
       "(45.56817509005384,\n",
       " 1.474174170538731e-11,\n",
       " 1,\n",
       " array([[268.92255566, 150.07744434],\n",
       "        [394.07744434, 219.92255566]]))"
      ]
     },
     "execution_count": 813,
     "metadata": {},
     "output_type": "execute_result"
    }
   ],
   "source": [
    "scipy.stats.chi2_contingency(ct_o_1, correction = False)\n",
    "#в качестве аргумента передаем матрицу наблюдаемых частот, коррекцию отключим"
   ]
  },
  {
   "cell_type": "markdown",
   "id": "619705f5",
   "metadata": {},
   "source": [
    "<font color = blue> Проверим еще одну гипотезу:  \n",
    "    ***H0: заинтересованность студентов в получении практических или теоретических знаний не зависит от пола.***\n",
    "    \n",
    "<font color = blue>  Уровень значимости alpha также выберем равным 1%."
   ]
  },
  {
   "cell_type": "code",
   "execution_count": 814,
   "id": "5a20b58b",
   "metadata": {
    "scrolled": true
   },
   "outputs": [
    {
     "data": {
      "text/html": [
       "<div>\n",
       "<style scoped>\n",
       "    .dataframe tbody tr th:only-of-type {\n",
       "        vertical-align: middle;\n",
       "    }\n",
       "\n",
       "    .dataframe tbody tr th {\n",
       "        vertical-align: top;\n",
       "    }\n",
       "\n",
       "    .dataframe thead th {\n",
       "        text-align: right;\n",
       "    }\n",
       "</style>\n",
       "<table border=\"1\" class=\"dataframe\">\n",
       "  <thead>\n",
       "    <tr style=\"text-align: right;\">\n",
       "      <th></th>\n",
       "      <th>Both</th>\n",
       "      <th>Practical</th>\n",
       "      <th>Theory</th>\n",
       "    </tr>\n",
       "    <tr>\n",
       "      <th>Sex</th>\n",
       "      <th></th>\n",
       "      <th></th>\n",
       "      <th></th>\n",
       "    </tr>\n",
       "  </thead>\n",
       "  <tbody>\n",
       "    <tr>\n",
       "      <th>Female</th>\n",
       "      <td>117</td>\n",
       "      <td>172</td>\n",
       "      <td>130</td>\n",
       "    </tr>\n",
       "    <tr>\n",
       "      <th>Male</th>\n",
       "      <td>230</td>\n",
       "      <td>267</td>\n",
       "      <td>117</td>\n",
       "    </tr>\n",
       "  </tbody>\n",
       "</table>\n",
       "</div>"
      ],
      "text/plain": [
       "        Both  Practical  Theory\n",
       "Sex                            \n",
       "Female   117        172     130\n",
       "Male     230        267     117"
      ]
     },
     "execution_count": 814,
     "metadata": {},
     "output_type": "execute_result"
    }
   ],
   "source": [
    "ct_o_2 = ed.groupby('Sex')['Interested in?'].value_counts().unstack()\n",
    "ct_o_2\n",
    "#выведем таблицу сопряженности"
   ]
  },
  {
   "cell_type": "code",
   "execution_count": 815,
   "id": "eea24c97",
   "metadata": {},
   "outputs": [
    {
     "name": "stdout",
     "output_type": "stream",
     "text": [
      "2\n"
     ]
    }
   ],
   "source": [
    "alpha = 0.01\n",
    "dof = (2-1)*(3-1)\n",
    "print(dof)\n",
    "\n",
    "critical_value_2 = 9.21 #критическое значение для степени свободы = 2 и уровня значимости 0,01"
   ]
  },
  {
   "cell_type": "code",
   "execution_count": 816,
   "id": "7c24ad9e",
   "metadata": {
    "scrolled": false
   },
   "outputs": [
    {
     "data": {
      "text/plain": [
       "(22.014788822916472,\n",
       " 1.6578657021319118e-05,\n",
       " 2,\n",
       " array([[140.74830591, 178.06485963, 100.18683446],\n",
       "        [206.25169409, 260.93514037, 146.81316554]]))"
      ]
     },
     "execution_count": 816,
     "metadata": {},
     "output_type": "execute_result"
    }
   ],
   "source": [
    "scipy.stats.chi2_contingency(ct_o_2)\n",
    "#в качестве аргумента передаем матрицу наблюдаемых частот"
   ]
  },
  {
   "cell_type": "code",
   "execution_count": 817,
   "id": "7112018d",
   "metadata": {
    "scrolled": true
   },
   "outputs": [
    {
     "name": "stdout",
     "output_type": "stream",
     "text": [
      "22.014788822916472 9.21\n",
      "True\n"
     ]
    }
   ],
   "source": [
    "chi_square_2 = 22.014788822916472\n",
    "print(chi_square_2, critical_value_2)\n",
    "print(chi_square_2 > critical_value_2)"
   ]
  },
  {
   "cell_type": "markdown",
   "id": "c5ab8c18",
   "metadata": {},
   "source": [
    "<font color = blue> Снова получаем результат, который позволяет нам отвергнуть нулевую гипотезу о независимости наличия предпочтений о получении практических/теоретических знаний от пола – гипотеза H0 может быть отвергнута с уровнем доверия 99%, зависимость между двумя анализируемыми категориями, вероятно, все-таки существует."
   ]
  },
  {
   "cell_type": "markdown",
   "id": "b45486a0",
   "metadata": {},
   "source": [
    "<font color = blue> Проверим третью одну гипотезу:  \n",
    "    ***H0: Уровень удовлетворенности онлайн-образованием не зависит от наличия заинтересованности геймингом.***\n",
    "    \n",
    "<font color = blue>  Уровень значимости alpha также выберем равным 1%."
   ]
  },
  {
   "cell_type": "code",
   "execution_count": 818,
   "id": "1b2241f4",
   "metadata": {
    "scrolled": true
   },
   "outputs": [
    {
     "data": {
      "text/html": [
       "<div>\n",
       "<style scoped>\n",
       "    .dataframe tbody tr th:only-of-type {\n",
       "        vertical-align: middle;\n",
       "    }\n",
       "\n",
       "    .dataframe tbody tr th {\n",
       "        vertical-align: top;\n",
       "    }\n",
       "\n",
       "    .dataframe thead th {\n",
       "        text-align: right;\n",
       "    }\n",
       "</style>\n",
       "<table border=\"1\" class=\"dataframe\">\n",
       "  <thead>\n",
       "    <tr style=\"text-align: right;\">\n",
       "      <th></th>\n",
       "      <th>Average</th>\n",
       "      <th>Good</th>\n",
       "      <th>Bad</th>\n",
       "    </tr>\n",
       "    <tr>\n",
       "      <th>Gaming Interested</th>\n",
       "      <th></th>\n",
       "      <th></th>\n",
       "      <th></th>\n",
       "    </tr>\n",
       "  </thead>\n",
       "  <tbody>\n",
       "    <tr>\n",
       "      <th>False</th>\n",
       "      <td>256</td>\n",
       "      <td>110</td>\n",
       "      <td>107</td>\n",
       "    </tr>\n",
       "    <tr>\n",
       "      <th>True</th>\n",
       "      <td>285</td>\n",
       "      <td>141</td>\n",
       "      <td>134</td>\n",
       "    </tr>\n",
       "  </tbody>\n",
       "</table>\n",
       "</div>"
      ],
      "text/plain": [
       "                   Average  Good  Bad\n",
       "Gaming Interested                    \n",
       "False                  256   110  107\n",
       "True                   285   141  134"
      ]
     },
     "execution_count": 818,
     "metadata": {},
     "output_type": "execute_result"
    }
   ],
   "source": [
    "ct_o_3 = ed.groupby('Gaming Interested')['Satisfaction Level'].value_counts().unstack()\n",
    "ct_o_3\n",
    "#выведем таблицу сопряженности"
   ]
  },
  {
   "cell_type": "code",
   "execution_count": 819,
   "id": "2a1474fd",
   "metadata": {},
   "outputs": [
    {
     "name": "stdout",
     "output_type": "stream",
     "text": [
      "2\n"
     ]
    }
   ],
   "source": [
    "alpha = 0.01\n",
    "dof = (2-1)*(3-1)\n",
    "print(dof)\n",
    "\n",
    "critical_value_3 = 9.21 #критическое значение для степени свободы = 2 и уровня значимости 0,01"
   ]
  },
  {
   "cell_type": "code",
   "execution_count": 820,
   "id": "777be7ef",
   "metadata": {},
   "outputs": [
    {
     "data": {
      "text/plain": [
       "(1.0886296423978057,\n",
       " 0.5802392147780309,\n",
       " 2,\n",
       " array([[247.71829622, 114.9303001 , 110.35140368],\n",
       "        [293.28170378, 136.0696999 , 130.64859632]]))"
      ]
     },
     "execution_count": 820,
     "metadata": {},
     "output_type": "execute_result"
    }
   ],
   "source": [
    "scipy.stats.chi2_contingency(ct_o_3)\n",
    "#в качестве аргумента передаем матрицу наблюдаемых частот"
   ]
  },
  {
   "cell_type": "code",
   "execution_count": 821,
   "id": "f77cf19d",
   "metadata": {},
   "outputs": [
    {
     "name": "stdout",
     "output_type": "stream",
     "text": [
      "1.0886296423978057 9.21\n",
      "False\n"
     ]
    }
   ],
   "source": [
    "chi_square_3 = 1.0886296423978057\n",
    "print(chi_square_3, critical_value_3)\n",
    "print(chi_square_3 > critical_value_3)"
   ]
  },
  {
   "cell_type": "markdown",
   "id": "22cca5fe",
   "metadata": {},
   "source": [
    "<font color = blue> При тестировании последней гипотезы получаем значение, которое НЕ позволяет нам отвергнуть нулевую гипотезу о независимости наличия увлечения геймингом и удовлетворенностью онлайн-образованием – гипотеза H0 не может быть отвергнута с уровнем доверия 99%, зависимость между двумя анализируемыми категориями не зафиксирована."
   ]
  },
  {
   "cell_type": "markdown",
   "id": "c35ae8df",
   "metadata": {},
   "source": [
    "#### 2) Параметрические критерии, t-тест"
   ]
  },
  {
   "cell_type": "markdown",
   "id": "7b4b0d4a",
   "metadata": {},
   "source": [
    "<font color = blue> Далее попробуем решать задачи на проверку статистических гипотез с использованием t-критерия.  \n",
    "    Для начала попробуем протестировать следующую гипотезу:  \n",
    "    \n",
    "<font color = blue> ***H0: Не существует разницы между средним количеством сна у студентов, за которыми следят родители и тех, кто обучается полностью самостоятельно.*** \n",
    "    \n",
    " <font color = blue> Будем использовать двусторонний тест, уровень статистической значимости alpha = 0.05"
   ]
  },
  {
   "cell_type": "code",
   "execution_count": 822,
   "id": "79833020",
   "metadata": {},
   "outputs": [],
   "source": [
    "monitored = ed[ed['Monitored by Adults'] == True]['Sleep Time']\n",
    "not_monitored = ed[ed['Monitored by Adults'] == False]['Sleep Time']"
   ]
  },
  {
   "cell_type": "markdown",
   "id": "15db17b2",
   "metadata": {},
   "source": [
    "<font color = blue> Проверим, подходят ли наши выборки под условие использования t-тест – посмотрим на то, является ли распределение нормальным."
   ]
  },
  {
   "cell_type": "code",
   "execution_count": 823,
   "id": "8f750ff1",
   "metadata": {},
   "outputs": [
    {
     "data": {
      "text/plain": [
       "<AxesSubplot:>"
      ]
     },
     "execution_count": 823,
     "metadata": {},
     "output_type": "execute_result"
    },
    {
     "data": {
      "image/png": "[encoded data removed]",
      "text/plain": [
       "<Figure size 432x288 with 1 Axes>"
      ]
     },
     "metadata": {
      "needs_background": "light"
     },
     "output_type": "display_data"
    }
   ],
   "source": [
    "monitored.hist(bins=10)"
   ]
  },
  {
   "cell_type": "code",
   "execution_count": 824,
   "id": "ad392193",
   "metadata": {
    "scrolled": false
   },
   "outputs": [
    {
     "data": {
      "text/plain": [
       "<AxesSubplot:>"
      ]
     },
     "execution_count": 824,
     "metadata": {},
     "output_type": "execute_result"
    },
    {
     "data": {
      "image/png": "[encoded data removed]",
      "text/plain": [
       "<Figure size 432x288 with 1 Axes>"
      ]
     },
     "metadata": {
      "needs_background": "light"
     },
     "output_type": "display_data"
    }
   ],
   "source": [
    "not_monitored.hist(bins=10)"
   ]
  },
  {
   "cell_type": "markdown",
   "id": "f362affb",
   "metadata": {},
   "source": [
    "<font color = blue> В целом видим, что на графиках распределения стремятся к нормальному, но отметим перекос влево для второй группы студентов. В рамках данного анализа будем считать, что критерий нормальности соблюден. Далее проверим следующее условие – одинаковость дисперсии для выборок."
   ]
  },
  {
   "cell_type": "code",
   "execution_count": 825,
   "id": "8a1484b3",
   "metadata": {},
   "outputs": [
    {
     "name": "stdout",
     "output_type": "stream",
     "text": [
      "1.5786090124123027\n",
      "1.9397406335207168\n"
     ]
    }
   ],
   "source": [
    "print(monitored.var())\n",
    "print(not_monitored.var())"
   ]
  },
  {
   "cell_type": "markdown",
   "id": "f3e8c3f8",
   "metadata": {},
   "source": [
    "<font color = blue> Видим, что дисперсии близки по своему значению, но не идентичны – попробуем использовать не классический t-критерий Стьюдента, а посчитаем степени свободы с поправкой Уэлча."
   ]
  },
  {
   "cell_type": "code",
   "execution_count": 826,
   "id": "fc53ca5d",
   "metadata": {},
   "outputs": [
    {
     "name": "stdout",
     "output_type": "stream",
     "text": [
      "1031\n"
     ]
    }
   ],
   "source": [
    "ddof = len(monitored) + len(not_monitored) - 2\n",
    "print(ddof)\n",
    "#степени свободы для классического t-критерия Стьюдента для случая полного равенства дисперсий"
   ]
  },
  {
   "cell_type": "code",
   "execution_count": 827,
   "id": "9857a148",
   "metadata": {},
   "outputs": [
    {
     "name": "stdout",
     "output_type": "stream",
     "text": [
      "488 545 1.9397406335207168 1.5786090124123027\n"
     ]
    }
   ],
   "source": [
    "n_1 = len(not_monitored)\n",
    "n_2 = len(monitored)\n",
    "var_1 = not_monitored.var()\n",
    "var_2 = monitored.var()\n",
    "print(n_1, n_2, var_1, var_2)"
   ]
  },
  {
   "cell_type": "code",
   "execution_count": 828,
   "id": "e9336751",
   "metadata": {
    "scrolled": true
   },
   "outputs": [
    {
     "data": {
      "text/plain": [
       "986"
      ]
     },
     "execution_count": 828,
     "metadata": {},
     "output_type": "execute_result"
    }
   ],
   "source": [
    "v_1 = var_1/n_1\n",
    "v_2 = var_2/n_2\n",
    "\n",
    "dof_welch = (v_1 + v_2)**2 / (v_1**2/(n_1 - 1) + v_2**2/(n_2 - 1))\n",
    "int(dof_welch)\n",
    "#более консервативный метод расчета с поправкой Уэлча"
   ]
  },
  {
   "cell_type": "markdown",
   "id": "3d656bdf",
   "metadata": {},
   "source": [
    "<font color = blue> Для полученного значения степени свободы значение t-критерия будет равно +- 2.5807 согласно таблице распределения Стьюдента.  "
   ]
  },
  {
   "cell_type": "markdown",
   "id": "eedc5345",
   "metadata": {},
   "source": [
    "<font color = blue> Далее определим функцию, которая будет проверять, можем ли мы отвергнуть нулевую гипотезу в соответствии с полученным t-критерием, а затем расчитаем само значение t-критерия."
   ]
  },
  {
   "cell_type": "code",
   "execution_count": 829,
   "id": "23798927",
   "metadata": {},
   "outputs": [],
   "source": [
    "def hypothesis_check(t, t_critical):\n",
    "    if abs(t) > t_critical:\n",
    "        print('Отвергаем H0. Разница между средними статистически значима.')\n",
    "    else: \n",
    "         print('Не удалось отвергнуть H0')\n",
    "\n",
    "t_critical = 2.5807"
   ]
  },
  {
   "cell_type": "code",
   "execution_count": 830,
   "id": "ac700a34",
   "metadata": {
    "scrolled": true
   },
   "outputs": [
    {
     "data": {
      "text/plain": [
       "0.08289396024670762"
      ]
     },
     "execution_count": 830,
     "metadata": {},
     "output_type": "execute_result"
    }
   ],
   "source": [
    "s_m1_m2 = np.sqrt(v_1 + v_2) #рассчитываем стандартную ошибку\n",
    "s_m1_m2"
   ]
  },
  {
   "cell_type": "code",
   "execution_count": 831,
   "id": "b3cad4fa",
   "metadata": {
    "scrolled": true
   },
   "outputs": [
    {
     "name": "stdout",
     "output_type": "stream",
     "text": [
      "7.026639344262295 6.877064220183486\n"
     ]
    }
   ],
   "source": [
    "mean_1 = not_monitored.mean() #находим среднее двух выборок\n",
    "mean_2 = monitored.mean()\n",
    "print(mean_1, mean_2)"
   ]
  },
  {
   "cell_type": "code",
   "execution_count": 832,
   "id": "c634006e",
   "metadata": {},
   "outputs": [
    {
     "data": {
      "text/plain": [
       "1.8044152267987443"
      ]
     },
     "execution_count": 832,
     "metadata": {},
     "output_type": "execute_result"
    }
   ],
   "source": [
    "t = (mean_1 - mean_2) / s_m1_m2 #рассчитываем t-критерий\n",
    "t"
   ]
  },
  {
   "cell_type": "code",
   "execution_count": 833,
   "id": "7431c59c",
   "metadata": {
    "scrolled": true
   },
   "outputs": [
    {
     "name": "stdout",
     "output_type": "stream",
     "text": [
      "Не удалось отвергнуть H0\n"
     ]
    }
   ],
   "source": [
    "hypothesis_check(t, t_critical)"
   ]
  },
  {
   "cell_type": "markdown",
   "id": "32848124",
   "metadata": {},
   "source": [
    "<font color = blue> По результатам проверки мы получили результат, согласно которому мы не можем отвергнуть выдвинутую гипотезу о том, что не существует разницы между средним количеством сна у студентов, за которыми следят родители и тех, кто обучается полностью самостоятельно. На данном этапе мы можем сделать вывод, что разница, вероятно, не является статистически значимой.  \n",
    "    \n",
    "<font color = blue>  Ниже проверим правильность ручных расчетов с помощью функции из библиотеки scipy.stats."
   ]
  },
  {
   "cell_type": "code",
   "execution_count": 834,
   "id": "ed214b77",
   "metadata": {},
   "outputs": [
    {
     "data": {
      "text/plain": [
       "Ttest_indResult(statistic=1.8044152267987443, pvalue=0.07147114653171384)"
      ]
     },
     "execution_count": 834,
     "metadata": {},
     "output_type": "execute_result"
    }
   ],
   "source": [
    "scipy.stats.ttest_ind_from_stats(mean_1, np.sqrt(var_1), n_1, #передаем заранее рассчитанные статистики\n",
    "                                mean_2, np.sqrt(var_2), n_2,\n",
    "                                equal_var = False) #указываем, что будем использовать поправку Уэлча\n",
    "#получаем данные, равные тем, что были найдены вручную"
   ]
  },
  {
   "cell_type": "code",
   "execution_count": 835,
   "id": "129bd0f8",
   "metadata": {},
   "outputs": [
    {
     "data": {
      "text/plain": [
       "Ttest_indResult(statistic=1.8044152267987432, pvalue=0.07147114653171398)"
      ]
     },
     "execution_count": 835,
     "metadata": {},
     "output_type": "execute_result"
    }
   ],
   "source": [
    "scipy.stats.ttest_ind(not_monitored, monitored, equal_var = False)\n",
    "#также получаем данные, равные тем, что были найдены вручную и предыдущим способом"
   ]
  },
  {
   "cell_type": "markdown",
   "id": "b2a0e582",
   "metadata": {},
   "source": [
    "<font color = blue> Найдем также границы доверительного интервала. Получим результат, на основании которого с вероятностью 95% мы можем утверждать, что разница между средними располагается в интервале от -0.06 до 0.36."
   ]
  },
  {
   "cell_type": "code",
   "execution_count": 836,
   "id": "f7d1b084",
   "metadata": {},
   "outputs": [
    {
     "name": "stdout",
     "output_type": "stream",
     "text": [
      "-0.06434931912986935 0.3634995672874874\n"
     ]
    }
   ],
   "source": [
    "CI_bottom = (mean_1 - mean_2) - t_critical*s_m1_m2 #находим нижнюю границу доверительного интервала\n",
    "CI_top = (mean_1 - mean_2) + t_critical*s_m1_m2 #находим верхнюю границу доверительного интервала\n",
    "print(CI_bottom, CI_top)"
   ]
  },
  {
   "cell_type": "markdown",
   "id": "5445d71e",
   "metadata": {},
   "source": [
    "### 7. Построение уравнений регрессии \n",
    "#### 1) Линейная регрессия – простая и мультивариативная"
   ]
  },
  {
   "cell_type": "markdown",
   "id": "2fa20b16",
   "metadata": {},
   "source": [
    "<font color = blue> Для начала применим метод вычисления линейной регрессии с помощью инструментов библиотеки  statsmodels.api."
   ]
  },
  {
   "cell_type": "code",
   "execution_count": 837,
   "id": "a84ad3d5",
   "metadata": {},
   "outputs": [],
   "source": [
    "import statsmodels.api as sm"
   ]
  },
  {
   "cell_type": "markdown",
   "id": "2abdc907",
   "metadata": {},
   "source": [
    "<font color = blue> Соберем агрегированные данные по 4 характеристикам студентов – контроль родителей, средняя оценка за онлайн-обучение, среднее время сна и учебы – и сгруппируем по возрасту, затем выведем в отдельный датафрейм для дальнейшей работы с ним."
   ]
  },
  {
   "cell_type": "code",
   "execution_count": 838,
   "id": "838d26fe",
   "metadata": {
    "scrolled": true
   },
   "outputs": [
    {
     "data": {
      "text/html": [
       "<div>\n",
       "<style scoped>\n",
       "    .dataframe tbody tr th:only-of-type {\n",
       "        vertical-align: middle;\n",
       "    }\n",
       "\n",
       "    .dataframe tbody tr th {\n",
       "        vertical-align: top;\n",
       "    }\n",
       "\n",
       "    .dataframe thead th {\n",
       "        text-align: right;\n",
       "    }\n",
       "</style>\n",
       "<table border=\"1\" class=\"dataframe\">\n",
       "  <thead>\n",
       "    <tr style=\"text-align: right;\">\n",
       "      <th></th>\n",
       "      <th>Monitored by Adults</th>\n",
       "      <th>Online Performance</th>\n",
       "      <th>Sleep Time</th>\n",
       "      <th>Study Time</th>\n",
       "    </tr>\n",
       "    <tr>\n",
       "      <th>Age</th>\n",
       "      <th></th>\n",
       "      <th></th>\n",
       "      <th></th>\n",
       "      <th></th>\n",
       "    </tr>\n",
       "  </thead>\n",
       "  <tbody>\n",
       "    <tr>\n",
       "      <th>9</th>\n",
       "      <td>1</td>\n",
       "      <td>4.500000</td>\n",
       "      <td>8.500000</td>\n",
       "      <td>2.500000</td>\n",
       "    </tr>\n",
       "    <tr>\n",
       "      <th>12</th>\n",
       "      <td>1</td>\n",
       "      <td>7.000000</td>\n",
       "      <td>9.000000</td>\n",
       "      <td>6.000000</td>\n",
       "    </tr>\n",
       "    <tr>\n",
       "      <th>17</th>\n",
       "      <td>64</td>\n",
       "      <td>6.202020</td>\n",
       "      <td>7.151515</td>\n",
       "      <td>3.969697</td>\n",
       "    </tr>\n",
       "    <tr>\n",
       "      <th>18</th>\n",
       "      <td>133</td>\n",
       "      <td>6.736364</td>\n",
       "      <td>6.990909</td>\n",
       "      <td>4.531818</td>\n",
       "    </tr>\n",
       "    <tr>\n",
       "      <th>19</th>\n",
       "      <td>112</td>\n",
       "      <td>6.659292</td>\n",
       "      <td>6.884956</td>\n",
       "      <td>4.376106</td>\n",
       "    </tr>\n",
       "  </tbody>\n",
       "</table>\n",
       "</div>"
      ],
      "text/plain": [
       "     Monitored by Adults  Online Performance  Sleep Time  Study Time\n",
       "Age                                                                 \n",
       "9                      1            4.500000    8.500000    2.500000\n",
       "12                     1            7.000000    9.000000    6.000000\n",
       "17                    64            6.202020    7.151515    3.969697\n",
       "18                   133            6.736364    6.990909    4.531818\n",
       "19                   112            6.659292    6.884956    4.376106"
      ]
     },
     "execution_count": 838,
     "metadata": {},
     "output_type": "execute_result"
    }
   ],
   "source": [
    "monitored_sum = ed.groupby(ed['Age'])['Monitored by Adults'].sum()\n",
    "perf_mean = ed.groupby(ed['Age'])['Online Performance'].mean()\n",
    "sleep_mean = ed.groupby(ed['Age'])['Sleep Time'].mean()\n",
    "study_mean = ed.groupby(ed['Age'])['Study Time'].mean()\n",
    "\n",
    "ed_age = pd.concat([monitored_sum, perf_mean, sleep_mean, study_mean], axis = 1)\n",
    "ed_age.head()"
   ]
  },
  {
   "cell_type": "markdown",
   "id": "0c376766",
   "metadata": {},
   "source": [
    "<font color = blue> Для построения модели линейной регрессии необходимо проверить ряд предпосылок, чтобы убедиться в том, имеет ли смысл использовать модель для данных и будет ли иметь смысл интерпретация этой модели. Проверим 2 предпосылки до построения модели:   "
   ]
  },
  {
   "cell_type": "markdown",
   "id": "17fb3c42",
   "metadata": {},
   "source": [
    "<font color = blue>    1) в данных не должны быть мультиколинеарности – для этого выведем тепловую карту на график и убедимся, что корреляции для имеющихся данных вполне умеренные"
   ]
  },
  {
   "cell_type": "code",
   "execution_count": 839,
   "id": "83127379",
   "metadata": {
    "scrolled": false
   },
   "outputs": [
    {
     "data": {
      "image/png": "[encoded data removed]",
      "text/plain": [
       "<Figure size 720x720 with 2 Axes>"
      ]
     },
     "metadata": {
      "needs_background": "light"
     },
     "output_type": "display_data"
    }
   ],
   "source": [
    "plt.figure(figsize = (10,10))\n",
    "p = sns.heatmap(ed_age.corr(), annot = True, vmin = -1, vmax = 1)"
   ]
  },
  {
   "cell_type": "markdown",
   "id": "0f778fb3",
   "metadata": {},
   "source": [
    "<font color = blue> 2) далее необходимо проверить наличие линейной взаимосвязи: выведем парные графики рассеивания и увидим, что не для всех наблюдений мы можем констатировать наличие взаимосвязи.   \n",
    "    В рамках данного анализа будем считать, что критерий соблюден, однако будем иметь в виду, что эта предпосылка выполняется не на 100%."
   ]
  },
  {
   "cell_type": "code",
   "execution_count": 840,
   "id": "14f06f38",
   "metadata": {},
   "outputs": [
    {
     "data": {
      "text/plain": [
       "<seaborn.axisgrid.PairGrid at 0x287784df0>"
      ]
     },
     "execution_count": 840,
     "metadata": {},
     "output_type": "execute_result"
    },
    {
     "data": {
      "image/png": "[encoded data removed]",
      "text/plain": [
       "<Figure size 720x720 with 20 Axes>"
      ]
     },
     "metadata": {
      "needs_background": "light"
     },
     "output_type": "display_data"
    }
   ],
   "source": [
    "sns.pairplot(ed_age)"
   ]
  },
  {
   "cell_type": "markdown",
   "id": "1b5667dc",
   "metadata": {},
   "source": [
    "<font color = blue> Построим 2 модели: в первую очередь будем анализировать ту, в которую включим один предиктор – возьмем данные по оценке и количеству времени, потраченного студентами на сон.  \n",
    "    Для начала воспользуемся функцией из библиотеки scipy.stats."
   ]
  },
  {
   "cell_type": "code",
   "execution_count": 841,
   "id": "f6e18f70",
   "metadata": {},
   "outputs": [
    {
     "data": {
      "text/plain": [
       "LinregressResult(slope=-0.8343200068562139, intercept=12.86000438180955, rvalue=-0.6275739753171212, pvalue=0.0010278188406489524, stderr=0.22067176624210227, intercept_stderr=1.5232411261389478)"
      ]
     },
     "execution_count": 841,
     "metadata": {},
     "output_type": "execute_result"
    }
   ],
   "source": [
    "X = ed_age['Sleep Time'] #сохраняем данные о времени сна в переменную X\n",
    "y = ed_age['Online Performance'] #сохраняем данные об оценках в переменную y\n",
    "\n",
    "res = scipy.stats.linregress(X, y)\n",
    "res\n",
    "#получаем кортеж значений линейной регресии"
   ]
  },
  {
   "cell_type": "code",
   "execution_count": 842,
   "id": "302416d9",
   "metadata": {
    "scrolled": true
   },
   "outputs": [
    {
     "data": {
      "text/plain": [
       "0.3938490944953347"
      ]
     },
     "execution_count": 842,
     "metadata": {},
     "output_type": "execute_result"
    }
   ],
   "source": [
    "r_sq = res.rvalue ** 2 #вычислим коэффициент детерминации\n",
    "r_sq\n",
    "\n",
    "#получаем коэффициент детерминации, равный ~0,4 – это не слишком высокий показатель, будем учитывать это в дальнейшем\n",
    "#наша модель на 40% объясняет дисперсию в целевой переменной"
   ]
  },
  {
   "cell_type": "markdown",
   "id": "a5946627",
   "metadata": {},
   "source": [
    "<font color = blue> По результатам полученных значений построим график рассеяния для двух переменных, чтобы визулизировать распределение оригинальных данных и линию регрессии. В целом, можем увидеть, что линия регрессии и реальные значения не идентичны, но относительно близки. Тем не менее, ошибки также достаточно легко заметить – в этих случаях реальные значения находятся максимально далеко от предсказанных на линии регрессии."
   ]
  },
  {
   "cell_type": "code",
   "execution_count": 843,
   "id": "c6e7b215",
   "metadata": {
    "scrolled": true
   },
   "outputs": [
    {
     "data": {
      "image/png": "[encoded data removed]",
      "text/plain": [
       "<Figure size 432x288 with 1 Axes>"
      ]
     },
     "metadata": {
      "needs_background": "light"
     },
     "output_type": "display_data"
    }
   ],
   "source": [
    "plt.scatter(X, y, label = 'оригинальные данные')\n",
    "plt.plot(X, res.intercept + res.slope * X, c = 'r', label = 'линия регрессии')\n",
    "plt.legend()\n",
    "plt.show()"
   ]
  },
  {
   "cell_type": "markdown",
   "id": "1cd7d24b",
   "metadata": {},
   "source": [
    "<font color = blue> Теперь посмотрим, как построить уравнение линейной регрессии с помощью библиотеки statsmodels.api.  \n",
    "    Снова в первую очередь будем анализировать модель с одним предиктором, чтобы затем сравнить результаты с теми, которые получены по предыдущему методу расчета. "
   ]
  },
  {
   "cell_type": "code",
   "execution_count": 844,
   "id": "e9fb056b",
   "metadata": {
    "scrolled": true
   },
   "outputs": [
    {
     "name": "stdout",
     "output_type": "stream",
     "text": [
      "                            OLS Regression Results                            \n",
      "==============================================================================\n",
      "Dep. Variable:     Online Performance   R-squared:                       0.394\n",
      "Model:                            OLS   Adj. R-squared:                  0.366\n",
      "Method:                 Least Squares   F-statistic:                     14.29\n",
      "Date:                Wed, 14 Dec 2022   Prob (F-statistic):            0.00103\n",
      "Time:                        20:02:11   Log-Likelihood:                -37.069\n",
      "No. Observations:                  24   AIC:                             78.14\n",
      "Df Residuals:                      22   BIC:                             80.49\n",
      "Df Model:                           1                                         \n",
      "Covariance Type:            nonrobust                                         \n",
      "==============================================================================\n",
      "                 coef    std err          t      P>|t|      [0.025      0.975]\n",
      "------------------------------------------------------------------------------\n",
      "const         12.8600      1.523      8.443      0.000       9.701      16.019\n",
      "Sleep Time    -0.8343      0.221     -3.781      0.001      -1.292      -0.377\n",
      "==============================================================================\n",
      "Omnibus:                        0.016   Durbin-Watson:                   2.273\n",
      "Prob(Omnibus):                  0.992   Jarque-Bera (JB):                0.106\n",
      "Skew:                           0.026   Prob(JB):                        0.948\n",
      "Kurtosis:                       2.679   Cond. No.                         44.4\n",
      "==============================================================================\n",
      "\n",
      "Notes:\n",
      "[1] Standard Errors assume that the covariance matrix of the errors is correctly specified.\n"
     ]
    }
   ],
   "source": [
    "X_simple = ed_age['Sleep Time']\n",
    "y = ed_age['Online Performance']\n",
    "X_simple_constant = sm.add_constant(X_simple) #добавляем константу в X\n",
    "\n",
    "model = sm.OLS(y, X_simple_constant) #передаем сначала y, затем X\n",
    "res_simple = model.fit()\n",
    "print(res_simple.summary()) #выводим результаты"
   ]
  },
  {
   "cell_type": "markdown",
   "id": "3c55cfb1",
   "metadata": {},
   "source": [
    "<font color = blue> Коэффициент детерминации согласно результатам равен 0.394, что совпадает со значением, которое было рассчитано вручную выше. Также видим, что коэффициент переменной \"Sleep Time\" совпадает по значению с полученным ранее (=-0.83), как и коэффициент свободного члена (intercept), который равен 12.86 в обоих случаях. Важно отметить, что согласно полученному данным по линейной регрессии, оба коэффициента стат. значимы."
   ]
  },
  {
   "cell_type": "markdown",
   "id": "8442083a",
   "metadata": {},
   "source": [
    "<font color = blue> Далее построим мультивариативную регрессию – линейную регрессию с несколькими предикторами. Включим все переменные, кроме зависимой – оценки во время получения образования в формате онлайн."
   ]
  },
  {
   "cell_type": "code",
   "execution_count": 845,
   "id": "a090f7b1",
   "metadata": {},
   "outputs": [
    {
     "name": "stdout",
     "output_type": "stream",
     "text": [
      "                            OLS Regression Results                            \n",
      "==============================================================================\n",
      "Dep. Variable:     Online Performance   R-squared:                       0.446\n",
      "Model:                            OLS   Adj. R-squared:                  0.363\n",
      "Method:                 Least Squares   F-statistic:                     5.371\n",
      "Date:                Wed, 14 Dec 2022   Prob (F-statistic):            0.00707\n",
      "Time:                        20:02:13   Log-Likelihood:                -35.986\n",
      "No. Observations:                  24   AIC:                             79.97\n",
      "Df Residuals:                      20   BIC:                             84.68\n",
      "Df Model:                           3                                         \n",
      "Covariance Type:            nonrobust                                         \n",
      "=======================================================================================\n",
      "                          coef    std err          t      P>|t|      [0.025      0.975]\n",
      "---------------------------------------------------------------------------------------\n",
      "const                  11.8591      1.801      6.584      0.000       8.102      15.616\n",
      "Monitored by Adults    -0.0054      0.006     -0.918      0.369      -0.018       0.007\n",
      "Sleep Time             -0.7691      0.227     -3.388      0.003      -1.243      -0.296\n",
      "Study Time              0.1619      0.150      1.077      0.294      -0.152       0.476\n",
      "==============================================================================\n",
      "Omnibus:                        0.100   Durbin-Watson:                   2.387\n",
      "Prob(Omnibus):                  0.951   Jarque-Bera (JB):                0.116\n",
      "Skew:                           0.105   Prob(JB):                        0.944\n",
      "Kurtosis:                       2.732   Cond. No.                         353.\n",
      "==============================================================================\n",
      "\n",
      "Notes:\n",
      "[1] Standard Errors assume that the covariance matrix of the errors is correctly specified.\n"
     ]
    }
   ],
   "source": [
    "X_mult = sm.add_constant(ed_age.drop('Online Performance', axis = 1))\n",
    "\n",
    "model = sm.OLS(y, X_mult)\n",
    "res_mult = model.fit()\n",
    "print(res_mult.summary())"
   ]
  },
  {
   "cell_type": "markdown",
   "id": "74029a62",
   "metadata": {},
   "source": [
    "<font color = blue> Отметим, что коэффициент детерминации вырос по сравнению со значением предыдущего уровнения линейной регресии – стал равен 0.446 (был 0.394). Можем сделать вывод, что добавление новых переменных в модель слегка улучшило ее –  теперь наша модель объясняет дисперсию в целевой переменной не на 40%, а на 45%. Наблюдения по контролю старших родственников и часам сна имеют отрицательные коэффициенты, что показывает обратную зависимость. Однако, если мы выбираем уровень доверия alpha=0.05, то наблюдения по столбцам \"Monitored by Adults\" и \"Study Time\" не могут быть названы статистически значимыми. "
   ]
  },
  {
   "cell_type": "markdown",
   "id": "8666366d",
   "metadata": {},
   "source": [
    "#### 2) Логистическая регрессия"
   ]
  },
  {
   "cell_type": "markdown",
   "id": "26dd2a88",
   "metadata": {},
   "source": [
    "<font color = blue> Приступим к нахождению логистической регрессии. Будем анализировать данные по полу, наличию спортивных увлечений, наличию контроля со стороны взрослых, наличию увлечения компьютерными играми и вовлечения в деятельность исследовательских групп, а также по средним оценкам до и после начала пандемии и степени вовлеченности в процесс онлайн-образования – выведем все эти наблюдения в отдельном датасете."
   ]
  },
  {
   "cell_type": "code",
   "execution_count": 859,
   "id": "42d1d05f",
   "metadata": {
    "scrolled": true
   },
   "outputs": [
    {
     "data": {
      "text/html": [
       "<div>\n",
       "<style scoped>\n",
       "    .dataframe tbody tr th:only-of-type {\n",
       "        vertical-align: middle;\n",
       "    }\n",
       "\n",
       "    .dataframe tbody tr th {\n",
       "        vertical-align: top;\n",
       "    }\n",
       "\n",
       "    .dataframe thead th {\n",
       "        text-align: right;\n",
       "    }\n",
       "</style>\n",
       "<table border=\"1\" class=\"dataframe\">\n",
       "  <thead>\n",
       "    <tr style=\"text-align: right;\">\n",
       "      <th></th>\n",
       "      <th>Sex</th>\n",
       "      <th>Age</th>\n",
       "      <th>Sports Involved</th>\n",
       "      <th>Monitored by Adults</th>\n",
       "      <th>Gaming Interested</th>\n",
       "      <th>Av. Mark Before Pandemic</th>\n",
       "      <th>Online Performance</th>\n",
       "      <th>Online Interaction</th>\n",
       "    </tr>\n",
       "  </thead>\n",
       "  <tbody>\n",
       "    <tr>\n",
       "      <th>0</th>\n",
       "      <td>Male</td>\n",
       "      <td>18</td>\n",
       "      <td>False</td>\n",
       "      <td>True</td>\n",
       "      <td>False</td>\n",
       "      <td>10</td>\n",
       "      <td>6</td>\n",
       "      <td>1</td>\n",
       "    </tr>\n",
       "    <tr>\n",
       "      <th>1</th>\n",
       "      <td>Male</td>\n",
       "      <td>19</td>\n",
       "      <td>True</td>\n",
       "      <td>True</td>\n",
       "      <td>True</td>\n",
       "      <td>10</td>\n",
       "      <td>3</td>\n",
       "      <td>1</td>\n",
       "    </tr>\n",
       "    <tr>\n",
       "      <th>2</th>\n",
       "      <td>Male</td>\n",
       "      <td>18</td>\n",
       "      <td>False</td>\n",
       "      <td>True</td>\n",
       "      <td>False</td>\n",
       "      <td>8</td>\n",
       "      <td>6</td>\n",
       "      <td>1</td>\n",
       "    </tr>\n",
       "    <tr>\n",
       "      <th>3</th>\n",
       "      <td>Male</td>\n",
       "      <td>18</td>\n",
       "      <td>True</td>\n",
       "      <td>True</td>\n",
       "      <td>False</td>\n",
       "      <td>10</td>\n",
       "      <td>4</td>\n",
       "      <td>1</td>\n",
       "    </tr>\n",
       "    <tr>\n",
       "      <th>4</th>\n",
       "      <td>Male</td>\n",
       "      <td>18</td>\n",
       "      <td>False</td>\n",
       "      <td>False</td>\n",
       "      <td>True</td>\n",
       "      <td>9</td>\n",
       "      <td>6</td>\n",
       "      <td>3</td>\n",
       "    </tr>\n",
       "    <tr>\n",
       "      <th>...</th>\n",
       "      <td>...</td>\n",
       "      <td>...</td>\n",
       "      <td>...</td>\n",
       "      <td>...</td>\n",
       "      <td>...</td>\n",
       "      <td>...</td>\n",
       "      <td>...</td>\n",
       "      <td>...</td>\n",
       "    </tr>\n",
       "    <tr>\n",
       "      <th>1028</th>\n",
       "      <td>Female</td>\n",
       "      <td>19</td>\n",
       "      <td>True</td>\n",
       "      <td>True</td>\n",
       "      <td>True</td>\n",
       "      <td>10</td>\n",
       "      <td>8</td>\n",
       "      <td>4</td>\n",
       "    </tr>\n",
       "    <tr>\n",
       "      <th>1029</th>\n",
       "      <td>Female</td>\n",
       "      <td>20</td>\n",
       "      <td>False</td>\n",
       "      <td>False</td>\n",
       "      <td>True</td>\n",
       "      <td>8</td>\n",
       "      <td>10</td>\n",
       "      <td>5</td>\n",
       "    </tr>\n",
       "    <tr>\n",
       "      <th>1030</th>\n",
       "      <td>Female</td>\n",
       "      <td>20</td>\n",
       "      <td>False</td>\n",
       "      <td>False</td>\n",
       "      <td>False</td>\n",
       "      <td>8</td>\n",
       "      <td>6</td>\n",
       "      <td>2</td>\n",
       "    </tr>\n",
       "    <tr>\n",
       "      <th>1031</th>\n",
       "      <td>Female</td>\n",
       "      <td>19</td>\n",
       "      <td>True</td>\n",
       "      <td>False</td>\n",
       "      <td>True</td>\n",
       "      <td>7</td>\n",
       "      <td>6</td>\n",
       "      <td>3</td>\n",
       "    </tr>\n",
       "    <tr>\n",
       "      <th>1032</th>\n",
       "      <td>Female</td>\n",
       "      <td>20</td>\n",
       "      <td>False</td>\n",
       "      <td>False</td>\n",
       "      <td>True</td>\n",
       "      <td>9</td>\n",
       "      <td>10</td>\n",
       "      <td>5</td>\n",
       "    </tr>\n",
       "  </tbody>\n",
       "</table>\n",
       "<p>1033 rows × 8 columns</p>\n",
       "</div>"
      ],
      "text/plain": [
       "         Sex  Age  Sports Involved  Monitored by Adults  Gaming Interested  \\\n",
       "0       Male   18            False                 True              False   \n",
       "1       Male   19             True                 True               True   \n",
       "2       Male   18            False                 True              False   \n",
       "3       Male   18             True                 True              False   \n",
       "4       Male   18            False                False               True   \n",
       "...      ...  ...              ...                  ...                ...   \n",
       "1028  Female   19             True                 True               True   \n",
       "1029  Female   20            False                False               True   \n",
       "1030  Female   20            False                False              False   \n",
       "1031  Female   19             True                False               True   \n",
       "1032  Female   20            False                False               True   \n",
       "\n",
       "      Av. Mark Before Pandemic  Online Performance  Online Interaction  \n",
       "0                           10                   6                   1  \n",
       "1                           10                   3                   1  \n",
       "2                            8                   6                   1  \n",
       "3                           10                   4                   1  \n",
       "4                            9                   6                   3  \n",
       "...                        ...                 ...                 ...  \n",
       "1028                        10                   8                   4  \n",
       "1029                         8                  10                   5  \n",
       "1030                         8                   6                   2  \n",
       "1031                         7                   6                   3  \n",
       "1032                         9                  10                   5  \n",
       "\n",
       "[1033 rows x 8 columns]"
      ]
     },
     "execution_count": 859,
     "metadata": {},
     "output_type": "execute_result"
    }
   ],
   "source": [
    "df = ed[['Sex','Age', 'Sports Involved','Monitored by Adults','Gaming Interested',\n",
    "    'Av. Mark Before Pandemic', 'Online Performance', 'Online Interaction']]\n",
    "\n",
    "df"
   ]
  },
  {
   "cell_type": "code",
   "execution_count": 860,
   "id": "198fc6ba",
   "metadata": {},
   "outputs": [],
   "source": [
    "df['Sex'] = df['Sex'].apply(lambda x: 1 if x == 'Male' else 0) \n",
    "#перекодируем пол в бинарную переменную"
   ]
  },
  {
   "cell_type": "code",
   "execution_count": 861,
   "id": "f3245dd7",
   "metadata": {},
   "outputs": [],
   "source": [
    "cols_num = ['Age','Av. Mark Before Pandemic', 'Online Performance', 'Online Interaction'] \n",
    "#отдельно запишем все количественные переменные"
   ]
  },
  {
   "cell_type": "code",
   "execution_count": 862,
   "id": "e48eb3aa",
   "metadata": {},
   "outputs": [
    {
     "name": "stdout",
     "output_type": "stream",
     "text": [
      "Optimization terminated successfully.\n",
      "         Current function value: 0.629670\n",
      "         Iterations 5\n",
      "                           Logit Regression Results                           \n",
      "==============================================================================\n",
      "Dep. Variable:        Sports Involved   No. Observations:                 1033\n",
      "Model:                          Logit   Df Residuals:                     1031\n",
      "Method:                           MLE   Df Model:                            1\n",
      "Date:                Wed, 14 Dec 2022   Pseudo R-squ.:                 0.03479\n",
      "Time:                        20:03:37   Log-Likelihood:                -650.45\n",
      "converged:                       True   LL-Null:                       -673.89\n",
      "Covariance Type:            nonrobust   LLR p-value:                 7.528e-12\n",
      "==============================================================================\n",
      "                 coef    std err          z      P>|z|      [0.025      0.975]\n",
      "------------------------------------------------------------------------------\n",
      "const         -1.1732      0.115    -10.201      0.000      -1.399      -0.948\n",
      "Sex            0.9376      0.141      6.658      0.000       0.662       1.214\n",
      "==============================================================================\n"
     ]
    }
   ],
   "source": [
    "X = sm.add_constant(df['Sex']) #в качестве предиктора будем использовать пол\n",
    "y = df['Sports Involved'] #в качестве целевой переменной будем использовать показатель увлечения спортом\n",
    "\n",
    "logit = sm.Logit(y, X)\n",
    "results = logit.fit()\n",
    "print(results.summary())"
   ]
  },
  {
   "cell_type": "markdown",
   "id": "11e32bb9",
   "metadata": {},
   "source": [
    "<font color = blue> Видим, что оба коэффициента статистически значимы. Вспомним, что коэффициент логистической регресии это логарифм шанса (отношения вероятности того что событие наступит к вероятности того, что оно не наступит) –\n",
    "    $\n",
    "ln(\\frac{p}{1-p})\n",
    "$.   \n",
    "    Для того чтобы интерпретировать коэффициенты, необходимо их для начала экспонировать."
   ]
  },
  {
   "cell_type": "code",
   "execution_count": 863,
   "id": "bb17d804",
   "metadata": {},
   "outputs": [
    {
     "data": {
      "text/plain": [
       "0.30937535443851255"
      ]
     },
     "execution_count": 863,
     "metadata": {},
     "output_type": "execute_result"
    }
   ],
   "source": [
    "np.exp(-1.1732)\n",
    "\n",
    "#если предиктор равен 0, то шанс наличия заинтересованности спортом будет равен 0.3, \n",
    "#то есть для женщин эта вероятность в 3 раза меньше"
   ]
  },
  {
   "cell_type": "code",
   "execution_count": 864,
   "id": "8817d8d3",
   "metadata": {},
   "outputs": [
    {
     "data": {
      "text/plain": [
       "2.553844829777106"
      ]
     },
     "execution_count": 864,
     "metadata": {},
     "output_type": "execute_result"
    }
   ],
   "source": [
    "np.exp( 0.9376)\n",
    "\n",
    "#если предиктор равен 1, то шанс наличия заинтересованности спортом будет равен 2.55\n",
    "#то есть для мужчин шанс наступления события почти 2.5 к 1"
   ]
  },
  {
   "cell_type": "markdown",
   "id": "6d0a2999",
   "metadata": {},
   "source": [
    "<font color = blue> Рассчитаем свободный член – для этого построим таблицу сопряженности, чтобы использовать частоты оттуда и посчитать вероятность принадлежности к той или иной группе."
   ]
  },
  {
   "cell_type": "code",
   "execution_count": 865,
   "id": "f446ea60",
   "metadata": {},
   "outputs": [
    {
     "data": {
      "text/html": [
       "<div>\n",
       "<style scoped>\n",
       "    .dataframe tbody tr th:only-of-type {\n",
       "        vertical-align: middle;\n",
       "    }\n",
       "\n",
       "    .dataframe tbody tr th {\n",
       "        vertical-align: top;\n",
       "    }\n",
       "\n",
       "    .dataframe thead th {\n",
       "        text-align: right;\n",
       "    }\n",
       "</style>\n",
       "<table border=\"1\" class=\"dataframe\">\n",
       "  <thead>\n",
       "    <tr style=\"text-align: right;\">\n",
       "      <th></th>\n",
       "      <th>1</th>\n",
       "      <th>0</th>\n",
       "    </tr>\n",
       "    <tr>\n",
       "      <th>Sports Involved</th>\n",
       "      <th></th>\n",
       "      <th></th>\n",
       "    </tr>\n",
       "  </thead>\n",
       "  <tbody>\n",
       "    <tr>\n",
       "      <th>False</th>\n",
       "      <td>343</td>\n",
       "      <td>320</td>\n",
       "    </tr>\n",
       "    <tr>\n",
       "      <th>True</th>\n",
       "      <td>271</td>\n",
       "      <td>99</td>\n",
       "    </tr>\n",
       "  </tbody>\n",
       "</table>\n",
       "</div>"
      ],
      "text/plain": [
       "                   1    0\n",
       "Sports Involved          \n",
       "False            343  320\n",
       "True             271   99"
      ]
     },
     "execution_count": 865,
     "metadata": {},
     "output_type": "execute_result"
    }
   ],
   "source": [
    "df.groupby('Sports Involved')['Sex'].value_counts().unstack()"
   ]
  },
  {
   "cell_type": "code",
   "execution_count": 866,
   "id": "46c32466",
   "metadata": {
    "scrolled": true
   },
   "outputs": [
    {
     "name": "stdout",
     "output_type": "stream",
     "text": [
      "0.309375\n",
      "-1.1732011456591822\n"
     ]
    }
   ],
   "source": [
    "p_1_female = 99 / (99+320) #вероятность наступления события для женщин\n",
    "p_0_female = 1 - p_1_female #вероятность ненаступления события для женщин\n",
    "odds_1_female = p_1_female / p_0_female #рассчитываем шанс\n",
    "\n",
    "print(odds_1_female)\n",
    "print(np.log(odds_1_female))"
   ]
  },
  {
   "cell_type": "markdown",
   "id": "4ddea999",
   "metadata": {},
   "source": [
    "<font color = blue> Далее попробуем построить логистическую регрессию для всех переменных, которые имеются в анализируемом датасете, предварительно перекодировав некоторые переменные в буллиевые."
   ]
  },
  {
   "cell_type": "code",
   "execution_count": 867,
   "id": "e85b72ba",
   "metadata": {},
   "outputs": [],
   "source": [
    "df['Sports Involved'] = df['Sports Involved'].apply(lambda x: 1 if x == True else 0) \n",
    "df['Monitored by Adults'] = df['Monitored by Adults'].apply(lambda x: 1 if x == True else 0) \n",
    "df['Gaming Interested'] = df['Gaming Interested'].apply(lambda x: 1 if x == True else 0) "
   ]
  },
  {
   "cell_type": "code",
   "execution_count": 870,
   "id": "8cf462ad",
   "metadata": {},
   "outputs": [
    {
     "name": "stdout",
     "output_type": "stream",
     "text": [
      "Optimization terminated successfully.\n",
      "         Current function value: 0.621095\n",
      "         Iterations 5\n",
      "                           Logit Regression Results                           \n",
      "==============================================================================\n",
      "Dep. Variable:        Sports Involved   No. Observations:                 1033\n",
      "Model:                          Logit   Df Residuals:                     1025\n",
      "Method:                           MLE   Df Model:                            7\n",
      "Date:                Wed, 14 Dec 2022   Pseudo R-squ.:                 0.04793\n",
      "Time:                        20:04:29   Log-Likelihood:                -641.59\n",
      "converged:                       True   LL-Null:                       -673.89\n",
      "Covariance Type:            nonrobust   LLR p-value:                 1.808e-11\n",
      "============================================================================================\n",
      "                               coef    std err          z      P>|z|      [0.025      0.975]\n",
      "--------------------------------------------------------------------------------------------\n",
      "const                       -2.4561      0.692     -3.549      0.000      -3.812      -1.100\n",
      "Sex                          0.9178      0.147      6.254      0.000       0.630       1.205\n",
      "Age                          0.0217      0.021      1.010      0.312      -0.020       0.064\n",
      "Monitored by Adults          0.3143      0.136      2.315      0.021       0.048       0.580\n",
      "Gaming Interested            0.3601      0.139      2.592      0.010       0.088       0.632\n",
      "Av. Mark Before Pandemic     0.0302      0.049      0.613      0.540      -0.066       0.127\n",
      "Online Performance          -0.0112      0.042     -0.263      0.792      -0.094       0.072\n",
      "Online Interaction           0.1090      0.074      1.469      0.142      -0.036       0.254\n",
      "============================================================================================\n"
     ]
    }
   ],
   "source": [
    "X = sm.add_constant(df.drop(['Sports Involved'], axis = 1)) #в качестве предикторов используем все переменные\n",
    "y = df['Sports Involved'] #в качестве целевой переменной будем использовать показатель увлечения спортом\n",
    "\n",
    "logit = sm.Logit(y, X)\n",
    "results = logit.fit()\n",
    "print(results.summary())"
   ]
  },
  {
   "cell_type": "markdown",
   "id": "b7240718",
   "metadata": {},
   "source": [
    "<font color = blue> Псевдо-коэффициент детерминации увеличился, что может быть свидетельством более высокого качества этой модели по сравнению с предыдущей. Обратим внимание, что не все переменные статистически значимы, при alpha=0.05 это пол, наличие контроля со стороны взрослых и интерес к компьютерным играм. Экспонируем коэффициенты для интерпретации. "
   ]
  },
  {
   "cell_type": "code",
   "execution_count": 871,
   "id": "8ea216ea",
   "metadata": {},
   "outputs": [
    {
     "data": {
      "text/plain": [
       "2.5037760191104756"
      ]
     },
     "execution_count": 871,
     "metadata": {},
     "output_type": "execute_result"
    }
   ],
   "source": [
    "np.exp(0.9178)\n",
    "\n",
    "#если предиктор по полу равен 1, то шанс наличия заинтересованности спортом будет равен 2.5 \n",
    "#то есть для мужчин эта вероятность почти в 2.5 раза больше"
   ]
  },
  {
   "cell_type": "code",
   "execution_count": 872,
   "id": "767affd0",
   "metadata": {},
   "outputs": [
    {
     "data": {
      "text/plain": [
       "1.3693004650745384"
      ]
     },
     "execution_count": 872,
     "metadata": {},
     "output_type": "execute_result"
    }
   ],
   "source": [
    "np.exp(0.3143)\n",
    "\n",
    "#если предиктор по контролю равен 1, то шанс наличия заинтересованности спортом будет равен 1.36\n",
    "#то есть для тех, кого контролируют родители эта вероятность в 1.36 раза больше"
   ]
  },
  {
   "cell_type": "code",
   "execution_count": 873,
   "id": "bed2cec0",
   "metadata": {
    "scrolled": true
   },
   "outputs": [
    {
     "data": {
      "text/plain": [
       "1.4334727546686823"
      ]
     },
     "execution_count": 873,
     "metadata": {},
     "output_type": "execute_result"
    }
   ],
   "source": [
    "np.exp(0.3601)\n",
    "\n",
    "#если предиктор по интересу к играм равен 1, то шанс наличия заинтересованности спортом будет равен 1.43\n",
    "#то есть для тех, кто интересуется играми эта вероятность в 1.43 раза больше"
   ]
  },
  {
   "cell_type": "markdown",
   "id": "e1a8eab4",
   "metadata": {},
   "source": [
    "<font color = blue> Теперь выполним регрессионный анализ для всех количественных переменных, которые мы собирали вначале анализа. В качестве последнего пункта анализа применим 1) центрирование, чтобы интерпретировать изменения относительно средних значений; 2) стандартизацию, чтобы привести к z-распределению."
   ]
  },
  {
   "cell_type": "code",
   "execution_count": 882,
   "id": "f30e87b1",
   "metadata": {},
   "outputs": [
    {
     "name": "stdout",
     "output_type": "stream",
     "text": [
      "Optimization terminated successfully.\n",
      "         Current function value: 0.651521\n",
      "         Iterations 4\n",
      "                           Logit Regression Results                           \n",
      "==============================================================================\n",
      "Dep. Variable:        Sports Involved   No. Observations:                 1033\n",
      "Model:                          Logit   Df Residuals:                     1028\n",
      "Method:                           MLE   Df Model:                            4\n",
      "Date:                Wed, 14 Dec 2022   Pseudo R-squ.:                0.001292\n",
      "Time:                        20:37:15   Log-Likelihood:                -673.02\n",
      "converged:                       True   LL-Null:                       -673.89\n",
      "Covariance Type:            nonrobust   LLR p-value:                    0.7832\n",
      "============================================================================================\n",
      "                               coef    std err          z      P>|z|      [0.025      0.975]\n",
      "--------------------------------------------------------------------------------------------\n",
      "const                       -0.5843      0.065     -8.994      0.000      -0.712      -0.457\n",
      "Age                          0.0128      0.021      0.620      0.535      -0.028       0.053\n",
      "Av. Mark Before Pandemic     0.0113      0.047      0.239      0.811      -0.081       0.104\n",
      "Online Performance          -0.0157      0.041     -0.384      0.701      -0.096       0.065\n",
      "Online Interaction           0.0744      0.072      1.036      0.300      -0.066       0.215\n",
      "============================================================================================\n"
     ]
    }
   ],
   "source": [
    "X = sm.add_constant(df[cols_num] - df[cols_num].mean()) #из каждой колонки вычитаем ее среднее\n",
    "y = df['Sports Involved']\n",
    "\n",
    "logit = sm.Logit(y, X)\n",
    "results = logit.fit()\n",
    "print(results.summary())"
   ]
  },
  {
   "cell_type": "code",
   "execution_count": 885,
   "id": "1401085e",
   "metadata": {},
   "outputs": [
    {
     "name": "stdout",
     "output_type": "stream",
     "text": [
      "Optimization terminated successfully.\n",
      "         Current function value: 0.651521\n",
      "         Iterations 4\n",
      "                           Logit Regression Results                           \n",
      "==============================================================================\n",
      "Dep. Variable:        Sports Involved   No. Observations:                 1033\n",
      "Model:                          Logit   Df Residuals:                     1028\n",
      "Method:                           MLE   Df Model:                            4\n",
      "Date:                Wed, 14 Dec 2022   Pseudo R-squ.:                0.001292\n",
      "Time:                        20:43:14   Log-Likelihood:                -673.02\n",
      "converged:                       True   LL-Null:                       -673.89\n",
      "Covariance Type:            nonrobust   LLR p-value:                    0.7832\n",
      "============================================================================================\n",
      "                               coef    std err          z      P>|z|      [0.025      0.975]\n",
      "--------------------------------------------------------------------------------------------\n",
      "const                       -0.5843      0.065     -8.994      0.000      -0.712      -0.457\n",
      "Age                          0.0409      0.066      0.620      0.535      -0.088       0.170\n",
      "Av. Mark Before Pandemic     0.0160      0.067      0.239      0.811      -0.115       0.147\n",
      "Online Performance          -0.0302      0.079     -0.384      0.701      -0.185       0.124\n",
      "Online Interaction           0.0823      0.079      1.036      0.300      -0.073       0.238\n",
      "============================================================================================\n"
     ]
    }
   ],
   "source": [
    "X = sm.add_constant((df[cols_num] - df[cols_num].mean()) / df[cols_num].std())\n",
    "#из каждой колонки вычитаем ее среднее и делим на среднеквадратичное отклонение\n",
    "#теперь можем интерпретировать все изменения как изменения не на единицы, а на одно ст. отклонение\n",
    "y = df['Sports Involved']\n",
    "\n",
    "logit = sm.Logit(y, X)\n",
    "results = logit.fit()\n",
    "print(results.summary())"
   ]
  }
 ],
 "metadata": {
  "kernelspec": {
   "display_name": "Python 3 (ipykernel)",
   "language": "python",
   "name": "python3"
  },
  "language_info": {
   "codemirror_mode": {
    "name": "ipython",
    "version": 3
   },
   "file_extension": ".py",
   "mimetype": "text/x-python",
   "name": "python",
   "nbconvert_exporter": "python",
   "pygments_lexer": "ipython3",
   "version": "3.9.12"
  }
 },
 "nbformat": 4,
 "nbformat_minor": 5
}
