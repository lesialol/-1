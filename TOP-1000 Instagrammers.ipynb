{
 "cells": [
  {
   "cell_type": "markdown",
   "id": "f163819e",
   "metadata": {},
   "source": [
    "# <font color = orange> Top 1000 instagrammers – world \n",
    "## This dataset comprises of the details of top 1000 influencers in instagram"
   ]
  },
  {
   "cell_type": "markdown",
   "id": "410cd3cd",
   "metadata": {},
   "source": [
    "### Data Dictionary\n",
    "\n",
    "Name: Name of the account  \n",
    "Rank: Overall rank in the world  \n",
    "Category: Stream of the account (Music, Games, etc..)  \n",
    "Followers: Number of followers  \n",
    "Audience Country: country of the majority of audience  \n",
    "Authentic Engagement: Engagement with the users  \n",
    "Engagement Avg.: Average engagement of the users"
   ]
  },
  {
   "cell_type": "code",
   "execution_count": 1,
   "id": "a77e0a4f",
   "metadata": {},
   "outputs": [
    {
     "data": {
      "text/html": [
       "<div>\n",
       "<style scoped>\n",
       "    .dataframe tbody tr th:only-of-type {\n",
       "        vertical-align: middle;\n",
       "    }\n",
       "\n",
       "    .dataframe tbody tr th {\n",
       "        vertical-align: top;\n",
       "    }\n",
       "\n",
       "    .dataframe thead th {\n",
       "        text-align: right;\n",
       "    }\n",
       "</style>\n",
       "<table border=\"1\" class=\"dataframe\">\n",
       "  <thead>\n",
       "    <tr style=\"text-align: right;\">\n",
       "      <th></th>\n",
       "      <th>Name</th>\n",
       "      <th>Rank</th>\n",
       "      <th>Category</th>\n",
       "      <th>Followers</th>\n",
       "      <th>Audience Country</th>\n",
       "      <th>Authentic Engagement</th>\n",
       "      <th>Engagement Avg.</th>\n",
       "    </tr>\n",
       "  </thead>\n",
       "  <tbody>\n",
       "    <tr>\n",
       "      <th>0</th>\n",
       "      <td>cristiano</td>\n",
       "      <td>1</td>\n",
       "      <td>Sports with a ball</td>\n",
       "      <td>462.9M</td>\n",
       "      <td>India</td>\n",
       "      <td>5.5M</td>\n",
       "      <td>6.6M</td>\n",
       "    </tr>\n",
       "    <tr>\n",
       "      <th>1</th>\n",
       "      <td>leomessi</td>\n",
       "      <td>2</td>\n",
       "      <td>Sports with a ballFamily</td>\n",
       "      <td>347.2M</td>\n",
       "      <td>Argentina</td>\n",
       "      <td>3.6M</td>\n",
       "      <td>4.8M</td>\n",
       "    </tr>\n",
       "    <tr>\n",
       "      <th>2</th>\n",
       "      <td>kendalljenner</td>\n",
       "      <td>3</td>\n",
       "      <td>ModelingFashion</td>\n",
       "      <td>247.6M</td>\n",
       "      <td>United States</td>\n",
       "      <td>3M</td>\n",
       "      <td>4.9M</td>\n",
       "    </tr>\n",
       "    <tr>\n",
       "      <th>3</th>\n",
       "      <td>arianagrande</td>\n",
       "      <td>4</td>\n",
       "      <td>Music</td>\n",
       "      <td>321.4M</td>\n",
       "      <td>United States</td>\n",
       "      <td>2.4M</td>\n",
       "      <td>3.4M</td>\n",
       "    </tr>\n",
       "    <tr>\n",
       "      <th>4</th>\n",
       "      <td>zendaya</td>\n",
       "      <td>5</td>\n",
       "      <td>Cinema &amp; Actors/actressesFashion</td>\n",
       "      <td>147M</td>\n",
       "      <td>United States</td>\n",
       "      <td>4.3M</td>\n",
       "      <td>5.8M</td>\n",
       "    </tr>\n",
       "    <tr>\n",
       "      <th>...</th>\n",
       "      <td>...</td>\n",
       "      <td>...</td>\n",
       "      <td>...</td>\n",
       "      <td>...</td>\n",
       "      <td>...</td>\n",
       "      <td>...</td>\n",
       "      <td>...</td>\n",
       "    </tr>\n",
       "    <tr>\n",
       "      <th>995</th>\n",
       "      <td>nimratkhairaofficial</td>\n",
       "      <td>996</td>\n",
       "      <td>Music</td>\n",
       "      <td>8M</td>\n",
       "      <td>India</td>\n",
       "      <td>211.1K</td>\n",
       "      <td>261.8K</td>\n",
       "    </tr>\n",
       "    <tr>\n",
       "      <th>996</th>\n",
       "      <td>hanhyojoo222</td>\n",
       "      <td>997</td>\n",
       "      <td>TravelCinema &amp; Actors/actresses</td>\n",
       "      <td>4M</td>\n",
       "      <td>Indonesia</td>\n",
       "      <td>434.2K</td>\n",
       "      <td>518.2K</td>\n",
       "    </tr>\n",
       "    <tr>\n",
       "      <th>997</th>\n",
       "      <td>memphisdepay</td>\n",
       "      <td>998</td>\n",
       "      <td>Sports with a ball</td>\n",
       "      <td>15M</td>\n",
       "      <td>France</td>\n",
       "      <td>76.4K</td>\n",
       "      <td>135.5K</td>\n",
       "    </tr>\n",
       "    <tr>\n",
       "      <th>998</th>\n",
       "      <td>arminzareeiofficial</td>\n",
       "      <td>999</td>\n",
       "      <td>NaN</td>\n",
       "      <td>9.8M</td>\n",
       "      <td>Iran</td>\n",
       "      <td>135.4K</td>\n",
       "      <td>214K</td>\n",
       "    </tr>\n",
       "    <tr>\n",
       "      <th>999</th>\n",
       "      <td>noorstars</td>\n",
       "      <td>1000</td>\n",
       "      <td>Shows</td>\n",
       "      <td>13M</td>\n",
       "      <td>Iraq</td>\n",
       "      <td>117.6K</td>\n",
       "      <td>157.6K</td>\n",
       "    </tr>\n",
       "  </tbody>\n",
       "</table>\n",
       "<p>1000 rows × 7 columns</p>\n",
       "</div>"
      ],
      "text/plain": [
       "                     Name  Rank                          Category Followers  \\\n",
       "0               cristiano     1                Sports with a ball    462.9M   \n",
       "1                leomessi     2          Sports with a ballFamily    347.2M   \n",
       "2           kendalljenner     3                   ModelingFashion    247.6M   \n",
       "3            arianagrande     4                             Music    321.4M   \n",
       "4                 zendaya     5  Cinema & Actors/actressesFashion      147M   \n",
       "..                    ...   ...                               ...       ...   \n",
       "995  nimratkhairaofficial   996                             Music        8M   \n",
       "996          hanhyojoo222   997   TravelCinema & Actors/actresses        4M   \n",
       "997          memphisdepay   998                Sports with a ball       15M   \n",
       "998   arminzareeiofficial   999                               NaN      9.8M   \n",
       "999             noorstars  1000                             Shows       13M   \n",
       "\n",
       "    Audience Country Authentic Engagement Engagement Avg.  \n",
       "0              India                 5.5M            6.6M  \n",
       "1          Argentina                 3.6M            4.8M  \n",
       "2      United States                   3M            4.9M  \n",
       "3      United States                 2.4M            3.4M  \n",
       "4      United States                 4.3M            5.8M  \n",
       "..               ...                  ...             ...  \n",
       "995            India               211.1K          261.8K  \n",
       "996        Indonesia               434.2K          518.2K  \n",
       "997           France                76.4K          135.5K  \n",
       "998             Iran               135.4K            214K  \n",
       "999             Iraq               117.6K          157.6K  \n",
       "\n",
       "[1000 rows x 7 columns]"
      ]
     },
     "execution_count": 1,
     "metadata": {},
     "output_type": "execute_result"
    }
   ],
   "source": [
    "import pandas as pd\n",
    "import numpy as np\n",
    "import matplotlib.pyplot as plt\n",
    "\n",
    "inst = pd.read_csv('/Users/olesya/Desktop/top_1000_instagrammers.csv', sep = ',')\n",
    "inst"
   ]
  },
  {
   "cell_type": "markdown",
   "id": "3d8de358",
   "metadata": {},
   "source": [
    "### 0. Подготовка датасета\n",
    "#### Работа с типами данных, пропущенными данными, заголовками и др."
   ]
  },
  {
   "cell_type": "code",
   "execution_count": 2,
   "id": "058b188c",
   "metadata": {
    "scrolled": false
   },
   "outputs": [
    {
     "name": "stdout",
     "output_type": "stream",
     "text": [
      "<class 'pandas.core.frame.DataFrame'>\n",
      "RangeIndex: 1000 entries, 0 to 999\n",
      "Data columns (total 7 columns):\n",
      " #   Column                Non-Null Count  Dtype \n",
      "---  ------                --------------  ----- \n",
      " 0   Name                  1000 non-null   object\n",
      " 1   Rank                  1000 non-null   int64 \n",
      " 2   Category              916 non-null    object\n",
      " 3   Followers             1000 non-null   object\n",
      " 4   Audience Country      986 non-null    object\n",
      " 5   Authentic Engagement  1000 non-null   object\n",
      " 6   Engagement Avg.       1000 non-null   object\n",
      "dtypes: int64(1), object(6)\n",
      "memory usage: 54.8+ KB\n"
     ]
    }
   ],
   "source": [
    "inst.info()"
   ]
  },
  {
   "cell_type": "markdown",
   "id": "e39b0bd7",
   "metadata": {},
   "source": [
    "<font color = blue> Прежде всего, обратим внимание на то, что ячейкам под заголовками \"Followers\", \"Authentic Engagement\" и \" Engagement Avg.\" присвоен тип object, хотя по смыслу это числовые данные – значит необходимо перекодировать эти колонки в тип int.   \n",
    "Задача усложняется тем, что в значениях присутствуют буквы M и K, которые обозначают порядок миллионов и тысяч.  \n",
    "Создадим функцию, чтобы избавиться от данных букв в ячейках и затем изменить тип данных на необходимый."
   ]
  },
  {
   "cell_type": "code",
   "execution_count": 3,
   "id": "ec29e77b",
   "metadata": {},
   "outputs": [],
   "source": [
    "def parse_quantity(data):\n",
    "    postfix = data[-1:]\n",
    "    units = {'M': 10**6, 'K': 10**3,}\n",
    "    if postfix.isalpha():\n",
    "        unit = units[postfix]\n",
    "        data = float(data[:-1])\n",
    "    else:\n",
    "        unit = 1\n",
    "        data = float(data)\n",
    "    return int(data * unit)"
   ]
  },
  {
   "cell_type": "code",
   "execution_count": 4,
   "id": "79a87f8d",
   "metadata": {},
   "outputs": [],
   "source": [
    "inst['Followers'] = inst['Followers'].apply(parse_quantity)\n",
    "inst['Authentic Engagement'] = inst['Authentic Engagement'].apply(parse_quantity)\n",
    "inst['Engagement Avg.'] = inst['Engagement Avg.'].apply(parse_quantity)"
   ]
  },
  {
   "cell_type": "markdown",
   "id": "860ffd78",
   "metadata": {},
   "source": [
    "<font color = blue> Далее убедимся в том, что функция сработала, и мы действительно получили необходимые значения типа int."
   ]
  },
  {
   "cell_type": "code",
   "execution_count": 5,
   "id": "4797b539",
   "metadata": {},
   "outputs": [
    {
     "name": "stdout",
     "output_type": "stream",
     "text": [
      "<class 'pandas.core.frame.DataFrame'>\n",
      "RangeIndex: 1000 entries, 0 to 999\n",
      "Data columns (total 7 columns):\n",
      " #   Column                Non-Null Count  Dtype \n",
      "---  ------                --------------  ----- \n",
      " 0   Name                  1000 non-null   object\n",
      " 1   Rank                  1000 non-null   int64 \n",
      " 2   Category              916 non-null    object\n",
      " 3   Followers             1000 non-null   int64 \n",
      " 4   Audience Country      986 non-null    object\n",
      " 5   Authentic Engagement  1000 non-null   int64 \n",
      " 6   Engagement Avg.       1000 non-null   int64 \n",
      "dtypes: int64(4), object(3)\n",
      "memory usage: 54.8+ KB\n"
     ]
    }
   ],
   "source": [
    "inst.info()"
   ]
  },
  {
   "cell_type": "code",
   "execution_count": 6,
   "id": "70abc519",
   "metadata": {
    "scrolled": false
   },
   "outputs": [
    {
     "data": {
      "text/html": [
       "<div>\n",
       "<style scoped>\n",
       "    .dataframe tbody tr th:only-of-type {\n",
       "        vertical-align: middle;\n",
       "    }\n",
       "\n",
       "    .dataframe tbody tr th {\n",
       "        vertical-align: top;\n",
       "    }\n",
       "\n",
       "    .dataframe thead th {\n",
       "        text-align: right;\n",
       "    }\n",
       "</style>\n",
       "<table border=\"1\" class=\"dataframe\">\n",
       "  <thead>\n",
       "    <tr style=\"text-align: right;\">\n",
       "      <th></th>\n",
       "      <th>Name</th>\n",
       "      <th>Rank</th>\n",
       "      <th>Category</th>\n",
       "      <th>Followers</th>\n",
       "      <th>Audience Country</th>\n",
       "      <th>Authentic Engagement</th>\n",
       "      <th>Engagement Avg.</th>\n",
       "    </tr>\n",
       "  </thead>\n",
       "  <tbody>\n",
       "    <tr>\n",
       "      <th>0</th>\n",
       "      <td>cristiano</td>\n",
       "      <td>1</td>\n",
       "      <td>Sports with a ball</td>\n",
       "      <td>462900000</td>\n",
       "      <td>India</td>\n",
       "      <td>5500000</td>\n",
       "      <td>6600000</td>\n",
       "    </tr>\n",
       "    <tr>\n",
       "      <th>1</th>\n",
       "      <td>leomessi</td>\n",
       "      <td>2</td>\n",
       "      <td>Sports with a ballFamily</td>\n",
       "      <td>347200000</td>\n",
       "      <td>Argentina</td>\n",
       "      <td>3600000</td>\n",
       "      <td>4800000</td>\n",
       "    </tr>\n",
       "    <tr>\n",
       "      <th>2</th>\n",
       "      <td>kendalljenner</td>\n",
       "      <td>3</td>\n",
       "      <td>ModelingFashion</td>\n",
       "      <td>247600000</td>\n",
       "      <td>United States</td>\n",
       "      <td>3000000</td>\n",
       "      <td>4900000</td>\n",
       "    </tr>\n",
       "    <tr>\n",
       "      <th>3</th>\n",
       "      <td>arianagrande</td>\n",
       "      <td>4</td>\n",
       "      <td>Music</td>\n",
       "      <td>321400000</td>\n",
       "      <td>United States</td>\n",
       "      <td>2400000</td>\n",
       "      <td>3400000</td>\n",
       "    </tr>\n",
       "    <tr>\n",
       "      <th>4</th>\n",
       "      <td>zendaya</td>\n",
       "      <td>5</td>\n",
       "      <td>Cinema &amp; Actors/actressesFashion</td>\n",
       "      <td>147000000</td>\n",
       "      <td>United States</td>\n",
       "      <td>4300000</td>\n",
       "      <td>5800000</td>\n",
       "    </tr>\n",
       "  </tbody>\n",
       "</table>\n",
       "</div>"
      ],
      "text/plain": [
       "            Name  Rank                          Category  Followers  \\\n",
       "0      cristiano     1                Sports with a ball  462900000   \n",
       "1       leomessi     2          Sports with a ballFamily  347200000   \n",
       "2  kendalljenner     3                   ModelingFashion  247600000   \n",
       "3   arianagrande     4                             Music  321400000   \n",
       "4        zendaya     5  Cinema & Actors/actressesFashion  147000000   \n",
       "\n",
       "  Audience Country  Authentic Engagement  Engagement Avg.  \n",
       "0            India               5500000          6600000  \n",
       "1        Argentina               3600000          4800000  \n",
       "2    United States               3000000          4900000  \n",
       "3    United States               2400000          3400000  \n",
       "4    United States               4300000          5800000  "
      ]
     },
     "execution_count": 6,
     "metadata": {},
     "output_type": "execute_result"
    }
   ],
   "source": [
    "inst.head()"
   ]
  },
  {
   "cell_type": "markdown",
   "id": "ecf1105f",
   "metadata": {},
   "source": [
    "<font color = blue> Перейдем к работе над колонками \"Category\" и \"Audience Country\", которым также изначально присвоен тип данных object. Колонка \"Category\" описывает тематические категории, к которым отнесен тот или иной блогер из списка, а в колонке \"Audience Country\" мы имеем конечный и фиксированный список стран. Соответственно, более подходящим типом для этих данных будет являться тип category. Переведем данные в необходимый формат."
   ]
  },
  {
   "cell_type": "code",
   "execution_count": 7,
   "id": "b34f31f8",
   "metadata": {},
   "outputs": [],
   "source": [
    "inst['Category'] = pd.Categorical(inst['Category'])\n",
    "inst['Audience Country'] = pd.Categorical(inst['Audience Country'])"
   ]
  },
  {
   "cell_type": "markdown",
   "id": "2c6e66d9",
   "metadata": {},
   "source": [
    "<font color = blue> И проверим, что теперь колонкам \"Category\" и \"Audience Country\" действительно присвоен тип category."
   ]
  },
  {
   "cell_type": "code",
   "execution_count": 8,
   "id": "63d34333",
   "metadata": {
    "scrolled": true
   },
   "outputs": [
    {
     "name": "stdout",
     "output_type": "stream",
     "text": [
      "<class 'pandas.core.frame.DataFrame'>\n",
      "RangeIndex: 1000 entries, 0 to 999\n",
      "Data columns (total 7 columns):\n",
      " #   Column                Non-Null Count  Dtype   \n",
      "---  ------                --------------  -----   \n",
      " 0   Name                  1000 non-null   object  \n",
      " 1   Rank                  1000 non-null   int64   \n",
      " 2   Category              916 non-null    category\n",
      " 3   Followers             1000 non-null   int64   \n",
      " 4   Audience Country      986 non-null    category\n",
      " 5   Authentic Engagement  1000 non-null   int64   \n",
      " 6   Engagement Avg.       1000 non-null   int64   \n",
      "dtypes: category(2), int64(4), object(1)\n",
      "memory usage: 48.7+ KB\n"
     ]
    }
   ],
   "source": [
    "inst.info()"
   ]
  },
  {
   "cell_type": "code",
   "execution_count": 9,
   "id": "b8c03f31",
   "metadata": {
    "scrolled": true
   },
   "outputs": [
    {
     "data": {
      "text/plain": [
       "Index(['Adult content', 'Animals', 'Art/Artists', 'Art/ArtistsBeauty',\n",
       "       'Art/ArtistsCinema & Actors/actresses',\n",
       "       'Art/ArtistsCinema & Actors/actressesMusic',\n",
       "       'Art/ArtistsCinema & Actors/actressesShows',\n",
       "       'Art/ArtistsFashionModeling', 'Art/ArtistsFashionMusic',\n",
       "       'Art/ArtistsShows',\n",
       "       ...\n",
       "       'ShowsModeling', 'ShowsMusic', 'Sports with a ball',\n",
       "       'Sports with a ballClothing & Outfits', 'Sports with a ballFamily',\n",
       "       'Sports with a ballLifestyle', 'Sports with a ballLifestyleKids & Toys',\n",
       "       'Sports with a ballLiterature & Journalism', 'Sports with a ballShows',\n",
       "       'TravelCinema & Actors/actresses'],\n",
       "      dtype='object', length=153)"
      ]
     },
     "execution_count": 9,
     "metadata": {},
     "output_type": "execute_result"
    }
   ],
   "source": [
    "inst['Category'].cat.categories"
   ]
  },
  {
   "cell_type": "markdown",
   "id": "188935ea",
   "metadata": {},
   "source": [
    "<font color = blue> *Обратим внимание, что некоторые данные в колонке \"Category\" представлены не совсем в \"чистом\" виде, так как одному блогеру могут быть присвоены несколько категорий, которые в таком случае \"слипаются\" при перечислении. Будем иметь это в виду в будущем, учитывая при анализе данных из этой колонки."
   ]
  },
  {
   "cell_type": "code",
   "execution_count": 10,
   "id": "b35a6ef4",
   "metadata": {
    "scrolled": false
   },
   "outputs": [
    {
     "data": {
      "text/plain": [
       "Index(['Albania', 'Algeria', 'Argentina', 'Brazil', 'Chile', 'China',\n",
       "       'Colombia', 'Egypt', 'France', 'Germany', 'India', 'Indonesia', 'Iran',\n",
       "       'Iraq', 'Italy', 'Japan', 'Kazakhstan', 'Mexico', 'Morocco', 'Nigeria',\n",
       "       'Pakistan', 'Philippines', 'Poland', 'Russia', 'Senegal', 'South Korea',\n",
       "       'Spain', 'Syria', 'Thailand', 'Turkey', 'United Arab Emirates',\n",
       "       'United Kingdom', 'United States'],\n",
       "      dtype='object')"
      ]
     },
     "execution_count": 10,
     "metadata": {},
     "output_type": "execute_result"
    }
   ],
   "source": [
    "inst['Audience Country'].cat.categories"
   ]
  },
  {
   "cell_type": "markdown",
   "id": "337e8ea8",
   "metadata": {},
   "source": [
    "<font color = blue> Отметим также, что согласно df.info в датасете присутствуют пропущенные значения. Так как мы имеем пропуски в колонках \"Category\" и \"Audience Country\" с категориальным типом данных, то заполнить числовыми данными по методу среднего или рандомного числа не получится. Посмотрим, сколько всего таких пропущенных значений."
   ]
  },
  {
   "cell_type": "code",
   "execution_count": 11,
   "id": "4d9d32bb",
   "metadata": {
    "scrolled": false
   },
   "outputs": [
    {
     "data": {
      "text/plain": [
       "Name                     0\n",
       "Rank                     0\n",
       "Category                84\n",
       "Followers                0\n",
       "Audience Country        14\n",
       "Authentic Engagement     0\n",
       "Engagement Avg.          0\n",
       "dtype: int64"
      ]
     },
     "execution_count": 11,
     "metadata": {},
     "output_type": "execute_result"
    }
   ],
   "source": [
    "inst.isna().sum()"
   ]
  },
  {
   "cell_type": "code",
   "execution_count": 12,
   "id": "a690ef36",
   "metadata": {
    "scrolled": true
   },
   "outputs": [
    {
     "data": {
      "text/html": [
       "<div>\n",
       "<style scoped>\n",
       "    .dataframe tbody tr th:only-of-type {\n",
       "        vertical-align: middle;\n",
       "    }\n",
       "\n",
       "    .dataframe tbody tr th {\n",
       "        vertical-align: top;\n",
       "    }\n",
       "\n",
       "    .dataframe thead th {\n",
       "        text-align: right;\n",
       "    }\n",
       "</style>\n",
       "<table border=\"1\" class=\"dataframe\">\n",
       "  <thead>\n",
       "    <tr style=\"text-align: right;\">\n",
       "      <th></th>\n",
       "      <th>Name</th>\n",
       "      <th>Rank</th>\n",
       "      <th>Category</th>\n",
       "      <th>Followers</th>\n",
       "      <th>Audience Country</th>\n",
       "      <th>Authentic Engagement</th>\n",
       "      <th>Engagement Avg.</th>\n",
       "    </tr>\n",
       "  </thead>\n",
       "  <tbody>\n",
       "    <tr>\n",
       "      <th>9</th>\n",
       "      <td>thv</td>\n",
       "      <td>10</td>\n",
       "      <td>NaN</td>\n",
       "      <td>46300000</td>\n",
       "      <td>United States</td>\n",
       "      <td>13300000</td>\n",
       "      <td>13300000</td>\n",
       "    </tr>\n",
       "    <tr>\n",
       "      <th>14</th>\n",
       "      <td>j.m</td>\n",
       "      <td>15</td>\n",
       "      <td>NaN</td>\n",
       "      <td>38100000</td>\n",
       "      <td>NaN</td>\n",
       "      <td>11800000</td>\n",
       "      <td>11800000</td>\n",
       "    </tr>\n",
       "    <tr>\n",
       "      <th>16</th>\n",
       "      <td>jin</td>\n",
       "      <td>17</td>\n",
       "      <td>NaN</td>\n",
       "      <td>37400000</td>\n",
       "      <td>United States</td>\n",
       "      <td>9900000</td>\n",
       "      <td>9900000</td>\n",
       "    </tr>\n",
       "    <tr>\n",
       "      <th>101</th>\n",
       "      <td>yawnzzn</td>\n",
       "      <td>102</td>\n",
       "      <td>NaN</td>\n",
       "      <td>9600000</td>\n",
       "      <td>India</td>\n",
       "      <td>3200000</td>\n",
       "      <td>4099999</td>\n",
       "    </tr>\n",
       "    <tr>\n",
       "      <th>102</th>\n",
       "      <td>chrisevans</td>\n",
       "      <td>103</td>\n",
       "      <td>NaN</td>\n",
       "      <td>17000000</td>\n",
       "      <td>United States</td>\n",
       "      <td>1900000</td>\n",
       "      <td>2300000</td>\n",
       "    </tr>\n",
       "    <tr>\n",
       "      <th>...</th>\n",
       "      <td>...</td>\n",
       "      <td>...</td>\n",
       "      <td>...</td>\n",
       "      <td>...</td>\n",
       "      <td>...</td>\n",
       "      <td>...</td>\n",
       "      <td>...</td>\n",
       "    </tr>\n",
       "    <tr>\n",
       "      <th>971</th>\n",
       "      <td>hank_says_hank</td>\n",
       "      <td>972</td>\n",
       "      <td>NaN</td>\n",
       "      <td>3200000</td>\n",
       "      <td>South Korea</td>\n",
       "      <td>566700</td>\n",
       "      <td>665100</td>\n",
       "    </tr>\n",
       "    <tr>\n",
       "      <th>979</th>\n",
       "      <td>allusnehareddy</td>\n",
       "      <td>980</td>\n",
       "      <td>NaN</td>\n",
       "      <td>8199999</td>\n",
       "      <td>India</td>\n",
       "      <td>220700</td>\n",
       "      <td>256100</td>\n",
       "    </tr>\n",
       "    <tr>\n",
       "      <th>981</th>\n",
       "      <td>ho5hi_kwon</td>\n",
       "      <td>982</td>\n",
       "      <td>NaN</td>\n",
       "      <td>3000000</td>\n",
       "      <td>Indonesia</td>\n",
       "      <td>547000</td>\n",
       "      <td>712100</td>\n",
       "    </tr>\n",
       "    <tr>\n",
       "      <th>986</th>\n",
       "      <td>jxxvvxxk</td>\n",
       "      <td>987</td>\n",
       "      <td>NaN</td>\n",
       "      <td>3400000</td>\n",
       "      <td>Indonesia</td>\n",
       "      <td>489800</td>\n",
       "      <td>614300</td>\n",
       "    </tr>\n",
       "    <tr>\n",
       "      <th>998</th>\n",
       "      <td>arminzareeiofficial</td>\n",
       "      <td>999</td>\n",
       "      <td>NaN</td>\n",
       "      <td>9800000</td>\n",
       "      <td>Iran</td>\n",
       "      <td>135400</td>\n",
       "      <td>214000</td>\n",
       "    </tr>\n",
       "  </tbody>\n",
       "</table>\n",
       "<p>84 rows × 7 columns</p>\n",
       "</div>"
      ],
      "text/plain": [
       "                    Name  Rank Category  Followers Audience Country  \\\n",
       "9                    thv    10      NaN   46300000    United States   \n",
       "14                   j.m    15      NaN   38100000              NaN   \n",
       "16                   jin    17      NaN   37400000    United States   \n",
       "101              yawnzzn   102      NaN    9600000            India   \n",
       "102           chrisevans   103      NaN   17000000    United States   \n",
       "..                   ...   ...      ...        ...              ...   \n",
       "971       hank_says_hank   972      NaN    3200000      South Korea   \n",
       "979       allusnehareddy   980      NaN    8199999            India   \n",
       "981           ho5hi_kwon   982      NaN    3000000        Indonesia   \n",
       "986             jxxvvxxk   987      NaN    3400000        Indonesia   \n",
       "998  arminzareeiofficial   999      NaN    9800000             Iran   \n",
       "\n",
       "     Authentic Engagement  Engagement Avg.  \n",
       "9                13300000         13300000  \n",
       "14               11800000         11800000  \n",
       "16                9900000          9900000  \n",
       "101               3200000          4099999  \n",
       "102               1900000          2300000  \n",
       "..                    ...              ...  \n",
       "971                566700           665100  \n",
       "979                220700           256100  \n",
       "981                547000           712100  \n",
       "986                489800           614300  \n",
       "998                135400           214000  \n",
       "\n",
       "[84 rows x 7 columns]"
      ]
     },
     "execution_count": 12,
     "metadata": {},
     "output_type": "execute_result"
    }
   ],
   "source": [
    "inst[inst['Category'].isna()]"
   ]
  },
  {
   "cell_type": "code",
   "execution_count": 13,
   "id": "5777105a",
   "metadata": {
    "scrolled": true
   },
   "outputs": [
    {
     "data": {
      "text/html": [
       "<div>\n",
       "<style scoped>\n",
       "    .dataframe tbody tr th:only-of-type {\n",
       "        vertical-align: middle;\n",
       "    }\n",
       "\n",
       "    .dataframe tbody tr th {\n",
       "        vertical-align: top;\n",
       "    }\n",
       "\n",
       "    .dataframe thead th {\n",
       "        text-align: right;\n",
       "    }\n",
       "</style>\n",
       "<table border=\"1\" class=\"dataframe\">\n",
       "  <thead>\n",
       "    <tr style=\"text-align: right;\">\n",
       "      <th></th>\n",
       "      <th>Name</th>\n",
       "      <th>Rank</th>\n",
       "      <th>Category</th>\n",
       "      <th>Followers</th>\n",
       "      <th>Audience Country</th>\n",
       "      <th>Authentic Engagement</th>\n",
       "      <th>Engagement Avg.</th>\n",
       "    </tr>\n",
       "  </thead>\n",
       "  <tbody>\n",
       "    <tr>\n",
       "      <th>14</th>\n",
       "      <td>j.m</td>\n",
       "      <td>15</td>\n",
       "      <td>NaN</td>\n",
       "      <td>38100000</td>\n",
       "      <td>NaN</td>\n",
       "      <td>11800000</td>\n",
       "      <td>11800000</td>\n",
       "    </tr>\n",
       "    <tr>\n",
       "      <th>15</th>\n",
       "      <td>agustd</td>\n",
       "      <td>16</td>\n",
       "      <td>Lifestyle</td>\n",
       "      <td>36500000</td>\n",
       "      <td>NaN</td>\n",
       "      <td>10400000</td>\n",
       "      <td>10400000</td>\n",
       "    </tr>\n",
       "    <tr>\n",
       "      <th>29</th>\n",
       "      <td>jungkook.97</td>\n",
       "      <td>30</td>\n",
       "      <td>Music</td>\n",
       "      <td>43000000</td>\n",
       "      <td>NaN</td>\n",
       "      <td>5200000</td>\n",
       "      <td>5200000</td>\n",
       "    </tr>\n",
       "    <tr>\n",
       "      <th>35</th>\n",
       "      <td>rkive</td>\n",
       "      <td>36</td>\n",
       "      <td>Lifestyle</td>\n",
       "      <td>36000000</td>\n",
       "      <td>NaN</td>\n",
       "      <td>5400000</td>\n",
       "      <td>5400000</td>\n",
       "    </tr>\n",
       "    <tr>\n",
       "      <th>204</th>\n",
       "      <td>marshmello</td>\n",
       "      <td>205</td>\n",
       "      <td>NaN</td>\n",
       "      <td>29400000</td>\n",
       "      <td>NaN</td>\n",
       "      <td>0</td>\n",
       "      <td>579200</td>\n",
       "    </tr>\n",
       "    <tr>\n",
       "      <th>216</th>\n",
       "      <td>marshmello</td>\n",
       "      <td>217</td>\n",
       "      <td>Music</td>\n",
       "      <td>29400000</td>\n",
       "      <td>NaN</td>\n",
       "      <td>0</td>\n",
       "      <td>547600</td>\n",
       "    </tr>\n",
       "    <tr>\n",
       "      <th>276</th>\n",
       "      <td>lomon991111</td>\n",
       "      <td>277</td>\n",
       "      <td>Lifestyle</td>\n",
       "      <td>5700000</td>\n",
       "      <td>NaN</td>\n",
       "      <td>0</td>\n",
       "      <td>2100000</td>\n",
       "    </tr>\n",
       "    <tr>\n",
       "      <th>544</th>\n",
       "      <td>pablogavi</td>\n",
       "      <td>545</td>\n",
       "      <td>NaN</td>\n",
       "      <td>4700000</td>\n",
       "      <td>NaN</td>\n",
       "      <td>0</td>\n",
       "      <td>1000000</td>\n",
       "    </tr>\n",
       "    <tr>\n",
       "      <th>595</th>\n",
       "      <td>joshu_acoustic</td>\n",
       "      <td>596</td>\n",
       "      <td>Music</td>\n",
       "      <td>4200000</td>\n",
       "      <td>NaN</td>\n",
       "      <td>0</td>\n",
       "      <td>1000000</td>\n",
       "    </tr>\n",
       "    <tr>\n",
       "      <th>674</th>\n",
       "      <td>sugaringcandy</td>\n",
       "      <td>675</td>\n",
       "      <td>NaN</td>\n",
       "      <td>2500000</td>\n",
       "      <td>NaN</td>\n",
       "      <td>0</td>\n",
       "      <td>1400000</td>\n",
       "    </tr>\n",
       "    <tr>\n",
       "      <th>695</th>\n",
       "      <td>coolio_daryl</td>\n",
       "      <td>696</td>\n",
       "      <td>NaN</td>\n",
       "      <td>5900000</td>\n",
       "      <td>NaN</td>\n",
       "      <td>0</td>\n",
       "      <td>581300</td>\n",
       "    </tr>\n",
       "    <tr>\n",
       "      <th>712</th>\n",
       "      <td>anas</td>\n",
       "      <td>713</td>\n",
       "      <td>FamilyShows</td>\n",
       "      <td>5700000</td>\n",
       "      <td>NaN</td>\n",
       "      <td>0</td>\n",
       "      <td>577700</td>\n",
       "    </tr>\n",
       "    <tr>\n",
       "      <th>759</th>\n",
       "      <td>vernonline</td>\n",
       "      <td>760</td>\n",
       "      <td>NaN</td>\n",
       "      <td>4099999</td>\n",
       "      <td>NaN</td>\n",
       "      <td>0</td>\n",
       "      <td>719400</td>\n",
       "    </tr>\n",
       "    <tr>\n",
       "      <th>843</th>\n",
       "      <td>josephquinn</td>\n",
       "      <td>844</td>\n",
       "      <td>NaN</td>\n",
       "      <td>2500000</td>\n",
       "      <td>NaN</td>\n",
       "      <td>0</td>\n",
       "      <td>1100000</td>\n",
       "    </tr>\n",
       "  </tbody>\n",
       "</table>\n",
       "</div>"
      ],
      "text/plain": [
       "               Name  Rank     Category  Followers Audience Country  \\\n",
       "14              j.m    15          NaN   38100000              NaN   \n",
       "15           agustd    16    Lifestyle   36500000              NaN   \n",
       "29      jungkook.97    30        Music   43000000              NaN   \n",
       "35            rkive    36    Lifestyle   36000000              NaN   \n",
       "204      marshmello   205          NaN   29400000              NaN   \n",
       "216      marshmello   217        Music   29400000              NaN   \n",
       "276     lomon991111   277    Lifestyle    5700000              NaN   \n",
       "544       pablogavi   545          NaN    4700000              NaN   \n",
       "595  joshu_acoustic   596        Music    4200000              NaN   \n",
       "674   sugaringcandy   675          NaN    2500000              NaN   \n",
       "695    coolio_daryl   696          NaN    5900000              NaN   \n",
       "712            anas   713  FamilyShows    5700000              NaN   \n",
       "759      vernonline   760          NaN    4099999              NaN   \n",
       "843     josephquinn   844          NaN    2500000              NaN   \n",
       "\n",
       "     Authentic Engagement  Engagement Avg.  \n",
       "14               11800000         11800000  \n",
       "15               10400000         10400000  \n",
       "29                5200000          5200000  \n",
       "35                5400000          5400000  \n",
       "204                     0           579200  \n",
       "216                     0           547600  \n",
       "276                     0          2100000  \n",
       "544                     0          1000000  \n",
       "595                     0          1000000  \n",
       "674                     0          1400000  \n",
       "695                     0           581300  \n",
       "712                     0           577700  \n",
       "759                     0           719400  \n",
       "843                     0          1100000  "
      ]
     },
     "execution_count": 13,
     "metadata": {},
     "output_type": "execute_result"
    }
   ],
   "source": [
    "inst[inst['Audience Country'].isna()]"
   ]
  },
  {
   "cell_type": "markdown",
   "id": "b9fdd039",
   "metadata": {},
   "source": [
    "<font color = blue> К сожалению, мы никак не сможем заполнить пропущенные значения по столбцам \"Category\" и \"Audience Country\". Мы могли бы удалить их, но так как пропущенные значения составляют относительно небольшой процент от общего числа значений (14 пропусков по \"Audience Country\" (1.4%) и 84 пропуска по \"Category\" (8.4%)) и распределены достаточно равномерно, то есть присутствуют и в верхних и в нижних рангах, мы примем решение оставить строки с пропущенными значениями и иметь их в виду как погрешность и ограничение данного анализа. Не будем удалять их, чтобы это не отразилось на расчетах описательных статистик при дальнейшем анализе датасета."
   ]
  },
  {
   "cell_type": "markdown",
   "id": "30da60b8",
   "metadata": {},
   "source": [
    "<font color = blue>  В качестве последнего этапа переименуем некоторые колонки, присвоив им более точные и понятные названия (для удобства и единообразия датасета оставим английский язык)."
   ]
  },
  {
   "cell_type": "code",
   "execution_count": 14,
   "id": "feca3c8e",
   "metadata": {},
   "outputs": [],
   "source": [
    "inst.rename(columns = {'Name':'Blogger Name', 'Rank': 'Rank №', 'Category':'Blog Topic', \n",
    "                       'Followers':'Number of Followers', 'Audience Country':'Audience Country', \n",
    "                       'Authentic Engagement':'Authentic Engagement','Engagement Avg.':'Avg User Engagement'},\n",
    "            inplace = True)"
   ]
  },
  {
   "cell_type": "code",
   "execution_count": 15,
   "id": "b8a82389",
   "metadata": {
    "scrolled": true
   },
   "outputs": [
    {
     "data": {
      "text/html": [
       "<div>\n",
       "<style scoped>\n",
       "    .dataframe tbody tr th:only-of-type {\n",
       "        vertical-align: middle;\n",
       "    }\n",
       "\n",
       "    .dataframe tbody tr th {\n",
       "        vertical-align: top;\n",
       "    }\n",
       "\n",
       "    .dataframe thead th {\n",
       "        text-align: right;\n",
       "    }\n",
       "</style>\n",
       "<table border=\"1\" class=\"dataframe\">\n",
       "  <thead>\n",
       "    <tr style=\"text-align: right;\">\n",
       "      <th></th>\n",
       "      <th>Blogger Name</th>\n",
       "      <th>Rank №</th>\n",
       "      <th>Blog Topic</th>\n",
       "      <th>Number of Followers</th>\n",
       "      <th>Audience Country</th>\n",
       "      <th>Authentic Engagement</th>\n",
       "      <th>Avg User Engagement</th>\n",
       "    </tr>\n",
       "  </thead>\n",
       "  <tbody>\n",
       "    <tr>\n",
       "      <th>0</th>\n",
       "      <td>cristiano</td>\n",
       "      <td>1</td>\n",
       "      <td>Sports with a ball</td>\n",
       "      <td>462900000</td>\n",
       "      <td>India</td>\n",
       "      <td>5500000</td>\n",
       "      <td>6600000</td>\n",
       "    </tr>\n",
       "    <tr>\n",
       "      <th>1</th>\n",
       "      <td>leomessi</td>\n",
       "      <td>2</td>\n",
       "      <td>Sports with a ballFamily</td>\n",
       "      <td>347200000</td>\n",
       "      <td>Argentina</td>\n",
       "      <td>3600000</td>\n",
       "      <td>4800000</td>\n",
       "    </tr>\n",
       "    <tr>\n",
       "      <th>2</th>\n",
       "      <td>kendalljenner</td>\n",
       "      <td>3</td>\n",
       "      <td>ModelingFashion</td>\n",
       "      <td>247600000</td>\n",
       "      <td>United States</td>\n",
       "      <td>3000000</td>\n",
       "      <td>4900000</td>\n",
       "    </tr>\n",
       "    <tr>\n",
       "      <th>3</th>\n",
       "      <td>arianagrande</td>\n",
       "      <td>4</td>\n",
       "      <td>Music</td>\n",
       "      <td>321400000</td>\n",
       "      <td>United States</td>\n",
       "      <td>2400000</td>\n",
       "      <td>3400000</td>\n",
       "    </tr>\n",
       "    <tr>\n",
       "      <th>4</th>\n",
       "      <td>zendaya</td>\n",
       "      <td>5</td>\n",
       "      <td>Cinema &amp; Actors/actressesFashion</td>\n",
       "      <td>147000000</td>\n",
       "      <td>United States</td>\n",
       "      <td>4300000</td>\n",
       "      <td>5800000</td>\n",
       "    </tr>\n",
       "    <tr>\n",
       "      <th>...</th>\n",
       "      <td>...</td>\n",
       "      <td>...</td>\n",
       "      <td>...</td>\n",
       "      <td>...</td>\n",
       "      <td>...</td>\n",
       "      <td>...</td>\n",
       "      <td>...</td>\n",
       "    </tr>\n",
       "    <tr>\n",
       "      <th>995</th>\n",
       "      <td>nimratkhairaofficial</td>\n",
       "      <td>996</td>\n",
       "      <td>Music</td>\n",
       "      <td>8000000</td>\n",
       "      <td>India</td>\n",
       "      <td>211100</td>\n",
       "      <td>261800</td>\n",
       "    </tr>\n",
       "    <tr>\n",
       "      <th>996</th>\n",
       "      <td>hanhyojoo222</td>\n",
       "      <td>997</td>\n",
       "      <td>TravelCinema &amp; Actors/actresses</td>\n",
       "      <td>4000000</td>\n",
       "      <td>Indonesia</td>\n",
       "      <td>434200</td>\n",
       "      <td>518200</td>\n",
       "    </tr>\n",
       "    <tr>\n",
       "      <th>997</th>\n",
       "      <td>memphisdepay</td>\n",
       "      <td>998</td>\n",
       "      <td>Sports with a ball</td>\n",
       "      <td>15000000</td>\n",
       "      <td>France</td>\n",
       "      <td>76400</td>\n",
       "      <td>135500</td>\n",
       "    </tr>\n",
       "    <tr>\n",
       "      <th>998</th>\n",
       "      <td>arminzareeiofficial</td>\n",
       "      <td>999</td>\n",
       "      <td>NaN</td>\n",
       "      <td>9800000</td>\n",
       "      <td>Iran</td>\n",
       "      <td>135400</td>\n",
       "      <td>214000</td>\n",
       "    </tr>\n",
       "    <tr>\n",
       "      <th>999</th>\n",
       "      <td>noorstars</td>\n",
       "      <td>1000</td>\n",
       "      <td>Shows</td>\n",
       "      <td>13000000</td>\n",
       "      <td>Iraq</td>\n",
       "      <td>117600</td>\n",
       "      <td>157600</td>\n",
       "    </tr>\n",
       "  </tbody>\n",
       "</table>\n",
       "<p>1000 rows × 7 columns</p>\n",
       "</div>"
      ],
      "text/plain": [
       "             Blogger Name  Rank №                        Blog Topic  \\\n",
       "0               cristiano       1                Sports with a ball   \n",
       "1                leomessi       2          Sports with a ballFamily   \n",
       "2           kendalljenner       3                   ModelingFashion   \n",
       "3            arianagrande       4                             Music   \n",
       "4                 zendaya       5  Cinema & Actors/actressesFashion   \n",
       "..                    ...     ...                               ...   \n",
       "995  nimratkhairaofficial     996                             Music   \n",
       "996          hanhyojoo222     997   TravelCinema & Actors/actresses   \n",
       "997          memphisdepay     998                Sports with a ball   \n",
       "998   arminzareeiofficial     999                               NaN   \n",
       "999             noorstars    1000                             Shows   \n",
       "\n",
       "     Number of Followers Audience Country  Authentic Engagement  \\\n",
       "0              462900000            India               5500000   \n",
       "1              347200000        Argentina               3600000   \n",
       "2              247600000    United States               3000000   \n",
       "3              321400000    United States               2400000   \n",
       "4              147000000    United States               4300000   \n",
       "..                   ...              ...                   ...   \n",
       "995              8000000            India                211100   \n",
       "996              4000000        Indonesia                434200   \n",
       "997             15000000           France                 76400   \n",
       "998              9800000             Iran                135400   \n",
       "999             13000000             Iraq                117600   \n",
       "\n",
       "     Avg User Engagement  \n",
       "0                6600000  \n",
       "1                4800000  \n",
       "2                4900000  \n",
       "3                3400000  \n",
       "4                5800000  \n",
       "..                   ...  \n",
       "995               261800  \n",
       "996               518200  \n",
       "997               135500  \n",
       "998               214000  \n",
       "999               157600  \n",
       "\n",
       "[1000 rows x 7 columns]"
      ]
     },
     "execution_count": 15,
     "metadata": {},
     "output_type": "execute_result"
    }
   ],
   "source": [
    "inst"
   ]
  },
  {
   "cell_type": "markdown",
   "id": "9602cda3",
   "metadata": {},
   "source": [
    "### 1. Создание новых переменных\n",
    "#### Создадим некоторые новые переменные на основе уже имеющихся в датасете данных"
   ]
  },
  {
   "cell_type": "markdown",
   "id": "46dc9fcb",
   "metadata": {},
   "source": [
    "<font color = blue> Например, создадим новую переменную, которую назовем \"Engagement Rate\" (коэффициент ER) – она будет показывать уровень вовлеченности подписчиков аккаунта не в числовом, а в процентном соотношении по отношению количеству подписчиков. Коэффициент ER можно рассчитать несколькими способами, однако на наших данных можно использовать формулу (среднее количество вовлеченных пользователей / количество подписчиков) * 100, то есть (Avg User Engagement / Number of Followers) * 100. Умножаем на 100, чтобы сразу получить данные в %."
   ]
  },
  {
   "cell_type": "code",
   "execution_count": 16,
   "id": "cee89e37",
   "metadata": {},
   "outputs": [],
   "source": [
    "inst['Engagement Rate'] = (inst['Avg User Engagement'] / inst['Number of Followers']) * 100"
   ]
  },
  {
   "cell_type": "code",
   "execution_count": 17,
   "id": "a554699f",
   "metadata": {
    "scrolled": true
   },
   "outputs": [
    {
     "data": {
      "text/html": [
       "<div>\n",
       "<style scoped>\n",
       "    .dataframe tbody tr th:only-of-type {\n",
       "        vertical-align: middle;\n",
       "    }\n",
       "\n",
       "    .dataframe tbody tr th {\n",
       "        vertical-align: top;\n",
       "    }\n",
       "\n",
       "    .dataframe thead th {\n",
       "        text-align: right;\n",
       "    }\n",
       "</style>\n",
       "<table border=\"1\" class=\"dataframe\">\n",
       "  <thead>\n",
       "    <tr style=\"text-align: right;\">\n",
       "      <th></th>\n",
       "      <th>Blogger Name</th>\n",
       "      <th>Rank №</th>\n",
       "      <th>Blog Topic</th>\n",
       "      <th>Number of Followers</th>\n",
       "      <th>Audience Country</th>\n",
       "      <th>Authentic Engagement</th>\n",
       "      <th>Avg User Engagement</th>\n",
       "      <th>Engagement Rate</th>\n",
       "    </tr>\n",
       "  </thead>\n",
       "  <tbody>\n",
       "    <tr>\n",
       "      <th>0</th>\n",
       "      <td>cristiano</td>\n",
       "      <td>1</td>\n",
       "      <td>Sports with a ball</td>\n",
       "      <td>462900000</td>\n",
       "      <td>India</td>\n",
       "      <td>5500000</td>\n",
       "      <td>6600000</td>\n",
       "      <td>1.425794</td>\n",
       "    </tr>\n",
       "    <tr>\n",
       "      <th>1</th>\n",
       "      <td>leomessi</td>\n",
       "      <td>2</td>\n",
       "      <td>Sports with a ballFamily</td>\n",
       "      <td>347200000</td>\n",
       "      <td>Argentina</td>\n",
       "      <td>3600000</td>\n",
       "      <td>4800000</td>\n",
       "      <td>1.382488</td>\n",
       "    </tr>\n",
       "    <tr>\n",
       "      <th>2</th>\n",
       "      <td>kendalljenner</td>\n",
       "      <td>3</td>\n",
       "      <td>ModelingFashion</td>\n",
       "      <td>247600000</td>\n",
       "      <td>United States</td>\n",
       "      <td>3000000</td>\n",
       "      <td>4900000</td>\n",
       "      <td>1.978998</td>\n",
       "    </tr>\n",
       "    <tr>\n",
       "      <th>3</th>\n",
       "      <td>arianagrande</td>\n",
       "      <td>4</td>\n",
       "      <td>Music</td>\n",
       "      <td>321400000</td>\n",
       "      <td>United States</td>\n",
       "      <td>2400000</td>\n",
       "      <td>3400000</td>\n",
       "      <td>1.057872</td>\n",
       "    </tr>\n",
       "    <tr>\n",
       "      <th>4</th>\n",
       "      <td>zendaya</td>\n",
       "      <td>5</td>\n",
       "      <td>Cinema &amp; Actors/actressesFashion</td>\n",
       "      <td>147000000</td>\n",
       "      <td>United States</td>\n",
       "      <td>4300000</td>\n",
       "      <td>5800000</td>\n",
       "      <td>3.945578</td>\n",
       "    </tr>\n",
       "  </tbody>\n",
       "</table>\n",
       "</div>"
      ],
      "text/plain": [
       "    Blogger Name  Rank №                        Blog Topic  \\\n",
       "0      cristiano       1                Sports with a ball   \n",
       "1       leomessi       2          Sports with a ballFamily   \n",
       "2  kendalljenner       3                   ModelingFashion   \n",
       "3   arianagrande       4                             Music   \n",
       "4        zendaya       5  Cinema & Actors/actressesFashion   \n",
       "\n",
       "   Number of Followers Audience Country  Authentic Engagement  \\\n",
       "0            462900000            India               5500000   \n",
       "1            347200000        Argentina               3600000   \n",
       "2            247600000    United States               3000000   \n",
       "3            321400000    United States               2400000   \n",
       "4            147000000    United States               4300000   \n",
       "\n",
       "   Avg User Engagement  Engagement Rate  \n",
       "0              6600000         1.425794  \n",
       "1              4800000         1.382488  \n",
       "2              4900000         1.978998  \n",
       "3              3400000         1.057872  \n",
       "4              5800000         3.945578  "
      ]
     },
     "execution_count": 17,
     "metadata": {},
     "output_type": "execute_result"
    }
   ],
   "source": [
    "inst.head()"
   ]
  },
  {
   "cell_type": "markdown",
   "id": "0c35a610",
   "metadata": {},
   "source": [
    "<font color = blue> Видим, что по умолчанию наши значения ER имеют 6 знаков после запятой. Такая точность нам не требуется, поэтому округлим до двух знаков после запятой и перезапишем данные в колонке."
   ]
  },
  {
   "cell_type": "code",
   "execution_count": 18,
   "id": "3d1ff24e",
   "metadata": {},
   "outputs": [],
   "source": [
    "inst['Engagement Rate'] = round(inst['Engagement Rate'], 2)"
   ]
  },
  {
   "cell_type": "code",
   "execution_count": 19,
   "id": "c8dc930c",
   "metadata": {
    "scrolled": false
   },
   "outputs": [
    {
     "data": {
      "text/html": [
       "<div>\n",
       "<style scoped>\n",
       "    .dataframe tbody tr th:only-of-type {\n",
       "        vertical-align: middle;\n",
       "    }\n",
       "\n",
       "    .dataframe tbody tr th {\n",
       "        vertical-align: top;\n",
       "    }\n",
       "\n",
       "    .dataframe thead th {\n",
       "        text-align: right;\n",
       "    }\n",
       "</style>\n",
       "<table border=\"1\" class=\"dataframe\">\n",
       "  <thead>\n",
       "    <tr style=\"text-align: right;\">\n",
       "      <th></th>\n",
       "      <th>Blogger Name</th>\n",
       "      <th>Rank №</th>\n",
       "      <th>Blog Topic</th>\n",
       "      <th>Number of Followers</th>\n",
       "      <th>Audience Country</th>\n",
       "      <th>Authentic Engagement</th>\n",
       "      <th>Avg User Engagement</th>\n",
       "      <th>Engagement Rate</th>\n",
       "    </tr>\n",
       "  </thead>\n",
       "  <tbody>\n",
       "    <tr>\n",
       "      <th>0</th>\n",
       "      <td>cristiano</td>\n",
       "      <td>1</td>\n",
       "      <td>Sports with a ball</td>\n",
       "      <td>462900000</td>\n",
       "      <td>India</td>\n",
       "      <td>5500000</td>\n",
       "      <td>6600000</td>\n",
       "      <td>1.43</td>\n",
       "    </tr>\n",
       "    <tr>\n",
       "      <th>1</th>\n",
       "      <td>leomessi</td>\n",
       "      <td>2</td>\n",
       "      <td>Sports with a ballFamily</td>\n",
       "      <td>347200000</td>\n",
       "      <td>Argentina</td>\n",
       "      <td>3600000</td>\n",
       "      <td>4800000</td>\n",
       "      <td>1.38</td>\n",
       "    </tr>\n",
       "    <tr>\n",
       "      <th>2</th>\n",
       "      <td>kendalljenner</td>\n",
       "      <td>3</td>\n",
       "      <td>ModelingFashion</td>\n",
       "      <td>247600000</td>\n",
       "      <td>United States</td>\n",
       "      <td>3000000</td>\n",
       "      <td>4900000</td>\n",
       "      <td>1.98</td>\n",
       "    </tr>\n",
       "    <tr>\n",
       "      <th>3</th>\n",
       "      <td>arianagrande</td>\n",
       "      <td>4</td>\n",
       "      <td>Music</td>\n",
       "      <td>321400000</td>\n",
       "      <td>United States</td>\n",
       "      <td>2400000</td>\n",
       "      <td>3400000</td>\n",
       "      <td>1.06</td>\n",
       "    </tr>\n",
       "    <tr>\n",
       "      <th>4</th>\n",
       "      <td>zendaya</td>\n",
       "      <td>5</td>\n",
       "      <td>Cinema &amp; Actors/actressesFashion</td>\n",
       "      <td>147000000</td>\n",
       "      <td>United States</td>\n",
       "      <td>4300000</td>\n",
       "      <td>5800000</td>\n",
       "      <td>3.95</td>\n",
       "    </tr>\n",
       "  </tbody>\n",
       "</table>\n",
       "</div>"
      ],
      "text/plain": [
       "    Blogger Name  Rank №                        Blog Topic  \\\n",
       "0      cristiano       1                Sports with a ball   \n",
       "1       leomessi       2          Sports with a ballFamily   \n",
       "2  kendalljenner       3                   ModelingFashion   \n",
       "3   arianagrande       4                             Music   \n",
       "4        zendaya       5  Cinema & Actors/actressesFashion   \n",
       "\n",
       "   Number of Followers Audience Country  Authentic Engagement  \\\n",
       "0            462900000            India               5500000   \n",
       "1            347200000        Argentina               3600000   \n",
       "2            247600000    United States               3000000   \n",
       "3            321400000    United States               2400000   \n",
       "4            147000000    United States               4300000   \n",
       "\n",
       "   Avg User Engagement  Engagement Rate  \n",
       "0              6600000             1.43  \n",
       "1              4800000             1.38  \n",
       "2              4900000             1.98  \n",
       "3              3400000             1.06  \n",
       "4              5800000             3.95  "
      ]
     },
     "execution_count": 19,
     "metadata": {},
     "output_type": "execute_result"
    }
   ],
   "source": [
    "inst.head()"
   ]
  },
  {
   "cell_type": "code",
   "execution_count": 20,
   "id": "5dfa8466",
   "metadata": {},
   "outputs": [
    {
     "data": {
      "text/plain": [
       "count    1000.00000\n",
       "mean        6.13492\n",
       "std         8.27138\n",
       "min         0.02000\n",
       "25%         1.25000\n",
       "50%         3.29500\n",
       "75%         7.50250\n",
       "max       118.75000\n",
       "Name: Engagement Rate, dtype: float64"
      ]
     },
     "execution_count": 20,
     "metadata": {},
     "output_type": "execute_result"
    }
   ],
   "source": [
    "inst['Engagement Rate'].describe()"
   ]
  },
  {
   "cell_type": "markdown",
   "id": "f630600e",
   "metadata": {},
   "source": [
    "<font color = blue> На основании новой переменной \"Engagement Rate\" создадим еще одну переменную, на этот раз категориальную. В маркетинге коэффициент ER используют, чтобы оценить, насколько эффективны коммуникации через соцсети (то есть насколько активно пользователи взаимодействуют с контентом в соцсетях – ставят лайки, комментируют, репостят или сохраняют публикации). Мы разделим полученные значения ER по категориям – низкая, средняя, хорошая и высокая вовлеченность. Для определения границ возьмем средние общепринятые значения."
   ]
  },
  {
   "cell_type": "code",
   "execution_count": 21,
   "id": "e9c281bc",
   "metadata": {},
   "outputs": [],
   "source": [
    "def get_engagement_cat(engagement):\n",
    "    if engagement < 1:\n",
    "        return 'Low'\n",
    "    elif engagement < 3.5:\n",
    "        return 'Medium'\n",
    "    elif engagement <= 6:\n",
    "        return 'Good'\n",
    "    elif engagement > 6:\n",
    "        return 'High'\n",
    "    else:\n",
    "        return engagement"
   ]
  },
  {
   "cell_type": "markdown",
   "id": "60423d29",
   "metadata": {},
   "source": [
    "<font color = blue> Проверим, что функция работает, а затем запишем ее в новую переменную и перекодируем эту переменную как категориальную."
   ]
  },
  {
   "cell_type": "code",
   "execution_count": 22,
   "id": "6b327e21",
   "metadata": {
    "scrolled": true
   },
   "outputs": [
    {
     "data": {
      "text/plain": [
       "0      Medium\n",
       "1      Medium\n",
       "2      Medium\n",
       "3      Medium\n",
       "4        Good\n",
       "        ...  \n",
       "995    Medium\n",
       "996      High\n",
       "997       Low\n",
       "998    Medium\n",
       "999    Medium\n",
       "Name: Engagement Rate, Length: 1000, dtype: object"
      ]
     },
     "execution_count": 22,
     "metadata": {},
     "output_type": "execute_result"
    }
   ],
   "source": [
    "inst['Engagement Rate'].apply(get_engagement_cat)"
   ]
  },
  {
   "cell_type": "code",
   "execution_count": 23,
   "id": "79bf6b37",
   "metadata": {},
   "outputs": [],
   "source": [
    "inst['Engagement Rate Category'] = inst['Engagement Rate'].apply(get_engagement_cat)"
   ]
  },
  {
   "cell_type": "code",
   "execution_count": 24,
   "id": "203b6f2e",
   "metadata": {},
   "outputs": [
    {
     "data": {
      "text/html": [
       "<div>\n",
       "<style scoped>\n",
       "    .dataframe tbody tr th:only-of-type {\n",
       "        vertical-align: middle;\n",
       "    }\n",
       "\n",
       "    .dataframe tbody tr th {\n",
       "        vertical-align: top;\n",
       "    }\n",
       "\n",
       "    .dataframe thead th {\n",
       "        text-align: right;\n",
       "    }\n",
       "</style>\n",
       "<table border=\"1\" class=\"dataframe\">\n",
       "  <thead>\n",
       "    <tr style=\"text-align: right;\">\n",
       "      <th></th>\n",
       "      <th>Blogger Name</th>\n",
       "      <th>Rank №</th>\n",
       "      <th>Blog Topic</th>\n",
       "      <th>Number of Followers</th>\n",
       "      <th>Audience Country</th>\n",
       "      <th>Authentic Engagement</th>\n",
       "      <th>Avg User Engagement</th>\n",
       "      <th>Engagement Rate</th>\n",
       "      <th>Engagement Rate Category</th>\n",
       "    </tr>\n",
       "  </thead>\n",
       "  <tbody>\n",
       "    <tr>\n",
       "      <th>0</th>\n",
       "      <td>cristiano</td>\n",
       "      <td>1</td>\n",
       "      <td>Sports with a ball</td>\n",
       "      <td>462900000</td>\n",
       "      <td>India</td>\n",
       "      <td>5500000</td>\n",
       "      <td>6600000</td>\n",
       "      <td>1.43</td>\n",
       "      <td>Medium</td>\n",
       "    </tr>\n",
       "    <tr>\n",
       "      <th>1</th>\n",
       "      <td>leomessi</td>\n",
       "      <td>2</td>\n",
       "      <td>Sports with a ballFamily</td>\n",
       "      <td>347200000</td>\n",
       "      <td>Argentina</td>\n",
       "      <td>3600000</td>\n",
       "      <td>4800000</td>\n",
       "      <td>1.38</td>\n",
       "      <td>Medium</td>\n",
       "    </tr>\n",
       "    <tr>\n",
       "      <th>2</th>\n",
       "      <td>kendalljenner</td>\n",
       "      <td>3</td>\n",
       "      <td>ModelingFashion</td>\n",
       "      <td>247600000</td>\n",
       "      <td>United States</td>\n",
       "      <td>3000000</td>\n",
       "      <td>4900000</td>\n",
       "      <td>1.98</td>\n",
       "      <td>Medium</td>\n",
       "    </tr>\n",
       "    <tr>\n",
       "      <th>3</th>\n",
       "      <td>arianagrande</td>\n",
       "      <td>4</td>\n",
       "      <td>Music</td>\n",
       "      <td>321400000</td>\n",
       "      <td>United States</td>\n",
       "      <td>2400000</td>\n",
       "      <td>3400000</td>\n",
       "      <td>1.06</td>\n",
       "      <td>Medium</td>\n",
       "    </tr>\n",
       "    <tr>\n",
       "      <th>4</th>\n",
       "      <td>zendaya</td>\n",
       "      <td>5</td>\n",
       "      <td>Cinema &amp; Actors/actressesFashion</td>\n",
       "      <td>147000000</td>\n",
       "      <td>United States</td>\n",
       "      <td>4300000</td>\n",
       "      <td>5800000</td>\n",
       "      <td>3.95</td>\n",
       "      <td>Good</td>\n",
       "    </tr>\n",
       "  </tbody>\n",
       "</table>\n",
       "</div>"
      ],
      "text/plain": [
       "    Blogger Name  Rank №                        Blog Topic  \\\n",
       "0      cristiano       1                Sports with a ball   \n",
       "1       leomessi       2          Sports with a ballFamily   \n",
       "2  kendalljenner       3                   ModelingFashion   \n",
       "3   arianagrande       4                             Music   \n",
       "4        zendaya       5  Cinema & Actors/actressesFashion   \n",
       "\n",
       "   Number of Followers Audience Country  Authentic Engagement  \\\n",
       "0            462900000            India               5500000   \n",
       "1            347200000        Argentina               3600000   \n",
       "2            247600000    United States               3000000   \n",
       "3            321400000    United States               2400000   \n",
       "4            147000000    United States               4300000   \n",
       "\n",
       "   Avg User Engagement  Engagement Rate Engagement Rate Category  \n",
       "0              6600000             1.43                   Medium  \n",
       "1              4800000             1.38                   Medium  \n",
       "2              4900000             1.98                   Medium  \n",
       "3              3400000             1.06                   Medium  \n",
       "4              5800000             3.95                     Good  "
      ]
     },
     "execution_count": 24,
     "metadata": {},
     "output_type": "execute_result"
    }
   ],
   "source": [
    "inst.head()"
   ]
  },
  {
   "cell_type": "code",
   "execution_count": 25,
   "id": "3b8db2c9",
   "metadata": {},
   "outputs": [],
   "source": [
    "inst['Engagement Rate Category'] = pd.Categorical(inst['Engagement Rate Category'])"
   ]
  },
  {
   "cell_type": "markdown",
   "id": "b803b31c",
   "metadata": {},
   "source": [
    "<font color = blue> Проверим, что данные в колонке \"Engagement Rate Cat\" перезаписались и теперь им присвоен тип category."
   ]
  },
  {
   "cell_type": "code",
   "execution_count": 26,
   "id": "b44704b6",
   "metadata": {
    "scrolled": true
   },
   "outputs": [
    {
     "name": "stdout",
     "output_type": "stream",
     "text": [
      "<class 'pandas.core.frame.DataFrame'>\n",
      "RangeIndex: 1000 entries, 0 to 999\n",
      "Data columns (total 9 columns):\n",
      " #   Column                    Non-Null Count  Dtype   \n",
      "---  ------                    --------------  -----   \n",
      " 0   Blogger Name              1000 non-null   object  \n",
      " 1   Rank №                    1000 non-null   int64   \n",
      " 2   Blog Topic                916 non-null    category\n",
      " 3   Number of Followers       1000 non-null   int64   \n",
      " 4   Audience Country          986 non-null    category\n",
      " 5   Authentic Engagement      1000 non-null   int64   \n",
      " 6   Avg User Engagement       1000 non-null   int64   \n",
      " 7   Engagement Rate           1000 non-null   float64 \n",
      " 8   Engagement Rate Category  1000 non-null   category\n",
      "dtypes: category(3), float64(1), int64(4), object(1)\n",
      "memory usage: 57.7+ KB\n"
     ]
    }
   ],
   "source": [
    "inst.info()"
   ]
  },
  {
   "cell_type": "code",
   "execution_count": 27,
   "id": "ead94c6e",
   "metadata": {},
   "outputs": [
    {
     "data": {
      "text/plain": [
       "Index(['Good', 'High', 'Low', 'Medium'], dtype='object')"
      ]
     },
     "execution_count": 27,
     "metadata": {},
     "output_type": "execute_result"
    }
   ],
   "source": [
    "inst['Engagement Rate Category'].cat.categories"
   ]
  },
  {
   "cell_type": "code",
   "execution_count": 28,
   "id": "ff7a307d",
   "metadata": {},
   "outputs": [
    {
     "data": {
      "text/plain": [
       "Index(['Adult content', 'Animals', 'Art/Artists', 'Art/ArtistsBeauty',\n",
       "       'Art/ArtistsCinema & Actors/actresses',\n",
       "       'Art/ArtistsCinema & Actors/actressesMusic',\n",
       "       'Art/ArtistsCinema & Actors/actressesShows',\n",
       "       'Art/ArtistsFashionModeling', 'Art/ArtistsFashionMusic',\n",
       "       'Art/ArtistsShows',\n",
       "       ...\n",
       "       'ShowsModeling', 'ShowsMusic', 'Sports with a ball',\n",
       "       'Sports with a ballClothing & Outfits', 'Sports with a ballFamily',\n",
       "       'Sports with a ballLifestyle', 'Sports with a ballLifestyleKids & Toys',\n",
       "       'Sports with a ballLiterature & Journalism', 'Sports with a ballShows',\n",
       "       'TravelCinema & Actors/actresses'],\n",
       "      dtype='object', length=153)"
      ]
     },
     "execution_count": 28,
     "metadata": {},
     "output_type": "execute_result"
    }
   ],
   "source": [
    "inst['Blog Topic'].cat.categories"
   ]
  },
  {
   "cell_type": "markdown",
   "id": "8df23956",
   "metadata": {},
   "source": [
    "### 2. Группировка данных и базовая визуализация\n",
    "#### Работа с частотными таблицами, распределениями и группировкой данных "
   ]
  },
  {
   "cell_type": "markdown",
   "id": "89b0ee3f",
   "metadata": {},
   "source": [
    "<font color = blue> 1) Построим частотную таблицу для новой переменной \"Engagement Rate Category\". Увидим, что больше всего аккаунтов из нашего списка характеризуются средней вовлеченностью подписчиков, однако показатель высокого уровень вовлеченности также достаточно высок и находится на втором месте с небольшим отрывом по количеству аккаунтов."
   ]
  },
  {
   "cell_type": "code",
   "execution_count": 29,
   "id": "d9bc2433",
   "metadata": {},
   "outputs": [
    {
     "data": {
      "text/plain": [
       "Medium    327\n",
       "High      312\n",
       "Low       188\n",
       "Good      173\n",
       "Name: Engagement Rate Category, dtype: int64"
      ]
     },
     "execution_count": 29,
     "metadata": {},
     "output_type": "execute_result"
    }
   ],
   "source": [
    "inst['Engagement Rate Category'].value_counts()"
   ]
  },
  {
   "cell_type": "markdown",
   "id": "ad7904af",
   "metadata": {},
   "source": [
    "<font color = blue> 2) Построим частотную таблицу для переменной \"Blog Topic\". Мы уже видели, что эти данные имеют погрешности в виде пропущенных значений (84 строки), а также \"неаккуратных\" категорий, которые, однако, встречаются в единичных случаях – их мы видим в конце списка."
   ]
  },
  {
   "cell_type": "code",
   "execution_count": 30,
   "id": "eccde35b",
   "metadata": {
    "scrolled": false
   },
   "outputs": [
    {
     "data": {
      "text/plain": [
       "Music                                               167\n",
       "Cinema & Actors/actresses                           149\n",
       "Sports with a ball                                  105\n",
       "NaN                                                  84\n",
       "Lifestyle                                            77\n",
       "                                                   ... \n",
       "Humor & Fun & HappinessCinema & Actors/actresses      1\n",
       "BeautyCinema & Actors/actressesFashion                1\n",
       "Fitness & GymShopping & RetailClothing & Outfits      1\n",
       "Fitness & GymLifestyle                                1\n",
       "BeautyArt/ArtistsCinema & Actors/actresses            1\n",
       "Name: Blog Topic, Length: 154, dtype: int64"
      ]
     },
     "execution_count": 30,
     "metadata": {},
     "output_type": "execute_result"
    }
   ],
   "source": [
    "inst['Blog Topic'].value_counts(dropna = False)"
   ]
  },
  {
   "cell_type": "markdown",
   "id": "aaa43dd1",
   "metadata": {},
   "source": [
    "<font color = blue> 3) Построим частотную таблицу для переменной \"Audience Country\". Увидим список стран по их популярности с точки зрения места создания аккаунта подписчиков (т.е. жители которых являются ядром аудитории Инстаграм-аккаунтов)."
   ]
  },
  {
   "cell_type": "code",
   "execution_count": 31,
   "id": "456f8e73",
   "metadata": {
    "scrolled": true
   },
   "outputs": [
    {
     "data": {
      "text/plain": [
       "United States           277\n",
       "India                   159\n",
       "Brazil                  145\n",
       "Indonesia               136\n",
       "Mexico                   40\n",
       "Spain                    34\n",
       "Russia                   26\n",
       "Argentina                23\n",
       "Iran                     21\n",
       "Turkey                   20\n",
       "United Kingdom           17\n",
       "Italy                    16\n",
       "NaN                      14\n",
       "South Korea              13\n",
       "Colombia                  8\n",
       "Philippines               7\n",
       "France                    6\n",
       "Thailand                  6\n",
       "Egypt                     5\n",
       "Germany                   4\n",
       "Iraq                      4\n",
       "Japan                     4\n",
       "Nigeria                   2\n",
       "Morocco                   2\n",
       "United Arab Emirates      2\n",
       "Pakistan                  1\n",
       "Poland                    1\n",
       "Senegal                   1\n",
       "Algeria                   1\n",
       "Syria                     1\n",
       "Kazakhstan                1\n",
       "China                     1\n",
       "Chile                     1\n",
       "Albania                   1\n",
       "Name: Audience Country, dtype: int64"
      ]
     },
     "execution_count": 31,
     "metadata": {},
     "output_type": "execute_result"
    }
   ],
   "source": [
    "inst['Audience Country'].value_counts(dropna = False)"
   ]
  },
  {
   "cell_type": "markdown",
   "id": "0023571c",
   "metadata": {},
   "source": [
    "<font color = blue> Далее попробуем сгруппировать колонки.   \n",
    "    Например, посмотрим, в скольких случаях жители определенных стран являются основным ядром подписчиков Инстаграм-аккаунтов из анализируемого датасета. Таким образом мы увидим, что, например, всего лишь 1 аккаунт из списка топ-100 имеет большинство подписчиков из Албании, а для 277 аккаунтов (max) \"географической модой\" будут являться подписчики из Америки."
   ]
  },
  {
   "cell_type": "code",
   "execution_count": 32,
   "id": "b614c478",
   "metadata": {
    "scrolled": false
   },
   "outputs": [
    {
     "data": {
      "text/plain": [
       "Audience Country\n",
       "Albania                   1\n",
       "Algeria                   1\n",
       "Argentina                23\n",
       "Brazil                  145\n",
       "Chile                     1\n",
       "China                     1\n",
       "Colombia                  8\n",
       "Egypt                     5\n",
       "France                    6\n",
       "Germany                   4\n",
       "India                   159\n",
       "Indonesia               136\n",
       "Iran                     21\n",
       "Iraq                      4\n",
       "Italy                    16\n",
       "Japan                     4\n",
       "Kazakhstan                1\n",
       "Mexico                   40\n",
       "Morocco                   2\n",
       "Nigeria                   2\n",
       "Pakistan                  1\n",
       "Philippines               7\n",
       "Poland                    1\n",
       "Russia                   26\n",
       "Senegal                   1\n",
       "South Korea              13\n",
       "Spain                    34\n",
       "Syria                     1\n",
       "Thailand                  6\n",
       "Turkey                   20\n",
       "United Arab Emirates      2\n",
       "United Kingdom           17\n",
       "United States           277\n",
       "Name: Number of Followers, dtype: int64"
      ]
     },
     "execution_count": 32,
     "metadata": {},
     "output_type": "execute_result"
    }
   ],
   "source": [
    "inst.groupby('Audience Country')['Number of Followers'].size()"
   ]
  },
  {
   "cell_type": "markdown",
   "id": "08733ba4",
   "metadata": {},
   "source": [
    "<font color = blue> Также посмотрим, насколько количество подписок зависит от тематики аккаунта. Так мы увидим, сколько всего подписок было \"оформлено\" на Инстаграм-аккаунты в разбивке по их тематическим категориям."
   ]
  },
  {
   "cell_type": "code",
   "execution_count": 33,
   "id": "24bfb3f4",
   "metadata": {
    "scrolled": true
   },
   "outputs": [
    {
     "data": {
      "text/plain": [
       "Blog Topic\n",
       "Adult content                                69500000\n",
       "Animals                                      10100000\n",
       "Art/Artists                                  95100000\n",
       "Art/ArtistsBeauty                            18400000\n",
       "Art/ArtistsCinema & Actors/actresses         16200000\n",
       "                                               ...   \n",
       "Sports with a ballLifestyle                  90800000\n",
       "Sports with a ballLifestyleKids & Toys       15600000\n",
       "Sports with a ballLiterature & Journalism    17400000\n",
       "Sports with a ballShows                      31300000\n",
       "TravelCinema & Actors/actresses               4000000\n",
       "Name: Number of Followers, Length: 153, dtype: int64"
      ]
     },
     "execution_count": 33,
     "metadata": {},
     "output_type": "execute_result"
    }
   ],
   "source": [
    "inst.groupby('Blog Topic')['Number of Followers'].sum()"
   ]
  },
  {
   "cell_type": "markdown",
   "id": "02b3c61f",
   "metadata": {},
   "source": [
    "<font color = blue> Кроме того, можем сгруппировать данные по тематике блога, чтобы посмотреть на категорию вовлеченности подписчиков по каждой из этих тематик."
   ]
  },
  {
   "cell_type": "code",
   "execution_count": 34,
   "id": "830df65e",
   "metadata": {},
   "outputs": [
    {
     "data": {
      "text/html": [
       "<div>\n",
       "<style scoped>\n",
       "    .dataframe tbody tr th:only-of-type {\n",
       "        vertical-align: middle;\n",
       "    }\n",
       "\n",
       "    .dataframe tbody tr th {\n",
       "        vertical-align: top;\n",
       "    }\n",
       "\n",
       "    .dataframe thead th {\n",
       "        text-align: right;\n",
       "    }\n",
       "</style>\n",
       "<table border=\"1\" class=\"dataframe\">\n",
       "  <thead>\n",
       "    <tr style=\"text-align: right;\">\n",
       "      <th></th>\n",
       "      <th>Good</th>\n",
       "      <th>High</th>\n",
       "      <th>Low</th>\n",
       "      <th>Medium</th>\n",
       "    </tr>\n",
       "    <tr>\n",
       "      <th>Blog Topic</th>\n",
       "      <th></th>\n",
       "      <th></th>\n",
       "      <th></th>\n",
       "      <th></th>\n",
       "    </tr>\n",
       "  </thead>\n",
       "  <tbody>\n",
       "    <tr>\n",
       "      <th>Adult content</th>\n",
       "      <td>1</td>\n",
       "      <td>1</td>\n",
       "      <td>0</td>\n",
       "      <td>4</td>\n",
       "    </tr>\n",
       "    <tr>\n",
       "      <th>Animals</th>\n",
       "      <td>0</td>\n",
       "      <td>0</td>\n",
       "      <td>0</td>\n",
       "      <td>1</td>\n",
       "    </tr>\n",
       "    <tr>\n",
       "      <th>Art/Artists</th>\n",
       "      <td>1</td>\n",
       "      <td>3</td>\n",
       "      <td>2</td>\n",
       "      <td>1</td>\n",
       "    </tr>\n",
       "    <tr>\n",
       "      <th>Art/ArtistsBeauty</th>\n",
       "      <td>0</td>\n",
       "      <td>0</td>\n",
       "      <td>0</td>\n",
       "      <td>1</td>\n",
       "    </tr>\n",
       "    <tr>\n",
       "      <th>Art/ArtistsCinema &amp; Actors/actresses</th>\n",
       "      <td>0</td>\n",
       "      <td>0</td>\n",
       "      <td>1</td>\n",
       "      <td>0</td>\n",
       "    </tr>\n",
       "    <tr>\n",
       "      <th>...</th>\n",
       "      <td>...</td>\n",
       "      <td>...</td>\n",
       "      <td>...</td>\n",
       "      <td>...</td>\n",
       "    </tr>\n",
       "    <tr>\n",
       "      <th>Sports with a ballLifestyle</th>\n",
       "      <td>1</td>\n",
       "      <td>0</td>\n",
       "      <td>1</td>\n",
       "      <td>2</td>\n",
       "    </tr>\n",
       "    <tr>\n",
       "      <th>Sports with a ballLifestyleKids &amp; Toys</th>\n",
       "      <td>0</td>\n",
       "      <td>0</td>\n",
       "      <td>0</td>\n",
       "      <td>1</td>\n",
       "    </tr>\n",
       "    <tr>\n",
       "      <th>Sports with a ballLiterature &amp; Journalism</th>\n",
       "      <td>0</td>\n",
       "      <td>0</td>\n",
       "      <td>1</td>\n",
       "      <td>0</td>\n",
       "    </tr>\n",
       "    <tr>\n",
       "      <th>Sports with a ballShows</th>\n",
       "      <td>0</td>\n",
       "      <td>0</td>\n",
       "      <td>1</td>\n",
       "      <td>0</td>\n",
       "    </tr>\n",
       "    <tr>\n",
       "      <th>TravelCinema &amp; Actors/actresses</th>\n",
       "      <td>0</td>\n",
       "      <td>1</td>\n",
       "      <td>0</td>\n",
       "      <td>0</td>\n",
       "    </tr>\n",
       "  </tbody>\n",
       "</table>\n",
       "<p>153 rows × 4 columns</p>\n",
       "</div>"
      ],
      "text/plain": [
       "                                           Good  High  Low  Medium\n",
       "Blog Topic                                                        \n",
       "Adult content                                 1     1    0       4\n",
       "Animals                                       0     0    0       1\n",
       "Art/Artists                                   1     3    2       1\n",
       "Art/ArtistsBeauty                             0     0    0       1\n",
       "Art/ArtistsCinema & Actors/actresses          0     0    1       0\n",
       "...                                         ...   ...  ...     ...\n",
       "Sports with a ballLifestyle                   1     0    1       2\n",
       "Sports with a ballLifestyleKids & Toys        0     0    0       1\n",
       "Sports with a ballLiterature & Journalism     0     0    1       0\n",
       "Sports with a ballShows                       0     0    1       0\n",
       "TravelCinema & Actors/actresses               0     1    0       0\n",
       "\n",
       "[153 rows x 4 columns]"
      ]
     },
     "execution_count": 34,
     "metadata": {},
     "output_type": "execute_result"
    }
   ],
   "source": [
    "inst.groupby('Blog Topic')['Engagement Rate Category'].value_counts().unstack()"
   ]
  },
  {
   "cell_type": "markdown",
   "id": "36c80ae8",
   "metadata": {},
   "source": [
    "#### Работа с базовой визуализацией"
   ]
  },
  {
   "cell_type": "markdown",
   "id": "118defc8",
   "metadata": {},
   "source": [
    "<font color = blue> Для начала построим несколько графиков для количественных переменных, чтобы наглядно увидеть распределение данных этого датасета."
   ]
  },
  {
   "cell_type": "code",
   "execution_count": 35,
   "id": "d8b957b3",
   "metadata": {
    "scrolled": false
   },
   "outputs": [
    {
     "data": {
      "text/plain": [
       "<AxesSubplot:>"
      ]
     },
     "execution_count": 35,
     "metadata": {},
     "output_type": "execute_result"
    },
    {
     "data": {
      "image/png": "[encoded data removed]",
      "text/plain": [
       "<Figure size 432x288 with 1 Axes>"
      ]
     },
     "metadata": {
      "needs_background": "light"
     },
     "output_type": "display_data"
    }
   ],
   "source": [
    "inst['Number of Followers'].hist(bins = 100, color = 'pink')"
   ]
  },
  {
   "cell_type": "code",
   "execution_count": 36,
   "id": "031d1630",
   "metadata": {
    "scrolled": true
   },
   "outputs": [
    {
     "data": {
      "text/plain": [
       "<AxesSubplot:>"
      ]
     },
     "execution_count": 36,
     "metadata": {},
     "output_type": "execute_result"
    },
    {
     "data": {
      "image/png": "[encoded data removed]",
      "text/plain": [
       "<Figure size 432x288 with 1 Axes>"
      ]
     },
     "metadata": {
      "needs_background": "light"
     },
     "output_type": "display_data"
    }
   ],
   "source": [
    "inst['Avg User Engagement'].hist(bins = 100, color = 'purple')"
   ]
  },
  {
   "cell_type": "markdown",
   "id": "10ec110e",
   "metadata": {},
   "source": [
    "<font color = blue> Также построим график для одной из категориальных переменных по значениям ER."
   ]
  },
  {
   "cell_type": "code",
   "execution_count": 37,
   "id": "f0149b90",
   "metadata": {
    "scrolled": true
   },
   "outputs": [
    {
     "data": {
      "text/plain": [
       "<AxesSubplot:>"
      ]
     },
     "execution_count": 37,
     "metadata": {},
     "output_type": "execute_result"
    },
    {
     "data": {
      "image/png": "[encoded data removed]",
      "text/plain": [
       "<Figure size 432x288 with 1 Axes>"
      ]
     },
     "metadata": {
      "needs_background": "light"
     },
     "output_type": "display_data"
    }
   ],
   "source": [
    "inst['Engagement Rate Category'].value_counts().plot(kind = 'bar', color = 'orange')"
   ]
  },
  {
   "cell_type": "markdown",
   "id": "1012c564",
   "metadata": {},
   "source": [
    "### 3. Описательные статистики\n",
    "#### Меры центральной тенденции"
   ]
  },
  {
   "cell_type": "markdown",
   "id": "2915e5ac",
   "metadata": {},
   "source": [
    "<font color = blue> Рассчитаем меры центральной тенденции и разброса по количественным данным из нашего датасета с помощью метода describe. Мы можем применить метод describe на весь датасет, чтобы получить агрегированную таблицу по всем столбцам с расчетом мер центральной тенденции."
   ]
  },
  {
   "cell_type": "code",
   "execution_count": 38,
   "id": "84382c6e",
   "metadata": {},
   "outputs": [
    {
     "data": {
      "text/html": [
       "<div>\n",
       "<style scoped>\n",
       "    .dataframe tbody tr th:only-of-type {\n",
       "        vertical-align: middle;\n",
       "    }\n",
       "\n",
       "    .dataframe tbody tr th {\n",
       "        vertical-align: top;\n",
       "    }\n",
       "\n",
       "    .dataframe thead th {\n",
       "        text-align: right;\n",
       "    }\n",
       "</style>\n",
       "<table border=\"1\" class=\"dataframe\">\n",
       "  <thead>\n",
       "    <tr style=\"text-align: right;\">\n",
       "      <th></th>\n",
       "      <th>Rank №</th>\n",
       "      <th>Number of Followers</th>\n",
       "      <th>Authentic Engagement</th>\n",
       "      <th>Avg User Engagement</th>\n",
       "      <th>Engagement Rate</th>\n",
       "    </tr>\n",
       "  </thead>\n",
       "  <tbody>\n",
       "    <tr>\n",
       "      <th>count</th>\n",
       "      <td>1000.000000</td>\n",
       "      <td>1.000000e+03</td>\n",
       "      <td>1.000000e+03</td>\n",
       "      <td>1.000000e+03</td>\n",
       "      <td>1000.00000</td>\n",
       "    </tr>\n",
       "    <tr>\n",
       "      <th>mean</th>\n",
       "      <td>500.500000</td>\n",
       "      <td>2.604460e+07</td>\n",
       "      <td>5.661992e+05</td>\n",
       "      <td>7.728611e+05</td>\n",
       "      <td>6.13492</td>\n",
       "    </tr>\n",
       "    <tr>\n",
       "      <th>std</th>\n",
       "      <td>288.819436</td>\n",
       "      <td>4.409884e+07</td>\n",
       "      <td>9.956089e+05</td>\n",
       "      <td>1.117135e+06</td>\n",
       "      <td>8.27138</td>\n",
       "    </tr>\n",
       "    <tr>\n",
       "      <th>min</th>\n",
       "      <td>1.000000</td>\n",
       "      <td>1.600000e+06</td>\n",
       "      <td>0.000000e+00</td>\n",
       "      <td>2.110000e+04</td>\n",
       "      <td>0.02000</td>\n",
       "    </tr>\n",
       "    <tr>\n",
       "      <th>25%</th>\n",
       "      <td>250.750000</td>\n",
       "      <td>8.600000e+06</td>\n",
       "      <td>1.690000e+05</td>\n",
       "      <td>2.524250e+05</td>\n",
       "      <td>1.25000</td>\n",
       "    </tr>\n",
       "    <tr>\n",
       "      <th>50%</th>\n",
       "      <td>500.500000</td>\n",
       "      <td>1.410000e+07</td>\n",
       "      <td>3.160500e+05</td>\n",
       "      <td>4.633000e+05</td>\n",
       "      <td>3.29500</td>\n",
       "    </tr>\n",
       "    <tr>\n",
       "      <th>75%</th>\n",
       "      <td>750.250000</td>\n",
       "      <td>2.542500e+07</td>\n",
       "      <td>6.042750e+05</td>\n",
       "      <td>8.501250e+05</td>\n",
       "      <td>7.50250</td>\n",
       "    </tr>\n",
       "    <tr>\n",
       "      <th>max</th>\n",
       "      <td>1000.000000</td>\n",
       "      <td>5.284000e+08</td>\n",
       "      <td>1.330000e+07</td>\n",
       "      <td>1.330000e+07</td>\n",
       "      <td>118.75000</td>\n",
       "    </tr>\n",
       "  </tbody>\n",
       "</table>\n",
       "</div>"
      ],
      "text/plain": [
       "            Rank №  Number of Followers  Authentic Engagement  \\\n",
       "count  1000.000000         1.000000e+03          1.000000e+03   \n",
       "mean    500.500000         2.604460e+07          5.661992e+05   \n",
       "std     288.819436         4.409884e+07          9.956089e+05   \n",
       "min       1.000000         1.600000e+06          0.000000e+00   \n",
       "25%     250.750000         8.600000e+06          1.690000e+05   \n",
       "50%     500.500000         1.410000e+07          3.160500e+05   \n",
       "75%     750.250000         2.542500e+07          6.042750e+05   \n",
       "max    1000.000000         5.284000e+08          1.330000e+07   \n",
       "\n",
       "       Avg User Engagement  Engagement Rate  \n",
       "count         1.000000e+03       1000.00000  \n",
       "mean          7.728611e+05          6.13492  \n",
       "std           1.117135e+06          8.27138  \n",
       "min           2.110000e+04          0.02000  \n",
       "25%           2.524250e+05          1.25000  \n",
       "50%           4.633000e+05          3.29500  \n",
       "75%           8.501250e+05          7.50250  \n",
       "max           1.330000e+07        118.75000  "
      ]
     },
     "execution_count": 38,
     "metadata": {},
     "output_type": "execute_result"
    }
   ],
   "source": [
    "inst.describe()"
   ]
  },
  {
   "cell_type": "markdown",
   "id": "b1bc5547",
   "metadata": {},
   "source": [
    "<font color = blue> Столбец Rank, который воспринимается библиотекой pandas как количественный, в нашем случае имеет все-таки категориальный смысл, так как в нем отражается порядковый номер аккаунте в рейтинге топ-1000, поэтому на него обращать внимание не стоит – исключим его из выборки."
   ]
  },
  {
   "cell_type": "code",
   "execution_count": 39,
   "id": "0ba1a16b",
   "metadata": {},
   "outputs": [
    {
     "data": {
      "text/html": [
       "<div>\n",
       "<style scoped>\n",
       "    .dataframe tbody tr th:only-of-type {\n",
       "        vertical-align: middle;\n",
       "    }\n",
       "\n",
       "    .dataframe tbody tr th {\n",
       "        vertical-align: top;\n",
       "    }\n",
       "\n",
       "    .dataframe thead th {\n",
       "        text-align: right;\n",
       "    }\n",
       "</style>\n",
       "<table border=\"1\" class=\"dataframe\">\n",
       "  <thead>\n",
       "    <tr style=\"text-align: right;\">\n",
       "      <th></th>\n",
       "      <th>Number of Followers</th>\n",
       "      <th>Authentic Engagement</th>\n",
       "      <th>Avg User Engagement</th>\n",
       "      <th>Engagement Rate</th>\n",
       "    </tr>\n",
       "  </thead>\n",
       "  <tbody>\n",
       "    <tr>\n",
       "      <th>count</th>\n",
       "      <td>1.000000e+03</td>\n",
       "      <td>1.000000e+03</td>\n",
       "      <td>1.000000e+03</td>\n",
       "      <td>1000.00000</td>\n",
       "    </tr>\n",
       "    <tr>\n",
       "      <th>mean</th>\n",
       "      <td>2.604460e+07</td>\n",
       "      <td>5.661992e+05</td>\n",
       "      <td>7.728611e+05</td>\n",
       "      <td>6.13492</td>\n",
       "    </tr>\n",
       "    <tr>\n",
       "      <th>std</th>\n",
       "      <td>4.409884e+07</td>\n",
       "      <td>9.956089e+05</td>\n",
       "      <td>1.117135e+06</td>\n",
       "      <td>8.27138</td>\n",
       "    </tr>\n",
       "    <tr>\n",
       "      <th>min</th>\n",
       "      <td>1.600000e+06</td>\n",
       "      <td>0.000000e+00</td>\n",
       "      <td>2.110000e+04</td>\n",
       "      <td>0.02000</td>\n",
       "    </tr>\n",
       "    <tr>\n",
       "      <th>25%</th>\n",
       "      <td>8.600000e+06</td>\n",
       "      <td>1.690000e+05</td>\n",
       "      <td>2.524250e+05</td>\n",
       "      <td>1.25000</td>\n",
       "    </tr>\n",
       "    <tr>\n",
       "      <th>50%</th>\n",
       "      <td>1.410000e+07</td>\n",
       "      <td>3.160500e+05</td>\n",
       "      <td>4.633000e+05</td>\n",
       "      <td>3.29500</td>\n",
       "    </tr>\n",
       "    <tr>\n",
       "      <th>75%</th>\n",
       "      <td>2.542500e+07</td>\n",
       "      <td>6.042750e+05</td>\n",
       "      <td>8.501250e+05</td>\n",
       "      <td>7.50250</td>\n",
       "    </tr>\n",
       "    <tr>\n",
       "      <th>max</th>\n",
       "      <td>5.284000e+08</td>\n",
       "      <td>1.330000e+07</td>\n",
       "      <td>1.330000e+07</td>\n",
       "      <td>118.75000</td>\n",
       "    </tr>\n",
       "  </tbody>\n",
       "</table>\n",
       "</div>"
      ],
      "text/plain": [
       "       Number of Followers  Authentic Engagement  Avg User Engagement  \\\n",
       "count         1.000000e+03          1.000000e+03         1.000000e+03   \n",
       "mean          2.604460e+07          5.661992e+05         7.728611e+05   \n",
       "std           4.409884e+07          9.956089e+05         1.117135e+06   \n",
       "min           1.600000e+06          0.000000e+00         2.110000e+04   \n",
       "25%           8.600000e+06          1.690000e+05         2.524250e+05   \n",
       "50%           1.410000e+07          3.160500e+05         4.633000e+05   \n",
       "75%           2.542500e+07          6.042750e+05         8.501250e+05   \n",
       "max           5.284000e+08          1.330000e+07         1.330000e+07   \n",
       "\n",
       "       Engagement Rate  \n",
       "count       1000.00000  \n",
       "mean           6.13492  \n",
       "std            8.27138  \n",
       "min            0.02000  \n",
       "25%            1.25000  \n",
       "50%            3.29500  \n",
       "75%            7.50250  \n",
       "max          118.75000  "
      ]
     },
     "execution_count": 39,
     "metadata": {},
     "output_type": "execute_result"
    }
   ],
   "source": [
    "inst[['Number of Followers', 'Authentic Engagement', 'Avg User Engagement', 'Engagement Rate']].describe()"
   ]
  },
  {
   "cell_type": "markdown",
   "id": "920c6d88",
   "metadata": {},
   "source": [
    "<font color = blue> Воспользуемся функциями по расчету мер центральной тенденции на сгруппированных данных.   \n",
    "    Например, посмотрим, сколько в среднем подписчиков набирают аккаунты, сгруппированные по тематике."
   ]
  },
  {
   "cell_type": "code",
   "execution_count": 40,
   "id": "8129da7e",
   "metadata": {},
   "outputs": [
    {
     "data": {
      "text/plain": [
       "Blog Topic\n",
       "Adult content                                1.158333e+07\n",
       "Animals                                      1.010000e+07\n",
       "Art/Artists                                  1.358571e+07\n",
       "Art/ArtistsBeauty                            1.840000e+07\n",
       "Art/ArtistsCinema & Actors/actresses         1.620000e+07\n",
       "                                                 ...     \n",
       "Sports with a ballLifestyle                  2.270000e+07\n",
       "Sports with a ballLifestyleKids & Toys       1.560000e+07\n",
       "Sports with a ballLiterature & Journalism    1.740000e+07\n",
       "Sports with a ballShows                      3.130000e+07\n",
       "TravelCinema & Actors/actresses              4.000000e+06\n",
       "Name: Number of Followers, Length: 153, dtype: float64"
      ]
     },
     "execution_count": 40,
     "metadata": {},
     "output_type": "execute_result"
    }
   ],
   "source": [
    "inst.groupby('Blog Topic')['Number of Followers'].mean()"
   ]
  },
  {
   "cell_type": "markdown",
   "id": "f889b374",
   "metadata": {},
   "source": [
    "<font color = blue> Также с помощью функции mean можем посмотреть, сколько в среднем в каждой стране \"оформляю\" подписок на различные Инстаграм-аккаунты из данного датасета."
   ]
  },
  {
   "cell_type": "code",
   "execution_count": 41,
   "id": "55b17e0c",
   "metadata": {},
   "outputs": [
    {
     "data": {
      "text/plain": [
       "Audience Country\n",
       "Albania                 1.030000e+07\n",
       "Algeria                 9.100000e+06\n",
       "Argentina               3.225217e+07\n",
       "Brazil                  2.526345e+07\n",
       "Chile                   1.410000e+07\n",
       "China                   2.890000e+07\n",
       "Colombia                2.127500e+07\n",
       "Egypt                   2.510000e+07\n",
       "France                  2.706667e+07\n",
       "Germany                 2.702500e+07\n",
       "India                   3.575031e+07\n",
       "Indonesia               1.573971e+07\n",
       "Iran                    1.219524e+07\n",
       "Iraq                    1.137500e+07\n",
       "Italy                   1.855000e+07\n",
       "Japan                   6.075000e+06\n",
       "Kazakhstan              6.900000e+06\n",
       "Mexico                  1.944250e+07\n",
       "Morocco                 8.650000e+06\n",
       "Nigeria                 1.975000e+07\n",
       "Pakistan                6.600000e+06\n",
       "Philippines             1.135714e+07\n",
       "Poland                  2.680000e+07\n",
       "Russia                  1.490000e+07\n",
       "Senegal                 1.600000e+06\n",
       "South Korea             1.371538e+07\n",
       "Spain                   2.421471e+07\n",
       "Syria                   9.000000e+06\n",
       "Thailand                1.005000e+07\n",
       "Turkey                  1.566500e+07\n",
       "United Arab Emirates    1.065000e+07\n",
       "United Kingdom          1.877059e+07\n",
       "United States           3.338556e+07\n",
       "Name: Number of Followers, dtype: float64"
      ]
     },
     "execution_count": 41,
     "metadata": {},
     "output_type": "execute_result"
    }
   ],
   "source": [
    "inst.groupby('Audience Country')['Number of Followers'].mean()"
   ]
  },
  {
   "cell_type": "markdown",
   "id": "2e720d1f",
   "metadata": {},
   "source": [
    "<font color = blue> С помощью функции agg и через анонимную функцию lambda мы также можем найти значение моды для категориальных данных – посмотрим на то, какой коэффициент вовлечения наиболее часто встречается в каждой стране."
   ]
  },
  {
   "cell_type": "code",
   "execution_count": 42,
   "id": "f22f38fa",
   "metadata": {
    "scrolled": true
   },
   "outputs": [
    {
     "data": {
      "text/plain": [
       "Audience Country\n",
       "Albania                 Medium\n",
       "Algeria                   Good\n",
       "Argentina                 High\n",
       "Brazil                  Medium\n",
       "Chile                   Medium\n",
       "China                     Good\n",
       "Colombia                  Good\n",
       "Egypt                      Low\n",
       "France                    High\n",
       "Germany                    Low\n",
       "India                   Medium\n",
       "Indonesia                 High\n",
       "Iran                    Medium\n",
       "Iraq                      Good\n",
       "Italy                      Low\n",
       "Japan                     High\n",
       "Kazakhstan                Good\n",
       "Mexico                    High\n",
       "Morocco                   Good\n",
       "Nigeria                    Low\n",
       "Pakistan                  Good\n",
       "Philippines               High\n",
       "Poland                  Medium\n",
       "Russia                  Medium\n",
       "Senegal                   High\n",
       "South Korea               High\n",
       "Spain                   Medium\n",
       "Syria                     Good\n",
       "Thailand                  High\n",
       "Turkey                  Medium\n",
       "United Arab Emirates      Good\n",
       "United Kingdom            High\n",
       "United States           Medium\n",
       "Name: Engagement Rate Category, dtype: object"
      ]
     },
     "execution_count": 42,
     "metadata": {},
     "output_type": "execute_result"
    }
   ],
   "source": [
    "inst.groupby('Audience Country')['Engagement Rate Category'].agg(lambda x: x.value_counts().index[0])"
   ]
  },
  {
   "cell_type": "markdown",
   "id": "8eed31ba",
   "metadata": {},
   "source": [
    "<font color = blue> Также через agg посмотрим на среднее и медианное значения уже по числовым данным о коэффициенте вовлеченности в разрезе стран, из которых люди подписывались на аккаунты. Получим мини-датасет со средними и медианными значениями ER в разбивке по каждой стране."
   ]
  },
  {
   "cell_type": "code",
   "execution_count": 43,
   "id": "edf652e1",
   "metadata": {},
   "outputs": [
    {
     "data": {
      "text/html": [
       "<div>\n",
       "<style scoped>\n",
       "    .dataframe tbody tr th:only-of-type {\n",
       "        vertical-align: middle;\n",
       "    }\n",
       "\n",
       "    .dataframe tbody tr th {\n",
       "        vertical-align: top;\n",
       "    }\n",
       "\n",
       "    .dataframe thead th {\n",
       "        text-align: right;\n",
       "    }\n",
       "</style>\n",
       "<table border=\"1\" class=\"dataframe\">\n",
       "  <thead>\n",
       "    <tr style=\"text-align: right;\">\n",
       "      <th></th>\n",
       "      <th>mean</th>\n",
       "      <th>median</th>\n",
       "    </tr>\n",
       "    <tr>\n",
       "      <th>Audience Country</th>\n",
       "      <th></th>\n",
       "      <th></th>\n",
       "    </tr>\n",
       "  </thead>\n",
       "  <tbody>\n",
       "    <tr>\n",
       "      <th>Albania</th>\n",
       "      <td>2.070000</td>\n",
       "      <td>2.070</td>\n",
       "    </tr>\n",
       "    <tr>\n",
       "      <th>Algeria</th>\n",
       "      <td>4.340000</td>\n",
       "      <td>4.340</td>\n",
       "    </tr>\n",
       "    <tr>\n",
       "      <th>Argentina</th>\n",
       "      <td>5.396522</td>\n",
       "      <td>5.040</td>\n",
       "    </tr>\n",
       "    <tr>\n",
       "      <th>Brazil</th>\n",
       "      <td>3.596483</td>\n",
       "      <td>2.230</td>\n",
       "    </tr>\n",
       "    <tr>\n",
       "      <th>Chile</th>\n",
       "      <td>1.320000</td>\n",
       "      <td>1.320</td>\n",
       "    </tr>\n",
       "    <tr>\n",
       "      <th>China</th>\n",
       "      <td>5.190000</td>\n",
       "      <td>5.190</td>\n",
       "    </tr>\n",
       "    <tr>\n",
       "      <th>Colombia</th>\n",
       "      <td>3.401250</td>\n",
       "      <td>3.435</td>\n",
       "    </tr>\n",
       "    <tr>\n",
       "      <th>Egypt</th>\n",
       "      <td>1.316000</td>\n",
       "      <td>0.970</td>\n",
       "    </tr>\n",
       "    <tr>\n",
       "      <th>France</th>\n",
       "      <td>5.826667</td>\n",
       "      <td>3.220</td>\n",
       "    </tr>\n",
       "    <tr>\n",
       "      <th>Germany</th>\n",
       "      <td>1.622500</td>\n",
       "      <td>0.410</td>\n",
       "    </tr>\n",
       "    <tr>\n",
       "      <th>India</th>\n",
       "      <td>4.284843</td>\n",
       "      <td>2.550</td>\n",
       "    </tr>\n",
       "    <tr>\n",
       "      <th>Indonesia</th>\n",
       "      <td>9.697500</td>\n",
       "      <td>8.220</td>\n",
       "    </tr>\n",
       "    <tr>\n",
       "      <th>Iran</th>\n",
       "      <td>6.564762</td>\n",
       "      <td>3.600</td>\n",
       "    </tr>\n",
       "    <tr>\n",
       "      <th>Iraq</th>\n",
       "      <td>4.272500</td>\n",
       "      <td>2.475</td>\n",
       "    </tr>\n",
       "    <tr>\n",
       "      <th>Italy</th>\n",
       "      <td>4.841875</td>\n",
       "      <td>2.185</td>\n",
       "    </tr>\n",
       "    <tr>\n",
       "      <th>Japan</th>\n",
       "      <td>9.682500</td>\n",
       "      <td>10.580</td>\n",
       "    </tr>\n",
       "    <tr>\n",
       "      <th>Kazakhstan</th>\n",
       "      <td>5.370000</td>\n",
       "      <td>5.370</td>\n",
       "    </tr>\n",
       "    <tr>\n",
       "      <th>Mexico</th>\n",
       "      <td>6.413500</td>\n",
       "      <td>4.230</td>\n",
       "    </tr>\n",
       "    <tr>\n",
       "      <th>Morocco</th>\n",
       "      <td>4.790000</td>\n",
       "      <td>4.790</td>\n",
       "    </tr>\n",
       "    <tr>\n",
       "      <th>Nigeria</th>\n",
       "      <td>1.565000</td>\n",
       "      <td>1.565</td>\n",
       "    </tr>\n",
       "    <tr>\n",
       "      <th>Pakistan</th>\n",
       "      <td>4.780000</td>\n",
       "      <td>4.780</td>\n",
       "    </tr>\n",
       "    <tr>\n",
       "      <th>Philippines</th>\n",
       "      <td>5.152857</td>\n",
       "      <td>4.740</td>\n",
       "    </tr>\n",
       "    <tr>\n",
       "      <th>Poland</th>\n",
       "      <td>1.480000</td>\n",
       "      <td>1.480</td>\n",
       "    </tr>\n",
       "    <tr>\n",
       "      <th>Russia</th>\n",
       "      <td>4.675385</td>\n",
       "      <td>3.120</td>\n",
       "    </tr>\n",
       "    <tr>\n",
       "      <th>Senegal</th>\n",
       "      <td>118.750000</td>\n",
       "      <td>118.750</td>\n",
       "    </tr>\n",
       "    <tr>\n",
       "      <th>South Korea</th>\n",
       "      <td>14.600769</td>\n",
       "      <td>16.670</td>\n",
       "    </tr>\n",
       "    <tr>\n",
       "      <th>Spain</th>\n",
       "      <td>3.049412</td>\n",
       "      <td>1.820</td>\n",
       "    </tr>\n",
       "    <tr>\n",
       "      <th>Syria</th>\n",
       "      <td>4.910000</td>\n",
       "      <td>4.910</td>\n",
       "    </tr>\n",
       "    <tr>\n",
       "      <th>Thailand</th>\n",
       "      <td>8.006667</td>\n",
       "      <td>5.145</td>\n",
       "    </tr>\n",
       "    <tr>\n",
       "      <th>Turkey</th>\n",
       "      <td>6.390000</td>\n",
       "      <td>2.885</td>\n",
       "    </tr>\n",
       "    <tr>\n",
       "      <th>United Arab Emirates</th>\n",
       "      <td>3.850000</td>\n",
       "      <td>3.850</td>\n",
       "    </tr>\n",
       "    <tr>\n",
       "      <th>United Kingdom</th>\n",
       "      <td>5.637059</td>\n",
       "      <td>2.820</td>\n",
       "    </tr>\n",
       "    <tr>\n",
       "      <th>United States</th>\n",
       "      <td>6.082924</td>\n",
       "      <td>2.920</td>\n",
       "    </tr>\n",
       "  </tbody>\n",
       "</table>\n",
       "</div>"
      ],
      "text/plain": [
       "                            mean   median\n",
       "Audience Country                         \n",
       "Albania                 2.070000    2.070\n",
       "Algeria                 4.340000    4.340\n",
       "Argentina               5.396522    5.040\n",
       "Brazil                  3.596483    2.230\n",
       "Chile                   1.320000    1.320\n",
       "China                   5.190000    5.190\n",
       "Colombia                3.401250    3.435\n",
       "Egypt                   1.316000    0.970\n",
       "France                  5.826667    3.220\n",
       "Germany                 1.622500    0.410\n",
       "India                   4.284843    2.550\n",
       "Indonesia               9.697500    8.220\n",
       "Iran                    6.564762    3.600\n",
       "Iraq                    4.272500    2.475\n",
       "Italy                   4.841875    2.185\n",
       "Japan                   9.682500   10.580\n",
       "Kazakhstan              5.370000    5.370\n",
       "Mexico                  6.413500    4.230\n",
       "Morocco                 4.790000    4.790\n",
       "Nigeria                 1.565000    1.565\n",
       "Pakistan                4.780000    4.780\n",
       "Philippines             5.152857    4.740\n",
       "Poland                  1.480000    1.480\n",
       "Russia                  4.675385    3.120\n",
       "Senegal               118.750000  118.750\n",
       "South Korea            14.600769   16.670\n",
       "Spain                   3.049412    1.820\n",
       "Syria                   4.910000    4.910\n",
       "Thailand                8.006667    5.145\n",
       "Turkey                  6.390000    2.885\n",
       "United Arab Emirates    3.850000    3.850\n",
       "United Kingdom          5.637059    2.820\n",
       "United States           6.082924    2.920"
      ]
     },
     "execution_count": 43,
     "metadata": {},
     "output_type": "execute_result"
    }
   ],
   "source": [
    "inst.groupby('Audience Country')['Engagement Rate'].agg(['mean', 'median'])"
   ]
  },
  {
   "cell_type": "markdown",
   "id": "e8b5a5cf",
   "metadata": {},
   "source": [
    "<font color = blue> Мы также можем получить агрегированные данные по интересующим нас столбцам с помощью пивотальной таблицы. Сгруппирум данные по стране аудитории, посмотрим на средние и медианные значения по трем столбцам – \"Number of Followers\",\"Engagement Rate\" и \"Avg User Engagement\"."
   ]
  },
  {
   "cell_type": "code",
   "execution_count": 44,
   "id": "ebf8e035",
   "metadata": {},
   "outputs": [
    {
     "data": {
      "text/html": [
       "<div>\n",
       "<style scoped>\n",
       "    .dataframe tbody tr th:only-of-type {\n",
       "        vertical-align: middle;\n",
       "    }\n",
       "\n",
       "    .dataframe tbody tr th {\n",
       "        vertical-align: top;\n",
       "    }\n",
       "\n",
       "    .dataframe thead tr th {\n",
       "        text-align: left;\n",
       "    }\n",
       "\n",
       "    .dataframe thead tr:last-of-type th {\n",
       "        text-align: right;\n",
       "    }\n",
       "</style>\n",
       "<table border=\"1\" class=\"dataframe\">\n",
       "  <thead>\n",
       "    <tr>\n",
       "      <th></th>\n",
       "      <th colspan=\"3\" halign=\"left\">mean</th>\n",
       "      <th colspan=\"3\" halign=\"left\">median</th>\n",
       "    </tr>\n",
       "    <tr>\n",
       "      <th></th>\n",
       "      <th>Avg User Engagement</th>\n",
       "      <th>Engagement Rate</th>\n",
       "      <th>Number of Followers</th>\n",
       "      <th>Avg User Engagement</th>\n",
       "      <th>Engagement Rate</th>\n",
       "      <th>Number of Followers</th>\n",
       "    </tr>\n",
       "    <tr>\n",
       "      <th>Audience Country</th>\n",
       "      <th></th>\n",
       "      <th></th>\n",
       "      <th></th>\n",
       "      <th></th>\n",
       "      <th></th>\n",
       "      <th></th>\n",
       "    </tr>\n",
       "  </thead>\n",
       "  <tbody>\n",
       "    <tr>\n",
       "      <th>Albania</th>\n",
       "      <td>2.129000e+05</td>\n",
       "      <td>2.070000</td>\n",
       "      <td>1.030000e+07</td>\n",
       "      <td>212900</td>\n",
       "      <td>2.070</td>\n",
       "      <td>10300000.0</td>\n",
       "    </tr>\n",
       "    <tr>\n",
       "      <th>Algeria</th>\n",
       "      <td>3.952000e+05</td>\n",
       "      <td>4.340000</td>\n",
       "      <td>9.100000e+06</td>\n",
       "      <td>395200</td>\n",
       "      <td>4.340</td>\n",
       "      <td>9100000.0</td>\n",
       "    </tr>\n",
       "    <tr>\n",
       "      <th>Argentina</th>\n",
       "      <td>8.827522e+05</td>\n",
       "      <td>5.396522</td>\n",
       "      <td>3.225217e+07</td>\n",
       "      <td>649500</td>\n",
       "      <td>5.040</td>\n",
       "      <td>14700000.0</td>\n",
       "    </tr>\n",
       "    <tr>\n",
       "      <th>Brazil</th>\n",
       "      <td>5.283662e+05</td>\n",
       "      <td>3.596483</td>\n",
       "      <td>2.526345e+07</td>\n",
       "      <td>300500</td>\n",
       "      <td>2.230</td>\n",
       "      <td>17400000.0</td>\n",
       "    </tr>\n",
       "    <tr>\n",
       "      <th>Chile</th>\n",
       "      <td>1.863000e+05</td>\n",
       "      <td>1.320000</td>\n",
       "      <td>1.410000e+07</td>\n",
       "      <td>186300</td>\n",
       "      <td>1.320</td>\n",
       "      <td>14100000.0</td>\n",
       "    </tr>\n",
       "    <tr>\n",
       "      <th>China</th>\n",
       "      <td>1.500000e+06</td>\n",
       "      <td>5.190000</td>\n",
       "      <td>2.890000e+07</td>\n",
       "      <td>1500000</td>\n",
       "      <td>5.190</td>\n",
       "      <td>28900000.0</td>\n",
       "    </tr>\n",
       "    <tr>\n",
       "      <th>Colombia</th>\n",
       "      <td>4.489875e+05</td>\n",
       "      <td>3.401250</td>\n",
       "      <td>2.127500e+07</td>\n",
       "      <td>375800</td>\n",
       "      <td>3.435</td>\n",
       "      <td>14800000.0</td>\n",
       "    </tr>\n",
       "    <tr>\n",
       "      <th>Egypt</th>\n",
       "      <td>3.835800e+05</td>\n",
       "      <td>1.316000</td>\n",
       "      <td>2.510000e+07</td>\n",
       "      <td>152600</td>\n",
       "      <td>0.970</td>\n",
       "      <td>19400000.0</td>\n",
       "    </tr>\n",
       "    <tr>\n",
       "      <th>France</th>\n",
       "      <td>5.974500e+05</td>\n",
       "      <td>5.826667</td>\n",
       "      <td>2.706667e+07</td>\n",
       "      <td>623300</td>\n",
       "      <td>3.220</td>\n",
       "      <td>11450000.0</td>\n",
       "    </tr>\n",
       "    <tr>\n",
       "      <th>Germany</th>\n",
       "      <td>1.800000e+05</td>\n",
       "      <td>1.622500</td>\n",
       "      <td>2.702500e+07</td>\n",
       "      <td>138250</td>\n",
       "      <td>0.410</td>\n",
       "      <td>33749999.5</td>\n",
       "    </tr>\n",
       "    <tr>\n",
       "      <th>India</th>\n",
       "      <td>7.156950e+05</td>\n",
       "      <td>4.284843</td>\n",
       "      <td>3.575031e+07</td>\n",
       "      <td>453700</td>\n",
       "      <td>2.550</td>\n",
       "      <td>20400000.0</td>\n",
       "    </tr>\n",
       "    <tr>\n",
       "      <th>Indonesia</th>\n",
       "      <td>1.049643e+06</td>\n",
       "      <td>9.697500</td>\n",
       "      <td>1.573971e+07</td>\n",
       "      <td>745450</td>\n",
       "      <td>8.220</td>\n",
       "      <td>10300000.0</td>\n",
       "    </tr>\n",
       "    <tr>\n",
       "      <th>Iran</th>\n",
       "      <td>5.342810e+05</td>\n",
       "      <td>6.564762</td>\n",
       "      <td>1.219524e+07</td>\n",
       "      <td>400100</td>\n",
       "      <td>3.600</td>\n",
       "      <td>9400000.0</td>\n",
       "    </tr>\n",
       "    <tr>\n",
       "      <th>Iraq</th>\n",
       "      <td>3.763000e+05</td>\n",
       "      <td>4.272500</td>\n",
       "      <td>1.137500e+07</td>\n",
       "      <td>267900</td>\n",
       "      <td>2.475</td>\n",
       "      <td>11550000.0</td>\n",
       "    </tr>\n",
       "    <tr>\n",
       "      <th>Italy</th>\n",
       "      <td>4.270438e+05</td>\n",
       "      <td>4.841875</td>\n",
       "      <td>1.855000e+07</td>\n",
       "      <td>409050</td>\n",
       "      <td>2.185</td>\n",
       "      <td>14050000.0</td>\n",
       "    </tr>\n",
       "    <tr>\n",
       "      <th>Japan</th>\n",
       "      <td>4.989250e+05</td>\n",
       "      <td>9.682500</td>\n",
       "      <td>6.075000e+06</td>\n",
       "      <td>490900</td>\n",
       "      <td>10.580</td>\n",
       "      <td>5000000.0</td>\n",
       "    </tr>\n",
       "    <tr>\n",
       "      <th>Kazakhstan</th>\n",
       "      <td>3.706000e+05</td>\n",
       "      <td>5.370000</td>\n",
       "      <td>6.900000e+06</td>\n",
       "      <td>370600</td>\n",
       "      <td>5.370</td>\n",
       "      <td>6900000.0</td>\n",
       "    </tr>\n",
       "    <tr>\n",
       "      <th>Mexico</th>\n",
       "      <td>8.050950e+05</td>\n",
       "      <td>6.413500</td>\n",
       "      <td>1.944250e+07</td>\n",
       "      <td>669950</td>\n",
       "      <td>4.230</td>\n",
       "      <td>13400000.0</td>\n",
       "    </tr>\n",
       "    <tr>\n",
       "      <th>Morocco</th>\n",
       "      <td>4.110500e+05</td>\n",
       "      <td>4.790000</td>\n",
       "      <td>8.650000e+06</td>\n",
       "      <td>411050</td>\n",
       "      <td>4.790</td>\n",
       "      <td>8650000.0</td>\n",
       "    </tr>\n",
       "    <tr>\n",
       "      <th>Nigeria</th>\n",
       "      <td>2.737000e+05</td>\n",
       "      <td>1.565000</td>\n",
       "      <td>1.975000e+07</td>\n",
       "      <td>273700</td>\n",
       "      <td>1.565</td>\n",
       "      <td>19750000.0</td>\n",
       "    </tr>\n",
       "    <tr>\n",
       "      <th>Pakistan</th>\n",
       "      <td>3.158000e+05</td>\n",
       "      <td>4.780000</td>\n",
       "      <td>6.600000e+06</td>\n",
       "      <td>315800</td>\n",
       "      <td>4.780</td>\n",
       "      <td>6600000.0</td>\n",
       "    </tr>\n",
       "    <tr>\n",
       "      <th>Philippines</th>\n",
       "      <td>4.843286e+05</td>\n",
       "      <td>5.152857</td>\n",
       "      <td>1.135714e+07</td>\n",
       "      <td>412100</td>\n",
       "      <td>4.740</td>\n",
       "      <td>13500000.0</td>\n",
       "    </tr>\n",
       "    <tr>\n",
       "      <th>Poland</th>\n",
       "      <td>3.971000e+05</td>\n",
       "      <td>1.480000</td>\n",
       "      <td>2.680000e+07</td>\n",
       "      <td>397100</td>\n",
       "      <td>1.480</td>\n",
       "      <td>26800000.0</td>\n",
       "    </tr>\n",
       "    <tr>\n",
       "      <th>Russia</th>\n",
       "      <td>5.639885e+05</td>\n",
       "      <td>4.675385</td>\n",
       "      <td>1.490000e+07</td>\n",
       "      <td>358200</td>\n",
       "      <td>3.120</td>\n",
       "      <td>14400000.0</td>\n",
       "    </tr>\n",
       "    <tr>\n",
       "      <th>Senegal</th>\n",
       "      <td>1.900000e+06</td>\n",
       "      <td>118.750000</td>\n",
       "      <td>1.600000e+06</td>\n",
       "      <td>1900000</td>\n",
       "      <td>118.750</td>\n",
       "      <td>1600000.0</td>\n",
       "    </tr>\n",
       "    <tr>\n",
       "      <th>South Korea</th>\n",
       "      <td>1.654085e+06</td>\n",
       "      <td>14.600769</td>\n",
       "      <td>1.371538e+07</td>\n",
       "      <td>1000000</td>\n",
       "      <td>16.670</td>\n",
       "      <td>10100000.0</td>\n",
       "    </tr>\n",
       "    <tr>\n",
       "      <th>Spain</th>\n",
       "      <td>4.530882e+05</td>\n",
       "      <td>3.049412</td>\n",
       "      <td>2.421471e+07</td>\n",
       "      <td>383500</td>\n",
       "      <td>1.820</td>\n",
       "      <td>15300000.0</td>\n",
       "    </tr>\n",
       "    <tr>\n",
       "      <th>Syria</th>\n",
       "      <td>4.420000e+05</td>\n",
       "      <td>4.910000</td>\n",
       "      <td>9.000000e+06</td>\n",
       "      <td>442000</td>\n",
       "      <td>4.910</td>\n",
       "      <td>9000000.0</td>\n",
       "    </tr>\n",
       "    <tr>\n",
       "      <th>Thailand</th>\n",
       "      <td>4.958833e+05</td>\n",
       "      <td>8.006667</td>\n",
       "      <td>1.005000e+07</td>\n",
       "      <td>557950</td>\n",
       "      <td>5.145</td>\n",
       "      <td>11600000.0</td>\n",
       "    </tr>\n",
       "    <tr>\n",
       "      <th>Turkey</th>\n",
       "      <td>6.427600e+05</td>\n",
       "      <td>6.390000</td>\n",
       "      <td>1.566500e+07</td>\n",
       "      <td>312850</td>\n",
       "      <td>2.885</td>\n",
       "      <td>11950000.0</td>\n",
       "    </tr>\n",
       "    <tr>\n",
       "      <th>United Arab Emirates</th>\n",
       "      <td>3.324500e+05</td>\n",
       "      <td>3.850000</td>\n",
       "      <td>1.065000e+07</td>\n",
       "      <td>332450</td>\n",
       "      <td>3.850</td>\n",
       "      <td>10650000.0</td>\n",
       "    </tr>\n",
       "    <tr>\n",
       "      <th>United Kingdom</th>\n",
       "      <td>4.241118e+05</td>\n",
       "      <td>5.637059</td>\n",
       "      <td>1.877059e+07</td>\n",
       "      <td>389000</td>\n",
       "      <td>2.820</td>\n",
       "      <td>12300000.0</td>\n",
       "    </tr>\n",
       "    <tr>\n",
       "      <th>United States</th>\n",
       "      <td>8.218913e+05</td>\n",
       "      <td>6.082924</td>\n",
       "      <td>3.338556e+07</td>\n",
       "      <td>438300</td>\n",
       "      <td>2.920</td>\n",
       "      <td>14200000.0</td>\n",
       "    </tr>\n",
       "  </tbody>\n",
       "</table>\n",
       "</div>"
      ],
      "text/plain": [
       "                                    mean                                      \\\n",
       "                     Avg User Engagement Engagement Rate Number of Followers   \n",
       "Audience Country                                                               \n",
       "Albania                     2.129000e+05        2.070000        1.030000e+07   \n",
       "Algeria                     3.952000e+05        4.340000        9.100000e+06   \n",
       "Argentina                   8.827522e+05        5.396522        3.225217e+07   \n",
       "Brazil                      5.283662e+05        3.596483        2.526345e+07   \n",
       "Chile                       1.863000e+05        1.320000        1.410000e+07   \n",
       "China                       1.500000e+06        5.190000        2.890000e+07   \n",
       "Colombia                    4.489875e+05        3.401250        2.127500e+07   \n",
       "Egypt                       3.835800e+05        1.316000        2.510000e+07   \n",
       "France                      5.974500e+05        5.826667        2.706667e+07   \n",
       "Germany                     1.800000e+05        1.622500        2.702500e+07   \n",
       "India                       7.156950e+05        4.284843        3.575031e+07   \n",
       "Indonesia                   1.049643e+06        9.697500        1.573971e+07   \n",
       "Iran                        5.342810e+05        6.564762        1.219524e+07   \n",
       "Iraq                        3.763000e+05        4.272500        1.137500e+07   \n",
       "Italy                       4.270438e+05        4.841875        1.855000e+07   \n",
       "Japan                       4.989250e+05        9.682500        6.075000e+06   \n",
       "Kazakhstan                  3.706000e+05        5.370000        6.900000e+06   \n",
       "Mexico                      8.050950e+05        6.413500        1.944250e+07   \n",
       "Morocco                     4.110500e+05        4.790000        8.650000e+06   \n",
       "Nigeria                     2.737000e+05        1.565000        1.975000e+07   \n",
       "Pakistan                    3.158000e+05        4.780000        6.600000e+06   \n",
       "Philippines                 4.843286e+05        5.152857        1.135714e+07   \n",
       "Poland                      3.971000e+05        1.480000        2.680000e+07   \n",
       "Russia                      5.639885e+05        4.675385        1.490000e+07   \n",
       "Senegal                     1.900000e+06      118.750000        1.600000e+06   \n",
       "South Korea                 1.654085e+06       14.600769        1.371538e+07   \n",
       "Spain                       4.530882e+05        3.049412        2.421471e+07   \n",
       "Syria                       4.420000e+05        4.910000        9.000000e+06   \n",
       "Thailand                    4.958833e+05        8.006667        1.005000e+07   \n",
       "Turkey                      6.427600e+05        6.390000        1.566500e+07   \n",
       "United Arab Emirates        3.324500e+05        3.850000        1.065000e+07   \n",
       "United Kingdom              4.241118e+05        5.637059        1.877059e+07   \n",
       "United States               8.218913e+05        6.082924        3.338556e+07   \n",
       "\n",
       "                                  median                                      \n",
       "                     Avg User Engagement Engagement Rate Number of Followers  \n",
       "Audience Country                                                              \n",
       "Albania                           212900           2.070          10300000.0  \n",
       "Algeria                           395200           4.340           9100000.0  \n",
       "Argentina                         649500           5.040          14700000.0  \n",
       "Brazil                            300500           2.230          17400000.0  \n",
       "Chile                             186300           1.320          14100000.0  \n",
       "China                            1500000           5.190          28900000.0  \n",
       "Colombia                          375800           3.435          14800000.0  \n",
       "Egypt                             152600           0.970          19400000.0  \n",
       "France                            623300           3.220          11450000.0  \n",
       "Germany                           138250           0.410          33749999.5  \n",
       "India                             453700           2.550          20400000.0  \n",
       "Indonesia                         745450           8.220          10300000.0  \n",
       "Iran                              400100           3.600           9400000.0  \n",
       "Iraq                              267900           2.475          11550000.0  \n",
       "Italy                             409050           2.185          14050000.0  \n",
       "Japan                             490900          10.580           5000000.0  \n",
       "Kazakhstan                        370600           5.370           6900000.0  \n",
       "Mexico                            669950           4.230          13400000.0  \n",
       "Morocco                           411050           4.790           8650000.0  \n",
       "Nigeria                           273700           1.565          19750000.0  \n",
       "Pakistan                          315800           4.780           6600000.0  \n",
       "Philippines                       412100           4.740          13500000.0  \n",
       "Poland                            397100           1.480          26800000.0  \n",
       "Russia                            358200           3.120          14400000.0  \n",
       "Senegal                          1900000         118.750           1600000.0  \n",
       "South Korea                      1000000          16.670          10100000.0  \n",
       "Spain                             383500           1.820          15300000.0  \n",
       "Syria                             442000           4.910           9000000.0  \n",
       "Thailand                          557950           5.145          11600000.0  \n",
       "Turkey                            312850           2.885          11950000.0  \n",
       "United Arab Emirates              332450           3.850          10650000.0  \n",
       "United Kingdom                    389000           2.820          12300000.0  \n",
       "United States                     438300           2.920          14200000.0  "
      ]
     },
     "execution_count": 44,
     "metadata": {},
     "output_type": "execute_result"
    }
   ],
   "source": [
    "inst.pivot_table(index = 'Audience Country',\n",
    "                values = ['Number of Followers','Engagement Rate','Avg User Engagement'],\n",
    "                aggfunc = ['mean', 'median'])"
   ]
  },
  {
   "cell_type": "markdown",
   "id": "d2bcb220",
   "metadata": {},
   "source": [
    "#### Меры разброса"
   ]
  },
  {
   "cell_type": "markdown",
   "id": "897b1ae2",
   "metadata": {},
   "source": [
    "<font color = blue> Сгруппируем данные по странам и суммарному количеству подписчиков с помощью функции groupby, а затем запишем этот мини-датафрейм в отдельную переменную."
   ]
  },
  {
   "cell_type": "code",
   "execution_count": 45,
   "id": "7abfb4a3",
   "metadata": {},
   "outputs": [],
   "source": [
    "followers_country = pd.DataFrame(inst.groupby('Audience Country')['Number of Followers'].sum())"
   ]
  },
  {
   "cell_type": "markdown",
   "id": "e4ab8b83",
   "metadata": {},
   "source": [
    "<font color = blue> Посмотрим, как полученное распределение выглядит на графике."
   ]
  },
  {
   "cell_type": "code",
   "execution_count": 46,
   "id": "4dc4c185",
   "metadata": {},
   "outputs": [
    {
     "data": {
      "text/plain": [
       "<AxesSubplot:xlabel='Audience Country'>"
      ]
     },
     "execution_count": 46,
     "metadata": {},
     "output_type": "execute_result"
    },
    {
     "data": {
      "image/png": "[encoded data removed]",
      "text/plain": [
       "<Figure size 432x288 with 1 Axes>"
      ]
     },
     "metadata": {
      "needs_background": "light"
     },
     "output_type": "display_data"
    }
   ],
   "source": [
    "followers_country.plot(kind = 'bar', color = 'orange')"
   ]
  },
  {
   "cell_type": "markdown",
   "id": "065d32a9",
   "metadata": {},
   "source": [
    "<font color = blue> Далее перейдем к расчетам мер разброса. Начнем с размаха по переменной \"Number of Followers\". Чтобы найти размах, необходимо вычесть из максимального значение минимальное."
   ]
  },
  {
   "cell_type": "code",
   "execution_count": 47,
   "id": "f1fe4d71",
   "metadata": {},
   "outputs": [
    {
     "data": {
      "text/plain": [
       "9246199993"
      ]
     },
     "execution_count": 47,
     "metadata": {},
     "output_type": "execute_result"
    }
   ],
   "source": [
    "followers_country['Number of Followers'].max() - followers_country['Number of Followers'].min()"
   ]
  },
  {
   "cell_type": "markdown",
   "id": "55e90ff5",
   "metadata": {},
   "source": [
    "<font color = blue> Теперь посчитаем интерквартильный размах, то есть найдем разницу между 75 и 25 перцентилем."
   ]
  },
  {
   "cell_type": "code",
   "execution_count": 48,
   "id": "99227c41",
   "metadata": {},
   "outputs": [
    {
     "data": {
      "text/plain": [
       "297800000.0"
      ]
     },
     "execution_count": 48,
     "metadata": {},
     "output_type": "execute_result"
    }
   ],
   "source": [
    "np.percentile(followers_country['Number of Followers'], 75) - np.percentile(followers_country['Number of Followers'], 25)"
   ]
  },
  {
   "cell_type": "markdown",
   "id": "4717f732",
   "metadata": {},
   "source": [
    "<font color = blue> Перейдем к расчетам дисперсии и среднеквадратичного отклонения. При расчете этих мер разброса необходимо учитывать, считаются они для выборки (в таком случае делим на кол-во наблюдений -1) или для генеральной совокупности (тогда делим на кол-во наблюдений).   \n",
    "    Для начала найдем меры для выборки."
   ]
  },
  {
   "cell_type": "code",
   "execution_count": 49,
   "id": "2b959c97",
   "metadata": {},
   "outputs": [
    {
     "name": "stdout",
     "output_type": "stream",
     "text": [
      "3.6917647412659507e+18 1921396560.126501\n"
     ]
    }
   ],
   "source": [
    "followers_mean = followers_country['Number of Followers'].mean() #находим среднее\n",
    "deviations = followers_country['Number of Followers'] - followers_mean #находим отклонение от среднего\n",
    "sq_deviations = deviations ** 2 #возводим отклонение в квадрат, находим квадратное отклонение\n",
    "variance_samp = sq_deviations.sum() / (len(followers_country) - 1) #находим дисперсию для выборки\n",
    "std_samp = np.sqrt(variance_samp) #находим среднеквадратичное отклонение\n",
    "\n",
    "print(variance_samp, std_samp)"
   ]
  },
  {
   "cell_type": "markdown",
   "id": "9b019b61",
   "metadata": {},
   "source": [
    "<font color = blue> Затем найдем дисперсию и среднеквадратичное отклонение для генеральной совокупности."
   ]
  },
  {
   "cell_type": "code",
   "execution_count": 50,
   "id": "4238ca7c",
   "metadata": {},
   "outputs": [
    {
     "name": "stdout",
     "output_type": "stream",
     "text": [
      "3.5798930824397097e+18 1892060538.7882571\n"
     ]
    }
   ],
   "source": [
    "variance_pop = sq_deviations.sum() / len(followers_country) #находим дисперсию для ген. совокупности\n",
    "std_pop = np.sqrt(variance_pop) #находим среднеквадратичное отклонение\n",
    "\n",
    "print(variance_pop, std_pop)"
   ]
  },
  {
   "cell_type": "markdown",
   "id": "05e3e319",
   "metadata": {},
   "source": [
    "<font color = blue> Мы также можем использовать специальный функционал библиотеки, чтобы найти дисперсию и среднеквадратичное отклонение. Проверим, как работают данные функции. Будем считать, что мы все-таки работаем с генеральной совокупностью, то есть проводим анализ конкретно для тех 1000 аккаунтов, которые имеем в выборке. Для этого укажем степени свободы, равные 0."
   ]
  },
  {
   "cell_type": "code",
   "execution_count": 51,
   "id": "0f134bf4",
   "metadata": {
    "scrolled": true
   },
   "outputs": [
    {
     "name": "stdout",
     "output_type": "stream",
     "text": [
      "3.5798930824397097e+18\n",
      "1892060538.7882571\n"
     ]
    }
   ],
   "source": [
    "print(followers_country['Number of Followers'].var(ddof = 0)) #находим дисперсию для выборки\n",
    "print(followers_country['Number of Followers'].std(ddof = 0)) #находим среднеквадратичное отклонение для выборки"
   ]
  },
  {
   "cell_type": "markdown",
   "id": "560fdd50",
   "metadata": {},
   "source": [
    "<font color = blue> Можем также найти значения среднеквадратичного отклонения и других мер разброса для агрегированных данных. Например, сгруппируем значения Engagement Rate по странам и посмотрим на показатели среднего и std через агрегирующую функцию agg."
   ]
  },
  {
   "cell_type": "code",
   "execution_count": 52,
   "id": "3346284a",
   "metadata": {},
   "outputs": [
    {
     "data": {
      "text/html": [
       "<div>\n",
       "<style scoped>\n",
       "    .dataframe tbody tr th:only-of-type {\n",
       "        vertical-align: middle;\n",
       "    }\n",
       "\n",
       "    .dataframe tbody tr th {\n",
       "        vertical-align: top;\n",
       "    }\n",
       "\n",
       "    .dataframe thead th {\n",
       "        text-align: right;\n",
       "    }\n",
       "</style>\n",
       "<table border=\"1\" class=\"dataframe\">\n",
       "  <thead>\n",
       "    <tr style=\"text-align: right;\">\n",
       "      <th></th>\n",
       "      <th>mean</th>\n",
       "      <th>std</th>\n",
       "    </tr>\n",
       "    <tr>\n",
       "      <th>Audience Country</th>\n",
       "      <th></th>\n",
       "      <th></th>\n",
       "    </tr>\n",
       "  </thead>\n",
       "  <tbody>\n",
       "    <tr>\n",
       "      <th>Albania</th>\n",
       "      <td>2.070000</td>\n",
       "      <td>NaN</td>\n",
       "    </tr>\n",
       "    <tr>\n",
       "      <th>Algeria</th>\n",
       "      <td>4.340000</td>\n",
       "      <td>NaN</td>\n",
       "    </tr>\n",
       "    <tr>\n",
       "      <th>Argentina</th>\n",
       "      <td>5.396522</td>\n",
       "      <td>3.960027</td>\n",
       "    </tr>\n",
       "    <tr>\n",
       "      <th>Brazil</th>\n",
       "      <td>3.596483</td>\n",
       "      <td>4.242583</td>\n",
       "    </tr>\n",
       "    <tr>\n",
       "      <th>Chile</th>\n",
       "      <td>1.320000</td>\n",
       "      <td>NaN</td>\n",
       "    </tr>\n",
       "    <tr>\n",
       "      <th>China</th>\n",
       "      <td>5.190000</td>\n",
       "      <td>NaN</td>\n",
       "    </tr>\n",
       "    <tr>\n",
       "      <th>Colombia</th>\n",
       "      <td>3.401250</td>\n",
       "      <td>2.472335</td>\n",
       "    </tr>\n",
       "    <tr>\n",
       "      <th>Egypt</th>\n",
       "      <td>1.316000</td>\n",
       "      <td>0.726003</td>\n",
       "    </tr>\n",
       "    <tr>\n",
       "      <th>France</th>\n",
       "      <td>5.826667</td>\n",
       "      <td>6.903239</td>\n",
       "    </tr>\n",
       "    <tr>\n",
       "      <th>Germany</th>\n",
       "      <td>1.622500</td>\n",
       "      <td>2.492768</td>\n",
       "    </tr>\n",
       "    <tr>\n",
       "      <th>India</th>\n",
       "      <td>4.284843</td>\n",
       "      <td>5.743378</td>\n",
       "    </tr>\n",
       "    <tr>\n",
       "      <th>Indonesia</th>\n",
       "      <td>9.697500</td>\n",
       "      <td>7.896799</td>\n",
       "    </tr>\n",
       "    <tr>\n",
       "      <th>Iran</th>\n",
       "      <td>6.564762</td>\n",
       "      <td>6.805620</td>\n",
       "    </tr>\n",
       "    <tr>\n",
       "      <th>Iraq</th>\n",
       "      <td>4.272500</td>\n",
       "      <td>4.787424</td>\n",
       "    </tr>\n",
       "    <tr>\n",
       "      <th>Italy</th>\n",
       "      <td>4.841875</td>\n",
       "      <td>5.729554</td>\n",
       "    </tr>\n",
       "    <tr>\n",
       "      <th>Japan</th>\n",
       "      <td>9.682500</td>\n",
       "      <td>5.314812</td>\n",
       "    </tr>\n",
       "    <tr>\n",
       "      <th>Kazakhstan</th>\n",
       "      <td>5.370000</td>\n",
       "      <td>NaN</td>\n",
       "    </tr>\n",
       "    <tr>\n",
       "      <th>Mexico</th>\n",
       "      <td>6.413500</td>\n",
       "      <td>6.028328</td>\n",
       "    </tr>\n",
       "    <tr>\n",
       "      <th>Morocco</th>\n",
       "      <td>4.790000</td>\n",
       "      <td>0.395980</td>\n",
       "    </tr>\n",
       "    <tr>\n",
       "      <th>Nigeria</th>\n",
       "      <td>1.565000</td>\n",
       "      <td>1.025305</td>\n",
       "    </tr>\n",
       "    <tr>\n",
       "      <th>Pakistan</th>\n",
       "      <td>4.780000</td>\n",
       "      <td>NaN</td>\n",
       "    </tr>\n",
       "    <tr>\n",
       "      <th>Philippines</th>\n",
       "      <td>5.152857</td>\n",
       "      <td>3.005560</td>\n",
       "    </tr>\n",
       "    <tr>\n",
       "      <th>Poland</th>\n",
       "      <td>1.480000</td>\n",
       "      <td>NaN</td>\n",
       "    </tr>\n",
       "    <tr>\n",
       "      <th>Russia</th>\n",
       "      <td>4.675385</td>\n",
       "      <td>4.600172</td>\n",
       "    </tr>\n",
       "    <tr>\n",
       "      <th>Senegal</th>\n",
       "      <td>118.750000</td>\n",
       "      <td>NaN</td>\n",
       "    </tr>\n",
       "    <tr>\n",
       "      <th>South Korea</th>\n",
       "      <td>14.600769</td>\n",
       "      <td>9.854284</td>\n",
       "    </tr>\n",
       "    <tr>\n",
       "      <th>Spain</th>\n",
       "      <td>3.049412</td>\n",
       "      <td>2.802672</td>\n",
       "    </tr>\n",
       "    <tr>\n",
       "      <th>Syria</th>\n",
       "      <td>4.910000</td>\n",
       "      <td>NaN</td>\n",
       "    </tr>\n",
       "    <tr>\n",
       "      <th>Thailand</th>\n",
       "      <td>8.006667</td>\n",
       "      <td>7.395884</td>\n",
       "    </tr>\n",
       "    <tr>\n",
       "      <th>Turkey</th>\n",
       "      <td>6.390000</td>\n",
       "      <td>10.836369</td>\n",
       "    </tr>\n",
       "    <tr>\n",
       "      <th>United Arab Emirates</th>\n",
       "      <td>3.850000</td>\n",
       "      <td>2.927422</td>\n",
       "    </tr>\n",
       "    <tr>\n",
       "      <th>United Kingdom</th>\n",
       "      <td>5.637059</td>\n",
       "      <td>6.653631</td>\n",
       "    </tr>\n",
       "    <tr>\n",
       "      <th>United States</th>\n",
       "      <td>6.082924</td>\n",
       "      <td>8.231630</td>\n",
       "    </tr>\n",
       "  </tbody>\n",
       "</table>\n",
       "</div>"
      ],
      "text/plain": [
       "                            mean        std\n",
       "Audience Country                           \n",
       "Albania                 2.070000        NaN\n",
       "Algeria                 4.340000        NaN\n",
       "Argentina               5.396522   3.960027\n",
       "Brazil                  3.596483   4.242583\n",
       "Chile                   1.320000        NaN\n",
       "China                   5.190000        NaN\n",
       "Colombia                3.401250   2.472335\n",
       "Egypt                   1.316000   0.726003\n",
       "France                  5.826667   6.903239\n",
       "Germany                 1.622500   2.492768\n",
       "India                   4.284843   5.743378\n",
       "Indonesia               9.697500   7.896799\n",
       "Iran                    6.564762   6.805620\n",
       "Iraq                    4.272500   4.787424\n",
       "Italy                   4.841875   5.729554\n",
       "Japan                   9.682500   5.314812\n",
       "Kazakhstan              5.370000        NaN\n",
       "Mexico                  6.413500   6.028328\n",
       "Morocco                 4.790000   0.395980\n",
       "Nigeria                 1.565000   1.025305\n",
       "Pakistan                4.780000        NaN\n",
       "Philippines             5.152857   3.005560\n",
       "Poland                  1.480000        NaN\n",
       "Russia                  4.675385   4.600172\n",
       "Senegal               118.750000        NaN\n",
       "South Korea            14.600769   9.854284\n",
       "Spain                   3.049412   2.802672\n",
       "Syria                   4.910000        NaN\n",
       "Thailand                8.006667   7.395884\n",
       "Turkey                  6.390000  10.836369\n",
       "United Arab Emirates    3.850000   2.927422\n",
       "United Kingdom          5.637059   6.653631\n",
       "United States           6.082924   8.231630"
      ]
     },
     "execution_count": 52,
     "metadata": {},
     "output_type": "execute_result"
    }
   ],
   "source": [
    "inst.groupby('Audience Country')['Engagement Rate'].agg(['mean','std'])"
   ]
  },
  {
   "cell_type": "markdown",
   "id": "0ca7fea7",
   "metadata": {},
   "source": [
    "<font color = blue> Также можем рассчитать такие значения и для пивотальной таблицы. В этом случае сначала зададим собственную функцию, которая рассчитывает размах. И затем получим пивотальной таблицу для всех мер разброса, которые зададим через aggfunc."
   ]
  },
  {
   "cell_type": "code",
   "execution_count": 53,
   "id": "1ad80492",
   "metadata": {},
   "outputs": [
    {
     "data": {
      "text/html": [
       "<div>\n",
       "<style scoped>\n",
       "    .dataframe tbody tr th:only-of-type {\n",
       "        vertical-align: middle;\n",
       "    }\n",
       "\n",
       "    .dataframe tbody tr th {\n",
       "        vertical-align: top;\n",
       "    }\n",
       "\n",
       "    .dataframe thead tr th {\n",
       "        text-align: left;\n",
       "    }\n",
       "\n",
       "    .dataframe thead tr:last-of-type th {\n",
       "        text-align: right;\n",
       "    }\n",
       "</style>\n",
       "<table border=\"1\" class=\"dataframe\">\n",
       "  <thead>\n",
       "    <tr>\n",
       "      <th></th>\n",
       "      <th colspan=\"3\" halign=\"left\">var</th>\n",
       "      <th colspan=\"3\" halign=\"left\">std</th>\n",
       "      <th colspan=\"3\" halign=\"left\">range_values</th>\n",
       "    </tr>\n",
       "    <tr>\n",
       "      <th></th>\n",
       "      <th>Avg User Engagement</th>\n",
       "      <th>Engagement Rate</th>\n",
       "      <th>Number of Followers</th>\n",
       "      <th>Avg User Engagement</th>\n",
       "      <th>Engagement Rate</th>\n",
       "      <th>Number of Followers</th>\n",
       "      <th>Avg User Engagement</th>\n",
       "      <th>Engagement Rate</th>\n",
       "      <th>Number of Followers</th>\n",
       "    </tr>\n",
       "    <tr>\n",
       "      <th>Audience Country</th>\n",
       "      <th></th>\n",
       "      <th></th>\n",
       "      <th></th>\n",
       "      <th></th>\n",
       "      <th></th>\n",
       "      <th></th>\n",
       "      <th></th>\n",
       "      <th></th>\n",
       "      <th></th>\n",
       "    </tr>\n",
       "  </thead>\n",
       "  <tbody>\n",
       "    <tr>\n",
       "      <th>Argentina</th>\n",
       "      <td>8.966907e+11</td>\n",
       "      <td>15.681815</td>\n",
       "      <td>4.838925e+15</td>\n",
       "      <td>9.469375e+05</td>\n",
       "      <td>3.960027</td>\n",
       "      <td>6.956238e+07</td>\n",
       "      <td>4702400</td>\n",
       "      <td>13.75</td>\n",
       "      <td>342400000</td>\n",
       "    </tr>\n",
       "    <tr>\n",
       "      <th>Brazil</th>\n",
       "      <td>3.188022e+11</td>\n",
       "      <td>17.999512</td>\n",
       "      <td>8.342766e+14</td>\n",
       "      <td>5.646257e+05</td>\n",
       "      <td>4.242583</td>\n",
       "      <td>2.888385e+07</td>\n",
       "      <td>3411900</td>\n",
       "      <td>24.88</td>\n",
       "      <td>214700000</td>\n",
       "    </tr>\n",
       "    <tr>\n",
       "      <th>Colombia</th>\n",
       "      <td>7.323691e+10</td>\n",
       "      <td>6.112441</td>\n",
       "      <td>2.735907e+14</td>\n",
       "      <td>2.706232e+05</td>\n",
       "      <td>2.472335</td>\n",
       "      <td>1.654058e+07</td>\n",
       "      <td>870400</td>\n",
       "      <td>6.32</td>\n",
       "      <td>41200000</td>\n",
       "    </tr>\n",
       "    <tr>\n",
       "      <th>Egypt</th>\n",
       "      <td>1.734347e+11</td>\n",
       "      <td>0.527080</td>\n",
       "      <td>2.328350e+14</td>\n",
       "      <td>4.164549e+05</td>\n",
       "      <td>0.726003</td>\n",
       "      <td>1.525893e+07</td>\n",
       "      <td>970900</td>\n",
       "      <td>1.55</td>\n",
       "      <td>36200000</td>\n",
       "    </tr>\n",
       "    <tr>\n",
       "      <th>France</th>\n",
       "      <td>1.068517e+11</td>\n",
       "      <td>47.654707</td>\n",
       "      <td>8.659787e+14</td>\n",
       "      <td>3.268818e+05</td>\n",
       "      <td>6.903239</td>\n",
       "      <td>2.942752e+07</td>\n",
       "      <td>964500</td>\n",
       "      <td>18.03</td>\n",
       "      <td>68900000</td>\n",
       "    </tr>\n",
       "    <tr>\n",
       "      <th>Germany</th>\n",
       "      <td>1.155434e+10</td>\n",
       "      <td>6.213892</td>\n",
       "      <td>1.911025e+14</td>\n",
       "      <td>1.074911e+05</td>\n",
       "      <td>2.492768</td>\n",
       "      <td>1.382398e+07</td>\n",
       "      <td>231500</td>\n",
       "      <td>5.05</td>\n",
       "      <td>28000000</td>\n",
       "    </tr>\n",
       "    <tr>\n",
       "      <th>India</th>\n",
       "      <td>7.791737e+11</td>\n",
       "      <td>32.986390</td>\n",
       "      <td>4.176863e+15</td>\n",
       "      <td>8.827082e+05</td>\n",
       "      <td>5.743378</td>\n",
       "      <td>6.462866e+07</td>\n",
       "      <td>6541500</td>\n",
       "      <td>42.63</td>\n",
       "      <td>525800000</td>\n",
       "    </tr>\n",
       "    <tr>\n",
       "      <th>Indonesia</th>\n",
       "      <td>1.438917e+12</td>\n",
       "      <td>62.359431</td>\n",
       "      <td>2.597762e+14</td>\n",
       "      <td>1.199549e+06</td>\n",
       "      <td>7.896799</td>\n",
       "      <td>1.611757e+07</td>\n",
       "      <td>8232000</td>\n",
       "      <td>37.76</td>\n",
       "      <td>107100000</td>\n",
       "    </tr>\n",
       "    <tr>\n",
       "      <th>Iran</th>\n",
       "      <td>1.441689e+11</td>\n",
       "      <td>46.316466</td>\n",
       "      <td>6.650648e+13</td>\n",
       "      <td>3.796959e+05</td>\n",
       "      <td>6.805620</td>\n",
       "      <td>8.155150e+06</td>\n",
       "      <td>1661000</td>\n",
       "      <td>26.26</td>\n",
       "      <td>33200000</td>\n",
       "    </tr>\n",
       "    <tr>\n",
       "      <th>Iraq</th>\n",
       "      <td>1.028065e+11</td>\n",
       "      <td>22.919425</td>\n",
       "      <td>1.106917e+13</td>\n",
       "      <td>3.206345e+05</td>\n",
       "      <td>4.787424</td>\n",
       "      <td>3.327036e+06</td>\n",
       "      <td>688600</td>\n",
       "      <td>10.26</td>\n",
       "      <td>7600000</td>\n",
       "    </tr>\n",
       "    <tr>\n",
       "      <th>Italy</th>\n",
       "      <td>7.274367e+10</td>\n",
       "      <td>32.827790</td>\n",
       "      <td>2.904787e+14</td>\n",
       "      <td>2.697104e+05</td>\n",
       "      <td>5.729554</td>\n",
       "      <td>1.704343e+07</td>\n",
       "      <td>974400</td>\n",
       "      <td>18.53</td>\n",
       "      <td>59000000</td>\n",
       "    </tr>\n",
       "    <tr>\n",
       "      <th>Japan</th>\n",
       "      <td>3.945888e+10</td>\n",
       "      <td>28.247225</td>\n",
       "      <td>6.582500e+12</td>\n",
       "      <td>1.986426e+05</td>\n",
       "      <td>5.314812</td>\n",
       "      <td>2.565638e+06</td>\n",
       "      <td>466100</td>\n",
       "      <td>12.03</td>\n",
       "      <td>5500000</td>\n",
       "    </tr>\n",
       "    <tr>\n",
       "      <th>Mexico</th>\n",
       "      <td>5.271936e+11</td>\n",
       "      <td>36.340736</td>\n",
       "      <td>2.914876e+14</td>\n",
       "      <td>7.260810e+05</td>\n",
       "      <td>6.028328</td>\n",
       "      <td>1.707301e+07</td>\n",
       "      <td>3537200</td>\n",
       "      <td>23.05</td>\n",
       "      <td>81600000</td>\n",
       "    </tr>\n",
       "    <tr>\n",
       "      <th>Morocco</th>\n",
       "      <td>2.556125e+09</td>\n",
       "      <td>0.156800</td>\n",
       "      <td>3.125000e+12</td>\n",
       "      <td>5.055813e+04</td>\n",
       "      <td>0.395980</td>\n",
       "      <td>1.767767e+06</td>\n",
       "      <td>71500</td>\n",
       "      <td>0.56</td>\n",
       "      <td>2500000</td>\n",
       "    </tr>\n",
       "    <tr>\n",
       "      <th>Nigeria</th>\n",
       "      <td>9.031680e+09</td>\n",
       "      <td>1.051250</td>\n",
       "      <td>4.704500e+13</td>\n",
       "      <td>9.503515e+04</td>\n",
       "      <td>1.025305</td>\n",
       "      <td>6.858936e+06</td>\n",
       "      <td>134400</td>\n",
       "      <td>1.45</td>\n",
       "      <td>9700000</td>\n",
       "    </tr>\n",
       "    <tr>\n",
       "      <th>Philippines</th>\n",
       "      <td>8.335621e+10</td>\n",
       "      <td>9.033390</td>\n",
       "      <td>2.935619e+13</td>\n",
       "      <td>2.887148e+05</td>\n",
       "      <td>3.005560</td>\n",
       "      <td>5.418135e+06</td>\n",
       "      <td>838500</td>\n",
       "      <td>6.70</td>\n",
       "      <td>12300000</td>\n",
       "    </tr>\n",
       "    <tr>\n",
       "      <th>Russia</th>\n",
       "      <td>5.153515e+11</td>\n",
       "      <td>21.161578</td>\n",
       "      <td>5.509760e+13</td>\n",
       "      <td>7.178799e+05</td>\n",
       "      <td>4.600172</td>\n",
       "      <td>7.422776e+06</td>\n",
       "      <td>3659200</td>\n",
       "      <td>18.83</td>\n",
       "      <td>30000000</td>\n",
       "    </tr>\n",
       "    <tr>\n",
       "      <th>South Korea</th>\n",
       "      <td>3.280317e+12</td>\n",
       "      <td>97.106908</td>\n",
       "      <td>1.140447e+14</td>\n",
       "      <td>1.811164e+06</td>\n",
       "      <td>9.854284</td>\n",
       "      <td>1.067917e+07</td>\n",
       "      <td>6514300</td>\n",
       "      <td>35.61</td>\n",
       "      <td>34200000</td>\n",
       "    </tr>\n",
       "    <tr>\n",
       "      <th>Spain</th>\n",
       "      <td>1.008330e+11</td>\n",
       "      <td>7.854969</td>\n",
       "      <td>5.025546e+14</td>\n",
       "      <td>3.175421e+05</td>\n",
       "      <td>2.802672</td>\n",
       "      <td>2.241773e+07</td>\n",
       "      <td>1427800</td>\n",
       "      <td>12.64</td>\n",
       "      <td>115500000</td>\n",
       "    </tr>\n",
       "    <tr>\n",
       "      <th>Thailand</th>\n",
       "      <td>5.490618e+10</td>\n",
       "      <td>54.699107</td>\n",
       "      <td>2.800300e+13</td>\n",
       "      <td>2.343207e+05</td>\n",
       "      <td>7.395884</td>\n",
       "      <td>5.291786e+06</td>\n",
       "      <td>566100</td>\n",
       "      <td>16.23</td>\n",
       "      <td>13200000</td>\n",
       "    </tr>\n",
       "    <tr>\n",
       "      <th>Turkey</th>\n",
       "      <td>6.013824e+11</td>\n",
       "      <td>117.426884</td>\n",
       "      <td>1.179287e+14</td>\n",
       "      <td>7.754885e+05</td>\n",
       "      <td>10.836369</td>\n",
       "      <td>1.085950e+07</td>\n",
       "      <td>2491400</td>\n",
       "      <td>37.45</td>\n",
       "      <td>40400000</td>\n",
       "    </tr>\n",
       "    <tr>\n",
       "      <th>United Arab Emirates</th>\n",
       "      <td>1.159764e+10</td>\n",
       "      <td>8.569800</td>\n",
       "      <td>2.812500e+13</td>\n",
       "      <td>1.076924e+05</td>\n",
       "      <td>2.927422</td>\n",
       "      <td>5.303301e+06</td>\n",
       "      <td>152300</td>\n",
       "      <td>4.14</td>\n",
       "      <td>7500000</td>\n",
       "    </tr>\n",
       "    <tr>\n",
       "      <th>United Kingdom</th>\n",
       "      <td>6.821734e+10</td>\n",
       "      <td>44.270810</td>\n",
       "      <td>2.974197e+14</td>\n",
       "      <td>2.611845e+05</td>\n",
       "      <td>6.653631</td>\n",
       "      <td>1.724586e+07</td>\n",
       "      <td>866200</td>\n",
       "      <td>25.18</td>\n",
       "      <td>55300000</td>\n",
       "    </tr>\n",
       "    <tr>\n",
       "      <th>United States</th>\n",
       "      <td>1.666507e+12</td>\n",
       "      <td>67.759734</td>\n",
       "      <td>3.244976e+15</td>\n",
       "      <td>1.290933e+06</td>\n",
       "      <td>8.231630</td>\n",
       "      <td>5.696469e+07</td>\n",
       "      <td>13278900</td>\n",
       "      <td>45.81</td>\n",
       "      <td>354000000</td>\n",
       "    </tr>\n",
       "    <tr>\n",
       "      <th>Albania</th>\n",
       "      <td>NaN</td>\n",
       "      <td>NaN</td>\n",
       "      <td>NaN</td>\n",
       "      <td>NaN</td>\n",
       "      <td>NaN</td>\n",
       "      <td>NaN</td>\n",
       "      <td>0</td>\n",
       "      <td>0.00</td>\n",
       "      <td>0</td>\n",
       "    </tr>\n",
       "    <tr>\n",
       "      <th>Algeria</th>\n",
       "      <td>NaN</td>\n",
       "      <td>NaN</td>\n",
       "      <td>NaN</td>\n",
       "      <td>NaN</td>\n",
       "      <td>NaN</td>\n",
       "      <td>NaN</td>\n",
       "      <td>0</td>\n",
       "      <td>0.00</td>\n",
       "      <td>0</td>\n",
       "    </tr>\n",
       "    <tr>\n",
       "      <th>Chile</th>\n",
       "      <td>NaN</td>\n",
       "      <td>NaN</td>\n",
       "      <td>NaN</td>\n",
       "      <td>NaN</td>\n",
       "      <td>NaN</td>\n",
       "      <td>NaN</td>\n",
       "      <td>0</td>\n",
       "      <td>0.00</td>\n",
       "      <td>0</td>\n",
       "    </tr>\n",
       "    <tr>\n",
       "      <th>China</th>\n",
       "      <td>NaN</td>\n",
       "      <td>NaN</td>\n",
       "      <td>NaN</td>\n",
       "      <td>NaN</td>\n",
       "      <td>NaN</td>\n",
       "      <td>NaN</td>\n",
       "      <td>0</td>\n",
       "      <td>0.00</td>\n",
       "      <td>0</td>\n",
       "    </tr>\n",
       "    <tr>\n",
       "      <th>Kazakhstan</th>\n",
       "      <td>NaN</td>\n",
       "      <td>NaN</td>\n",
       "      <td>NaN</td>\n",
       "      <td>NaN</td>\n",
       "      <td>NaN</td>\n",
       "      <td>NaN</td>\n",
       "      <td>0</td>\n",
       "      <td>0.00</td>\n",
       "      <td>0</td>\n",
       "    </tr>\n",
       "    <tr>\n",
       "      <th>Pakistan</th>\n",
       "      <td>NaN</td>\n",
       "      <td>NaN</td>\n",
       "      <td>NaN</td>\n",
       "      <td>NaN</td>\n",
       "      <td>NaN</td>\n",
       "      <td>NaN</td>\n",
       "      <td>0</td>\n",
       "      <td>0.00</td>\n",
       "      <td>0</td>\n",
       "    </tr>\n",
       "    <tr>\n",
       "      <th>Poland</th>\n",
       "      <td>NaN</td>\n",
       "      <td>NaN</td>\n",
       "      <td>NaN</td>\n",
       "      <td>NaN</td>\n",
       "      <td>NaN</td>\n",
       "      <td>NaN</td>\n",
       "      <td>0</td>\n",
       "      <td>0.00</td>\n",
       "      <td>0</td>\n",
       "    </tr>\n",
       "    <tr>\n",
       "      <th>Senegal</th>\n",
       "      <td>NaN</td>\n",
       "      <td>NaN</td>\n",
       "      <td>NaN</td>\n",
       "      <td>NaN</td>\n",
       "      <td>NaN</td>\n",
       "      <td>NaN</td>\n",
       "      <td>0</td>\n",
       "      <td>0.00</td>\n",
       "      <td>0</td>\n",
       "    </tr>\n",
       "    <tr>\n",
       "      <th>Syria</th>\n",
       "      <td>NaN</td>\n",
       "      <td>NaN</td>\n",
       "      <td>NaN</td>\n",
       "      <td>NaN</td>\n",
       "      <td>NaN</td>\n",
       "      <td>NaN</td>\n",
       "      <td>0</td>\n",
       "      <td>0.00</td>\n",
       "      <td>0</td>\n",
       "    </tr>\n",
       "  </tbody>\n",
       "</table>\n",
       "</div>"
      ],
      "text/plain": [
       "                                     var                                      \\\n",
       "                     Avg User Engagement Engagement Rate Number of Followers   \n",
       "Audience Country                                                               \n",
       "Argentina                   8.966907e+11       15.681815        4.838925e+15   \n",
       "Brazil                      3.188022e+11       17.999512        8.342766e+14   \n",
       "Colombia                    7.323691e+10        6.112441        2.735907e+14   \n",
       "Egypt                       1.734347e+11        0.527080        2.328350e+14   \n",
       "France                      1.068517e+11       47.654707        8.659787e+14   \n",
       "Germany                     1.155434e+10        6.213892        1.911025e+14   \n",
       "India                       7.791737e+11       32.986390        4.176863e+15   \n",
       "Indonesia                   1.438917e+12       62.359431        2.597762e+14   \n",
       "Iran                        1.441689e+11       46.316466        6.650648e+13   \n",
       "Iraq                        1.028065e+11       22.919425        1.106917e+13   \n",
       "Italy                       7.274367e+10       32.827790        2.904787e+14   \n",
       "Japan                       3.945888e+10       28.247225        6.582500e+12   \n",
       "Mexico                      5.271936e+11       36.340736        2.914876e+14   \n",
       "Morocco                     2.556125e+09        0.156800        3.125000e+12   \n",
       "Nigeria                     9.031680e+09        1.051250        4.704500e+13   \n",
       "Philippines                 8.335621e+10        9.033390        2.935619e+13   \n",
       "Russia                      5.153515e+11       21.161578        5.509760e+13   \n",
       "South Korea                 3.280317e+12       97.106908        1.140447e+14   \n",
       "Spain                       1.008330e+11        7.854969        5.025546e+14   \n",
       "Thailand                    5.490618e+10       54.699107        2.800300e+13   \n",
       "Turkey                      6.013824e+11      117.426884        1.179287e+14   \n",
       "United Arab Emirates        1.159764e+10        8.569800        2.812500e+13   \n",
       "United Kingdom              6.821734e+10       44.270810        2.974197e+14   \n",
       "United States               1.666507e+12       67.759734        3.244976e+15   \n",
       "Albania                              NaN             NaN                 NaN   \n",
       "Algeria                              NaN             NaN                 NaN   \n",
       "Chile                                NaN             NaN                 NaN   \n",
       "China                                NaN             NaN                 NaN   \n",
       "Kazakhstan                           NaN             NaN                 NaN   \n",
       "Pakistan                             NaN             NaN                 NaN   \n",
       "Poland                               NaN             NaN                 NaN   \n",
       "Senegal                              NaN             NaN                 NaN   \n",
       "Syria                                NaN             NaN                 NaN   \n",
       "\n",
       "                                     std                                      \\\n",
       "                     Avg User Engagement Engagement Rate Number of Followers   \n",
       "Audience Country                                                               \n",
       "Argentina                   9.469375e+05        3.960027        6.956238e+07   \n",
       "Brazil                      5.646257e+05        4.242583        2.888385e+07   \n",
       "Colombia                    2.706232e+05        2.472335        1.654058e+07   \n",
       "Egypt                       4.164549e+05        0.726003        1.525893e+07   \n",
       "France                      3.268818e+05        6.903239        2.942752e+07   \n",
       "Germany                     1.074911e+05        2.492768        1.382398e+07   \n",
       "India                       8.827082e+05        5.743378        6.462866e+07   \n",
       "Indonesia                   1.199549e+06        7.896799        1.611757e+07   \n",
       "Iran                        3.796959e+05        6.805620        8.155150e+06   \n",
       "Iraq                        3.206345e+05        4.787424        3.327036e+06   \n",
       "Italy                       2.697104e+05        5.729554        1.704343e+07   \n",
       "Japan                       1.986426e+05        5.314812        2.565638e+06   \n",
       "Mexico                      7.260810e+05        6.028328        1.707301e+07   \n",
       "Morocco                     5.055813e+04        0.395980        1.767767e+06   \n",
       "Nigeria                     9.503515e+04        1.025305        6.858936e+06   \n",
       "Philippines                 2.887148e+05        3.005560        5.418135e+06   \n",
       "Russia                      7.178799e+05        4.600172        7.422776e+06   \n",
       "South Korea                 1.811164e+06        9.854284        1.067917e+07   \n",
       "Spain                       3.175421e+05        2.802672        2.241773e+07   \n",
       "Thailand                    2.343207e+05        7.395884        5.291786e+06   \n",
       "Turkey                      7.754885e+05       10.836369        1.085950e+07   \n",
       "United Arab Emirates        1.076924e+05        2.927422        5.303301e+06   \n",
       "United Kingdom              2.611845e+05        6.653631        1.724586e+07   \n",
       "United States               1.290933e+06        8.231630        5.696469e+07   \n",
       "Albania                              NaN             NaN                 NaN   \n",
       "Algeria                              NaN             NaN                 NaN   \n",
       "Chile                                NaN             NaN                 NaN   \n",
       "China                                NaN             NaN                 NaN   \n",
       "Kazakhstan                           NaN             NaN                 NaN   \n",
       "Pakistan                             NaN             NaN                 NaN   \n",
       "Poland                               NaN             NaN                 NaN   \n",
       "Senegal                              NaN             NaN                 NaN   \n",
       "Syria                                NaN             NaN                 NaN   \n",
       "\n",
       "                            range_values                                      \n",
       "                     Avg User Engagement Engagement Rate Number of Followers  \n",
       "Audience Country                                                              \n",
       "Argentina                        4702400           13.75           342400000  \n",
       "Brazil                           3411900           24.88           214700000  \n",
       "Colombia                          870400            6.32            41200000  \n",
       "Egypt                             970900            1.55            36200000  \n",
       "France                            964500           18.03            68900000  \n",
       "Germany                           231500            5.05            28000000  \n",
       "India                            6541500           42.63           525800000  \n",
       "Indonesia                        8232000           37.76           107100000  \n",
       "Iran                             1661000           26.26            33200000  \n",
       "Iraq                              688600           10.26             7600000  \n",
       "Italy                             974400           18.53            59000000  \n",
       "Japan                             466100           12.03             5500000  \n",
       "Mexico                           3537200           23.05            81600000  \n",
       "Morocco                            71500            0.56             2500000  \n",
       "Nigeria                           134400            1.45             9700000  \n",
       "Philippines                       838500            6.70            12300000  \n",
       "Russia                           3659200           18.83            30000000  \n",
       "South Korea                      6514300           35.61            34200000  \n",
       "Spain                            1427800           12.64           115500000  \n",
       "Thailand                          566100           16.23            13200000  \n",
       "Turkey                           2491400           37.45            40400000  \n",
       "United Arab Emirates              152300            4.14             7500000  \n",
       "United Kingdom                    866200           25.18            55300000  \n",
       "United States                   13278900           45.81           354000000  \n",
       "Albania                                0            0.00                   0  \n",
       "Algeria                                0            0.00                   0  \n",
       "Chile                                  0            0.00                   0  \n",
       "China                                  0            0.00                   0  \n",
       "Kazakhstan                             0            0.00                   0  \n",
       "Pakistan                               0            0.00                   0  \n",
       "Poland                                 0            0.00                   0  \n",
       "Senegal                                0            0.00                   0  \n",
       "Syria                                  0            0.00                   0  "
      ]
     },
     "execution_count": 53,
     "metadata": {},
     "output_type": "execute_result"
    }
   ],
   "source": [
    "def range_values(x):\n",
    "    return x.max() - x.min()\n",
    "\n",
    "\n",
    "inst.pivot_table(index = 'Audience Country',\n",
    "                values = ['Number of Followers','Engagement Rate','Avg User Engagement'],\n",
    "                aggfunc = ['var', 'std', range_values])"
   ]
  },
  {
   "cell_type": "markdown",
   "id": "fac46ee1",
   "metadata": {},
   "source": [
    "### 4. Z-оценка и выбросы\n",
    "#### Рассчитываем Z-оценку и стандартизированные значения"
   ]
  },
  {
   "cell_type": "code",
   "execution_count": 54,
   "id": "925fa705",
   "metadata": {},
   "outputs": [],
   "source": [
    "import scipy.stats"
   ]
  },
  {
   "cell_type": "markdown",
   "id": "49c93098",
   "metadata": {},
   "source": [
    "<font color = blue> Попробуем применить метод z-оценки на наших данных. Возьем данные по среднему коэффициенту вовлеченности, сгруппированные по странам, а затем рассчитаем z-оценку по ER для каждый страны и добавим дополнительный столбец в датафрейм."
   ]
  },
  {
   "cell_type": "code",
   "execution_count": 55,
   "id": "074c54f8",
   "metadata": {},
   "outputs": [],
   "source": [
    "country_rate = pd.DataFrame(inst.groupby('Audience Country')['Engagement Rate'].mean())"
   ]
  },
  {
   "cell_type": "code",
   "execution_count": 56,
   "id": "c1d6c4cd",
   "metadata": {},
   "outputs": [],
   "source": [
    "country_rate['z-score'] = scipy.stats.zscore(country_rate['Engagement Rate'])"
   ]
  },
  {
   "cell_type": "code",
   "execution_count": 57,
   "id": "4cb5006c",
   "metadata": {},
   "outputs": [
    {
     "data": {
      "text/html": [
       "<div>\n",
       "<style scoped>\n",
       "    .dataframe tbody tr th:only-of-type {\n",
       "        vertical-align: middle;\n",
       "    }\n",
       "\n",
       "    .dataframe tbody tr th {\n",
       "        vertical-align: top;\n",
       "    }\n",
       "\n",
       "    .dataframe thead th {\n",
       "        text-align: right;\n",
       "    }\n",
       "</style>\n",
       "<table border=\"1\" class=\"dataframe\">\n",
       "  <thead>\n",
       "    <tr style=\"text-align: right;\">\n",
       "      <th></th>\n",
       "      <th>Engagement Rate</th>\n",
       "      <th>z-score</th>\n",
       "    </tr>\n",
       "    <tr>\n",
       "      <th>Audience Country</th>\n",
       "      <th></th>\n",
       "      <th></th>\n",
       "    </tr>\n",
       "  </thead>\n",
       "  <tbody>\n",
       "    <tr>\n",
       "      <th>Albania</th>\n",
       "      <td>2.070000</td>\n",
       "      <td>-0.324285</td>\n",
       "    </tr>\n",
       "    <tr>\n",
       "      <th>Algeria</th>\n",
       "      <td>4.340000</td>\n",
       "      <td>-0.208947</td>\n",
       "    </tr>\n",
       "    <tr>\n",
       "      <th>Argentina</th>\n",
       "      <td>5.396522</td>\n",
       "      <td>-0.155265</td>\n",
       "    </tr>\n",
       "    <tr>\n",
       "      <th>Brazil</th>\n",
       "      <td>3.596483</td>\n",
       "      <td>-0.246725</td>\n",
       "    </tr>\n",
       "    <tr>\n",
       "      <th>Chile</th>\n",
       "      <td>1.320000</td>\n",
       "      <td>-0.362392</td>\n",
       "    </tr>\n",
       "    <tr>\n",
       "      <th>China</th>\n",
       "      <td>5.190000</td>\n",
       "      <td>-0.165758</td>\n",
       "    </tr>\n",
       "    <tr>\n",
       "      <th>Colombia</th>\n",
       "      <td>3.401250</td>\n",
       "      <td>-0.256644</td>\n",
       "    </tr>\n",
       "    <tr>\n",
       "      <th>Egypt</th>\n",
       "      <td>1.316000</td>\n",
       "      <td>-0.362595</td>\n",
       "    </tr>\n",
       "    <tr>\n",
       "      <th>France</th>\n",
       "      <td>5.826667</td>\n",
       "      <td>-0.133409</td>\n",
       "    </tr>\n",
       "    <tr>\n",
       "      <th>Germany</th>\n",
       "      <td>1.622500</td>\n",
       "      <td>-0.347022</td>\n",
       "    </tr>\n",
       "    <tr>\n",
       "      <th>India</th>\n",
       "      <td>4.284843</td>\n",
       "      <td>-0.211749</td>\n",
       "    </tr>\n",
       "    <tr>\n",
       "      <th>Indonesia</th>\n",
       "      <td>9.697500</td>\n",
       "      <td>0.063267</td>\n",
       "    </tr>\n",
       "    <tr>\n",
       "      <th>Iran</th>\n",
       "      <td>6.564762</td>\n",
       "      <td>-0.095907</td>\n",
       "    </tr>\n",
       "    <tr>\n",
       "      <th>Iraq</th>\n",
       "      <td>4.272500</td>\n",
       "      <td>-0.212376</td>\n",
       "    </tr>\n",
       "    <tr>\n",
       "      <th>Italy</th>\n",
       "      <td>4.841875</td>\n",
       "      <td>-0.183447</td>\n",
       "    </tr>\n",
       "    <tr>\n",
       "      <th>Japan</th>\n",
       "      <td>9.682500</td>\n",
       "      <td>0.062505</td>\n",
       "    </tr>\n",
       "    <tr>\n",
       "      <th>Kazakhstan</th>\n",
       "      <td>5.370000</td>\n",
       "      <td>-0.156613</td>\n",
       "    </tr>\n",
       "    <tr>\n",
       "      <th>Mexico</th>\n",
       "      <td>6.413500</td>\n",
       "      <td>-0.103593</td>\n",
       "    </tr>\n",
       "    <tr>\n",
       "      <th>Morocco</th>\n",
       "      <td>4.790000</td>\n",
       "      <td>-0.186082</td>\n",
       "    </tr>\n",
       "    <tr>\n",
       "      <th>Nigeria</th>\n",
       "      <td>1.565000</td>\n",
       "      <td>-0.349944</td>\n",
       "    </tr>\n",
       "    <tr>\n",
       "      <th>Pakistan</th>\n",
       "      <td>4.780000</td>\n",
       "      <td>-0.186590</td>\n",
       "    </tr>\n",
       "    <tr>\n",
       "      <th>Philippines</th>\n",
       "      <td>5.152857</td>\n",
       "      <td>-0.167646</td>\n",
       "    </tr>\n",
       "    <tr>\n",
       "      <th>Poland</th>\n",
       "      <td>1.480000</td>\n",
       "      <td>-0.354263</td>\n",
       "    </tr>\n",
       "    <tr>\n",
       "      <th>Russia</th>\n",
       "      <td>4.675385</td>\n",
       "      <td>-0.191906</td>\n",
       "    </tr>\n",
       "    <tr>\n",
       "      <th>Senegal</th>\n",
       "      <td>118.750000</td>\n",
       "      <td>5.604199</td>\n",
       "    </tr>\n",
       "    <tr>\n",
       "      <th>South Korea</th>\n",
       "      <td>14.600769</td>\n",
       "      <td>0.312401</td>\n",
       "    </tr>\n",
       "    <tr>\n",
       "      <th>Spain</th>\n",
       "      <td>3.049412</td>\n",
       "      <td>-0.274521</td>\n",
       "    </tr>\n",
       "    <tr>\n",
       "      <th>Syria</th>\n",
       "      <td>4.910000</td>\n",
       "      <td>-0.179985</td>\n",
       "    </tr>\n",
       "    <tr>\n",
       "      <th>Thailand</th>\n",
       "      <td>8.006667</td>\n",
       "      <td>-0.022644</td>\n",
       "    </tr>\n",
       "    <tr>\n",
       "      <th>Turkey</th>\n",
       "      <td>6.390000</td>\n",
       "      <td>-0.104787</td>\n",
       "    </tr>\n",
       "    <tr>\n",
       "      <th>United Arab Emirates</th>\n",
       "      <td>3.850000</td>\n",
       "      <td>-0.233843</td>\n",
       "    </tr>\n",
       "    <tr>\n",
       "      <th>United Kingdom</th>\n",
       "      <td>5.637059</td>\n",
       "      <td>-0.143043</td>\n",
       "    </tr>\n",
       "    <tr>\n",
       "      <th>United States</th>\n",
       "      <td>6.082924</td>\n",
       "      <td>-0.120389</td>\n",
       "    </tr>\n",
       "  </tbody>\n",
       "</table>\n",
       "</div>"
      ],
      "text/plain": [
       "                      Engagement Rate   z-score\n",
       "Audience Country                               \n",
       "Albania                      2.070000 -0.324285\n",
       "Algeria                      4.340000 -0.208947\n",
       "Argentina                    5.396522 -0.155265\n",
       "Brazil                       3.596483 -0.246725\n",
       "Chile                        1.320000 -0.362392\n",
       "China                        5.190000 -0.165758\n",
       "Colombia                     3.401250 -0.256644\n",
       "Egypt                        1.316000 -0.362595\n",
       "France                       5.826667 -0.133409\n",
       "Germany                      1.622500 -0.347022\n",
       "India                        4.284843 -0.211749\n",
       "Indonesia                    9.697500  0.063267\n",
       "Iran                         6.564762 -0.095907\n",
       "Iraq                         4.272500 -0.212376\n",
       "Italy                        4.841875 -0.183447\n",
       "Japan                        9.682500  0.062505\n",
       "Kazakhstan                   5.370000 -0.156613\n",
       "Mexico                       6.413500 -0.103593\n",
       "Morocco                      4.790000 -0.186082\n",
       "Nigeria                      1.565000 -0.349944\n",
       "Pakistan                     4.780000 -0.186590\n",
       "Philippines                  5.152857 -0.167646\n",
       "Poland                       1.480000 -0.354263\n",
       "Russia                       4.675385 -0.191906\n",
       "Senegal                    118.750000  5.604199\n",
       "South Korea                 14.600769  0.312401\n",
       "Spain                        3.049412 -0.274521\n",
       "Syria                        4.910000 -0.179985\n",
       "Thailand                     8.006667 -0.022644\n",
       "Turkey                       6.390000 -0.104787\n",
       "United Arab Emirates         3.850000 -0.233843\n",
       "United Kingdom               5.637059 -0.143043\n",
       "United States                6.082924 -0.120389"
      ]
     },
     "execution_count": 57,
     "metadata": {},
     "output_type": "execute_result"
    }
   ],
   "source": [
    "country_rate"
   ]
  },
  {
   "cell_type": "markdown",
   "id": "df3f7c5b",
   "metadata": {},
   "source": [
    "<font color = blue> Таким образом, в этом датафрейме мы можем увидеть, как отличается средний коэффициент Engagement Rate по странам от среднего по всем данным. Посмотрим, как это распределение выглядит на графике."
   ]
  },
  {
   "cell_type": "code",
   "execution_count": 58,
   "id": "f36f4fbf",
   "metadata": {},
   "outputs": [
    {
     "data": {
      "text/plain": [
       "<AxesSubplot:>"
      ]
     },
     "execution_count": 58,
     "metadata": {},
     "output_type": "execute_result"
    },
    {
     "data": {
      "image/png": "[encoded data removed]",
      "text/plain": [
       "<Figure size 432x288 with 1 Axes>"
      ]
     },
     "metadata": {
      "needs_background": "light"
     },
     "output_type": "display_data"
    }
   ],
   "source": [
    "country_rate['z-score'].hist(bins = 20, color = 'purple')"
   ]
  },
  {
   "cell_type": "markdown",
   "id": "7cbd81aa",
   "metadata": {},
   "source": [
    "<font color = blue> На графике видно, что распределение находится в рамках примерно от -0,5 до 0,5. Однако есть очевидный выброс, где значение отклоняется более чем на 5 среднеквадратичных отклонений. Посмотрим, что это за страна."
   ]
  },
  {
   "cell_type": "code",
   "execution_count": 59,
   "id": "075c7869",
   "metadata": {},
   "outputs": [
    {
     "data": {
      "text/html": [
       "<div>\n",
       "<style scoped>\n",
       "    .dataframe tbody tr th:only-of-type {\n",
       "        vertical-align: middle;\n",
       "    }\n",
       "\n",
       "    .dataframe tbody tr th {\n",
       "        vertical-align: top;\n",
       "    }\n",
       "\n",
       "    .dataframe thead th {\n",
       "        text-align: right;\n",
       "    }\n",
       "</style>\n",
       "<table border=\"1\" class=\"dataframe\">\n",
       "  <thead>\n",
       "    <tr style=\"text-align: right;\">\n",
       "      <th></th>\n",
       "      <th>Engagement Rate</th>\n",
       "      <th>z-score</th>\n",
       "    </tr>\n",
       "    <tr>\n",
       "      <th>Audience Country</th>\n",
       "      <th></th>\n",
       "      <th></th>\n",
       "    </tr>\n",
       "  </thead>\n",
       "  <tbody>\n",
       "    <tr>\n",
       "      <th>Senegal</th>\n",
       "      <td>118.75</td>\n",
       "      <td>5.604199</td>\n",
       "    </tr>\n",
       "  </tbody>\n",
       "</table>\n",
       "</div>"
      ],
      "text/plain": [
       "                  Engagement Rate   z-score\n",
       "Audience Country                           \n",
       "Senegal                    118.75  5.604199"
      ]
     },
     "execution_count": 59,
     "metadata": {},
     "output_type": "execute_result"
    }
   ],
   "source": [
    "country_rate[country_rate['z-score'] > 5]"
   ]
  },
  {
   "cell_type": "markdown",
   "id": "388e196e",
   "metadata": {},
   "source": [
    "<font color = blue> Если верить результатам проведенного анализа, средний уровень вовлеченности пользователей из Сенегала на Инстаграм-аккаунтах из анализируемого датасета отклоняется в большую на сторону более чем на 5, то есть такие пользователи характеризуются крайне высокой вовлеченностью. Но так как в терминах z-распределения отклонение больше, чем на 3, считается крайне маловероятным и учитывая базовую соц-дем статистику по Сенегалу, определенно можно сказать, что эти данные нуждаются в дополнительной проверке. Далее, на этапе работы с выбросами датасета, мы сможем исключить влияние этих данных."
   ]
  },
  {
   "cell_type": "markdown",
   "id": "d4aff937",
   "metadata": {},
   "source": [
    "#### Анализ выбросов через интерквартильный размах"
   ]
  },
  {
   "cell_type": "markdown",
   "id": "d5235520",
   "metadata": {},
   "source": [
    "<font color = blue> Проанализируем выбросы значений по переменной Engagement Rate. Сначала посмотрим на основные описательные статистики, а затем определим выбросы."
   ]
  },
  {
   "cell_type": "code",
   "execution_count": 60,
   "id": "0f0b2293",
   "metadata": {},
   "outputs": [
    {
     "data": {
      "text/plain": [
       "count    1000.00000\n",
       "mean        6.13492\n",
       "std         8.27138\n",
       "min         0.02000\n",
       "25%         1.25000\n",
       "50%         3.29500\n",
       "75%         7.50250\n",
       "max       118.75000\n",
       "Name: Engagement Rate, dtype: float64"
      ]
     },
     "execution_count": 60,
     "metadata": {},
     "output_type": "execute_result"
    }
   ],
   "source": [
    "inst['Engagement Rate'].describe()"
   ]
  },
  {
   "cell_type": "markdown",
   "id": "538be21b",
   "metadata": {},
   "source": [
    "<font color = blue> Определим выбросы с помощью интерквартильного квартильного размаха – будем считать выбросами все, что находится ниже 1ого квартиля и выше 3ого квартиля на 1,5 интерквартильных размаха. Для этого сначала необходимо найти этот интерквартильный размах, а затем найти границу сверху и снизу, по которым мы будем определять выбросы."
   ]
  },
  {
   "cell_type": "code",
   "execution_count": 61,
   "id": "ca4d850c",
   "metadata": {},
   "outputs": [
    {
     "name": "stdout",
     "output_type": "stream",
     "text": [
      "6.2525\n"
     ]
    }
   ],
   "source": [
    "q3 = np.percentile(inst['Engagement Rate'], 75) #находим 3ий квартиль\n",
    "q1 = np.percentile(inst['Engagement Rate'], 25) #находим 1ый квартиль\n",
    "\n",
    "iqr = q3 - q1 #находим интерквартильный размах\n",
    "print(iqr)"
   ]
  },
  {
   "cell_type": "code",
   "execution_count": 62,
   "id": "8b302c1e",
   "metadata": {},
   "outputs": [
    {
     "name": "stdout",
     "output_type": "stream",
     "text": [
      "-8.12875 16.88125\n"
     ]
    }
   ],
   "source": [
    "iqr_threshold_bottom = q1 - 1.5 * iqr #определяем нижнюю границу\n",
    "iqr_threshold_top = q3 + 1.5 * iqr #определяем верхнюю границу\n",
    "\n",
    "print(iqr_threshold_bottom, iqr_threshold_top)"
   ]
  },
  {
   "cell_type": "markdown",
   "id": "56717abc",
   "metadata": {},
   "source": [
    "<font color = blue> Обратим внимание, что значение нижней границы оказалось ниже минимального значения – это значит, что выборка смещена в правую сторону и выбросов слева не будет, поэтому мы не будем учитывать нижнюю границу при дальнейших расчетах.  \n",
    "    Посмотрим на выбросы по верхней границе."
   ]
  },
  {
   "cell_type": "code",
   "execution_count": 63,
   "id": "0766b7f8",
   "metadata": {},
   "outputs": [
    {
     "data": {
      "text/plain": [
       "(91, 9)"
      ]
     },
     "execution_count": 63,
     "metadata": {},
     "output_type": "execute_result"
    }
   ],
   "source": [
    "inst[inst['Engagement Rate'] > iqr_threshold_top].shape"
   ]
  },
  {
   "cell_type": "markdown",
   "id": "c16190cc",
   "metadata": {},
   "source": [
    "<font color = blue> Получили 91 выброс – теперь посмотрим, как эти выбросы сгруппированы по странам."
   ]
  },
  {
   "cell_type": "code",
   "execution_count": 64,
   "id": "23ec65d2",
   "metadata": {},
   "outputs": [
    {
     "data": {
      "text/plain": [
       "Indonesia               28\n",
       "United States           25\n",
       "India                    7\n",
       "South Korea              6\n",
       "Brazil                   3\n",
       "Mexico                   3\n",
       "Iran                     2\n",
       "Turkey                   2\n",
       "Thailand                 2\n",
       "Russia                   1\n",
       "Senegal                  1\n",
       "Italy                    1\n",
       "United Kingdom           1\n",
       "France                   1\n",
       "United Arab Emirates     0\n",
       "Pakistan                 0\n",
       "Spain                    0\n",
       "Syria                    0\n",
       "Poland                   0\n",
       "Philippines              0\n",
       "Albania                  0\n",
       "Nigeria                  0\n",
       "Morocco                  0\n",
       "Algeria                  0\n",
       "Japan                    0\n",
       "Iraq                     0\n",
       "Germany                  0\n",
       "Egypt                    0\n",
       "Colombia                 0\n",
       "China                    0\n",
       "Chile                    0\n",
       "Argentina                0\n",
       "Kazakhstan               0\n",
       "Name: Audience Country, dtype: int64"
      ]
     },
     "execution_count": 64,
     "metadata": {},
     "output_type": "execute_result"
    }
   ],
   "source": [
    "inst[inst['Engagement Rate'] > iqr_threshold_top]['Audience Country'].value_counts()"
   ]
  },
  {
   "cell_type": "markdown",
   "id": "ef2a0028",
   "metadata": {},
   "source": [
    "<font color = blue> Мы видим, что выбросы по наибольшему коэффициенту вовлеченности характерны для самых населенных стран из выборки, а также для высокотехнологичных стран – то есть ER чаще выходит за границу там, где 1) больше людей в принципе 2) больше людей пользуются технологиями и соцсетями."
   ]
  },
  {
   "cell_type": "markdown",
   "id": "3b3c2ef0",
   "metadata": {},
   "source": [
    "#### Анализ выбросов через среднеквадратичное отклонение"
   ]
  },
  {
   "cell_type": "markdown",
   "id": "19dffd58",
   "metadata": {},
   "source": [
    "<font color = blue> Будем считать выбросами те наблюдения, которые находятся через 2,5 среднеквадратичного отклонения от среднего.  \n",
    "    Сначала найдем среднее, а затем определить границы, по которым будем далее находить выбросы."
   ]
  },
  {
   "cell_type": "code",
   "execution_count": 65,
   "id": "bdbc946e",
   "metadata": {},
   "outputs": [
    {
     "name": "stdout",
     "output_type": "stream",
     "text": [
      "-14.543529397367301 26.813369397367296\n"
     ]
    }
   ],
   "source": [
    "mean = inst['Engagement Rate'].mean() #находим среднее\n",
    "std = inst['Engagement Rate'].std() #находим среднеквадратичное отклонение\n",
    "\n",
    "std_threshold_bottom = mean - 2.5 * std #определяем нижнюю границу\n",
    "std_threshold_top = mean + 2.5 * std #определяем верхнюю границу\n",
    "\n",
    "print (std_threshold_bottom, std_threshold_top)"
   ]
  },
  {
   "cell_type": "markdown",
   "id": "6c21c963",
   "metadata": {},
   "source": [
    "<font color = blue> Снова видим, что значение нижней границы оказалось ниже минимального значения – значит выбросов слева не будет и мы можем не учитывать нижнюю границу при дальнейших расчетах.  \n",
    "    Посмотрим на выбросы по верхней границе."
   ]
  },
  {
   "cell_type": "code",
   "execution_count": 66,
   "id": "62741828",
   "metadata": {},
   "outputs": [
    {
     "data": {
      "text/plain": [
       "(30, 9)"
      ]
     },
     "execution_count": 66,
     "metadata": {},
     "output_type": "execute_result"
    }
   ],
   "source": [
    "inst[inst['Engagement Rate'] > std_threshold_top].shape"
   ]
  },
  {
   "cell_type": "markdown",
   "id": "9418bc84",
   "metadata": {},
   "source": [
    "<font color = blue> По такой методике расчета получили 30 выбросов, то есть почти в 3 раза меньше по сравнению с методом расчета по интерквартильному размаху. Посмотрим отфильтровать датасет и посмотреть, как будут выглядеть меры центральной тенденции в оригинальной выборке (с выбросами) и в той выборке, из которой выбросы исключены по двум методикам расчета."
   ]
  },
  {
   "cell_type": "code",
   "execution_count": 67,
   "id": "8c26e8c3",
   "metadata": {},
   "outputs": [],
   "source": [
    "iqr_no_outliers = inst[inst['Engagement Rate'] <= iqr_threshold_top] #отбираем значения без выбросов по iqr\n",
    "std_no_outliers = inst[inst['Engagement Rate'] <= std_threshold_top] #отбираем значения без выбросов по std"
   ]
  },
  {
   "cell_type": "code",
   "execution_count": 68,
   "id": "8387d5fa",
   "metadata": {},
   "outputs": [
    {
     "name": "stdout",
     "output_type": "stream",
     "text": [
      "6.134919999999998\n",
      "4.130803080308032\n",
      "5.144917525773198\n"
     ]
    }
   ],
   "source": [
    "print(inst['Engagement Rate'].mean()) #оригинальное значение\n",
    "print(iqr_no_outliers['Engagement Rate'].mean())\n",
    "print(std_no_outliers['Engagement Rate'].mean())"
   ]
  },
  {
   "cell_type": "markdown",
   "id": "2aa2f61a",
   "metadata": {},
   "source": [
    "<font color = blue> Видим, что все 3 значения отличаются – оригинальное среднее, включающее выбросы, разумеется, получилось самым высоким. Выбросы по iqr и std также отличаются, так как использованы соответствующие методы расчета и пороги для отсечения выбросов различаются (если порог повыше, то \"отрезаем\" меньше значений)."
   ]
  },
  {
   "cell_type": "markdown",
   "id": "5e77bf40",
   "metadata": {},
   "source": [
    "<font color = blue> Посмотрим, как меняется медиана."
   ]
  },
  {
   "cell_type": "code",
   "execution_count": 69,
   "id": "cdb0404d",
   "metadata": {},
   "outputs": [
    {
     "name": "stdout",
     "output_type": "stream",
     "text": [
      "3.295\n",
      "2.8\n",
      "3.125\n"
     ]
    }
   ],
   "source": [
    "print(inst['Engagement Rate'].median()) #оригинальное значение\n",
    "print(iqr_no_outliers['Engagement Rate'].median())\n",
    "print(std_no_outliers['Engagement Rate'].median())"
   ]
  },
  {
   "cell_type": "markdown",
   "id": "eb638ceb",
   "metadata": {},
   "source": [
    "<font color = blue> Видим, что медиана по значениям ER оказалась более устойчивой, разница для трех полученных значений не такая заметная, как в случае со средним."
   ]
  },
  {
   "cell_type": "markdown",
   "id": "9a7cf25c",
   "metadata": {},
   "source": [
    "### 5. Корреляция\n",
    "#### Постановка гипотез о взаимосвязи и расчет значения корреляции переменных"
   ]
  },
  {
   "cell_type": "markdown",
   "id": "f1006d30",
   "metadata": {},
   "source": [
    "<font color = blue> Проверим гипотезу о том, что существует взаимосвязь между количеством подписчиков и коэффициентом их вовлеченности. Будем анализиолвать данные по колонкам \"Engagement Rate\" и \"Number of Followers\", сгруппированные по странам."
   ]
  },
  {
   "cell_type": "code",
   "execution_count": 70,
   "id": "16bae14f",
   "metadata": {},
   "outputs": [],
   "source": [
    "import warnings \n",
    "warnings.filterwarnings('ignore')"
   ]
  },
  {
   "cell_type": "markdown",
   "id": "dccc2083",
   "metadata": {},
   "source": [
    "<font color = blue> Создадим два объекта pandas series (средний коэффициент Engagement Rate и суммарное кол-во подписчиков по странам) и соберем их в один датафрейм с помощью метода конкатенации."
   ]
  },
  {
   "cell_type": "code",
   "execution_count": 71,
   "id": "50935453",
   "metadata": {},
   "outputs": [],
   "source": [
    "er_mean = inst.groupby('Audience Country')['Engagement Rate'].mean()\n",
    "followers_sum = inst.groupby('Audience Country')['Number of Followers'].sum()"
   ]
  },
  {
   "cell_type": "code",
   "execution_count": 72,
   "id": "2decfd85",
   "metadata": {},
   "outputs": [],
   "source": [
    "inst_сountry = pd.concat([er_mean,followers_sum], axis = 1)"
   ]
  },
  {
   "cell_type": "markdown",
   "id": "9bdf7f04",
   "metadata": {},
   "source": [
    "<font color = blue> Перейдем к нахождению корреляции между количеством подписчиков и коэффициентом вовлеченности этих подписчиков. Сначала попробуем рассчитать корреляцию вручную на тестовом мини-датафрейме из первых пяти строк."
   ]
  },
  {
   "cell_type": "code",
   "execution_count": 73,
   "id": "950b7c7d",
   "metadata": {},
   "outputs": [
    {
     "data": {
      "text/html": [
       "<div>\n",
       "<style scoped>\n",
       "    .dataframe tbody tr th:only-of-type {\n",
       "        vertical-align: middle;\n",
       "    }\n",
       "\n",
       "    .dataframe tbody tr th {\n",
       "        vertical-align: top;\n",
       "    }\n",
       "\n",
       "    .dataframe thead th {\n",
       "        text-align: right;\n",
       "    }\n",
       "</style>\n",
       "<table border=\"1\" class=\"dataframe\">\n",
       "  <thead>\n",
       "    <tr style=\"text-align: right;\">\n",
       "      <th></th>\n",
       "      <th>Engagement Rate</th>\n",
       "      <th>Number of Followers</th>\n",
       "    </tr>\n",
       "    <tr>\n",
       "      <th>Audience Country</th>\n",
       "      <th></th>\n",
       "      <th></th>\n",
       "    </tr>\n",
       "  </thead>\n",
       "  <tbody>\n",
       "    <tr>\n",
       "      <th>Albania</th>\n",
       "      <td>2.070000</td>\n",
       "      <td>10300000</td>\n",
       "    </tr>\n",
       "    <tr>\n",
       "      <th>Algeria</th>\n",
       "      <td>4.340000</td>\n",
       "      <td>9100000</td>\n",
       "    </tr>\n",
       "    <tr>\n",
       "      <th>Argentina</th>\n",
       "      <td>5.396522</td>\n",
       "      <td>741800000</td>\n",
       "    </tr>\n",
       "    <tr>\n",
       "      <th>Brazil</th>\n",
       "      <td>3.596483</td>\n",
       "      <td>3663199999</td>\n",
       "    </tr>\n",
       "    <tr>\n",
       "      <th>Chile</th>\n",
       "      <td>1.320000</td>\n",
       "      <td>14100000</td>\n",
       "    </tr>\n",
       "  </tbody>\n",
       "</table>\n",
       "</div>"
      ],
      "text/plain": [
       "                  Engagement Rate  Number of Followers\n",
       "Audience Country                                      \n",
       "Albania                  2.070000             10300000\n",
       "Algeria                  4.340000              9100000\n",
       "Argentina                5.396522            741800000\n",
       "Brazil                   3.596483           3663199999\n",
       "Chile                    1.320000             14100000"
      ]
     },
     "execution_count": 73,
     "metadata": {},
     "output_type": "execute_result"
    }
   ],
   "source": [
    "first_five = inst_сountry.iloc[:5]\n",
    "first_five"
   ]
  },
  {
   "cell_type": "code",
   "execution_count": 74,
   "id": "3224a371",
   "metadata": {},
   "outputs": [
    {
     "data": {
      "text/html": [
       "<div>\n",
       "<style scoped>\n",
       "    .dataframe tbody tr th:only-of-type {\n",
       "        vertical-align: middle;\n",
       "    }\n",
       "\n",
       "    .dataframe tbody tr th {\n",
       "        vertical-align: top;\n",
       "    }\n",
       "\n",
       "    .dataframe thead th {\n",
       "        text-align: right;\n",
       "    }\n",
       "</style>\n",
       "<table border=\"1\" class=\"dataframe\">\n",
       "  <thead>\n",
       "    <tr style=\"text-align: right;\">\n",
       "      <th></th>\n",
       "      <th>Engagement Rate</th>\n",
       "      <th>Number of Followers</th>\n",
       "      <th>x - Mx</th>\n",
       "      <th>y - My</th>\n",
       "    </tr>\n",
       "    <tr>\n",
       "      <th>Audience Country</th>\n",
       "      <th></th>\n",
       "      <th></th>\n",
       "      <th></th>\n",
       "      <th></th>\n",
       "    </tr>\n",
       "  </thead>\n",
       "  <tbody>\n",
       "    <tr>\n",
       "      <th>Albania</th>\n",
       "      <td>2.070000</td>\n",
       "      <td>10300000</td>\n",
       "      <td>-8.774000e+08</td>\n",
       "      <td>-1.274601</td>\n",
       "    </tr>\n",
       "    <tr>\n",
       "      <th>Algeria</th>\n",
       "      <td>4.340000</td>\n",
       "      <td>9100000</td>\n",
       "      <td>-8.786000e+08</td>\n",
       "      <td>0.995399</td>\n",
       "    </tr>\n",
       "    <tr>\n",
       "      <th>Argentina</th>\n",
       "      <td>5.396522</td>\n",
       "      <td>741800000</td>\n",
       "      <td>-1.459000e+08</td>\n",
       "      <td>2.051921</td>\n",
       "    </tr>\n",
       "    <tr>\n",
       "      <th>Brazil</th>\n",
       "      <td>3.596483</td>\n",
       "      <td>3663199999</td>\n",
       "      <td>2.775500e+09</td>\n",
       "      <td>0.251882</td>\n",
       "    </tr>\n",
       "    <tr>\n",
       "      <th>Chile</th>\n",
       "      <td>1.320000</td>\n",
       "      <td>14100000</td>\n",
       "      <td>-8.736000e+08</td>\n",
       "      <td>-2.024601</td>\n",
       "    </tr>\n",
       "  </tbody>\n",
       "</table>\n",
       "</div>"
      ],
      "text/plain": [
       "                  Engagement Rate  Number of Followers        x - Mx    y - My\n",
       "Audience Country                                                              \n",
       "Albania                  2.070000             10300000 -8.774000e+08 -1.274601\n",
       "Algeria                  4.340000              9100000 -8.786000e+08  0.995399\n",
       "Argentina                5.396522            741800000 -1.459000e+08  2.051921\n",
       "Brazil                   3.596483           3663199999  2.775500e+09  0.251882\n",
       "Chile                    1.320000             14100000 -8.736000e+08 -2.024601"
      ]
     },
     "execution_count": 74,
     "metadata": {},
     "output_type": "execute_result"
    }
   ],
   "source": [
    "first_five['x - Mx'] = first_five['Number of Followers'] - first_five['Number of Followers'].mean() #отклонение от среднего для X\n",
    "first_five['y - My'] = first_five['Engagement Rate'] - first_five['Engagement Rate'].mean() #отклонение от среднего для Y\n",
    "\n",
    "first_five"
   ]
  },
  {
   "cell_type": "code",
   "execution_count": 75,
   "id": "5820f3e4",
   "metadata": {},
   "outputs": [
    {
     "name": "stdout",
     "output_type": "stream",
     "text": [
      "1.0029632734448998e+19 10.988259227602391 2412191374.560713\n"
     ]
    }
   ],
   "source": [
    "SSx = (first_five['x - Mx'] ** 2).sum() #сумма квадратов для X\n",
    "SSy = (first_five['y - My'] ** 2).sum() #сумма квадратов для Y\n",
    "SP = (first_five['x - Mx'] * first_five['y - My']).sum() #сумма произведений отклонений\n",
    "\n",
    "print (SSx, SSy, SP)"
   ]
  },
  {
   "cell_type": "code",
   "execution_count": 76,
   "id": "b15e8924",
   "metadata": {},
   "outputs": [
    {
     "name": "stdout",
     "output_type": "stream",
     "text": [
      "0.22977606981755822\n"
     ]
    }
   ],
   "source": [
    "r = SP / np.sqrt(SSx * SSy) #находим корреляцию\n",
    "\n",
    "print (r) "
   ]
  },
  {
   "cell_type": "markdown",
   "id": "a8858316",
   "metadata": {},
   "source": [
    "<font color = blue> Теперь проверим правильность расчетов с помощью функции corr из библиотеки pandas."
   ]
  },
  {
   "cell_type": "code",
   "execution_count": 77,
   "id": "feae7e06",
   "metadata": {},
   "outputs": [
    {
     "data": {
      "text/plain": [
       "0.22977606981755816"
      ]
     },
     "execution_count": 77,
     "metadata": {},
     "output_type": "execute_result"
    }
   ],
   "source": [
    "first_five['Number of Followers'].corr(first_five['Engagement Rate'])"
   ]
  },
  {
   "cell_type": "markdown",
   "id": "3bc95ee6",
   "metadata": {},
   "source": [
    "<font color = blue> Получаем такое же значение, значит коэффициент корреляции найден правильно. Корреляция равна 0.2, то есть практически отсутствует (слабая корреляция по Чеддоку –  от 0.1 до 0.3). Теперь посчитаем корреляцию для всей совокупности."
   ]
  },
  {
   "cell_type": "code",
   "execution_count": 78,
   "id": "34408bfe",
   "metadata": {},
   "outputs": [
    {
     "data": {
      "text/plain": [
       "-0.0623988630124481"
      ]
     },
     "execution_count": 78,
     "metadata": {},
     "output_type": "execute_result"
    }
   ],
   "source": [
    "inst_сountry['Number of Followers'].corr(inst_сountry['Engagement Rate'])"
   ]
  },
  {
   "cell_type": "markdown",
   "id": "d2d2f153",
   "metadata": {},
   "source": [
    "<font color = blue> Видим, что корреляция изменилась и стала отрицательной, но ее значение по-прежнему нельзя назвать статистически значимым. Визуализируем ее на графике. "
   ]
  },
  {
   "cell_type": "code",
   "execution_count": 79,
   "id": "9de5c4f8",
   "metadata": {},
   "outputs": [
    {
     "data": {
      "text/plain": [
       "<AxesSubplot:xlabel='Number of Followers', ylabel='Engagement Rate'>"
      ]
     },
     "execution_count": 79,
     "metadata": {},
     "output_type": "execute_result"
    },
    {
     "data": {
      "image/png": "[encoded data removed]",
      "text/plain": [
       "<Figure size 432x288 with 1 Axes>"
      ]
     },
     "metadata": {
      "needs_background": "light"
     },
     "output_type": "display_data"
    }
   ],
   "source": [
    "inst_сountry.plot('Number of Followers', 'Engagement Rate', kind = 'scatter', color = 'orange')"
   ]
  },
  {
   "cell_type": "markdown",
   "id": "affd2793",
   "metadata": {},
   "source": [
    "<font color = blue> Таким образом, на основе проведенного анализа мы можем сделать вывод, что для имеющихся у нас данных отсутствует корреляция между количеством подписчиков и их коэффициентом вовлеченности."
   ]
  },
  {
   "cell_type": "code",
   "execution_count": null,
   "id": "815a65ca",
   "metadata": {},
   "outputs": [],
   "source": []
  }
 ],
 "metadata": {
  "kernelspec": {
   "display_name": "Python 3 (ipykernel)",
   "language": "python",
   "name": "python3"
  },
  "language_info": {
   "codemirror_mode": {
    "name": "ipython",
    "version": 3
   },
   "file_extension": ".py",
   "mimetype": "text/x-python",
   "name": "python",
   "nbconvert_exporter": "python",
   "pygments_lexer": "ipython3",
   "version": "3.9.12"
  }
 },
 "nbformat": 4,
 "nbformat_minor": 5
}
